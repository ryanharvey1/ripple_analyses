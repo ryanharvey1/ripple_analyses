{
 "cells": [
  {
   "cell_type": "markdown",
   "metadata": {},
   "source": [
    "\n",
    "\n",
    "# swr_df.csv description:\n",
    "* Each row represents a unique sharp wave ripple event\n",
    "* each column represents a feature of each sharp wave ripple\n",
    "* Columns:\n",
    "    * start_time:  start time of ripple\n",
    "    * end_time: end time of ripple\n",
    "    * ripple_duration: how long was the ripple in seconds\n",
    "    * max_emg: emg contamination at time of ripple\n",
    "    * peak_time: time that the ripple was maximized\n",
    "    * peak_channel: channel that maximized the ripple\n",
    "    * peak_amplitude: zscored ripple amplitude\n",
    "    * peak_freq: frequency of ripple\n",
    "    * clipped: percent of ripple that is clipped or flatlined\n",
    "    * session: recording session identification\n",
    "    * area: brain area were ripple occured (ca1,ca3,cortex)\n",
    "    * ep_type: epoch type where each ripple occured\n",
    "    * group: group identification\n",
    "    * rat: rat ID\n",
    "    \n",
    "## Nested diagram\n",
    "\n",
    "* group\n",
    "    * rat\n",
    "        * session\n",
    "            * epoch\n",
    "                * ripple event\n",
    "\n",
    "For our current purposes, epoch can be ignored as we just want to see if features of sharp wave ripples are similar between groups"
   ]
  },
  {
   "cell_type": "code",
   "execution_count": 3,
   "metadata": {},
   "outputs": [
    {
     "name": "stderr",
     "output_type": "stream",
     "text": [
      "Warning message:\n",
      "\"package 'tidyverse' was built under R version 3.6.3\"-- Attaching packages ------------------------------------------------------------------------------- tidyverse 1.3.0 --\n",
      "v ggplot2 3.3.3     v purrr   0.3.4\n",
      "v tibble  3.0.4     v dplyr   1.0.2\n",
      "v tidyr   1.1.2     v stringr 1.4.0\n",
      "v readr   1.3.1     v forcats 0.4.0\n",
      "Warning message:\n",
      "\"package 'ggplot2' was built under R version 3.6.3\"Warning message:\n",
      "\"package 'tibble' was built under R version 3.6.3\"Warning message:\n",
      "\"package 'tidyr' was built under R version 3.6.3\"Warning message:\n",
      "\"package 'purrr' was built under R version 3.6.3\"Warning message:\n",
      "\"package 'dplyr' was built under R version 3.6.3\"-- Conflicts ---------------------------------------------------------------------------------- tidyverse_conflicts() --\n",
      "x dplyr::filter() masks stats::filter()\n",
      "x dplyr::lag()    masks stats::lag()\n",
      "Warning message:\n",
      "\"package 'lme4' was built under R version 3.6.3\"Loading required package: Matrix\n",
      "\n",
      "Attaching package: 'Matrix'\n",
      "\n",
      "The following objects are masked from 'package:tidyr':\n",
      "\n",
      "    expand, pack, unpack\n",
      "\n",
      "Warning message:\n",
      "\"package 'lmerTest' was built under R version 3.6.3\"\n",
      "Attaching package: 'lmerTest'\n",
      "\n",
      "The following object is masked from 'package:lme4':\n",
      "\n",
      "    lmer\n",
      "\n",
      "The following object is masked from 'package:stats':\n",
      "\n",
      "    step\n",
      "\n"
     ]
    }
   ],
   "source": [
    "library(tidyverse)\n",
    "library(lme4)\n",
    "library(lmerTest)"
   ]
  },
  {
   "cell_type": "markdown",
   "metadata": {},
   "source": [
    "### Load data and only keep hippocampal sessions"
   ]
  },
  {
   "cell_type": "code",
   "execution_count": 4,
   "metadata": {},
   "outputs": [
    {
     "name": "stdout",
     "output_type": "stream",
     "text": [
      "       X         ripple_number      start_time        end_time       \n",
      " Min.   :    0   Min.   :   0.0   Min.   :   0.0   Min.   :   0.239  \n",
      " 1st Qu.: 4984   1st Qu.: 173.0   1st Qu.: 691.7   1st Qu.: 691.734  \n",
      " Median : 9568   Median : 393.0   Median :1707.5   Median :1707.588  \n",
      " Mean   : 9504   Mean   : 573.3   Mean   :1740.3   Mean   :1740.425  \n",
      " 3rd Qu.:14144   3rd Qu.: 850.0   3rd Qu.:2562.8   3rd Qu.:2563.027  \n",
      " Max.   :18732   Max.   :3665.0   Max.   :6172.0   Max.   :6172.226  \n",
      "                                                                     \n",
      " ripple_duration     max_emg          peak_time         peak_channel \n",
      " Min.   :0.0248   Min.   :-0.0709   Min.   :   0.002   Min.   : 0.0  \n",
      " 1st Qu.:0.0720   1st Qu.: 0.3041   1st Qu.: 691.690   1st Qu.: 3.0  \n",
      " Median :0.1048   Median : 0.4092   Median :1707.578   Median : 6.0  \n",
      " Mean   :0.1227   Mean   : 0.4579   Mean   :1740.365   Mean   :13.6  \n",
      " 3rd Qu.:0.1512   3rd Qu.: 0.5644   3rd Qu.:2562.897   3rd Qu.:17.0  \n",
      " Max.   :0.9864   Max.   : 1.0000   Max.   :6172.192   Max.   :63.0  \n",
      "                  NA's   :55                                         \n",
      " peak_amplitude      peak_freq         clipped        \n",
      " Min.   :  1.867   Min.   : 80.61   Min.   :0.000000  \n",
      " 1st Qu.:  3.836   1st Qu.:111.63   1st Qu.:0.000000  \n",
      " Median :  4.709   Median :134.41   Median :0.000000  \n",
      " Mean   :  5.769   Mean   :141.35   Mean   :0.004364  \n",
      " 3rd Qu.:  6.047   3rd Qu.:168.87   3rd Qu.:0.006667  \n",
      " Max.   :218.217   Max.   :237.42   Max.   :0.046667  \n",
      "                                                      \n",
      "                    session          area             ep_type    \n",
      " LEM3246_S20190629164240:  983   ca1   : 4698   cylinder_1:4066  \n",
      " LEM3246_S20190701153855:  978   ca3   :13343   cylinder_2:6014  \n",
      " LEM3216_S20190805141510:  824   cortex:    0   pedestal_1: 376  \n",
      " LEM3216_S20190718101925:  698                  pedestal_2:1575  \n",
      " LEM3216_S20190720145517:  577                  pedestal_3:1438  \n",
      " LEM3216_S20190723165548:  518                  pedestal_4: 378  \n",
      " (Other)                :13463                  track     :4194  \n",
      "     group           rat      \n",
      " control:9493   LEM3216:7413  \n",
      " pae    :8548   LEM3246:4117  \n",
      "                LEM3206:2498  \n",
      "                LEM3124:1577  \n",
      "                LEM3116:1487  \n",
      "                LEM3120: 452  \n",
      "                (Other): 497  \n",
      "       X                             session        area         counts      \n",
      " Min.   :  0.00   LEM3124_S20190307132509:  2   ca1   : 81   Min.   :  1.00  \n",
      " 1st Qu.: 57.75   LEM3124_S20190307163732:  2   ca3   :123   1st Qu.: 10.00  \n",
      " Median :118.50   LEM3124_S20190309145324:  2   cortex:  0   Median : 33.00  \n",
      " Mean   :113.93   LEM3124_S20190311161641:  2                Mean   : 88.44  \n",
      " 3rd Qu.:169.25   LEM3124_S20190315160017:  2                3rd Qu.: 79.25  \n",
      " Max.   :220.00   LEM3124_S20190319154019:  2                Max.   :983.00  \n",
      "                  (Other)                :192                                \n",
      "  ripple_rate           group          rat    \n",
      " Min.   :0.000521   control: 80   LEM3124:38  \n",
      " 1st Qu.:0.012210   pae    :124   LEM3206:36  \n",
      " Median :0.036449                 LEM3116:30  \n",
      " Mean   :0.074858                 LEM3216:28  \n",
      " 3rd Qu.:0.082028                 LEM3246:22  \n",
      " Max.   :0.481211                 LS19   :15  \n",
      "                                  (Other):35  \n"
     ]
    }
   ],
   "source": [
    "data <- read.csv('F:/Projects/PAE_PlaceCell/analysis/swr_data/post_processed/swr_df.csv')\n",
    "\n",
    "df_inter_ripple = read.csv('F:/Projects/PAE_PlaceCell/analysis/swr_data/post_processed/df_ripple_rate.csv')\n",
    "\n",
    "# only keep hippocampal events\n",
    "idx <- data$area == 'cortex'\n",
    "data = data[!idx,]\n",
    "print(summary(data))\n",
    "\n",
    "idx <- df_inter_ripple$area == 'cortex'\n",
    "df_inter_ripple = df_inter_ripple[!idx,]\n",
    "print(summary(df_inter_ripple))"
   ]
  },
  {
   "cell_type": "markdown",
   "metadata": {},
   "source": [
    "### label factors as factors"
   ]
  },
  {
   "cell_type": "code",
   "execution_count": 5,
   "metadata": {},
   "outputs": [],
   "source": [
    "data$group = factor(data$group, levels=c('control', 'pae'))\n",
    "data$rat = factor(data$rat)\n",
    "data$ep_type = factor(data$ep_type, levels=c('pedestal_1', 'track','pedestal_2','cylinder_1','pedestal_3','cylinder_2','pedestal_4'))\n",
    "data$session = factor(data$session)\n",
    "data$area = factor(data$area, levels=c('ca1', 'ca3'))\n",
    "\n",
    "df_inter_ripple$group = factor(df_inter_ripple$group, levels=c('control', 'pae'))\n",
    "df_inter_ripple$rat = factor(df_inter_ripple$rat)\n",
    "df_inter_ripple$session = factor(df_inter_ripple$session)\n",
    "df_inter_ripple$area = factor(df_inter_ripple$area, levels=c('ca1', 'ca3'))"
   ]
  },
  {
   "cell_type": "markdown",
   "metadata": {},
   "source": [
    "### Lets look at numbers of ripples per group, rat, and area"
   ]
  },
  {
   "cell_type": "code",
   "execution_count": 6,
   "metadata": {},
   "outputs": [
    {
     "name": "stdout",
     "output_type": "stream",
     "text": [
      "[1] \"ripple df\"\n"
     ]
    },
    {
     "data": {
      "text/plain": [
       ", , area = ca1\n",
       "\n",
       "         rat\n",
       "group     LEM3116 LEM3120 LEM3124 LEM3206 LEM3216 LEM3246 LS17 LS19 LS23 RH13\n",
       "  control     722     263       0       0    2300       0    0    0  120    3\n",
       "  pae           0       0     933       0       0       0   89  233    0    0\n",
       "         rat\n",
       "group     RH14 RH16\n",
       "  control    1    0\n",
       "  pae        0   34\n",
       "\n",
       ", , area = ca3\n",
       "\n",
       "         rat\n",
       "group     LEM3116 LEM3120 LEM3124 LEM3206 LEM3216 LEM3246 LS17 LS19 LS23 RH13\n",
       "  control     765     189       0       0    5113       0    0    0    0    8\n",
       "  pae           0       0     644    2498       0    4117    0    0    0    0\n",
       "         rat\n",
       "group     RH14 RH16\n",
       "  control    9    0\n",
       "  pae        0    0\n"
      ]
     },
     "metadata": {},
     "output_type": "display_data"
    }
   ],
   "source": [
    "print('ripple df')\n",
    "xtabs(~group+rat+area,data=data)\n"
   ]
  },
  {
   "cell_type": "code",
   "execution_count": 7,
   "metadata": {},
   "outputs": [
    {
     "name": "stdout",
     "output_type": "stream",
     "text": [
      "[1] \"df_inter_ripple\"\n"
     ]
    },
    {
     "data": {
      "text/plain": [
       ", , area = ca1\n",
       "\n",
       "         rat\n",
       "group     LEM3116 LEM3120 LEM3124 LEM3206 LEM3216 LEM3246 LS17 LS19 LS23 RH13\n",
       "  control      12       5       0       0       7       0    0    0    4    1\n",
       "  pae           0       0      23       0       0       0    6   15    0    0\n",
       "         rat\n",
       "group     RH14 RH16\n",
       "  control    1    0\n",
       "  pae        0    7\n",
       "\n",
       ", , area = ca3\n",
       "\n",
       "         rat\n",
       "group     LEM3116 LEM3120 LEM3124 LEM3206 LEM3216 LEM3246 LS17 LS19 LS23 RH13\n",
       "  control      18       7       0       0      21       0    0    0    0    3\n",
       "  pae           0       0      15      36       0      22    0    0    0    0\n",
       "         rat\n",
       "group     RH14 RH16\n",
       "  control    1    0\n",
       "  pae        0    0\n"
      ]
     },
     "metadata": {},
     "output_type": "display_data"
    }
   ],
   "source": [
    "print('df_inter_ripple')\n",
    "xtabs(~group+rat+area,data=df_inter_ripple)"
   ]
  },
  {
   "cell_type": "markdown",
   "metadata": {},
   "source": [
    "### plot distributions of variables of interests\n",
    "\n",
    "Split data into rat by region"
   ]
  },
  {
   "cell_type": "code",
   "execution_count": 16,
   "metadata": {},
   "outputs": [
    {
     "data": {
      "image/png": "[encoded data removed]",
      "text/plain": [
       "plot without title"
      ]
     },
     "metadata": {},
     "output_type": "display_data"
    },
    {
     "data": {
      "image/png": "[encoded data removed]",
      "text/plain": [
       "plot without title"
      ]
     },
     "metadata": {},
     "output_type": "display_data"
    },
    {
     "data": {
      "image/png": "[encoded data removed]",
      "text/plain": [
       "plot without title"
      ]
     },
     "metadata": {},
     "output_type": "display_data"
    }
   ],
   "source": [
    "options(repr.plot.width = 10, repr.plot.height = 1.5)\n",
    "\n",
    "p<-ggplot(data, aes(x=rat, y=ripple_duration, color=area)) +\n",
    "    geom_violin(trim=FALSE)\n",
    "p\n",
    "\n",
    "p<-ggplot(data, aes(x=rat, y=peak_freq, color=area)) +\n",
    "    geom_violin(trim=FALSE)\n",
    "p\n",
    "\n",
    "p<-ggplot(data, aes(x=rat, y=peak_amplitude, color=area)) +\n",
    "    geom_violin(trim=FALSE)\n",
    "p"
   ]
  },
  {
   "cell_type": "code",
   "execution_count": 64,
   "metadata": {},
   "outputs": [
    {
     "data": {
      "text/plain": [
       "       X                             session     area         counts      \n",
       " Min.   :  0.00   LEM3124_S20190307132509:  2   ca1: 81   Min.   :  1.00  \n",
       " 1st Qu.: 57.75   LEM3124_S20190307163732:  2   ca3:123   1st Qu.: 10.00  \n",
       " Median :118.50   LEM3124_S20190309145324:  2             Median : 33.00  \n",
       " Mean   :113.93   LEM3124_S20190311161641:  2             Mean   : 88.44  \n",
       " 3rd Qu.:169.25   LEM3124_S20190315160017:  2             3rd Qu.: 79.25  \n",
       " Max.   :220.00   LEM3124_S20190319154019:  2             Max.   :983.00  \n",
       "                  (Other)                :192                             \n",
       "  ripple_rate           group          rat    \n",
       " Min.   :0.000521   control: 80   LEM3124:38  \n",
       " 1st Qu.:0.012210   pae    :124   LEM3206:36  \n",
       " Median :0.036449                 LEM3116:30  \n",
       " Mean   :0.074858                 LEM3216:28  \n",
       " 3rd Qu.:0.082028                 LEM3246:22  \n",
       " Max.   :0.481211                 LS19   :15  \n",
       "                                  (Other):35  "
      ]
     },
     "metadata": {},
     "output_type": "display_data"
    }
   ],
   "source": [
    "summary(df_inter_ripple)"
   ]
  },
  {
   "cell_type": "code",
   "execution_count": 82,
   "metadata": {},
   "outputs": [
    {
     "data": {
      "image/png": "[encoded data removed]",
      "text/plain": [
       "plot without title"
      ]
     },
     "metadata": {},
     "output_type": "display_data"
    },
    {
     "data": {
      "image/png": "[encoded data removed]",
      "text/plain": [
       "plot without title"
      ]
     },
     "metadata": {},
     "output_type": "display_data"
    }
   ],
   "source": [
    "options(repr.plot.width = 10, repr.plot.height = 1.5)\n",
    "\n",
    "p<-ggplot(df_inter_ripple, aes(x=rat, y=counts, color=area)) +\n",
    "    geom_boxplot() +\n",
    "    geom_jitter(position=position_dodge(1),alpha=.5) +\n",
    "    scale_y_continuous(trans='log')\n",
    "p\n",
    "\n",
    "p<-ggplot(df_inter_ripple, aes(x=rat, y=ripple_rate, color=area)) +\n",
    "    geom_boxplot() +\n",
    "    geom_jitter(position=position_dodge(1),alpha=.5) +\n",
    "    scale_y_continuous(trans='log')\n",
    "p"
   ]
  },
  {
   "cell_type": "markdown",
   "metadata": {},
   "source": [
    "### run linear effect model where sessions are nested within rats"
   ]
  },
  {
   "cell_type": "markdown",
   "metadata": {},
   "source": [
    "ca1 ripple duration"
   ]
  },
  {
   "cell_type": "code",
   "execution_count": 52,
   "metadata": {},
   "outputs": [
    {
     "data": {
      "text/html": [
       "<table>\n",
       "<thead><tr><th></th><th scope=col>npar</th><th scope=col>AIC</th><th scope=col>BIC</th><th scope=col>logLik</th><th scope=col>deviance</th><th scope=col>Chisq</th><th scope=col>Df</th><th scope=col>Pr(&gt;Chisq)</th></tr></thead>\n",
       "<tbody>\n",
       "\t<tr><th scope=row>m1.null</th><td>4         </td><td>7232.960  </td><td>7258.780  </td><td>-3612.480 </td><td>7224.960  </td><td>        NA</td><td>NA        </td><td>       NA </td></tr>\n",
       "\t<tr><th scope=row>m1</th><td>5         </td><td>7234.949  </td><td>7267.224  </td><td>-3612.475 </td><td>7224.949  </td><td>0.01116902</td><td> 1        </td><td>0.9158334 </td></tr>\n",
       "</tbody>\n",
       "</table>\n"
      ],
      "text/latex": [
       "\\begin{tabular}{r|llllllll}\n",
       "  & npar & AIC & BIC & logLik & deviance & Chisq & Df & Pr(>Chisq)\\\\\n",
       "\\hline\n",
       "\tm1.null & 4          & 7232.960   & 7258.780   & -3612.480  & 7224.960   &         NA & NA         &        NA \\\\\n",
       "\tm1 & 5          & 7234.949   & 7267.224   & -3612.475  & 7224.949   & 0.01116902 &  1         & 0.9158334 \\\\\n",
       "\\end{tabular}\n"
      ],
      "text/markdown": [
       "\n",
       "| <!--/--> | npar | AIC | BIC | logLik | deviance | Chisq | Df | Pr(>Chisq) |\n",
       "|---|---|---|---|---|---|---|---|---|\n",
       "| m1.null | 4          | 7232.960   | 7258.780   | -3612.480  | 7224.960   |         NA | NA         |        NA  |\n",
       "| m1 | 5          | 7234.949   | 7267.224   | -3612.475  | 7224.949   | 0.01116902 |  1         | 0.9158334  |\n",
       "\n"
      ],
      "text/plain": [
       "        npar AIC      BIC      logLik    deviance Chisq      Df Pr(>Chisq)\n",
       "m1.null 4    7232.960 7258.780 -3612.480 7224.960         NA NA        NA \n",
       "m1      5    7234.949 7267.224 -3612.475 7224.949 0.01116902  1 0.9158334 "
      ]
     },
     "metadata": {},
     "output_type": "display_data"
    },
    {
     "data": {
      "text/plain": [
       "Linear mixed model fit by maximum likelihood . t-tests use Satterthwaite's\n",
       "  method [lmerModLmerTest]\n",
       "Formula: ripple_duration_log ~ group + (1 | rat/session)\n",
       "   Data: data[data$area == \"ca1\", ]\n",
       "\n",
       "     AIC      BIC   logLik deviance df.resid \n",
       "  7234.9   7267.2  -3612.5   7224.9     4693 \n",
       "\n",
       "Scaled residuals: \n",
       "    Min      1Q  Median      3Q     Max \n",
       "-3.2586 -0.6653 -0.0337  0.6538  3.7855 \n",
       "\n",
       "Random effects:\n",
       " Groups      Name        Variance Std.Dev.\n",
       " session:rat (Intercept) 0.047798 0.21863 \n",
       " rat         (Intercept) 0.009308 0.09648 \n",
       " Residual                0.264839 0.51463 \n",
       "Number of obs: 4698, groups:  session:rat, 81; rat, 10\n",
       "\n",
       "Fixed effects:\n",
       "            Estimate Std. Error       df t value Pr(>|t|)    \n",
       "(Intercept) -2.02463    0.06773 10.89859 -29.891 8.29e-12 ***\n",
       "grouppae     0.01003    0.09414  8.84582   0.107    0.918    \n",
       "---\n",
       "Signif. codes:  0 '***' 0.001 '**' 0.01 '*' 0.05 '.' 0.1 ' ' 1\n",
       "\n",
       "Correlation of Fixed Effects:\n",
       "         (Intr)\n",
       "grouppae -0.720"
      ]
     },
     "metadata": {},
     "output_type": "display_data"
    },
    {
     "data": {
      "image/png": "[encoded data removed]",
      "text/plain": [
       "plot without title"
      ]
     },
     "metadata": {},
     "output_type": "display_data"
    },
    {
     "data": {
      "image/png": "[encoded data removed]",
      "text/plain": [
       "Plot with title \"Normal Q-Q Plot\""
      ]
     },
     "metadata": {},
     "output_type": "display_data"
    }
   ],
   "source": [
    "# log transform ripple_duration\n",
    "data$ripple_duration_log <- log(data$ripple_duration)\n",
    "\n",
    "m1 = lmer(ripple_duration_log ~ group + (1 | rat/session), data = data[data$area == \"ca1\",],REML=FALSE)\n",
    "m1.null = lmer(ripple_duration_log ~ 1 + (1 | rat/session), data = data[data$area == \"ca1\",], REML=FALSE)\n",
    "anova(m1.null, m1)  \n",
    "summary(m1)\n",
    "options(repr.plot.width = 4, repr.plot.height = 3)\n",
    "plot(m1)\n",
    "options(repr.plot.width = 4, repr.plot.height = 4)\n",
    "qqnorm(resid(m1))\n",
    "qqline(resid(m1))\n",
    "\n"
   ]
  },
  {
   "cell_type": "markdown",
   "metadata": {},
   "source": [
    "ca3 ripple duration"
   ]
  },
  {
   "cell_type": "code",
   "execution_count": 57,
   "metadata": {},
   "outputs": [
    {
     "data": {
      "text/html": [
       "0.023200000000088"
      ],
      "text/latex": [
       "0.023200000000088"
      ],
      "text/markdown": [
       "0.023200000000088"
      ],
      "text/plain": [
       "[1] 0.0232"
      ]
     },
     "metadata": {},
     "output_type": "display_data"
    }
   ],
   "source": [
    "median(data$ripple_duration[data$area == \"ca3\" & data$group == \"control\"])-\n",
    "    median(data$ripple_duration[data$area == \"ca3\" & data$group == \"pae\"])"
   ]
  },
  {
   "cell_type": "code",
   "execution_count": 51,
   "metadata": {},
   "outputs": [
    {
     "data": {
      "text/html": [
       "<table>\n",
       "<thead><tr><th></th><th scope=col>npar</th><th scope=col>AIC</th><th scope=col>BIC</th><th scope=col>logLik</th><th scope=col>deviance</th><th scope=col>Chisq</th><th scope=col>Df</th><th scope=col>Pr(&gt;Chisq)</th></tr></thead>\n",
       "<tbody>\n",
       "\t<tr><th scope=row>m1.null</th><td>4          </td><td>20282.82   </td><td>20312.82   </td><td>-10137.41  </td><td>20274.82   </td><td>      NA   </td><td>NA         </td><td>         NA</td></tr>\n",
       "\t<tr><th scope=row>m1</th><td>5          </td><td>20275.31   </td><td>20312.81   </td><td>-10132.66  </td><td>20265.31   </td><td>9.509663   </td><td> 1         </td><td>0.002043927</td></tr>\n",
       "</tbody>\n",
       "</table>\n"
      ],
      "text/latex": [
       "\\begin{tabular}{r|llllllll}\n",
       "  & npar & AIC & BIC & logLik & deviance & Chisq & Df & Pr(>Chisq)\\\\\n",
       "\\hline\n",
       "\tm1.null & 4           & 20282.82    & 20312.82    & -10137.41   & 20274.82    &       NA    & NA          &          NA\\\\\n",
       "\tm1 & 5           & 20275.31    & 20312.81    & -10132.66   & 20265.31    & 9.509663    &  1          & 0.002043927\\\\\n",
       "\\end{tabular}\n"
      ],
      "text/markdown": [
       "\n",
       "| <!--/--> | npar | AIC | BIC | logLik | deviance | Chisq | Df | Pr(>Chisq) |\n",
       "|---|---|---|---|---|---|---|---|---|\n",
       "| m1.null | 4           | 20282.82    | 20312.82    | -10137.41   | 20274.82    |       NA    | NA          |          NA |\n",
       "| m1 | 5           | 20275.31    | 20312.81    | -10132.66   | 20265.31    | 9.509663    |  1          | 0.002043927 |\n",
       "\n"
      ],
      "text/plain": [
       "        npar AIC      BIC      logLik    deviance Chisq    Df Pr(>Chisq) \n",
       "m1.null 4    20282.82 20312.82 -10137.41 20274.82       NA NA          NA\n",
       "m1      5    20275.31 20312.81 -10132.66 20265.31 9.509663  1 0.002043927"
      ]
     },
     "metadata": {},
     "output_type": "display_data"
    },
    {
     "data": {
      "text/plain": [
       "Linear mixed model fit by maximum likelihood . t-tests use Satterthwaite's\n",
       "  method [lmerModLmerTest]\n",
       "Formula: ripple_duration_log ~ group + (1 | rat/session)\n",
       "   Data: data[data$area == \"ca3\", ]\n",
       "\n",
       "     AIC      BIC   logLik deviance df.resid \n",
       " 20275.3  20312.8 -10132.7  20265.3    13338 \n",
       "\n",
       "Scaled residuals: \n",
       "    Min      1Q  Median      3Q     Max \n",
       "-3.0494 -0.6774  0.0113  0.6756  4.4426 \n",
       "\n",
       "Random effects:\n",
       " Groups      Name        Variance Std.Dev.\n",
       " session:rat (Intercept) 0.019285 0.13887 \n",
       " rat         (Intercept) 0.001086 0.03295 \n",
       " Residual                0.263295 0.51312 \n",
       "Number of obs: 13343, groups:  session:rat, 123; rat, 8\n",
       "\n",
       "Fixed effects:\n",
       "            Estimate Std. Error       df t value Pr(>|t|)    \n",
       "(Intercept) -2.17421    0.03189  9.42734 -68.171 5.09e-14 ***\n",
       "grouppae    -0.19755    0.04182  7.03320  -4.723  0.00212 ** \n",
       "---\n",
       "Signif. codes:  0 '***' 0.001 '**' 0.01 '*' 0.05 '.' 0.1 ' ' 1\n",
       "\n",
       "Correlation of Fixed Effects:\n",
       "         (Intr)\n",
       "grouppae -0.763"
      ]
     },
     "metadata": {},
     "output_type": "display_data"
    },
    {
     "data": {
      "image/png": "[encoded data removed]",
      "text/plain": [
       "plot without title"
      ]
     },
     "metadata": {},
     "output_type": "display_data"
    },
    {
     "data": {
      "image/png": "[encoded data removed]",
      "text/plain": [
       "plot without title"
      ]
     },
     "metadata": {},
     "output_type": "display_data"
    },
    {
     "data": {
      "image/png": "[encoded data removed]",
      "text/plain": [
       "Plot with title \"Normal Q-Q Plot\""
      ]
     },
     "metadata": {},
     "output_type": "display_data"
    }
   ],
   "source": [
    "m1 = lmer(ripple_duration_log ~ group + (1 | rat/session), data = data[data$area == \"ca3\",],REML=FALSE)\n",
    "m1.null = lmer(ripple_duration_log ~ 1 + (1 | rat/session), data = data[data$area == \"ca3\",], REML=FALSE)\n",
    "anova(m1.null, m1)\n",
    "summary(m1)\n",
    "plot(ripple_duration_log ~ group, data = data[data$area == \"ca3\",])\n",
    "\n",
    "options(repr.plot.width = 4, repr.plot.height = 3)\n",
    "plot(m1)\n",
    "options(repr.plot.width = 4, repr.plot.height = 4)\n",
    "qqnorm(resid(m1))\n",
    "qqline(resid(m1))"
   ]
  },
  {
   "cell_type": "markdown",
   "metadata": {},
   "source": [
    "ca1 peak frequency"
   ]
  },
  {
   "cell_type": "code",
   "execution_count": 48,
   "metadata": {},
   "outputs": [
    {
     "data": {
      "text/html": [
       "<table>\n",
       "<thead><tr><th></th><th scope=col>npar</th><th scope=col>AIC</th><th scope=col>BIC</th><th scope=col>logLik</th><th scope=col>deviance</th><th scope=col>Chisq</th><th scope=col>Df</th><th scope=col>Pr(&gt;Chisq)</th></tr></thead>\n",
       "<tbody>\n",
       "\t<tr><th scope=row>m1.null</th><td>4        </td><td>-9042.748</td><td>-9016.929</td><td>4525.374 </td><td>-9050.748</td><td>       NA</td><td>NA       </td><td>       NA</td></tr>\n",
       "\t<tr><th scope=row>m1</th><td>5        </td><td>-9041.686</td><td>-9009.411</td><td>4525.843 </td><td>-9051.686</td><td>0.9371914</td><td> 1       </td><td>0.3330012</td></tr>\n",
       "</tbody>\n",
       "</table>\n"
      ],
      "text/latex": [
       "\\begin{tabular}{r|llllllll}\n",
       "  & npar & AIC & BIC & logLik & deviance & Chisq & Df & Pr(>Chisq)\\\\\n",
       "\\hline\n",
       "\tm1.null & 4         & -9042.748 & -9016.929 & 4525.374  & -9050.748 &        NA & NA        &        NA\\\\\n",
       "\tm1 & 5         & -9041.686 & -9009.411 & 4525.843  & -9051.686 & 0.9371914 &  1        & 0.3330012\\\\\n",
       "\\end{tabular}\n"
      ],
      "text/markdown": [
       "\n",
       "| <!--/--> | npar | AIC | BIC | logLik | deviance | Chisq | Df | Pr(>Chisq) |\n",
       "|---|---|---|---|---|---|---|---|---|\n",
       "| m1.null | 4         | -9042.748 | -9016.929 | 4525.374  | -9050.748 |        NA | NA        |        NA |\n",
       "| m1 | 5         | -9041.686 | -9009.411 | 4525.843  | -9051.686 | 0.9371914 |  1        | 0.3330012 |\n",
       "\n"
      ],
      "text/plain": [
       "        npar AIC       BIC       logLik   deviance  Chisq     Df Pr(>Chisq)\n",
       "m1.null 4    -9042.748 -9016.929 4525.374 -9050.748        NA NA        NA \n",
       "m1      5    -9041.686 -9009.411 4525.843 -9051.686 0.9371914  1 0.3330012 "
      ]
     },
     "metadata": {},
     "output_type": "display_data"
    },
    {
     "data": {
      "image/png": "[encoded data removed]",
      "text/plain": [
       "plot without title"
      ]
     },
     "metadata": {},
     "output_type": "display_data"
    },
    {
     "data": {
      "image/png": "[encoded data removed]",
      "text/plain": [
       "plot without title"
      ]
     },
     "metadata": {},
     "output_type": "display_data"
    },
    {
     "data": {
      "image/png": "[encoded data removed]",
      "text/plain": [
       "Plot with title \"Normal Q-Q Plot\""
      ]
     },
     "metadata": {},
     "output_type": "display_data"
    }
   ],
   "source": [
    "# log transform peak frequency\n",
    "data$peak_freq_log <- log10(data$peak_freq)\n",
    "\n",
    "\n",
    "m1 = lmer(peak_freq_log ~ group + (1 | rat/session), data = data[data$area == \"ca1\",],REML=FALSE)\n",
    "m1.null = lmer(peak_freq_log ~ 1 + (1 | rat/session), data = data[data$area == \"ca1\",], REML=FALSE)\n",
    "anova(m1.null, m1)\n",
    "\n",
    "plot(peak_freq_log ~ group, data = data[data$area == \"ca1\",])\n",
    "\n",
    "options(repr.plot.width = 4, repr.plot.height = 3)\n",
    "plot(m1)\n",
    "options(repr.plot.width = 4, repr.plot.height = 4)\n",
    "qqnorm(resid(m1))\n",
    "qqline(resid(m1))"
   ]
  },
  {
   "cell_type": "markdown",
   "metadata": {},
   "source": [
    "ca3 peak frequency"
   ]
  },
  {
   "cell_type": "code",
   "execution_count": 49,
   "metadata": {},
   "outputs": [
    {
     "data": {
      "text/html": [
       "<table>\n",
       "<thead><tr><th></th><th scope=col>npar</th><th scope=col>AIC</th><th scope=col>BIC</th><th scope=col>logLik</th><th scope=col>deviance</th><th scope=col>Chisq</th><th scope=col>Df</th><th scope=col>Pr(&gt;Chisq)</th></tr></thead>\n",
       "<tbody>\n",
       "\t<tr><th scope=row>m1.null</th><td>4         </td><td>-32435.19 </td><td>-32405.19 </td><td>16221.59  </td><td>-32443.19 </td><td>        NA</td><td>NA        </td><td>       NA </td></tr>\n",
       "\t<tr><th scope=row>m1</th><td>5         </td><td>-32433.24 </td><td>-32395.75 </td><td>16221.62  </td><td>-32443.24 </td><td>0.05414031</td><td> 1        </td><td>0.8160094 </td></tr>\n",
       "</tbody>\n",
       "</table>\n"
      ],
      "text/latex": [
       "\\begin{tabular}{r|llllllll}\n",
       "  & npar & AIC & BIC & logLik & deviance & Chisq & Df & Pr(>Chisq)\\\\\n",
       "\\hline\n",
       "\tm1.null & 4          & -32435.19  & -32405.19  & 16221.59   & -32443.19  &         NA & NA         &        NA \\\\\n",
       "\tm1 & 5          & -32433.24  & -32395.75  & 16221.62   & -32443.24  & 0.05414031 &  1         & 0.8160094 \\\\\n",
       "\\end{tabular}\n"
      ],
      "text/markdown": [
       "\n",
       "| <!--/--> | npar | AIC | BIC | logLik | deviance | Chisq | Df | Pr(>Chisq) |\n",
       "|---|---|---|---|---|---|---|---|---|\n",
       "| m1.null | 4          | -32435.19  | -32405.19  | 16221.59   | -32443.19  |         NA | NA         |        NA  |\n",
       "| m1 | 5          | -32433.24  | -32395.75  | 16221.62   | -32443.24  | 0.05414031 |  1         | 0.8160094  |\n",
       "\n"
      ],
      "text/plain": [
       "        npar AIC       BIC       logLik   deviance  Chisq      Df Pr(>Chisq)\n",
       "m1.null 4    -32435.19 -32405.19 16221.59 -32443.19         NA NA        NA \n",
       "m1      5    -32433.24 -32395.75 16221.62 -32443.24 0.05414031  1 0.8160094 "
      ]
     },
     "metadata": {},
     "output_type": "display_data"
    },
    {
     "data": {
      "image/png": "[encoded data removed]",
      "text/plain": [
       "plot without title"
      ]
     },
     "metadata": {},
     "output_type": "display_data"
    },
    {
     "data": {
      "image/png": "[encoded data removed]",
      "text/plain": [
       "plot without title"
      ]
     },
     "metadata": {},
     "output_type": "display_data"
    },
    {
     "data": {
      "image/png": "[encoded data removed]",
      "text/plain": [
       "Plot with title \"Normal Q-Q Plot\""
      ]
     },
     "metadata": {},
     "output_type": "display_data"
    }
   ],
   "source": [
    "m1 = lmer(peak_freq_log ~ group + (1 | rat/session), data = data[data$area == \"ca3\",],REML=FALSE)\n",
    "m1.null = lmer(peak_freq_log ~ 1 + (1 | rat/session), data = data[data$area == \"ca3\",], REML=FALSE)\n",
    "anova(m1.null, m1)\n",
    "\n",
    "plot(peak_freq_log ~ group, data = data[data$area == \"ca3\",])\n",
    "\n",
    "options(repr.plot.width = 4, repr.plot.height = 3)\n",
    "plot(m1)\n",
    "options(repr.plot.width = 4, repr.plot.height = 4)\n",
    "qqnorm(resid(m1))\n",
    "qqline(resid(m1))"
   ]
  },
  {
   "cell_type": "markdown",
   "metadata": {},
   "source": [
    "ca1 peak amplitude"
   ]
  },
  {
   "cell_type": "code",
   "execution_count": 35,
   "metadata": {},
   "outputs": [
    {
     "data": {
      "text/html": [
       "<table>\n",
       "<thead><tr><th></th><th scope=col>npar</th><th scope=col>AIC</th><th scope=col>BIC</th><th scope=col>logLik</th><th scope=col>deviance</th><th scope=col>Chisq</th><th scope=col>Df</th><th scope=col>Pr(&gt;Chisq)</th></tr></thead>\n",
       "<tbody>\n",
       "\t<tr><th scope=row>m1.null</th><td>4         </td><td>-8944.553 </td><td>-8918.733 </td><td>4476.276  </td><td>-8952.553 </td><td>        NA</td><td>NA        </td><td>      NA  </td></tr>\n",
       "\t<tr><th scope=row>m1</th><td>5         </td><td>-8942.623 </td><td>-8910.349 </td><td>4476.312  </td><td>-8952.623 </td><td>0.07015655</td><td> 1        </td><td>0.791109  </td></tr>\n",
       "</tbody>\n",
       "</table>\n"
      ],
      "text/latex": [
       "\\begin{tabular}{r|llllllll}\n",
       "  & npar & AIC & BIC & logLik & deviance & Chisq & Df & Pr(>Chisq)\\\\\n",
       "\\hline\n",
       "\tm1.null & 4          & -8944.553  & -8918.733  & 4476.276   & -8952.553  &         NA & NA         &       NA  \\\\\n",
       "\tm1 & 5          & -8942.623  & -8910.349  & 4476.312   & -8952.623  & 0.07015655 &  1         & 0.791109  \\\\\n",
       "\\end{tabular}\n"
      ],
      "text/markdown": [
       "\n",
       "| <!--/--> | npar | AIC | BIC | logLik | deviance | Chisq | Df | Pr(>Chisq) |\n",
       "|---|---|---|---|---|---|---|---|---|\n",
       "| m1.null | 4          | -8944.553  | -8918.733  | 4476.276   | -8952.553  |         NA | NA         |       NA   |\n",
       "| m1 | 5          | -8942.623  | -8910.349  | 4476.312   | -8952.623  | 0.07015655 |  1         | 0.791109   |\n",
       "\n"
      ],
      "text/plain": [
       "        npar AIC       BIC       logLik   deviance  Chisq      Df Pr(>Chisq)\n",
       "m1.null 4    -8944.553 -8918.733 4476.276 -8952.553         NA NA       NA  \n",
       "m1      5    -8942.623 -8910.349 4476.312 -8952.623 0.07015655  1 0.791109  "
      ]
     },
     "metadata": {},
     "output_type": "display_data"
    },
    {
     "data": {
      "image/png": "[encoded data removed]",
      "text/plain": [
       "plot without title"
      ]
     },
     "metadata": {},
     "output_type": "display_data"
    },
    {
     "data": {
      "image/png": "[encoded data removed]",
      "text/plain": [
       "Plot with title \"Normal Q-Q Plot\""
      ]
     },
     "metadata": {},
     "output_type": "display_data"
    }
   ],
   "source": [
    "# log transform peak frequency\n",
    "data$peak_amplitude_log <- log10(log10(data$peak_amplitude))\n",
    "\n",
    "m1 = lmer(peak_amplitude_log ~ group + (1 | rat/session), data = data[data$area == \"ca1\",],REML=FALSE)\n",
    "# summary(m1)\n",
    "m1.null = lmer(peak_amplitude_log ~ 1 + (1 | rat/session), data = data[data$area == \"ca1\",], REML=FALSE)\n",
    "anova(m1.null, m1)\n",
    "\n",
    "options(repr.plot.width = 4, repr.plot.height = 3)\n",
    "plot(m1)\n",
    "options(repr.plot.width = 4, repr.plot.height = 4)\n",
    "qqnorm(resid(m1))\n",
    "qqline(resid(m1))\n"
   ]
  },
  {
   "cell_type": "markdown",
   "metadata": {},
   "source": [
    "ca3 peak amplitude"
   ]
  },
  {
   "cell_type": "code",
   "execution_count": 36,
   "metadata": {},
   "outputs": [
    {
     "data": {
      "text/html": [
       "<table>\n",
       "<thead><tr><th></th><th scope=col>npar</th><th scope=col>AIC</th><th scope=col>BIC</th><th scope=col>logLik</th><th scope=col>deviance</th><th scope=col>Chisq</th><th scope=col>Df</th><th scope=col>Pr(&gt;Chisq)</th></tr></thead>\n",
       "<tbody>\n",
       "\t<tr><th scope=row>m1.null</th><td>4        </td><td>-25547.80</td><td>-25517.80</td><td>12777.90 </td><td>-25555.80</td><td>      NA </td><td>NA       </td><td>       NA</td></tr>\n",
       "\t<tr><th scope=row>m1</th><td>5        </td><td>-25548.32</td><td>-25510.82</td><td>12779.16 </td><td>-25558.32</td><td>2.520374 </td><td> 1       </td><td>0.1123839</td></tr>\n",
       "</tbody>\n",
       "</table>\n"
      ],
      "text/latex": [
       "\\begin{tabular}{r|llllllll}\n",
       "  & npar & AIC & BIC & logLik & deviance & Chisq & Df & Pr(>Chisq)\\\\\n",
       "\\hline\n",
       "\tm1.null & 4         & -25547.80 & -25517.80 & 12777.90  & -25555.80 &       NA  & NA        &        NA\\\\\n",
       "\tm1 & 5         & -25548.32 & -25510.82 & 12779.16  & -25558.32 & 2.520374  &  1        & 0.1123839\\\\\n",
       "\\end{tabular}\n"
      ],
      "text/markdown": [
       "\n",
       "| <!--/--> | npar | AIC | BIC | logLik | deviance | Chisq | Df | Pr(>Chisq) |\n",
       "|---|---|---|---|---|---|---|---|---|\n",
       "| m1.null | 4         | -25547.80 | -25517.80 | 12777.90  | -25555.80 |       NA  | NA        |        NA |\n",
       "| m1 | 5         | -25548.32 | -25510.82 | 12779.16  | -25558.32 | 2.520374  |  1        | 0.1123839 |\n",
       "\n"
      ],
      "text/plain": [
       "        npar AIC       BIC       logLik   deviance  Chisq    Df Pr(>Chisq)\n",
       "m1.null 4    -25547.80 -25517.80 12777.90 -25555.80       NA NA        NA \n",
       "m1      5    -25548.32 -25510.82 12779.16 -25558.32 2.520374  1 0.1123839 "
      ]
     },
     "metadata": {},
     "output_type": "display_data"
    },
    {
     "data": {
      "image/png": "[encoded data removed]",
      "text/plain": [
       "plot without title"
      ]
     },
     "metadata": {},
     "output_type": "display_data"
    },
    {
     "data": {
      "image/png": "[encoded data removed]",
      "text/plain": [
       "Plot with title \"Normal Q-Q Plot\""
      ]
     },
     "metadata": {},
     "output_type": "display_data"
    }
   ],
   "source": [
    "m1 = lmer(peak_amplitude_log ~ group + (1 | rat/session), data = data[data$area == \"ca3\",],REML=FALSE)\n",
    "m1.null = lmer(peak_amplitude_log ~ 1 + (1 | rat/session), data = data[data$area == \"ca3\",], REML=FALSE)\n",
    "anova(m1.null, m1)\n",
    "\n",
    "options(repr.plot.width = 4, repr.plot.height = 3)\n",
    "plot(m1)\n",
    "options(repr.plot.width = 4, repr.plot.height = 4)\n",
    "qqnorm(resid(m1))\n",
    "qqline(resid(m1))"
   ]
  },
  {
   "cell_type": "code",
   "execution_count": 83,
   "metadata": {},
   "outputs": [
    {
     "data": {
      "text/plain": [
       "       X                             session     area         counts      \n",
       " Min.   :  0.00   LEM3124_S20190307132509:  2   ca1: 81   Min.   :  1.00  \n",
       " 1st Qu.: 57.75   LEM3124_S20190307163732:  2   ca3:123   1st Qu.: 10.00  \n",
       " Median :118.50   LEM3124_S20190309145324:  2             Median : 33.00  \n",
       " Mean   :113.93   LEM3124_S20190311161641:  2             Mean   : 88.44  \n",
       " 3rd Qu.:169.25   LEM3124_S20190315160017:  2             3rd Qu.: 79.25  \n",
       " Max.   :220.00   LEM3124_S20190319154019:  2             Max.   :983.00  \n",
       "                  (Other)                :192                             \n",
       "  ripple_rate           group          rat    \n",
       " Min.   :0.000521   control: 80   LEM3124:38  \n",
       " 1st Qu.:0.012210   pae    :124   LEM3206:36  \n",
       " Median :0.036449                 LEM3116:30  \n",
       " Mean   :0.074858                 LEM3216:28  \n",
       " 3rd Qu.:0.082028                 LEM3246:22  \n",
       " Max.   :0.481211                 LS19   :15  \n",
       "                                  (Other):35  "
      ]
     },
     "metadata": {},
     "output_type": "display_data"
    }
   ],
   "source": [
    "summary(df_inter_ripple)"
   ]
  },
  {
   "cell_type": "code",
   "execution_count": 9,
   "metadata": {},
   "outputs": [
    {
     "data": {
      "text/html": [
       "<table>\n",
       "<thead><tr><th></th><th scope=col>npar</th><th scope=col>AIC</th><th scope=col>BIC</th><th scope=col>logLik</th><th scope=col>deviance</th><th scope=col>Chisq</th><th scope=col>Df</th><th scope=col>Pr(&gt;Chisq)</th></tr></thead>\n",
       "<tbody>\n",
       "\t<tr><th scope=row>m1.null</th><td>3        </td><td>269.3987 </td><td>276.5821 </td><td>-131.6994</td><td>263.3987 </td><td>       NA</td><td>NA       </td><td>       NA</td></tr>\n",
       "\t<tr><th scope=row>m1</th><td>4        </td><td>270.5331 </td><td>280.1109 </td><td>-131.2666</td><td>262.5331 </td><td>0.8656004</td><td> 1       </td><td>0.3521762</td></tr>\n",
       "</tbody>\n",
       "</table>\n"
      ],
      "text/latex": [
       "\\begin{tabular}{r|llllllll}\n",
       "  & npar & AIC & BIC & logLik & deviance & Chisq & Df & Pr(>Chisq)\\\\\n",
       "\\hline\n",
       "\tm1.null & 3         & 269.3987  & 276.5821  & -131.6994 & 263.3987  &        NA & NA        &        NA\\\\\n",
       "\tm1 & 4         & 270.5331  & 280.1109  & -131.2666 & 262.5331  & 0.8656004 &  1        & 0.3521762\\\\\n",
       "\\end{tabular}\n"
      ],
      "text/markdown": [
       "\n",
       "| <!--/--> | npar | AIC | BIC | logLik | deviance | Chisq | Df | Pr(>Chisq) |\n",
       "|---|---|---|---|---|---|---|---|---|\n",
       "| m1.null | 3         | 269.3987  | 276.5821  | -131.6994 | 263.3987  |        NA | NA        |        NA |\n",
       "| m1 | 4         | 270.5331  | 280.1109  | -131.2666 | 262.5331  | 0.8656004 |  1        | 0.3521762 |\n",
       "\n"
      ],
      "text/plain": [
       "        npar AIC      BIC      logLik    deviance Chisq     Df Pr(>Chisq)\n",
       "m1.null 3    269.3987 276.5821 -131.6994 263.3987        NA NA        NA \n",
       "m1      4    270.5331 280.1109 -131.2666 262.5331 0.8656004  1 0.3521762 "
      ]
     },
     "metadata": {},
     "output_type": "display_data"
    },
    {
     "data": {
      "image/png": "[encoded data removed]",
      "text/plain": [
       "plot without title"
      ]
     },
     "metadata": {},
     "output_type": "display_data"
    },
    {
     "data": {
      "image/png": "[encoded data removed]",
      "text/plain": [
       "Plot with title \"Normal Q-Q Plot\""
      ]
     },
     "metadata": {},
     "output_type": "display_data"
    }
   ],
   "source": [
    "df_inter_ripple$ripple_rate_log = log(df_inter_ripple$ripple_rate)\n",
    "\n",
    "m1 = lmer(ripple_rate_log ~ group + (1 | rat), data = df_inter_ripple[df_inter_ripple$area == \"ca1\",],REML=FALSE)\n",
    "m1.null = lmer(ripple_rate_log ~ 1 + (1 | rat), data = df_inter_ripple[df_inter_ripple$area == \"ca1\",], REML=FALSE)\n",
    "anova(m1.null, m1)\n",
    "\n",
    "options(repr.plot.width = 4, repr.plot.height = 3)\n",
    "plot(m1)\n",
    "options(repr.plot.width = 4, repr.plot.height = 4)\n",
    "qqnorm(resid(m1))\n",
    "qqline(resid(m1))"
   ]
  },
  {
   "cell_type": "code",
   "execution_count": 50,
   "metadata": {},
   "outputs": [
    {
     "data": {
      "text/html": [
       "<table>\n",
       "<thead><tr><th></th><th scope=col>npar</th><th scope=col>AIC</th><th scope=col>BIC</th><th scope=col>logLik</th><th scope=col>deviance</th><th scope=col>Chisq</th><th scope=col>Df</th><th scope=col>Pr(&gt;Chisq)</th></tr></thead>\n",
       "<tbody>\n",
       "\t<tr><th scope=row>m1.null</th><td>3        </td><td>399.0621 </td><td>407.4986 </td><td>-196.5310</td><td>393.0621 </td><td>      NA </td><td>NA       </td><td>       NA</td></tr>\n",
       "\t<tr><th scope=row>m1</th><td>4        </td><td>399.2706 </td><td>410.5194 </td><td>-195.6353</td><td>391.2706 </td><td>1.791421 </td><td> 1       </td><td>0.1807531</td></tr>\n",
       "</tbody>\n",
       "</table>\n"
      ],
      "text/latex": [
       "\\begin{tabular}{r|llllllll}\n",
       "  & npar & AIC & BIC & logLik & deviance & Chisq & Df & Pr(>Chisq)\\\\\n",
       "\\hline\n",
       "\tm1.null & 3         & 399.0621  & 407.4986  & -196.5310 & 393.0621  &       NA  & NA        &        NA\\\\\n",
       "\tm1 & 4         & 399.2706  & 410.5194  & -195.6353 & 391.2706  & 1.791421  &  1        & 0.1807531\\\\\n",
       "\\end{tabular}\n"
      ],
      "text/markdown": [
       "\n",
       "| <!--/--> | npar | AIC | BIC | logLik | deviance | Chisq | Df | Pr(>Chisq) |\n",
       "|---|---|---|---|---|---|---|---|---|\n",
       "| m1.null | 3         | 399.0621  | 407.4986  | -196.5310 | 393.0621  |       NA  | NA        |        NA |\n",
       "| m1 | 4         | 399.2706  | 410.5194  | -195.6353 | 391.2706  | 1.791421  |  1        | 0.1807531 |\n",
       "\n"
      ],
      "text/plain": [
       "        npar AIC      BIC      logLik    deviance Chisq    Df Pr(>Chisq)\n",
       "m1.null 3    399.0621 407.4986 -196.5310 393.0621       NA NA        NA \n",
       "m1      4    399.2706 410.5194 -195.6353 391.2706 1.791421  1 0.1807531 "
      ]
     },
     "metadata": {},
     "output_type": "display_data"
    },
    {
     "data": {
      "image/png": "[encoded data removed]",
      "text/plain": [
       "plot without title"
      ]
     },
     "metadata": {},
     "output_type": "display_data"
    },
    {
     "data": {
      "image/png": "[encoded data removed]",
      "text/plain": [
       "plot without title"
      ]
     },
     "metadata": {},
     "output_type": "display_data"
    },
    {
     "data": {
      "image/png": "[encoded data removed]",
      "text/plain": [
       "Plot with title \"Normal Q-Q Plot\""
      ]
     },
     "metadata": {},
     "output_type": "display_data"
    }
   ],
   "source": [
    "m1 = lmer(ripple_rate_log ~ group + (1 | rat), data = df_inter_ripple[df_inter_ripple$area == \"ca3\",],REML=FALSE)\n",
    "m1.null = lmer(ripple_rate_log ~ 1 + (1 | rat), data = df_inter_ripple[df_inter_ripple$area == \"ca3\",], REML=FALSE)\n",
    "anova(m1.null, m1)\n",
    "plot(ripple_rate_log ~ group, data =  df_inter_ripple[df_inter_ripple$area == \"ca3\",])\n",
    "\n",
    "options(repr.plot.width = 4, repr.plot.height = 3)\n",
    "plot(m1)\n",
    "options(repr.plot.width = 4, repr.plot.height = 4)\n",
    "qqnorm(resid(m1))\n",
    "qqline(resid(m1))"
   ]
  },
  {
   "cell_type": "code",
   "execution_count": null,
   "metadata": {},
   "outputs": [],
   "source": [
    "# m1 = lmer(ripple_rate_log ~ group + (1 | rat), data = df_inter_ripple[df_inter_ripple$area == \"ca3\",],REML=FALSE)\n",
    "# summary(m1)\n",
    "# plot(ripple_rate_log ~ group, data = df_inter_ripple[df_inter_ripple$area == \"ca3\",])\n",
    "# abline(m1)\n",
    "\n"
   ]
  }
 ],
 "metadata": {
  "kernelspec": {
   "display_name": "R",
   "language": "R",
   "name": "ir"
  },
  "language_info": {
   "codemirror_mode": "r",
   "file_extension": ".r",
   "mimetype": "text/x-r-source",
   "name": "R",
   "pygments_lexer": "r",
   "version": "3.6.1"
  }
 },
 "nbformat": 4,
 "nbformat_minor": 4
}
