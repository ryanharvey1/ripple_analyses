{
 "cells": [
  {
   "cell_type": "markdown",
   "metadata": {},
   "source": [
    "# Detect multi unit events\n",
    "\n",
    "    Multiunit High Synchrony Event detector. Finds times when the multiunit\n",
    "    population spiking activity is high relative to the average."
   ]
  },
  {
   "cell_type": "code",
   "execution_count": 21,
   "metadata": {},
   "outputs": [],
   "source": [
    "from ripple_detection import multiunit_HSE_detector\n",
    "import os\n",
    "import h5py\n",
    "import pickle\n",
    "import pandas as pd\n",
    "import numpy as np\n",
    "import hdf5storage\n",
    "from matplotlib import pyplot as plt\n",
    "import glob\n",
    "import itertools\n",
    "import multiprocessing\n",
    "from joblib import Parallel, delayed\n",
    "from ripple_detection.core import get_multiunit_population_firing_rate\n",
    "from scipy.signal import find_peaks,peak_prominences\n",
    "from scipy.stats import norm"
   ]
  },
  {
   "cell_type": "code",
   "execution_count": 150,
   "metadata": {},
   "outputs": [],
   "source": [
    "def load_position(session):\n",
    "    f = h5py.File(session,'r')\n",
    "    # load frames [ts x y a s] \n",
    "    frames = np.transpose(np.array(f['frames']))\n",
    "    return pd.DataFrame(frames,columns=['ts', 'x', 'y', 'hd', 'speed'])   \n",
    "\n",
    "def get_session_path(session):\n",
    "    f = h5py.File(session,'r')\n",
    "    return f['session_path'][()].tobytes()[::2].decode()\n",
    "\n",
    "def get_spikes(filename):\n",
    "    data = hdf5storage.loadmat(filename,variable_names=['Spikes'])\n",
    "    spike_times=data['Spikes']\n",
    "    spike_times=np.squeeze(spike_times)\n",
    "    for i in range(spike_times.shape[0]):\n",
    "        spike_times[i]=np.squeeze(spike_times[i])\n",
    "    return spike_times\n",
    "\n",
    "def get_peak_ts(high_synchrony_event_times,firing_rate,ts):\n",
    "    peak_ts = []\n",
    "    for event in high_synchrony_event_times.itertuples():\n",
    "        idx = (ts >= event.start_time) & (ts <= event.end_time)\n",
    "        temp_ts = ts[idx]\n",
    "        peak_ts.append(temp_ts[np.argmax(firing_rate[idx])])\n",
    "    return peak_ts\n",
    "\n",
    "def fastrms(x,window=5):\n",
    "    window = np.ones(window)\n",
    "    power = x**2\n",
    "    rms = np.convolve(power,window,mode='same')\n",
    "    return  np.sqrt(rms/sum(window));\n",
    "    \n",
    "def get_place_fields(ratemap,min_peak_rate=2,min_field_width=2,max_field_width=39,percent_threshold=0.2):\n",
    "    \n",
    "    std_rates = np.std(ratemap)\n",
    "    \n",
    "    locs,properties = find_peaks(fastrms(ratemap), height=min_peak_rate, width=min_field_width)\n",
    "    pks = properties['peak_heights']\n",
    "\n",
    "    exclude = []\n",
    "    for j in range(len(locs)-1):\n",
    "        if min(ratemap[locs[j]:locs[j+1]]) > ((pks[j] + pks[j+1]) / 2) * percent_threshold:\n",
    "            if pks[j] > pks[j+1]:\n",
    "                exclude.append(j+1)\n",
    "            elif pks[j] < pks[j+1]:\n",
    "                exclude.append(j)\n",
    "       \n",
    "    if any(ratemap[locs] < std_rates*.5):\n",
    "        exclude.append(np.where(ratemap[locs] < std_rates*.5))\n",
    "    if not exclude:\n",
    "        pks = np.delete(pks, exclude)\n",
    "        locs = np.delete(locs, exclude)\n",
    "    \n",
    "    fields = []\n",
    "    for j in range(len(locs)):\n",
    "        Map_Field = (ratemap > pks[j] * percent_threshold)*1;\n",
    "        start = locs[j]\n",
    "        stop = locs[j]\n",
    "        \n",
    "        while (Map_Field[start] == 1)  & (start > 0):\n",
    "            start -= 1\n",
    "        while (Map_Field[stop] == 1)  & (stop < len(Map_Field)-1):\n",
    "            stop += 1\n",
    "\n",
    "        if ((stop - start) > min_field_width) & ((stop - start) < max_field_width):\n",
    "            com = start\n",
    "            while sum(ratemap[start:stop]) - sum(ratemap[start:com]) > sum(ratemap[start:com])/2:\n",
    "                com += 1\n",
    "            fields.append((start,stop,stop - start,pks[j],locs[j],com))\n",
    "                        \n",
    "    # add to data frames\n",
    "    fields = pd.DataFrame(fields, columns=(\"start\", \"stop\", \"width\", \"peakFR\", \"peakLoc\", \"COM\"))   \n",
    "    \n",
    "    # remove fields with the same field boundaries and keep the one with the highest peak rate\n",
    "    fields = fields.sort_values(by=['peakFR'],ascending=False)\n",
    "    fields.drop_duplicates(subset = ['start', 'stop'])\n",
    "\n",
    "    return fields\n",
    "\n",
    "def get_place_cell_idx(session):\n",
    "    \"\"\"\n",
    "    find cells to include. At least 1 field from both directions\n",
    "    \"\"\"\n",
    "    data = hdf5storage.loadmat(session,variable_names=['ratemap'])\n",
    "    include = []\n",
    "    field = 0\n",
    "    for i in range(data['ratemap'].shape[0]):\n",
    "        for d in range(2):\n",
    "            fields = get_place_fields(data['ratemap'][i,d][0])\n",
    "            if not fields.empty:\n",
    "                field += 1\n",
    "        if field > 0:\n",
    "            include.append(1)\n",
    "        else:\n",
    "            include.append(0)\n",
    "        field = 0\n",
    "    return include    "
   ]
  },
  {
   "cell_type": "code",
   "execution_count": 152,
   "metadata": {},
   "outputs": [],
   "source": [
    "def get_events(spike_times,df,dt):\n",
    "     # bin spikes into single vector\n",
    "    st = list(itertools.chain.from_iterable(spike_times))\n",
    "    multiunit, _ = np.histogram(st,bins=np.arange(0, max(st), dt))\n",
    "    \n",
    "    # timestamps for binned spikes\n",
    "    ts = np.arange(0 + dt/2, max(st) - dt/2, dt)\n",
    "    \n",
    "    # interp speed of the animal\n",
    "    speed = np.interp(ts,df.ts,df.speed)\n",
    "    speed[np.isnan(speed)] = 0\n",
    "    \n",
    "    # detect ripples\n",
    "    high_synchrony_event_times = multiunit_HSE_detector(ts, np.expand_dims(multiunit, axis=1), speed, 1/dt)\n",
    "\n",
    "    # add peak time stamp\n",
    "    firing_rate = get_multiunit_population_firing_rate(np.expand_dims(multiunit, axis=1), 1/dt, 0.015)\n",
    "    peak_time = get_peak_ts(high_synchrony_event_times,firing_rate,ts)\n",
    "    high_synchrony_event_times['peak_time'] = peak_time\n",
    "    \n",
    "    # add duration\n",
    "    high_synchrony_event_times[\"ripple_duration\"] = high_synchrony_event_times.end_time - high_synchrony_event_times.start_time \n",
    "    return high_synchrony_event_times\n",
    "\n",
    "def run_all(session,cell_list,dt=0.001):\n",
    "    \n",
    "    # get data session path from mat file\n",
    "    path = get_session_path(session)\n",
    "    \n",
    "    # load position data from .mat file\n",
    "    df = load_position(session)\n",
    "    \n",
    "    # load spikes\n",
    "    spike_times = get_spikes(session)\n",
    "    \n",
    "    areas = cell_list.area[cell_list.session == os.path.split(session)[-1].strip(\".mat\")] \n",
    "    high_synchrony_event_times=pd.DataFrame()\n",
    "    for a in pd.unique(areas):\n",
    "        temp_df = get_events(spike_times[areas==a],df,dt)\n",
    "        temp_df['area'] = a\n",
    "        high_synchrony_event_times = high_synchrony_event_times.append(temp_df,ignore_index=True)\n",
    "        \n",
    "    return high_synchrony_event_times"
   ]
  },
  {
   "cell_type": "code",
   "execution_count": null,
   "metadata": {},
   "outputs": [],
   "source": [
    "# session = data_path+'LEM3124_S20190307132509.mat'\n",
    "# high_synchrony_event_times = run_all(session,cell_list,dt=0.001)\n",
    "# high_synchrony_event_times"
   ]
  },
  {
   "cell_type": "code",
   "execution_count": null,
   "metadata": {},
   "outputs": [],
   "source": [
    "# fig, ax = plt.subplots(3,1,figsize=(15, 10))\n",
    "\n",
    "# xlims = [600,700]\n",
    "\n",
    "# areas = cell_list.area[cell_list.session == os.path.split(session)[-1].strip(\".mat\")] \n",
    "# cmap = plt.get_cmap(\"tab10\",3)\n",
    "\n",
    "# for i,a in enumerate(pd.unique(areas)):\n",
    "#     ax[i].eventplot(spike_times[areas==a],color=cmap(i))\n",
    "    \n",
    "#     for ripple in high_synchrony_event_times[high_synchrony_event_times.area==a].itertuples():\n",
    "#         ax[i].axvspan(ripple.start_time, ripple.end_time, alpha=0.3, color='red', zorder=10)\n",
    "        \n",
    "#     ax[i].set_xlim(xlims[0],xlims[1]) \n"
   ]
  },
  {
   "cell_type": "markdown",
   "metadata": {},
   "source": [
    "# Run through all sessions and save results"
   ]
  },
  {
   "cell_type": "code",
   "execution_count": 154,
   "metadata": {},
   "outputs": [],
   "source": [
    "def main_loop(session,cell_list,data_path,save_path):\n",
    "    base = os.path.basename(session)\n",
    "    os.path.splitext(base)\n",
    "    save_file = save_path + os.path.splitext(base)[0] + '.pkl'\n",
    "    \n",
    "    # check if saved file exists\n",
    "    if os.path.exists(save_file):\n",
    "        return\n",
    "    \n",
    "    # detect ripples and calc some features\n",
    "    high_synchrony_event_times = run_all(session,cell_list)   \n",
    "\n",
    "    # save file\n",
    "    with open(save_file, 'wb') as f:\n",
    "        pickle.dump(high_synchrony_event_times, f)\n",
    "\n",
    "\n",
    "data_path = 'F:\\\\Projects\\\\PAE_PlaceCell\\\\ProcessedData\\\\'\n",
    "save_path = \"F:\\\\Projects\\\\PAE_PlaceCell\\\\analysis\\\\multiunit_data\\\\\"\n",
    "\n",
    "# find HPC sessions\n",
    "df_sessions = pd.read_csv('D:/ryanh/github/harvey_et_al_2020/Rdata_pae_track_cylinder_all_cells.csv')\n",
    "sessions = pd.unique(df_sessions.session)\n",
    "sessions = data_path+sessions\n",
    "cell_list = pd.read_csv(r'F:\\Projects\\PAE_PlaceCell\\analysis\\cell_list.csv')\n",
    "\n",
    "\n",
    "# for session in sessions:\n",
    "#     print(session)\n",
    "#     main_loop(session,cell_list,data_path,save_path)\n",
    " \n",
    "num_cores = multiprocessing.cpu_count()         \n",
    "processed_list = Parallel(n_jobs=num_cores)(delayed(main_loop)(session,cell_list,data_path,save_path) for session in sessions)\n"
   ]
  },
  {
   "cell_type": "markdown",
   "metadata": {},
   "source": [
    "# Load all events into single data frame"
   ]
  },
  {
   "cell_type": "code",
   "execution_count": 155,
   "metadata": {},
   "outputs": [
    {
     "name": "stdout",
     "output_type": "stream",
     "text": [
      "       start_time   end_time  peak_time  ripple_duration area  \\\n",
      "0         64.0895    64.3285    64.2555            0.239  ca1   \n",
      "1         69.6875    69.8525    69.7725            0.165  ca1   \n",
      "2         75.6615    75.7805    75.7065            0.119  ca1   \n",
      "3         76.6735    76.8635    76.7755            0.190  ca1   \n",
      "4         82.6235    82.7045    82.6595            0.081  ca1   \n",
      "...           ...        ...        ...              ...  ...   \n",
      "64604   1474.8415  1475.0365  1474.9495            0.195  ca1   \n",
      "64605   1517.8405  1517.9865  1517.9345            0.146  ca1   \n",
      "64606   1517.9935  1518.2105  1518.1185            0.217  ca1   \n",
      "64607   1532.9235  1532.9785  1532.9515            0.055  ca1   \n",
      "64608   1538.7055  1538.8835  1538.8165            0.178  ca1   \n",
      "\n",
      "                       session  \n",
      "0      LEM3116_S20180715121821  \n",
      "1      LEM3116_S20180715121821  \n",
      "2      LEM3116_S20180715121821  \n",
      "3      LEM3116_S20180715121821  \n",
      "4      LEM3116_S20180715121821  \n",
      "...                        ...  \n",
      "64604     RH16_S20161207130000  \n",
      "64605     RH16_S20161207130000  \n",
      "64606     RH16_S20161207130000  \n",
      "64607     RH16_S20161207130000  \n",
      "64608     RH16_S20161207130000  \n",
      "\n",
      "[64609 rows x 6 columns]\n"
     ]
    }
   ],
   "source": [
    "save_path = \"F:/Projects/PAE_PlaceCell/analysis/multiunit_data/\"\n",
    "sessions = glob.glob(save_path + '*.pkl')\n",
    "\n",
    "df=pd.DataFrame()\n",
    "for session in sessions:\n",
    "    with open(session, 'rb') as f:\n",
    "        high_synchrony_event_times = pickle.load(f)\n",
    "   \n",
    "    # add data frame of ripple features and add session id\n",
    "    base = os.path.basename(session)\n",
    "    high_synchrony_event_times['session'] = os.path.splitext(base)[0]\n",
    "    df = df.append(high_synchrony_event_times,ignore_index=True)\n",
    "\n",
    "print(df)"
   ]
  },
  {
   "cell_type": "markdown",
   "metadata": {},
   "source": [
    "# Add epoch type to data frame"
   ]
  },
  {
   "cell_type": "code",
   "execution_count": null,
   "metadata": {},
   "outputs": [],
   "source": [
    "\n",
    "data_path = 'F:\\\\Projects\\\\PAE_PlaceCell\\\\ProcessedData\\\\'\n",
    "dicts = {}\n",
    "for session in df.session:\n",
    "    f = h5py.File(data_path+session+'.mat','r')\n",
    "    ex_ep = []\n",
    "    for i in range(f['events'].shape[0]):\n",
    "        ex_ep.append(f['events'][i])\n",
    "    dicts[session] = ex_ep\n",
    "    \n",
    "ep_type = ['pedestal_1','track','pedestal_2','cylinder_1','pedestal_3','cylinder_2','pedestal_4']\n",
    "df['ep_type'] = np.ones_like(df.session)\n",
    "# session_df=pd.DataFrame()\n",
    "for session in np.unique(df.session):\n",
    "    # stack epoch times\n",
    "    b = np.hstack(dicts[session])\n",
    "    \n",
    "    # add 0 to start to indicate the start of the recording session\n",
    "    b = np.insert(b,0,0)\n",
    "    \n",
    "    # add the ts of the last ripple of the session to indicate end of session\n",
    "    b = list(b)\n",
    "    last_rip = max(df.end_time[df.session == session])\n",
    "    if b[-1] < last_rip:\n",
    "        b.append(last_rip)\n",
    "    \n",
    "    # loop through each epoch and label each ripple\n",
    "    for ep in range(len(b)-1):\n",
    "        idx = (df.session == session) & (df.peak_time >= b[ep]) & (df.peak_time <= b[ep+1])\n",
    "        df['ep_type'][idx] = ep_type[ep]\n",
    "\n",
    "df"
   ]
  },
  {
   "cell_type": "markdown",
   "metadata": {},
   "source": [
    "# add group "
   ]
  },
  {
   "cell_type": "code",
   "execution_count": 157,
   "metadata": {},
   "outputs": [
    {
     "name": "stderr",
     "output_type": "stream",
     "text": [
      "<ipython-input-157-fac2c67c4f51>:9: SettingWithCopyWarning: \n",
      "A value is trying to be set on a copy of a slice from a DataFrame\n",
      "\n",
      "See the caveats in the documentation: https://pandas.pydata.org/pandas-docs/stable/user_guide/indexing.html#returning-a-view-versus-a-copy\n",
      "  df.group[idx] = 'control'\n",
      "<ipython-input-157-fac2c67c4f51>:13: SettingWithCopyWarning: \n",
      "A value is trying to be set on a copy of a slice from a DataFrame\n",
      "\n",
      "See the caveats in the documentation: https://pandas.pydata.org/pandas-docs/stable/user_guide/indexing.html#returning-a-view-versus-a-copy\n",
      "  df.group[idx] = 'pae'\n"
     ]
    }
   ],
   "source": [
    "# add group\n",
    "control=('RH13','RH14','LS21','LS23','LE2821','LE2823','LEM3116','LEM3120','LEM3216')\n",
    "pae=('RH11','RH16','LS17','LS19','LE2813','LEM3124','LEM3206','LEM3246')\n",
    "\n",
    "df['group'] = np.ones_like(df.session)\n",
    "\n",
    "regstr = '|'.join(control)\n",
    "idx = df['session'].str.upper().str.contains(regstr)    \n",
    "df.group[idx] = 'control'\n",
    "\n",
    "regstr = '|'.join(pae)\n",
    "idx = df['session'].str.upper().str.contains(regstr)    \n",
    "df.group[idx] = 'pae'"
   ]
  },
  {
   "cell_type": "markdown",
   "metadata": {},
   "source": [
    "### add rat id"
   ]
  },
  {
   "cell_type": "code",
   "execution_count": 158,
   "metadata": {},
   "outputs": [],
   "source": [
    "rat = [s.split('_')[0] for s in df.session]\n",
    "df['rat']=rat"
   ]
  },
  {
   "cell_type": "markdown",
   "metadata": {},
   "source": [
    "### Add area"
   ]
  },
  {
   "cell_type": "code",
   "execution_count": null,
   "metadata": {},
   "outputs": [],
   "source": [
    "# def get_area(df,df_all_cells):\n",
    "#     areas = []\n",
    "#     for ripple in df.itertuples():\n",
    "#         idx = np.where(ripple.session+'.mat' == df_all_cells.session)[0][0]\n",
    "#         areas.append(df_all_cells.area.iloc[idx])\n",
    "\n",
    "#     df['area'] = areas\n",
    "#     return df\n",
    "\n",
    "# df_all_cells = pd.read_csv(r'D:\\ryanh\\github\\harvey_et_al_2020\\Rdata_pae_track_cylinder_all_cells.csv')\n",
    "# df = get_area(df,df_all_cells)\n",
    "# df"
   ]
  },
  {
   "cell_type": "markdown",
   "metadata": {},
   "source": [
    "# Save data frame"
   ]
  },
  {
   "cell_type": "code",
   "execution_count": 160,
   "metadata": {},
   "outputs": [],
   "source": [
    "os.mkdir(save_path+'post_processed')\n",
    "df.to_csv(save_path+'post_processed/mua_df.csv')"
   ]
  },
  {
   "cell_type": "markdown",
   "metadata": {},
   "source": [
    "## below are sections to test the above sections"
   ]
  },
  {
   "cell_type": "code",
   "execution_count": 25,
   "metadata": {},
   "outputs": [],
   "source": [
    "data_path = 'F:\\\\Projects\\\\PAE_PlaceCell\\\\ProcessedData\\\\'\n",
    "save_path = \"F:/Projects/PAE_PlaceCell/analysis/multiunit_data/\"\n",
    "if not os.path.exists(save_path):\n",
    "    os.mkdir(save_path)\n",
    "\n",
    "df_sessions = pd.read_csv('D:/ryanh/github/harvey_et_al_2020/Rdata_pae_track_cylinder_all_cells.csv')\n",
    "sessions = pd.unique(df_sessions.session)\n",
    "sessions = data_path+sessions\n",
    "\n",
    "# session = sessions[10]\n",
    "session = data_path+'LEM3124_S20190307132509.mat'\n",
    "\n",
    "# get data session path from mat file\n",
    "# path = get_session_path(session)\n",
    "\n",
    "# load position data from .mat file\n",
    "df = load_position(session)\n",
    "\n",
    "spike_times = get_spikes(session)\n",
    "\n",
    "# # get place cells\n",
    "# include = get_place_cell_idx(session)"
   ]
  },
  {
   "cell_type": "code",
   "execution_count": null,
   "metadata": {},
   "outputs": [],
   "source": [
    "df_sessions = pd.read_csv('D:/ryanh/github/harvey_et_al_2020/Rdata_pae_track_cylinder_all_cells.csv')\n",
    "sessions = pd.unique(df_sessions.session)\n",
    "sessions = data_path+sessions\n",
    "\n"
   ]
  },
  {
   "cell_type": "code",
   "execution_count": 113,
   "metadata": {},
   "outputs": [
    {
     "data": {
      "text/plain": [
       "2065    ca1\n",
       "2066    ca1\n",
       "2067    ca1\n",
       "2068    ca1\n",
       "2069    ca1\n",
       "       ... \n",
       "2137    ca3\n",
       "2138    ca3\n",
       "2139    ca3\n",
       "2140    ca1\n",
       "2141    ca1\n",
       "Name: area, Length: 77, dtype: object"
      ]
     },
     "execution_count": 113,
     "metadata": {},
     "output_type": "execute_result"
    }
   ],
   "source": [
    "cell_list = pd.read_csv(r'F:\\Projects\\PAE_PlaceCell\\analysis\\cell_list.csv')\n",
    "session = data_path+'LEM3124_S20190307132509.mat'\n",
    "\n",
    "cell_list.area[cell_list.session == os.path.split(session)[-1].strip(\".mat\")]\n",
    "\n",
    "# x = txt.strip(\".mat\")\n",
    "# cell_area_label = \n",
    "# pd.unique(df_sessions.tt[df_sessions.session == 'LEM3124_S20190307132509.mat'])\n",
    "# cell_list[cell_list.session == 'LEM3124_S20190307132509']\n",
    "# pd.unique(cell_list.area[cell_list.session == 'LEM3124_S20190307132509'])\n",
    "# np.sum(cell_list.area[cell_list.session == 'LEM3124_S20190307132509'] == 'ca1')\n",
    "# np.sum(cell_list.area[cell_list.session == 'LEM3124_S20190307132509'] == 'ca3')\n",
    "\n",
    "# spike_times.shape\n",
    "# areas = []\n",
    "# for session in pd.unique(cell_list.session):\n",
    "#     idx = cell_list.session == session\n",
    "#     areas.append([session,pd.unique(cell_list.area[idx])])\n",
    "# areas "
   ]
  },
  {
   "cell_type": "code",
   "execution_count": 150,
   "metadata": {},
   "outputs": [],
   "source": [
    "from scipy.ndimage import gaussian_filter1d\n",
    "import itertools\n",
    "\n",
    "dt = 0.001\n",
    "\n",
    "# bin spikes into single vector\n",
    "st = list(itertools.chain.from_iterable(spike_times))\n",
    "multiunit, _ = np.histogram(st,bins=np.arange(0, max(st), dt))\n",
    "\n",
    "# timestamps for binned spikes\n",
    "ts = np.arange(0 + dt/2, max(st) - dt/2, dt)\n",
    "\n",
    "# interp speed of the animal\n",
    "speed = np.interp(ts,df.ts,df.speed)\n",
    "speed[np.isnan(speed)] = 0\n",
    "\n",
    "# detect ripples\n",
    "high_synchrony_event_times = multiunit_HSE_detector(ts, np.expand_dims(multiunit, axis=1), speed, 1/dt)\n",
    "firing_rate = get_multiunit_population_firing_rate(np.expand_dims(multiunit, axis=1), 1/dt, 0.015)\n",
    "\n",
    "high_synchrony_event_times\n",
    "\n",
    "\n",
    "def get_n_events(dt,smoothing_sigma=0.015):\n",
    "\n",
    "    st = list(itertools.chain.from_iterable(spike_times))\n",
    "    multiunit, _ = np.histogram(st,bins=np.arange(min(df.ts), max(df.ts), dt))\n",
    "\n",
    "    ts = np.arange(min(df.ts) + dt/2, max(df.ts) - dt/2, dt)\n",
    "\n",
    "    # interp speed of the animal\n",
    "    speed = np.interp(ts,df.ts,df.speed)\n",
    "    speed[np.isnan(speed)] = 0\n",
    "\n",
    "    # detect ripples\n",
    "    high_synchrony_event_times = multiunit_HSE_detector(ts, np.expand_dims(multiunit, axis=1), speed, 1/dt, smoothing_sigma=0.015)\n",
    "\n",
    "    return len(high_synchrony_event_times)\n",
    "\n",
    "# lengths = [get_n_events(dt) for dt in np.arange(.001,.100,.001)]\n",
    "# # lengths = []\n",
    "# # for dt in np.arange(.001,.02,.001):\n",
    "# #     for ss in np.arange(0,.05,.01):\n",
    "# #         lengths.append(get_n_events(dt,smoothing_sigma=ss))\n",
    "\n",
    "# plt.plot(np.arange(.001,.100,.001),lengths)\n",
    "# plt.show()\n",
    "# print(np.arange(.001,.100,.001)[np.argmax(lengths)])"
   ]
  },
  {
   "cell_type": "code",
   "execution_count": 153,
   "metadata": {},
   "outputs": [
    {
     "data": {
      "text/plain": [
       "Text(0.5, 0, 'time')"
      ]
     },
     "execution_count": 153,
     "metadata": {},
     "output_type": "execute_result"
    },
    {
     "data": {
      "image/png": "[encoded data removed]",
      "text/plain": [
       "<Figure size 1080x720 with 3 Axes>"
      ]
     },
     "metadata": {
      "needs_background": "light"
     },
     "output_type": "display_data"
    }
   ],
   "source": [
    "fig, ax = plt.subplots(3,1,figsize=(15, 10))\n",
    "\n",
    "xlims = [50,60]\n",
    "\n",
    "ax[0].eventplot(spike_times,color='k')\n",
    "ax[0].set_ylabel('cells')\n",
    "for ripple in high_synchrony_event_times.itertuples():\n",
    "    ax[0].axvspan(ripple.start_time, ripple.end_time, alpha=0.3, color='red', zorder=10)\n",
    "ax[0].set_xlim(xlims[0],xlims[1]) \n",
    "\n",
    "# ts = np.arange(t_start + dt/2, t_end - dt/2, dt)\n",
    "# ax[1].plot(ts,multiunit,color='k')\n",
    "ax[1].plot(ts,firing_rate,color='k')\n",
    "ax[1].set_ylabel('multiunit activity')\n",
    "for ripple in high_synchrony_event_times.itertuples():\n",
    "    ax[1].axvspan(ripple.start_time, ripple.end_time, alpha=0.3, color='red', zorder=10)\n",
    "ax[1].set_xlim(xlims[0],xlims[1]) \n",
    "\n",
    "ax[2].plot(ts,speed,color='k')\n",
    "ax[2].set_ylabel('speed')\n",
    "for ripple in high_synchrony_event_times.itertuples():\n",
    "    ax[2].axvspan(ripple.start_time, ripple.end_time, alpha=0.3, color='red', zorder=10)\n",
    "ax[2].set_xlim(xlims[0],xlims[1]) \n",
    "ax[2].set_ylim(0,100) \n",
    "ax[2].set_xlabel('time')"
   ]
  }
 ],
 "metadata": {
  "kernelspec": {
   "display_name": "Python 3",
   "language": "python",
   "name": "python3"
  },
  "language_info": {
   "codemirror_mode": {
    "name": "ipython",
    "version": 3
   },
   "file_extension": ".py",
   "mimetype": "text/x-python",
   "name": "python",
   "nbconvert_exporter": "python",
   "pygments_lexer": "ipython3",
   "version": "3.8.5"
  }
 },
 "nbformat": 4,
 "nbformat_minor": 4
}
