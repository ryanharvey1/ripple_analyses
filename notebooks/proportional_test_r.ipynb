{
 "cells": [
  {
   "cell_type": "code",
   "execution_count": 1,
   "metadata": {},
   "outputs": [
    {
     "name": "stderr",
     "output_type": "stream",
     "text": [
      "Warning message:\n",
      "\"package 'tidyverse' was built under R version 3.6.3\"-- Attaching packages ------------------------------------------------------------------------------- tidyverse 1.3.0 --\n",
      "v ggplot2 3.3.3     v purrr   0.3.4\n",
      "v tibble  3.0.4     v dplyr   1.0.2\n",
      "v tidyr   1.1.2     v stringr 1.4.0\n",
      "v readr   1.3.1     v forcats 0.4.0\n",
      "Warning message:\n",
      "\"package 'ggplot2' was built under R version 3.6.3\"Warning message:\n",
      "\"package 'tibble' was built under R version 3.6.3\"Warning message:\n",
      "\"package 'tidyr' was built under R version 3.6.3\"Warning message:\n",
      "\"package 'purrr' was built under R version 3.6.3\"Warning message:\n",
      "\"package 'dplyr' was built under R version 3.6.3\"-- Conflicts ---------------------------------------------------------------------------------- tidyverse_conflicts() --\n",
      "x dplyr::filter() masks stats::filter()\n",
      "x dplyr::lag()    masks stats::lag()\n",
      "Warning message:\n",
      "\"package 'lme4' was built under R version 3.6.3\"Loading required package: Matrix\n",
      "\n",
      "Attaching package: 'Matrix'\n",
      "\n",
      "The following objects are masked from 'package:tidyr':\n",
      "\n",
      "    expand, pack, unpack\n",
      "\n",
      "Warning message:\n",
      "\"package 'lmerTest' was built under R version 3.6.3\"\n",
      "Attaching package: 'lmerTest'\n",
      "\n",
      "The following object is masked from 'package:lme4':\n",
      "\n",
      "    lmer\n",
      "\n",
      "The following object is masked from 'package:stats':\n",
      "\n",
      "    step\n",
      "\n"
     ]
    }
   ],
   "source": [
    "library(tidyverse)\n",
    "library(lme4)\n",
    "library(lmerTest)"
   ]
  },
  {
   "cell_type": "code",
   "execution_count": 71,
   "metadata": {},
   "outputs": [
    {
     "data": {
      "text/plain": [
       "       X            n_pyr        n_pyr_pass       n_int        n_int_pass    \n",
       " Min.   : 0.0   Min.   : 4.0   Min.   : 0.0   Min.   : 0.0   Min.   : 0.000  \n",
       " 1st Qu.:23.5   1st Qu.:24.0   1st Qu.: 4.0   1st Qu.: 9.5   1st Qu.: 1.000  \n",
       " Median :47.0   Median :36.0   Median : 8.0   Median :17.0   Median : 2.000  \n",
       " Mean   :47.0   Mean   :38.6   Mean   :12.8   Mean   :17.4   Mean   : 4.158  \n",
       " 3rd Qu.:70.5   3rd Qu.:49.5   3rd Qu.:18.0   3rd Qu.:26.0   3rd Qu.: 5.000  \n",
       " Max.   :94.0   Max.   :92.0   Max.   :78.0   Max.   :45.0   Max.   :21.000  \n",
       "                                                                             \n",
       "  area                       session       group         rat    \n",
       " ca1:27   LEM3124_S20190307163732: 2   control:33   LEM3124:28  \n",
       " ca3:68   LEM3124_S20190309145324: 2   pae    :62   LEM3216:21  \n",
       "          LEM3124_S20190315160017: 2                LEM3246:17  \n",
       "          LEM3124_S20190319154019: 2                LEM3206:15  \n",
       "          LEM3124_S20190322123145: 2                LEM3116: 9  \n",
       "          LEM3124_S20190325164111: 2                LEM3120: 2  \n",
       "          (Other)                :83                (Other): 3  "
      ]
     },
     "metadata": {},
     "output_type": "display_data"
    }
   ],
   "source": [
    "data <- read.csv('F:/Projects/PAE_PlaceCell/analysis/ripple_modulation/post_processed/df_prop.csv')\n",
    "summary(data)"
   ]
  },
  {
   "cell_type": "code",
   "execution_count": 72,
   "metadata": {},
   "outputs": [],
   "source": [
    "data$groupup = factor(data$group, levels=c('control', 'pae'))\n",
    "data$rat = factor(data$rat)\n",
    "data$session = factor(data$session)\n",
    "data$area = factor(data$area, levels=c('ca1', 'ca3'))"
   ]
  },
  {
   "cell_type": "code",
   "execution_count": 73,
   "metadata": {},
   "outputs": [
    {
     "data": {
      "text/plain": [
       ", , area = ca1\n",
       "\n",
       "         rat\n",
       "group     LEM3116 LEM3120 LEM3124 LEM3206 LEM3216 LEM3246 LS19 LS23\n",
       "  control       2       1       0       0       5       0    0    1\n",
       "  pae           0       0      16       0       0       0    2    0\n",
       "\n",
       ", , area = ca3\n",
       "\n",
       "         rat\n",
       "group     LEM3116 LEM3120 LEM3124 LEM3206 LEM3216 LEM3246 LS19 LS23\n",
       "  control       7       1       0       0      16       0    0    0\n",
       "  pae           0       0      12      15       0      17    0    0\n"
      ]
     },
     "metadata": {},
     "output_type": "display_data"
    }
   ],
   "source": [
    "xtabs(~group+rat+area,data=data)"
   ]
  },
  {
   "cell_type": "code",
   "execution_count": 46,
   "metadata": {},
   "outputs": [
    {
     "data": {
      "text/html": [
       "<table>\n",
       "<thead><tr><th scope=col>X</th><th scope=col>n_pyr</th><th scope=col>n_pyr_pass</th><th scope=col>n_int</th><th scope=col>n_int_pass</th><th scope=col>area</th><th scope=col>session</th><th scope=col>group</th><th scope=col>rat</th><th scope=col>groupup</th></tr></thead>\n",
       "<tbody>\n",
       "\t<tr><td> 0                     </td><td>83                     </td><td>56                     </td><td>24                     </td><td>16                     </td><td>ca1                    </td><td>LEM3116_S20180717110938</td><td>control                </td><td>LEM3116                </td><td>control                </td></tr>\n",
       "\t<tr><td> 1                     </td><td>20                     </td><td> 6                     </td><td> 0                     </td><td> 0                     </td><td>ca1                    </td><td>LEM3116_S20180718184628</td><td>control                </td><td>LEM3116                </td><td>control                </td></tr>\n",
       "\t<tr><td> 2                     </td><td>51                     </td><td>10                     </td><td> 8                     </td><td> 0                     </td><td>ca3                    </td><td>LEM3116_S20180802100324</td><td>control                </td><td>LEM3116                </td><td>control                </td></tr>\n",
       "\t<tr><td> 3                     </td><td>51                     </td><td> 8                     </td><td>11                     </td><td> 0                     </td><td>ca3                    </td><td>LEM3116_S20180803103321</td><td>control                </td><td>LEM3116                </td><td>control                </td></tr>\n",
       "\t<tr><td> 4                     </td><td>55                     </td><td>13                     </td><td>18                     </td><td> 1                     </td><td>ca3                    </td><td>LEM3116_S20180806104145</td><td>control                </td><td>LEM3116                </td><td>control                </td></tr>\n",
       "\t<tr><td> 5                     </td><td>48                     </td><td>10                     </td><td>12                     </td><td> 1                     </td><td>ca3                    </td><td>LEM3116_S20180807105247</td><td>control                </td><td>LEM3116                </td><td>control                </td></tr>\n",
       "\t<tr><td> 6                     </td><td>69                     </td><td> 6                     </td><td>15                     </td><td> 0                     </td><td>ca3                    </td><td>LEM3116_S20180808160117</td><td>control                </td><td>LEM3116                </td><td>control                </td></tr>\n",
       "\t<tr><td> 7                     </td><td>63                     </td><td>19                     </td><td>21                     </td><td> 3                     </td><td>ca3                    </td><td>LEM3116_S20180814141527</td><td>control                </td><td>LEM3116                </td><td>control                </td></tr>\n",
       "\t<tr><td> 8                     </td><td>66                     </td><td>26                     </td><td>16                     </td><td> 6                     </td><td>ca3                    </td><td>LEM3116_S20180817153256</td><td>control                </td><td>LEM3116                </td><td>control                </td></tr>\n",
       "\t<tr><td> 9                     </td><td>40                     </td><td>31                     </td><td>17                     </td><td> 6                     </td><td>ca1                    </td><td>LEM3120_S20181007151036</td><td>control                </td><td>LEM3120                </td><td>control                </td></tr>\n",
       "\t<tr><td>10                     </td><td>35                     </td><td>10                     </td><td>17                     </td><td> 1                     </td><td>ca3                    </td><td>LEM3120_S20181108144159</td><td>control                </td><td>LEM3120                </td><td>control                </td></tr>\n",
       "\t<tr><td>11                     </td><td>48                     </td><td> 8                     </td><td> 9                     </td><td> 0                     </td><td>ca1                    </td><td>LEM3124_S20190226101957</td><td>pae                    </td><td>LEM3124                </td><td>pae                    </td></tr>\n",
       "\t<tr><td>12                     </td><td>46                     </td><td>10                     </td><td> 7                     </td><td> 2                     </td><td>ca1                    </td><td>LEM3124_S20190301133246</td><td>pae                    </td><td>LEM3124                </td><td>pae                    </td></tr>\n",
       "\t<tr><td>13                     </td><td>92                     </td><td>25                     </td><td>42                     </td><td>21                     </td><td>ca1                    </td><td>LEM3124_S20190302163218</td><td>pae                    </td><td>LEM3124                </td><td>pae                    </td></tr>\n",
       "\t<tr><td>14                     </td><td>52                     </td><td>16                     </td><td>30                     </td><td> 4                     </td><td>ca1                    </td><td>LEM3124_S20190305105641</td><td>pae                    </td><td>LEM3124                </td><td>pae                    </td></tr>\n",
       "\t<tr><td>15                     </td><td>31                     </td><td> 1                     </td><td>11                     </td><td> 1                     </td><td>ca1                    </td><td>LEM3124_S20190307163732</td><td>pae                    </td><td>LEM3124                </td><td>pae                    </td></tr>\n",
       "\t<tr><td>16                     </td><td>31                     </td><td> 1                     </td><td>11                     </td><td> 1                     </td><td>ca3                    </td><td>LEM3124_S20190307163732</td><td>pae                    </td><td>LEM3124                </td><td>pae                    </td></tr>\n",
       "\t<tr><td>17                     </td><td>36                     </td><td> 0                     </td><td>30                     </td><td> 5                     </td><td>ca1                    </td><td>LEM3124_S20190309145324</td><td>pae                    </td><td>LEM3124                </td><td>pae                    </td></tr>\n",
       "\t<tr><td>18                     </td><td>36                     </td><td> 0                     </td><td>30                     </td><td> 5                     </td><td>ca3                    </td><td>LEM3124_S20190309145324</td><td>pae                    </td><td>LEM3124                </td><td>pae                    </td></tr>\n",
       "\t<tr><td>19                     </td><td>24                     </td><td> 3                     </td><td>30                     </td><td> 0                     </td><td>ca1                    </td><td>LEM3124_S20190315160017</td><td>pae                    </td><td>LEM3124                </td><td>pae                    </td></tr>\n",
       "\t<tr><td>20                     </td><td>24                     </td><td> 3                     </td><td>30                     </td><td> 0                     </td><td>ca3                    </td><td>LEM3124_S20190315160017</td><td>pae                    </td><td>LEM3124                </td><td>pae                    </td></tr>\n",
       "\t<tr><td>21                     </td><td>29                     </td><td> 4                     </td><td>23                     </td><td> 3                     </td><td>ca1                    </td><td>LEM3124_S20190319154019</td><td>pae                    </td><td>LEM3124                </td><td>pae                    </td></tr>\n",
       "\t<tr><td>22                     </td><td>29                     </td><td> 4                     </td><td>23                     </td><td> 3                     </td><td>ca3                    </td><td>LEM3124_S20190319154019</td><td>pae                    </td><td>LEM3124                </td><td>pae                    </td></tr>\n",
       "\t<tr><td>23                     </td><td>47                     </td><td> 3                     </td><td>32                     </td><td> 2                     </td><td>ca1                    </td><td>LEM3124_S20190322123145</td><td>pae                    </td><td>LEM3124                </td><td>pae                    </td></tr>\n",
       "\t<tr><td>24                     </td><td>47                     </td><td> 3                     </td><td>32                     </td><td> 2                     </td><td>ca3                    </td><td>LEM3124_S20190322123145</td><td>pae                    </td><td>LEM3124                </td><td>pae                    </td></tr>\n",
       "\t<tr><td>25                     </td><td>32                     </td><td> 5                     </td><td>18                     </td><td> 4                     </td><td>ca1                    </td><td>LEM3124_S20190325164111</td><td>pae                    </td><td>LEM3124                </td><td>pae                    </td></tr>\n",
       "\t<tr><td>26                     </td><td>32                     </td><td> 5                     </td><td>18                     </td><td> 4                     </td><td>ca3                    </td><td>LEM3124_S20190325164111</td><td>pae                    </td><td>LEM3124                </td><td>pae                    </td></tr>\n",
       "\t<tr><td>27                     </td><td>36                     </td><td> 2                     </td><td>17                     </td><td> 1                     </td><td>ca1                    </td><td>LEM3124_S20190326160632</td><td>pae                    </td><td>LEM3124                </td><td>pae                    </td></tr>\n",
       "\t<tr><td>28                     </td><td>36                     </td><td> 2                     </td><td>17                     </td><td> 1                     </td><td>ca3                    </td><td>LEM3124_S20190326160632</td><td>pae                    </td><td>LEM3124                </td><td>pae                    </td></tr>\n",
       "\t<tr><td>29                     </td><td>40                     </td><td> 1                     </td><td>16                     </td><td> 2                     </td><td>ca1                    </td><td>LEM3124_S20190327204851</td><td>pae                    </td><td>LEM3124                </td><td>pae                    </td></tr>\n",
       "\t<tr><td>...</td><td>...</td><td>...</td><td>...</td><td>...</td><td>...</td><td>...</td><td>...</td><td>...</td><td>...</td></tr>\n",
       "\t<tr><td>65                     </td><td>31                     </td><td>16                     </td><td> 1                     </td><td> 0                     </td><td>ca3                    </td><td>LEM3216_S20190807145112</td><td>control                </td><td>LEM3216                </td><td>control                </td></tr>\n",
       "\t<tr><td>66                     </td><td>30                     </td><td>20                     </td><td> 0                     </td><td> 0                     </td><td>ca3                    </td><td>LEM3216_S20190808101926</td><td>control                </td><td>LEM3216                </td><td>control                </td></tr>\n",
       "\t<tr><td>67                     </td><td>27                     </td><td>18                     </td><td> 1                     </td><td> 1                     </td><td>ca3                    </td><td>LEM3216_S20190808141648</td><td>control                </td><td>LEM3216                </td><td>control                </td></tr>\n",
       "\t<tr><td>68                     </td><td>20                     </td><td>15                     </td><td> 0                     </td><td> 0                     </td><td>ca3                    </td><td>LEM3216_S20190809140023</td><td>control                </td><td>LEM3216                </td><td>control                </td></tr>\n",
       "\t<tr><td>69                     </td><td>23                     </td><td>22                     </td><td> 1                     </td><td> 0                     </td><td>ca3                    </td><td>LEM3216_S20190810172326</td><td>control                </td><td>LEM3216                </td><td>control                </td></tr>\n",
       "\t<tr><td>70                     </td><td>27                     </td><td>20                     </td><td> 0                     </td><td> 0                     </td><td>ca3                    </td><td>LEM3216_S20190812175606</td><td>control                </td><td>LEM3216                </td><td>control                </td></tr>\n",
       "\t<tr><td>71                     </td><td>32                     </td><td>25                     </td><td> 2                     </td><td> 2                     </td><td>ca3                    </td><td>LEM3216_S20190813135257</td><td>control                </td><td>LEM3216                </td><td>control                </td></tr>\n",
       "\t<tr><td>72                     </td><td>27                     </td><td>17                     </td><td> 1                     </td><td> 1                     </td><td>ca3                    </td><td>LEM3216_S20190814123043</td><td>control                </td><td>LEM3216                </td><td>control                </td></tr>\n",
       "\t<tr><td>73                     </td><td>20                     </td><td>15                     </td><td> 3                     </td><td> 3                     </td><td>ca3                    </td><td>LEM3216_S20190814172812</td><td>control                </td><td>LEM3216                </td><td>control                </td></tr>\n",
       "\t<tr><td>74                     </td><td>15                     </td><td> 5                     </td><td> 2                     </td><td> 1                     </td><td>ca3                    </td><td>LEM3216_S20190815182509</td><td>control                </td><td>LEM3216                </td><td>control                </td></tr>\n",
       "\t<tr><td>75                     </td><td>28                     </td><td>18                     </td><td>28                     </td><td>15                     </td><td>ca3                    </td><td>LEM3246_S20190629164240</td><td>pae                    </td><td>LEM3246                </td><td>pae                    </td></tr>\n",
       "\t<tr><td>76                     </td><td>29                     </td><td>25                     </td><td>26                     </td><td>14                     </td><td>ca3                    </td><td>LEM3246_S20190701153855</td><td>pae                    </td><td>LEM3246                </td><td>pae                    </td></tr>\n",
       "\t<tr><td>77                     </td><td>38                     </td><td>22                     </td><td>14                     </td><td> 5                     </td><td>ca3                    </td><td>LEM3246_S20190702103544</td><td>pae                    </td><td>LEM3246                </td><td>pae                    </td></tr>\n",
       "\t<tr><td>78                     </td><td>36                     </td><td>17                     </td><td> 5                     </td><td> 1                     </td><td>ca3                    </td><td>LEM3246_S20190703165826</td><td>pae                    </td><td>LEM3246                </td><td>pae                    </td></tr>\n",
       "\t<tr><td>79                     </td><td>44                     </td><td>27                     </td><td>31                     </td><td>16                     </td><td>ca3                    </td><td>LEM3246_S20190706150556</td><td>pae                    </td><td>LEM3246                </td><td>pae                    </td></tr>\n",
       "\t<tr><td>80                     </td><td>46                     </td><td> 5                     </td><td>21                     </td><td> 5                     </td><td>ca3                    </td><td>LEM3246_S20190709143146</td><td>pae                    </td><td>LEM3246                </td><td>pae                    </td></tr>\n",
       "\t<tr><td>81                     </td><td>32                     </td><td> 8                     </td><td>17                     </td><td> 6                     </td><td>ca3                    </td><td>LEM3246_S20190712170007</td><td>pae                    </td><td>LEM3246                </td><td>pae                    </td></tr>\n",
       "\t<tr><td>82                     </td><td>42                     </td><td> 8                     </td><td>26                     </td><td> 8                     </td><td>ca3                    </td><td>LEM3246_S20190714113704</td><td>pae                    </td><td>LEM3246                </td><td>pae                    </td></tr>\n",
       "\t<tr><td>83                     </td><td>37                     </td><td> 5                     </td><td>25                     </td><td> 1                     </td><td>ca3                    </td><td>LEM3246_S20190715190235</td><td>pae                    </td><td>LEM3246                </td><td>pae                    </td></tr>\n",
       "\t<tr><td>84                     </td><td>28                     </td><td> 4                     </td><td>22                     </td><td> 1                     </td><td>ca3                    </td><td>LEM3246_S20190717115825</td><td>pae                    </td><td>LEM3246                </td><td>pae                    </td></tr>\n",
       "\t<tr><td>85                     </td><td>20                     </td><td> 3                     </td><td>25                     </td><td> 2                     </td><td>ca3                    </td><td>LEM3246_S20190720111537</td><td>pae                    </td><td>LEM3246                </td><td>pae                    </td></tr>\n",
       "\t<tr><td>86                     </td><td>13                     </td><td> 4                     </td><td> 8                     </td><td> 5                     </td><td>ca3                    </td><td>LEM3246_S20190723113815</td><td>pae                    </td><td>LEM3246                </td><td>pae                    </td></tr>\n",
       "\t<tr><td>87                     </td><td>10                     </td><td> 3                     </td><td>15                     </td><td> 6                     </td><td>ca3                    </td><td>LEM3246_S20190725114415</td><td>pae                    </td><td>LEM3246                </td><td>pae                    </td></tr>\n",
       "\t<tr><td>88                     </td><td>19                     </td><td> 7                     </td><td>25                     </td><td> 5                     </td><td>ca3                    </td><td>LEM3246_S20190729172642</td><td>pae                    </td><td>LEM3246                </td><td>pae                    </td></tr>\n",
       "\t<tr><td>89                     </td><td>19                     </td><td> 6                     </td><td>20                     </td><td> 3                     </td><td>ca3                    </td><td>LEM3246_S20190802143700</td><td>pae                    </td><td>LEM3246                </td><td>pae                    </td></tr>\n",
       "\t<tr><td>90                     </td><td>12                     </td><td> 7                     </td><td>10                     </td><td> 2                     </td><td>ca3                    </td><td>LEM3246_S20190807163403</td><td>pae                    </td><td>LEM3246                </td><td>pae                    </td></tr>\n",
       "\t<tr><td>91                     </td><td>17                     </td><td> 4                     </td><td>17                     </td><td> 2                     </td><td>ca3                    </td><td>LEM3246_S20190808162933</td><td>pae                    </td><td>LEM3246                </td><td>pae                    </td></tr>\n",
       "\t<tr><td>92                     </td><td>29                     </td><td>11                     </td><td>20                     </td><td> 0                     </td><td>ca1                    </td><td>LS19_S20170508130713   </td><td>pae                    </td><td>LS19                   </td><td>pae                    </td></tr>\n",
       "\t<tr><td>93                     </td><td>41                     </td><td>11                     </td><td>11                     </td><td> 1                     </td><td>ca1                    </td><td>LS19_S20170515215901   </td><td>pae                    </td><td>LS19                   </td><td>pae                    </td></tr>\n",
       "\t<tr><td>94                     </td><td> 7                     </td><td> 1                     </td><td> 1                     </td><td> 0                     </td><td>ca1                    </td><td>LS23_S20170502130551   </td><td>control                </td><td>LS23                   </td><td>control                </td></tr>\n",
       "</tbody>\n",
       "</table>\n"
      ],
      "text/latex": [
       "\\begin{tabular}{r|llllllllll}\n",
       " X & n\\_pyr & n\\_pyr\\_pass & n\\_int & n\\_int\\_pass & area & session & group & rat & groupup\\\\\n",
       "\\hline\n",
       "\t  0                        & 83                        & 56                        & 24                        & 16                        & ca1                       & LEM3116\\_S20180717110938 & control                   & LEM3116                   & control                  \\\\\n",
       "\t  1                        & 20                        &  6                        &  0                        &  0                        & ca1                       & LEM3116\\_S20180718184628 & control                   & LEM3116                   & control                  \\\\\n",
       "\t  2                        & 51                        & 10                        &  8                        &  0                        & ca3                       & LEM3116\\_S20180802100324 & control                   & LEM3116                   & control                  \\\\\n",
       "\t  3                        & 51                        &  8                        & 11                        &  0                        & ca3                       & LEM3116\\_S20180803103321 & control                   & LEM3116                   & control                  \\\\\n",
       "\t  4                        & 55                        & 13                        & 18                        &  1                        & ca3                       & LEM3116\\_S20180806104145 & control                   & LEM3116                   & control                  \\\\\n",
       "\t  5                        & 48                        & 10                        & 12                        &  1                        & ca3                       & LEM3116\\_S20180807105247 & control                   & LEM3116                   & control                  \\\\\n",
       "\t  6                        & 69                        &  6                        & 15                        &  0                        & ca3                       & LEM3116\\_S20180808160117 & control                   & LEM3116                   & control                  \\\\\n",
       "\t  7                        & 63                        & 19                        & 21                        &  3                        & ca3                       & LEM3116\\_S20180814141527 & control                   & LEM3116                   & control                  \\\\\n",
       "\t  8                        & 66                        & 26                        & 16                        &  6                        & ca3                       & LEM3116\\_S20180817153256 & control                   & LEM3116                   & control                  \\\\\n",
       "\t  9                        & 40                        & 31                        & 17                        &  6                        & ca1                       & LEM3120\\_S20181007151036 & control                   & LEM3120                   & control                  \\\\\n",
       "\t 10                        & 35                        & 10                        & 17                        &  1                        & ca3                       & LEM3120\\_S20181108144159 & control                   & LEM3120                   & control                  \\\\\n",
       "\t 11                        & 48                        &  8                        &  9                        &  0                        & ca1                       & LEM3124\\_S20190226101957 & pae                       & LEM3124                   & pae                      \\\\\n",
       "\t 12                        & 46                        & 10                        &  7                        &  2                        & ca1                       & LEM3124\\_S20190301133246 & pae                       & LEM3124                   & pae                      \\\\\n",
       "\t 13                        & 92                        & 25                        & 42                        & 21                        & ca1                       & LEM3124\\_S20190302163218 & pae                       & LEM3124                   & pae                      \\\\\n",
       "\t 14                        & 52                        & 16                        & 30                        &  4                        & ca1                       & LEM3124\\_S20190305105641 & pae                       & LEM3124                   & pae                      \\\\\n",
       "\t 15                        & 31                        &  1                        & 11                        &  1                        & ca1                       & LEM3124\\_S20190307163732 & pae                       & LEM3124                   & pae                      \\\\\n",
       "\t 16                        & 31                        &  1                        & 11                        &  1                        & ca3                       & LEM3124\\_S20190307163732 & pae                       & LEM3124                   & pae                      \\\\\n",
       "\t 17                        & 36                        &  0                        & 30                        &  5                        & ca1                       & LEM3124\\_S20190309145324 & pae                       & LEM3124                   & pae                      \\\\\n",
       "\t 18                        & 36                        &  0                        & 30                        &  5                        & ca3                       & LEM3124\\_S20190309145324 & pae                       & LEM3124                   & pae                      \\\\\n",
       "\t 19                        & 24                        &  3                        & 30                        &  0                        & ca1                       & LEM3124\\_S20190315160017 & pae                       & LEM3124                   & pae                      \\\\\n",
       "\t 20                        & 24                        &  3                        & 30                        &  0                        & ca3                       & LEM3124\\_S20190315160017 & pae                       & LEM3124                   & pae                      \\\\\n",
       "\t 21                        & 29                        &  4                        & 23                        &  3                        & ca1                       & LEM3124\\_S20190319154019 & pae                       & LEM3124                   & pae                      \\\\\n",
       "\t 22                        & 29                        &  4                        & 23                        &  3                        & ca3                       & LEM3124\\_S20190319154019 & pae                       & LEM3124                   & pae                      \\\\\n",
       "\t 23                        & 47                        &  3                        & 32                        &  2                        & ca1                       & LEM3124\\_S20190322123145 & pae                       & LEM3124                   & pae                      \\\\\n",
       "\t 24                        & 47                        &  3                        & 32                        &  2                        & ca3                       & LEM3124\\_S20190322123145 & pae                       & LEM3124                   & pae                      \\\\\n",
       "\t 25                        & 32                        &  5                        & 18                        &  4                        & ca1                       & LEM3124\\_S20190325164111 & pae                       & LEM3124                   & pae                      \\\\\n",
       "\t 26                        & 32                        &  5                        & 18                        &  4                        & ca3                       & LEM3124\\_S20190325164111 & pae                       & LEM3124                   & pae                      \\\\\n",
       "\t 27                        & 36                        &  2                        & 17                        &  1                        & ca1                       & LEM3124\\_S20190326160632 & pae                       & LEM3124                   & pae                      \\\\\n",
       "\t 28                        & 36                        &  2                        & 17                        &  1                        & ca3                       & LEM3124\\_S20190326160632 & pae                       & LEM3124                   & pae                      \\\\\n",
       "\t 29                        & 40                        &  1                        & 16                        &  2                        & ca1                       & LEM3124\\_S20190327204851 & pae                       & LEM3124                   & pae                      \\\\\n",
       "\t ... & ... & ... & ... & ... & ... & ... & ... & ... & ...\\\\\n",
       "\t 65                        & 31                        & 16                        &  1                        &  0                        & ca3                       & LEM3216\\_S20190807145112 & control                   & LEM3216                   & control                  \\\\\n",
       "\t 66                        & 30                        & 20                        &  0                        &  0                        & ca3                       & LEM3216\\_S20190808101926 & control                   & LEM3216                   & control                  \\\\\n",
       "\t 67                        & 27                        & 18                        &  1                        &  1                        & ca3                       & LEM3216\\_S20190808141648 & control                   & LEM3216                   & control                  \\\\\n",
       "\t 68                        & 20                        & 15                        &  0                        &  0                        & ca3                       & LEM3216\\_S20190809140023 & control                   & LEM3216                   & control                  \\\\\n",
       "\t 69                        & 23                        & 22                        &  1                        &  0                        & ca3                       & LEM3216\\_S20190810172326 & control                   & LEM3216                   & control                  \\\\\n",
       "\t 70                        & 27                        & 20                        &  0                        &  0                        & ca3                       & LEM3216\\_S20190812175606 & control                   & LEM3216                   & control                  \\\\\n",
       "\t 71                        & 32                        & 25                        &  2                        &  2                        & ca3                       & LEM3216\\_S20190813135257 & control                   & LEM3216                   & control                  \\\\\n",
       "\t 72                        & 27                        & 17                        &  1                        &  1                        & ca3                       & LEM3216\\_S20190814123043 & control                   & LEM3216                   & control                  \\\\\n",
       "\t 73                        & 20                        & 15                        &  3                        &  3                        & ca3                       & LEM3216\\_S20190814172812 & control                   & LEM3216                   & control                  \\\\\n",
       "\t 74                        & 15                        &  5                        &  2                        &  1                        & ca3                       & LEM3216\\_S20190815182509 & control                   & LEM3216                   & control                  \\\\\n",
       "\t 75                        & 28                        & 18                        & 28                        & 15                        & ca3                       & LEM3246\\_S20190629164240 & pae                       & LEM3246                   & pae                      \\\\\n",
       "\t 76                        & 29                        & 25                        & 26                        & 14                        & ca3                       & LEM3246\\_S20190701153855 & pae                       & LEM3246                   & pae                      \\\\\n",
       "\t 77                        & 38                        & 22                        & 14                        &  5                        & ca3                       & LEM3246\\_S20190702103544 & pae                       & LEM3246                   & pae                      \\\\\n",
       "\t 78                        & 36                        & 17                        &  5                        &  1                        & ca3                       & LEM3246\\_S20190703165826 & pae                       & LEM3246                   & pae                      \\\\\n",
       "\t 79                        & 44                        & 27                        & 31                        & 16                        & ca3                       & LEM3246\\_S20190706150556 & pae                       & LEM3246                   & pae                      \\\\\n",
       "\t 80                        & 46                        &  5                        & 21                        &  5                        & ca3                       & LEM3246\\_S20190709143146 & pae                       & LEM3246                   & pae                      \\\\\n",
       "\t 81                        & 32                        &  8                        & 17                        &  6                        & ca3                       & LEM3246\\_S20190712170007 & pae                       & LEM3246                   & pae                      \\\\\n",
       "\t 82                        & 42                        &  8                        & 26                        &  8                        & ca3                       & LEM3246\\_S20190714113704 & pae                       & LEM3246                   & pae                      \\\\\n",
       "\t 83                        & 37                        &  5                        & 25                        &  1                        & ca3                       & LEM3246\\_S20190715190235 & pae                       & LEM3246                   & pae                      \\\\\n",
       "\t 84                        & 28                        &  4                        & 22                        &  1                        & ca3                       & LEM3246\\_S20190717115825 & pae                       & LEM3246                   & pae                      \\\\\n",
       "\t 85                        & 20                        &  3                        & 25                        &  2                        & ca3                       & LEM3246\\_S20190720111537 & pae                       & LEM3246                   & pae                      \\\\\n",
       "\t 86                        & 13                        &  4                        &  8                        &  5                        & ca3                       & LEM3246\\_S20190723113815 & pae                       & LEM3246                   & pae                      \\\\\n",
       "\t 87                        & 10                        &  3                        & 15                        &  6                        & ca3                       & LEM3246\\_S20190725114415 & pae                       & LEM3246                   & pae                      \\\\\n",
       "\t 88                        & 19                        &  7                        & 25                        &  5                        & ca3                       & LEM3246\\_S20190729172642 & pae                       & LEM3246                   & pae                      \\\\\n",
       "\t 89                        & 19                        &  6                        & 20                        &  3                        & ca3                       & LEM3246\\_S20190802143700 & pae                       & LEM3246                   & pae                      \\\\\n",
       "\t 90                        & 12                        &  7                        & 10                        &  2                        & ca3                       & LEM3246\\_S20190807163403 & pae                       & LEM3246                   & pae                      \\\\\n",
       "\t 91                        & 17                        &  4                        & 17                        &  2                        & ca3                       & LEM3246\\_S20190808162933 & pae                       & LEM3246                   & pae                      \\\\\n",
       "\t 92                        & 29                        & 11                        & 20                        &  0                        & ca1                       & LS19\\_S20170508130713    & pae                       & LS19                      & pae                      \\\\\n",
       "\t 93                        & 41                        & 11                        & 11                        &  1                        & ca1                       & LS19\\_S20170515215901    & pae                       & LS19                      & pae                      \\\\\n",
       "\t 94                        &  7                        &  1                        &  1                        &  0                        & ca1                       & LS23\\_S20170502130551    & control                   & LS23                      & control                  \\\\\n",
       "\\end{tabular}\n"
      ],
      "text/markdown": [
       "\n",
       "| X | n_pyr | n_pyr_pass | n_int | n_int_pass | area | session | group | rat | groupup |\n",
       "|---|---|---|---|---|---|---|---|---|---|\n",
       "|  0                      | 83                      | 56                      | 24                      | 16                      | ca1                     | LEM3116_S20180717110938 | control                 | LEM3116                 | control                 |\n",
       "|  1                      | 20                      |  6                      |  0                      |  0                      | ca1                     | LEM3116_S20180718184628 | control                 | LEM3116                 | control                 |\n",
       "|  2                      | 51                      | 10                      |  8                      |  0                      | ca3                     | LEM3116_S20180802100324 | control                 | LEM3116                 | control                 |\n",
       "|  3                      | 51                      |  8                      | 11                      |  0                      | ca3                     | LEM3116_S20180803103321 | control                 | LEM3116                 | control                 |\n",
       "|  4                      | 55                      | 13                      | 18                      |  1                      | ca3                     | LEM3116_S20180806104145 | control                 | LEM3116                 | control                 |\n",
       "|  5                      | 48                      | 10                      | 12                      |  1                      | ca3                     | LEM3116_S20180807105247 | control                 | LEM3116                 | control                 |\n",
       "|  6                      | 69                      |  6                      | 15                      |  0                      | ca3                     | LEM3116_S20180808160117 | control                 | LEM3116                 | control                 |\n",
       "|  7                      | 63                      | 19                      | 21                      |  3                      | ca3                     | LEM3116_S20180814141527 | control                 | LEM3116                 | control                 |\n",
       "|  8                      | 66                      | 26                      | 16                      |  6                      | ca3                     | LEM3116_S20180817153256 | control                 | LEM3116                 | control                 |\n",
       "|  9                      | 40                      | 31                      | 17                      |  6                      | ca1                     | LEM3120_S20181007151036 | control                 | LEM3120                 | control                 |\n",
       "| 10                      | 35                      | 10                      | 17                      |  1                      | ca3                     | LEM3120_S20181108144159 | control                 | LEM3120                 | control                 |\n",
       "| 11                      | 48                      |  8                      |  9                      |  0                      | ca1                     | LEM3124_S20190226101957 | pae                     | LEM3124                 | pae                     |\n",
       "| 12                      | 46                      | 10                      |  7                      |  2                      | ca1                     | LEM3124_S20190301133246 | pae                     | LEM3124                 | pae                     |\n",
       "| 13                      | 92                      | 25                      | 42                      | 21                      | ca1                     | LEM3124_S20190302163218 | pae                     | LEM3124                 | pae                     |\n",
       "| 14                      | 52                      | 16                      | 30                      |  4                      | ca1                     | LEM3124_S20190305105641 | pae                     | LEM3124                 | pae                     |\n",
       "| 15                      | 31                      |  1                      | 11                      |  1                      | ca1                     | LEM3124_S20190307163732 | pae                     | LEM3124                 | pae                     |\n",
       "| 16                      | 31                      |  1                      | 11                      |  1                      | ca3                     | LEM3124_S20190307163732 | pae                     | LEM3124                 | pae                     |\n",
       "| 17                      | 36                      |  0                      | 30                      |  5                      | ca1                     | LEM3124_S20190309145324 | pae                     | LEM3124                 | pae                     |\n",
       "| 18                      | 36                      |  0                      | 30                      |  5                      | ca3                     | LEM3124_S20190309145324 | pae                     | LEM3124                 | pae                     |\n",
       "| 19                      | 24                      |  3                      | 30                      |  0                      | ca1                     | LEM3124_S20190315160017 | pae                     | LEM3124                 | pae                     |\n",
       "| 20                      | 24                      |  3                      | 30                      |  0                      | ca3                     | LEM3124_S20190315160017 | pae                     | LEM3124                 | pae                     |\n",
       "| 21                      | 29                      |  4                      | 23                      |  3                      | ca1                     | LEM3124_S20190319154019 | pae                     | LEM3124                 | pae                     |\n",
       "| 22                      | 29                      |  4                      | 23                      |  3                      | ca3                     | LEM3124_S20190319154019 | pae                     | LEM3124                 | pae                     |\n",
       "| 23                      | 47                      |  3                      | 32                      |  2                      | ca1                     | LEM3124_S20190322123145 | pae                     | LEM3124                 | pae                     |\n",
       "| 24                      | 47                      |  3                      | 32                      |  2                      | ca3                     | LEM3124_S20190322123145 | pae                     | LEM3124                 | pae                     |\n",
       "| 25                      | 32                      |  5                      | 18                      |  4                      | ca1                     | LEM3124_S20190325164111 | pae                     | LEM3124                 | pae                     |\n",
       "| 26                      | 32                      |  5                      | 18                      |  4                      | ca3                     | LEM3124_S20190325164111 | pae                     | LEM3124                 | pae                     |\n",
       "| 27                      | 36                      |  2                      | 17                      |  1                      | ca1                     | LEM3124_S20190326160632 | pae                     | LEM3124                 | pae                     |\n",
       "| 28                      | 36                      |  2                      | 17                      |  1                      | ca3                     | LEM3124_S20190326160632 | pae                     | LEM3124                 | pae                     |\n",
       "| 29                      | 40                      |  1                      | 16                      |  2                      | ca1                     | LEM3124_S20190327204851 | pae                     | LEM3124                 | pae                     |\n",
       "| ... | ... | ... | ... | ... | ... | ... | ... | ... | ... |\n",
       "| 65                      | 31                      | 16                      |  1                      |  0                      | ca3                     | LEM3216_S20190807145112 | control                 | LEM3216                 | control                 |\n",
       "| 66                      | 30                      | 20                      |  0                      |  0                      | ca3                     | LEM3216_S20190808101926 | control                 | LEM3216                 | control                 |\n",
       "| 67                      | 27                      | 18                      |  1                      |  1                      | ca3                     | LEM3216_S20190808141648 | control                 | LEM3216                 | control                 |\n",
       "| 68                      | 20                      | 15                      |  0                      |  0                      | ca3                     | LEM3216_S20190809140023 | control                 | LEM3216                 | control                 |\n",
       "| 69                      | 23                      | 22                      |  1                      |  0                      | ca3                     | LEM3216_S20190810172326 | control                 | LEM3216                 | control                 |\n",
       "| 70                      | 27                      | 20                      |  0                      |  0                      | ca3                     | LEM3216_S20190812175606 | control                 | LEM3216                 | control                 |\n",
       "| 71                      | 32                      | 25                      |  2                      |  2                      | ca3                     | LEM3216_S20190813135257 | control                 | LEM3216                 | control                 |\n",
       "| 72                      | 27                      | 17                      |  1                      |  1                      | ca3                     | LEM3216_S20190814123043 | control                 | LEM3216                 | control                 |\n",
       "| 73                      | 20                      | 15                      |  3                      |  3                      | ca3                     | LEM3216_S20190814172812 | control                 | LEM3216                 | control                 |\n",
       "| 74                      | 15                      |  5                      |  2                      |  1                      | ca3                     | LEM3216_S20190815182509 | control                 | LEM3216                 | control                 |\n",
       "| 75                      | 28                      | 18                      | 28                      | 15                      | ca3                     | LEM3246_S20190629164240 | pae                     | LEM3246                 | pae                     |\n",
       "| 76                      | 29                      | 25                      | 26                      | 14                      | ca3                     | LEM3246_S20190701153855 | pae                     | LEM3246                 | pae                     |\n",
       "| 77                      | 38                      | 22                      | 14                      |  5                      | ca3                     | LEM3246_S20190702103544 | pae                     | LEM3246                 | pae                     |\n",
       "| 78                      | 36                      | 17                      |  5                      |  1                      | ca3                     | LEM3246_S20190703165826 | pae                     | LEM3246                 | pae                     |\n",
       "| 79                      | 44                      | 27                      | 31                      | 16                      | ca3                     | LEM3246_S20190706150556 | pae                     | LEM3246                 | pae                     |\n",
       "| 80                      | 46                      |  5                      | 21                      |  5                      | ca3                     | LEM3246_S20190709143146 | pae                     | LEM3246                 | pae                     |\n",
       "| 81                      | 32                      |  8                      | 17                      |  6                      | ca3                     | LEM3246_S20190712170007 | pae                     | LEM3246                 | pae                     |\n",
       "| 82                      | 42                      |  8                      | 26                      |  8                      | ca3                     | LEM3246_S20190714113704 | pae                     | LEM3246                 | pae                     |\n",
       "| 83                      | 37                      |  5                      | 25                      |  1                      | ca3                     | LEM3246_S20190715190235 | pae                     | LEM3246                 | pae                     |\n",
       "| 84                      | 28                      |  4                      | 22                      |  1                      | ca3                     | LEM3246_S20190717115825 | pae                     | LEM3246                 | pae                     |\n",
       "| 85                      | 20                      |  3                      | 25                      |  2                      | ca3                     | LEM3246_S20190720111537 | pae                     | LEM3246                 | pae                     |\n",
       "| 86                      | 13                      |  4                      |  8                      |  5                      | ca3                     | LEM3246_S20190723113815 | pae                     | LEM3246                 | pae                     |\n",
       "| 87                      | 10                      |  3                      | 15                      |  6                      | ca3                     | LEM3246_S20190725114415 | pae                     | LEM3246                 | pae                     |\n",
       "| 88                      | 19                      |  7                      | 25                      |  5                      | ca3                     | LEM3246_S20190729172642 | pae                     | LEM3246                 | pae                     |\n",
       "| 89                      | 19                      |  6                      | 20                      |  3                      | ca3                     | LEM3246_S20190802143700 | pae                     | LEM3246                 | pae                     |\n",
       "| 90                      | 12                      |  7                      | 10                      |  2                      | ca3                     | LEM3246_S20190807163403 | pae                     | LEM3246                 | pae                     |\n",
       "| 91                      | 17                      |  4                      | 17                      |  2                      | ca3                     | LEM3246_S20190808162933 | pae                     | LEM3246                 | pae                     |\n",
       "| 92                      | 29                      | 11                      | 20                      |  0                      | ca1                     | LS19_S20170508130713    | pae                     | LS19                    | pae                     |\n",
       "| 93                      | 41                      | 11                      | 11                      |  1                      | ca1                     | LS19_S20170515215901    | pae                     | LS19                    | pae                     |\n",
       "| 94                      |  7                      |  1                      |  1                      |  0                      | ca1                     | LS23_S20170502130551    | control                 | LS23                    | control                 |\n",
       "\n"
      ],
      "text/plain": [
       "    X   n_pyr n_pyr_pass n_int n_int_pass area session                 group  \n",
       "1    0  83    56         24    16         ca1  LEM3116_S20180717110938 control\n",
       "2    1  20     6          0     0         ca1  LEM3116_S20180718184628 control\n",
       "3    2  51    10          8     0         ca3  LEM3116_S20180802100324 control\n",
       "4    3  51     8         11     0         ca3  LEM3116_S20180803103321 control\n",
       "5    4  55    13         18     1         ca3  LEM3116_S20180806104145 control\n",
       "6    5  48    10         12     1         ca3  LEM3116_S20180807105247 control\n",
       "7    6  69     6         15     0         ca3  LEM3116_S20180808160117 control\n",
       "8    7  63    19         21     3         ca3  LEM3116_S20180814141527 control\n",
       "9    8  66    26         16     6         ca3  LEM3116_S20180817153256 control\n",
       "10   9  40    31         17     6         ca1  LEM3120_S20181007151036 control\n",
       "11  10  35    10         17     1         ca3  LEM3120_S20181108144159 control\n",
       "12  11  48     8          9     0         ca1  LEM3124_S20190226101957 pae    \n",
       "13  12  46    10          7     2         ca1  LEM3124_S20190301133246 pae    \n",
       "14  13  92    25         42    21         ca1  LEM3124_S20190302163218 pae    \n",
       "15  14  52    16         30     4         ca1  LEM3124_S20190305105641 pae    \n",
       "16  15  31     1         11     1         ca1  LEM3124_S20190307163732 pae    \n",
       "17  16  31     1         11     1         ca3  LEM3124_S20190307163732 pae    \n",
       "18  17  36     0         30     5         ca1  LEM3124_S20190309145324 pae    \n",
       "19  18  36     0         30     5         ca3  LEM3124_S20190309145324 pae    \n",
       "20  19  24     3         30     0         ca1  LEM3124_S20190315160017 pae    \n",
       "21  20  24     3         30     0         ca3  LEM3124_S20190315160017 pae    \n",
       "22  21  29     4         23     3         ca1  LEM3124_S20190319154019 pae    \n",
       "23  22  29     4         23     3         ca3  LEM3124_S20190319154019 pae    \n",
       "24  23  47     3         32     2         ca1  LEM3124_S20190322123145 pae    \n",
       "25  24  47     3         32     2         ca3  LEM3124_S20190322123145 pae    \n",
       "26  25  32     5         18     4         ca1  LEM3124_S20190325164111 pae    \n",
       "27  26  32     5         18     4         ca3  LEM3124_S20190325164111 pae    \n",
       "28  27  36     2         17     1         ca1  LEM3124_S20190326160632 pae    \n",
       "29  28  36     2         17     1         ca3  LEM3124_S20190326160632 pae    \n",
       "30  29  40     1         16     2         ca1  LEM3124_S20190327204851 pae    \n",
       "... ... ...   ...        ...   ...        ...  ...                     ...    \n",
       "66  65  31    16          1     0         ca3  LEM3216_S20190807145112 control\n",
       "67  66  30    20          0     0         ca3  LEM3216_S20190808101926 control\n",
       "68  67  27    18          1     1         ca3  LEM3216_S20190808141648 control\n",
       "69  68  20    15          0     0         ca3  LEM3216_S20190809140023 control\n",
       "70  69  23    22          1     0         ca3  LEM3216_S20190810172326 control\n",
       "71  70  27    20          0     0         ca3  LEM3216_S20190812175606 control\n",
       "72  71  32    25          2     2         ca3  LEM3216_S20190813135257 control\n",
       "73  72  27    17          1     1         ca3  LEM3216_S20190814123043 control\n",
       "74  73  20    15          3     3         ca3  LEM3216_S20190814172812 control\n",
       "75  74  15     5          2     1         ca3  LEM3216_S20190815182509 control\n",
       "76  75  28    18         28    15         ca3  LEM3246_S20190629164240 pae    \n",
       "77  76  29    25         26    14         ca3  LEM3246_S20190701153855 pae    \n",
       "78  77  38    22         14     5         ca3  LEM3246_S20190702103544 pae    \n",
       "79  78  36    17          5     1         ca3  LEM3246_S20190703165826 pae    \n",
       "80  79  44    27         31    16         ca3  LEM3246_S20190706150556 pae    \n",
       "81  80  46     5         21     5         ca3  LEM3246_S20190709143146 pae    \n",
       "82  81  32     8         17     6         ca3  LEM3246_S20190712170007 pae    \n",
       "83  82  42     8         26     8         ca3  LEM3246_S20190714113704 pae    \n",
       "84  83  37     5         25     1         ca3  LEM3246_S20190715190235 pae    \n",
       "85  84  28     4         22     1         ca3  LEM3246_S20190717115825 pae    \n",
       "86  85  20     3         25     2         ca3  LEM3246_S20190720111537 pae    \n",
       "87  86  13     4          8     5         ca3  LEM3246_S20190723113815 pae    \n",
       "88  87  10     3         15     6         ca3  LEM3246_S20190725114415 pae    \n",
       "89  88  19     7         25     5         ca3  LEM3246_S20190729172642 pae    \n",
       "90  89  19     6         20     3         ca3  LEM3246_S20190802143700 pae    \n",
       "91  90  12     7         10     2         ca3  LEM3246_S20190807163403 pae    \n",
       "92  91  17     4         17     2         ca3  LEM3246_S20190808162933 pae    \n",
       "93  92  29    11         20     0         ca1  LS19_S20170508130713    pae    \n",
       "94  93  41    11         11     1         ca1  LS19_S20170515215901    pae    \n",
       "95  94   7     1          1     0         ca1  LS23_S20170502130551    control\n",
       "    rat     groupup\n",
       "1   LEM3116 control\n",
       "2   LEM3116 control\n",
       "3   LEM3116 control\n",
       "4   LEM3116 control\n",
       "5   LEM3116 control\n",
       "6   LEM3116 control\n",
       "7   LEM3116 control\n",
       "8   LEM3116 control\n",
       "9   LEM3116 control\n",
       "10  LEM3120 control\n",
       "11  LEM3120 control\n",
       "12  LEM3124 pae    \n",
       "13  LEM3124 pae    \n",
       "14  LEM3124 pae    \n",
       "15  LEM3124 pae    \n",
       "16  LEM3124 pae    \n",
       "17  LEM3124 pae    \n",
       "18  LEM3124 pae    \n",
       "19  LEM3124 pae    \n",
       "20  LEM3124 pae    \n",
       "21  LEM3124 pae    \n",
       "22  LEM3124 pae    \n",
       "23  LEM3124 pae    \n",
       "24  LEM3124 pae    \n",
       "25  LEM3124 pae    \n",
       "26  LEM3124 pae    \n",
       "27  LEM3124 pae    \n",
       "28  LEM3124 pae    \n",
       "29  LEM3124 pae    \n",
       "30  LEM3124 pae    \n",
       "... ...     ...    \n",
       "66  LEM3216 control\n",
       "67  LEM3216 control\n",
       "68  LEM3216 control\n",
       "69  LEM3216 control\n",
       "70  LEM3216 control\n",
       "71  LEM3216 control\n",
       "72  LEM3216 control\n",
       "73  LEM3216 control\n",
       "74  LEM3216 control\n",
       "75  LEM3216 control\n",
       "76  LEM3246 pae    \n",
       "77  LEM3246 pae    \n",
       "78  LEM3246 pae    \n",
       "79  LEM3246 pae    \n",
       "80  LEM3246 pae    \n",
       "81  LEM3246 pae    \n",
       "82  LEM3246 pae    \n",
       "83  LEM3246 pae    \n",
       "84  LEM3246 pae    \n",
       "85  LEM3246 pae    \n",
       "86  LEM3246 pae    \n",
       "87  LEM3246 pae    \n",
       "88  LEM3246 pae    \n",
       "89  LEM3246 pae    \n",
       "90  LEM3246 pae    \n",
       "91  LEM3246 pae    \n",
       "92  LEM3246 pae    \n",
       "93  LS19    pae    \n",
       "94  LS19    pae    \n",
       "95  LS23    control"
      ]
     },
     "metadata": {},
     "output_type": "display_data"
    }
   ],
   "source": [
    "data"
   ]
  },
  {
   "cell_type": "code",
   "execution_count": 74,
   "metadata": {},
   "outputs": [],
   "source": [
    "# hist(data[data$area=='ca1',]$n_pyr_pass / data[data$area=='ca1',]$n_pyr)\n",
    "\n",
    "# data[data$area=='ca1',]$n_pyr_pass / data[data$area=='ca1',]$n_pyr\n",
    "data$prop_pyr = data$n_pyr_pass / data$n_pyr\n",
    "# data$prop_pyr[is.nan(data$prop_pyr)] = 0\n",
    "\n",
    "\n",
    "data$prop_int = data$n_int_pass / data$n_int\n",
    "# data$prop_int[is.nan(data$prop_int)] = 0\n",
    "\n",
    "# data$prop_pyr_log = log(data$prop_pyr)\n",
    "\n",
    "# hist(data$prop_pyr)\n",
    "# hist(data$prop_pyr_log)\n",
    "# data$prop_pyr == \n",
    "\n",
    "# data$prop_pyr_log[is.nan(data$prop_pyr_log)] = 0\n",
    "# data$prop_pyr_log[is.infinite(data$prop_pyr_log)] = 0\n",
    "\n",
    "\n"
   ]
  },
  {
   "cell_type": "markdown",
   "metadata": {},
   "source": [
    "# CA1 pyramidal cells"
   ]
  },
  {
   "cell_type": "code",
   "execution_count": 23,
   "metadata": {},
   "outputs": [],
   "source": [
    "overdisp.glmer <- function(model) {\n",
    "  ## From http://glmm.wikidot.com/faq\n",
    "  ## number of variance parameters in \n",
    "  ##   an n-by-n variance-covariance matrix\n",
    "  vpars <- function(m) {\n",
    "    nrow(m)*(nrow(m)+1)/2\n",
    "  }\n",
    "  model.df <- sum(sapply(lme4::VarCorr(model),vpars))+length(lme4::fixef(model))\n",
    "  rdf <- nrow(model.frame(model))-model.df\n",
    "  rp <- residuals(model)\n",
    "  dev <- sum(rp^2)\n",
    "  prat <- dev/rdf\n",
    "  cat(paste(\"Residual deviance: \",round(dev,3),\" on \",rdf,\" degrees of freedom\",\n",
    "    \" (ratio: \",round(prat,3),\")\\n\",sep=\"\"))\n",
    "}"
   ]
  },
  {
   "cell_type": "code",
   "execution_count": 57,
   "metadata": {},
   "outputs": [
    {
     "data": {
      "text/html": [
       "0.703703703703704"
      ],
      "text/latex": [
       "0.703703703703704"
      ],
      "text/markdown": [
       "0.703703703703704"
      ],
      "text/plain": [
       "[1] 0.7037037"
      ]
     },
     "metadata": {},
     "output_type": "display_data"
    },
    {
     "data": {
      "text/html": [
       "0.125"
      ],
      "text/latex": [
       "0.125"
      ],
      "text/markdown": [
       "0.125"
      ],
      "text/plain": [
       "[1] 0.125"
      ]
     },
     "metadata": {},
     "output_type": "display_data"
    }
   ],
   "source": []
  },
  {
   "cell_type": "code",
   "execution_count": 76,
   "metadata": {},
   "outputs": [
    {
     "data": {
      "text/html": [
       "0.703703703703704"
      ],
      "text/latex": [
       "0.703703703703704"
      ],
      "text/markdown": [
       "0.703703703703704"
      ],
      "text/plain": [
       "[1] 0.7037037"
      ]
     },
     "metadata": {},
     "output_type": "display_data"
    },
    {
     "data": {
      "text/html": [
       "0.125"
      ],
      "text/latex": [
       "0.125"
      ],
      "text/markdown": [
       "0.125"
      ],
      "text/plain": [
       "[1] 0.125"
      ]
     },
     "metadata": {},
     "output_type": "display_data"
    },
    {
     "name": "stderr",
     "output_type": "stream",
     "text": [
      "boundary (singular) fit: see ?isSingular\n"
     ]
    },
    {
     "data": {
      "text/html": [
       "<table>\n",
       "<thead><tr><th></th><th scope=col>npar</th><th scope=col>AIC</th><th scope=col>BIC</th><th scope=col>logLik</th><th scope=col>deviance</th><th scope=col>Chisq</th><th scope=col>Df</th><th scope=col>Pr(&gt;Chisq)</th></tr></thead>\n",
       "<tbody>\n",
       "\t<tr><th scope=row>m1.null</th><td>3        </td><td>172.8709 </td><td>176.7584 </td><td>-83.43547</td><td>166.8709 </td><td>      NA </td><td>NA       </td><td>       NA</td></tr>\n",
       "\t<tr><th scope=row>m1</th><td>4        </td><td>169.1097 </td><td>174.2930 </td><td>-80.55485</td><td>161.1097 </td><td>5.761241 </td><td> 1       </td><td>0.0163835</td></tr>\n",
       "</tbody>\n",
       "</table>\n"
      ],
      "text/latex": [
       "\\begin{tabular}{r|llllllll}\n",
       "  & npar & AIC & BIC & logLik & deviance & Chisq & Df & Pr(>Chisq)\\\\\n",
       "\\hline\n",
       "\tm1.null & 3         & 172.8709  & 176.7584  & -83.43547 & 166.8709  &       NA  & NA        &        NA\\\\\n",
       "\tm1 & 4         & 169.1097  & 174.2930  & -80.55485 & 161.1097  & 5.761241  &  1        & 0.0163835\\\\\n",
       "\\end{tabular}\n"
      ],
      "text/markdown": [
       "\n",
       "| <!--/--> | npar | AIC | BIC | logLik | deviance | Chisq | Df | Pr(>Chisq) |\n",
       "|---|---|---|---|---|---|---|---|---|\n",
       "| m1.null | 3         | 172.8709  | 176.7584  | -83.43547 | 166.8709  |       NA  | NA        |        NA |\n",
       "| m1 | 4         | 169.1097  | 174.2930  | -80.55485 | 161.1097  | 5.761241  |  1        | 0.0163835 |\n",
       "\n"
      ],
      "text/plain": [
       "        npar AIC      BIC      logLik    deviance Chisq    Df Pr(>Chisq)\n",
       "m1.null 3    172.8709 176.7584 -83.43547 166.8709       NA NA        NA \n",
       "m1      4    169.1097 174.2930 -80.55485 161.1097 5.761241  1 0.0163835 "
      ]
     },
     "metadata": {},
     "output_type": "display_data"
    },
    {
     "data": {
      "text/plain": [
       "Generalized linear mixed model fit by maximum likelihood (Laplace\n",
       "  Approximation) [glmerMod]\n",
       " Family: binomial  ( logit )\n",
       "Formula: prop_pyr ~ group + (1 | rat/session)\n",
       "   Data: data[data$area == \"ca1\", ]\n",
       "Weights: n_pyr\n",
       "\n",
       "     AIC      BIC   logLik deviance df.resid \n",
       "   169.1    174.3    -80.6    161.1       23 \n",
       "\n",
       "Scaled residuals: \n",
       "     Min       1Q   Median       3Q      Max \n",
       "-1.16640 -0.40207  0.05698  0.25063  0.69879 \n",
       "\n",
       "Random effects:\n",
       " Groups      Name        Variance  Std.Dev. \n",
       " session:rat (Intercept) 9.233e-01 9.609e-01\n",
       " rat         (Intercept) 5.210e-10 2.283e-05\n",
       "Number of obs: 27, groups:  session:rat, 27; rat, 6\n",
       "\n",
       "Fixed effects:\n",
       "            Estimate Std. Error z value Pr(>|z|)    \n",
       "(Intercept)   0.5472     0.3530   1.550    0.121    \n",
       "grouppae     -2.6124     0.4378  -5.967 2.41e-09 ***\n",
       "---\n",
       "Signif. codes:  0 '***' 0.001 '**' 0.01 '*' 0.05 '.' 0.1 ' ' 1\n",
       "\n",
       "Correlation of Fixed Effects:\n",
       "         (Intr)\n",
       "grouppae -0.801\n",
       "optimizer (Nelder_Mead) convergence code: 0 (OK)\n",
       "boundary (singular) fit: see ?isSingular\n"
      ]
     },
     "metadata": {},
     "output_type": "display_data"
    },
    {
     "name": "stdout",
     "output_type": "stream",
     "text": [
      "Residual deviance: 7.769 on 23 degrees of freedom (ratio: 0.338)\n"
     ]
    },
    {
     "data": {
      "image/png": "[encoded data removed]",
      "text/plain": [
       "plot without title"
      ]
     },
     "metadata": {},
     "output_type": "display_data"
    },
    {
     "data": {
      "image/png": "[encoded data removed]",
      "text/plain": [
       "Plot with title \"Normal Q-Q Plot\""
      ]
     },
     "metadata": {},
     "output_type": "display_data"
    },
    {
     "data": {
      "image/png": "[encoded data removed]",
      "text/plain": [
       "Plot with title \"density.default(x = resid(m1))\""
      ]
     },
     "metadata": {},
     "output_type": "display_data"
    },
    {
     "data": {
      "image/png": "[encoded data removed]",
      "text/plain": [
       "plot without title"
      ]
     },
     "metadata": {},
     "output_type": "display_data"
    }
   ],
   "source": [
    "median(data[data$area=='ca1' & data$group=='control',]$prop_pyr)\n",
    "median(data[data$area=='ca1' & data$group=='pae',]$prop_pyr)\n",
    "\n",
    "m1 = glmer(prop_pyr ~ group + (1|rat/session), weights=n_pyr, data=data[data$area=='ca1',],family=\"binomial\")\n",
    "m1.null = glmer(prop_pyr ~ 1 + (1|rat/session), weights=n_pyr, data=data[data$area=='ca1',],family=\"binomial\")\n",
    "\n",
    "anova(m1.null, m1)  \n",
    "\n",
    "summary(m1)\n",
    "overdisp.glmer(m1)\n",
    "\n",
    "options(repr.plot.width = 4, repr.plot.height = 4)\n",
    "\n",
    "plot(m1)\n",
    "qqnorm(resid(m1))\n",
    "qqline(resid(m1))\n",
    "plot(density(resid(m1)))\n",
    "\n",
    "plot(n_pyr_pass/n_pyr ~ group, data = data[data$area == \"ca1\",])\n",
    "\n"
   ]
  },
  {
   "cell_type": "markdown",
   "metadata": {},
   "source": [
    "# CA1 interneurons"
   ]
  },
  {
   "cell_type": "code",
   "execution_count": 81,
   "metadata": {},
   "outputs": [
    {
     "data": {
      "text/html": [
       "0.407239819004525"
      ],
      "text/latex": [
       "0.407239819004525"
      ],
      "text/markdown": [
       "0.407239819004525"
      ],
      "text/plain": [
       "[1] 0.4072398"
      ]
     },
     "metadata": {},
     "output_type": "display_data"
    },
    {
     "data": {
      "text/html": [
       "0.0909090909090909"
      ],
      "text/latex": [
       "0.0909090909090909"
      ],
      "text/markdown": [
       "0.0909090909090909"
      ],
      "text/plain": [
       "[1] 0.09090909"
      ]
     },
     "metadata": {},
     "output_type": "display_data"
    },
    {
     "name": "stderr",
     "output_type": "stream",
     "text": [
      "boundary (singular) fit: see ?isSingular\n"
     ]
    },
    {
     "data": {
      "text/html": [
       "<table>\n",
       "<thead><tr><th></th><th scope=col>npar</th><th scope=col>AIC</th><th scope=col>BIC</th><th scope=col>logLik</th><th scope=col>deviance</th><th scope=col>Chisq</th><th scope=col>Df</th><th scope=col>Pr(&gt;Chisq)</th></tr></thead>\n",
       "<tbody>\n",
       "\t<tr><th scope=row>m1.null</th><td>3          </td><td>123.2795   </td><td>127.0538   </td><td>-58.63975  </td><td>117.2795   </td><td>      NA   </td><td>NA         </td><td>         NA</td></tr>\n",
       "\t<tr><th scope=row>m1</th><td>4          </td><td>117.0578   </td><td>122.0902   </td><td>-54.52890  </td><td>109.0578   </td><td>8.221691   </td><td> 1         </td><td>0.004139262</td></tr>\n",
       "</tbody>\n",
       "</table>\n"
      ],
      "text/latex": [
       "\\begin{tabular}{r|llllllll}\n",
       "  & npar & AIC & BIC & logLik & deviance & Chisq & Df & Pr(>Chisq)\\\\\n",
       "\\hline\n",
       "\tm1.null & 3           & 123.2795    & 127.0538    & -58.63975   & 117.2795    &       NA    & NA          &          NA\\\\\n",
       "\tm1 & 4           & 117.0578    & 122.0902    & -54.52890   & 109.0578    & 8.221691    &  1          & 0.004139262\\\\\n",
       "\\end{tabular}\n"
      ],
      "text/markdown": [
       "\n",
       "| <!--/--> | npar | AIC | BIC | logLik | deviance | Chisq | Df | Pr(>Chisq) |\n",
       "|---|---|---|---|---|---|---|---|---|\n",
       "| m1.null | 3           | 123.2795    | 127.0538    | -58.63975   | 117.2795    |       NA    | NA          |          NA |\n",
       "| m1 | 4           | 117.0578    | 122.0902    | -54.52890   | 109.0578    | 8.221691    |  1          | 0.004139262 |\n",
       "\n"
      ],
      "text/plain": [
       "        npar AIC      BIC      logLik    deviance Chisq    Df Pr(>Chisq) \n",
       "m1.null 3    123.2795 127.0538 -58.63975 117.2795       NA NA          NA\n",
       "m1      4    117.0578 122.0902 -54.52890 109.0578 8.221691  1 0.004139262"
      ]
     },
     "metadata": {},
     "output_type": "display_data"
    },
    {
     "data": {
      "text/plain": [
       "Generalized linear mixed model fit by maximum likelihood (Laplace\n",
       "  Approximation) [glmerMod]\n",
       " Family: binomial  ( logit )\n",
       "Formula: n_int_pass/n_int ~ group + (1 | rat/session)\n",
       "   Data: data[data$area == \"ca1\", ]\n",
       "Weights: n_int\n",
       "\n",
       "     AIC      BIC   logLik deviance df.resid \n",
       "   117.1    122.1    -54.5    109.1       22 \n",
       "\n",
       "Scaled residuals: \n",
       "    Min      1Q  Median      3Q     Max \n",
       "-1.0687 -0.5848  0.0616  0.2484  1.0337 \n",
       "\n",
       "Random effects:\n",
       " Groups      Name        Variance Std.Dev.\n",
       " session:rat (Intercept) 0.9749   0.9874  \n",
       " rat         (Intercept) 0.0000   0.0000  \n",
       "Number of obs: 26, groups:  session:rat, 26; rat, 6\n",
       "\n",
       "Fixed effects:\n",
       "            Estimate Std. Error z value Pr(>|z|)    \n",
       "(Intercept)  -0.5699     0.4352  -1.310 0.190361    \n",
       "grouppae     -1.8531     0.5415  -3.422 0.000621 ***\n",
       "---\n",
       "Signif. codes:  0 '***' 0.001 '**' 0.01 '*' 0.05 '.' 0.1 ' ' 1\n",
       "\n",
       "Correlation of Fixed Effects:\n",
       "         (Intr)\n",
       "grouppae -0.794\n",
       "optimizer (Nelder_Mead) convergence code: 0 (OK)\n",
       "boundary (singular) fit: see ?isSingular\n"
      ]
     },
     "metadata": {},
     "output_type": "display_data"
    },
    {
     "name": "stdout",
     "output_type": "stream",
     "text": [
      "Residual deviance: 13.117 on 22 degrees of freedom (ratio: 0.596)\n"
     ]
    },
    {
     "data": {
      "image/png": "[encoded data removed]",
      "text/plain": [
       "plot without title"
      ]
     },
     "metadata": {},
     "output_type": "display_data"
    },
    {
     "data": {
      "image/png": "[encoded data removed]",
      "text/plain": [
       "Plot with title \"Normal Q-Q Plot\""
      ]
     },
     "metadata": {},
     "output_type": "display_data"
    },
    {
     "data": {
      "image/png": "[encoded data removed]",
      "text/plain": [
       "Plot with title \"density.default(x = resid(m1))\""
      ]
     },
     "metadata": {},
     "output_type": "display_data"
    },
    {
     "data": {
      "image/png": "[encoded data removed]",
      "text/plain": [
       "plot without title"
      ]
     },
     "metadata": {},
     "output_type": "display_data"
    }
   ],
   "source": [
    "median(data[data$area=='ca1' & data$group=='control',]$prop_int,na.rm = TRUE)\n",
    "median(data[data$area=='ca1' & data$group=='pae',]$prop_int,na.rm = TRUE)\n",
    "\n",
    "m1 = glmer(n_int_pass/n_int ~ group + (1|rat/session), weights=n_int, data=data[data$area=='ca1',], family=\"binomial\")\n",
    "m1.null = glmer(n_int_pass/n_int ~ 1 + (1|rat/session), weights=n_int, data=data[data$area=='ca1',], family=\"binomial\")\n",
    "\n",
    "anova(m1.null, m1)  \n",
    "\n",
    "summary(m1)\n",
    "overdisp.glmer(m1)\n",
    "\n",
    "options(repr.plot.width = 4, repr.plot.height = 4)\n",
    "\n",
    "plot(m1)\n",
    "qqnorm(resid(m1))\n",
    "qqline(resid(m1))\n",
    "plot(density(resid(m1)))\n",
    "\n",
    "plot(n_int_pass/n_int ~ group, data = data[data$area == \"ca1\",])\n"
   ]
  },
  {
   "cell_type": "markdown",
   "metadata": {},
   "source": [
    "# CA3 pyramidal cells"
   ]
  },
  {
   "cell_type": "code",
   "execution_count": 82,
   "metadata": {},
   "outputs": [
    {
     "data": {
      "text/html": [
       "0.614814814814815"
      ],
      "text/latex": [
       "0.614814814814815"
      ],
      "text/markdown": [
       "0.614814814814815"
      ],
      "text/plain": [
       "[1] 0.6148148"
      ]
     },
     "metadata": {},
     "output_type": "display_data"
    },
    {
     "data": {
      "text/html": [
       "0.246094688776736"
      ],
      "text/latex": [
       "0.246094688776736"
      ],
      "text/markdown": [
       "0.246094688776736"
      ],
      "text/plain": [
       "[1] 0.2460947"
      ]
     },
     "metadata": {},
     "output_type": "display_data"
    },
    {
     "data": {
      "text/html": [
       "<table>\n",
       "<thead><tr><th></th><th scope=col>npar</th><th scope=col>AIC</th><th scope=col>BIC</th><th scope=col>logLik</th><th scope=col>deviance</th><th scope=col>Chisq</th><th scope=col>Df</th><th scope=col>Pr(&gt;Chisq)</th></tr></thead>\n",
       "<tbody>\n",
       "\t<tr><th scope=row>m1.null</th><td>3        </td><td>405.9053 </td><td>412.5638 </td><td>-199.9526</td><td>399.9053 </td><td>      NA </td><td>NA       </td><td>       NA</td></tr>\n",
       "\t<tr><th scope=row>m1</th><td>4        </td><td>406.6406 </td><td>415.5186 </td><td>-199.3203</td><td>398.6406 </td><td>1.264687 </td><td> 1       </td><td>0.2607658</td></tr>\n",
       "</tbody>\n",
       "</table>\n"
      ],
      "text/latex": [
       "\\begin{tabular}{r|llllllll}\n",
       "  & npar & AIC & BIC & logLik & deviance & Chisq & Df & Pr(>Chisq)\\\\\n",
       "\\hline\n",
       "\tm1.null & 3         & 405.9053  & 412.5638  & -199.9526 & 399.9053  &       NA  & NA        &        NA\\\\\n",
       "\tm1 & 4         & 406.6406  & 415.5186  & -199.3203 & 398.6406  & 1.264687  &  1        & 0.2607658\\\\\n",
       "\\end{tabular}\n"
      ],
      "text/markdown": [
       "\n",
       "| <!--/--> | npar | AIC | BIC | logLik | deviance | Chisq | Df | Pr(>Chisq) |\n",
       "|---|---|---|---|---|---|---|---|---|\n",
       "| m1.null | 3         | 405.9053  | 412.5638  | -199.9526 | 399.9053  |       NA  | NA        |        NA |\n",
       "| m1 | 4         | 406.6406  | 415.5186  | -199.3203 | 398.6406  | 1.264687  |  1        | 0.2607658 |\n",
       "\n"
      ],
      "text/plain": [
       "        npar AIC      BIC      logLik    deviance Chisq    Df Pr(>Chisq)\n",
       "m1.null 3    405.9053 412.5638 -199.9526 399.9053       NA NA        NA \n",
       "m1      4    406.6406 415.5186 -199.3203 398.6406 1.264687  1 0.2607658 "
      ]
     },
     "metadata": {},
     "output_type": "display_data"
    },
    {
     "data": {
      "text/plain": [
       "Generalized linear mixed model fit by maximum likelihood (Laplace\n",
       "  Approximation) [glmerMod]\n",
       " Family: binomial  ( logit )\n",
       "Formula: prop_pyr ~ group + (1 | rat/session)\n",
       "   Data: data[data$area == \"ca3\", ]\n",
       "Weights: n_pyr\n",
       "\n",
       "     AIC      BIC   logLik deviance df.resid \n",
       "   406.6    415.5   -199.3    398.6       64 \n",
       "\n",
       "Scaled residuals: \n",
       "     Min       1Q   Median       3Q      Max \n",
       "-1.25605 -0.33840 -0.08589  0.30578  1.57975 \n",
       "\n",
       "Random effects:\n",
       " Groups      Name        Variance Std.Dev.\n",
       " session:rat (Intercept) 0.4326   0.6577  \n",
       " rat         (Intercept) 0.8693   0.9324  \n",
       "Number of obs: 68, groups:  session:rat, 68; rat, 6\n",
       "\n",
       "Fixed effects:\n",
       "            Estimate Std. Error z value Pr(>|z|)\n",
       "(Intercept)  -0.3622     0.5943  -0.610    0.542\n",
       "grouppae     -0.9706     0.8116  -1.196    0.232\n",
       "\n",
       "Correlation of Fixed Effects:\n",
       "         (Intr)\n",
       "grouppae -0.732"
      ]
     },
     "metadata": {},
     "output_type": "display_data"
    },
    {
     "name": "stdout",
     "output_type": "stream",
     "text": [
      "Residual deviance: 23.223 on 64 degrees of freedom (ratio: 0.363)\n"
     ]
    },
    {
     "data": {
      "image/png": "[encoded data removed]",
      "text/plain": [
       "Plot with title \"density.default(x = resid(m1))\""
      ]
     },
     "metadata": {},
     "output_type": "display_data"
    },
    {
     "data": {
      "image/png": "[encoded data removed]",
      "text/plain": [
       "plot without title"
      ]
     },
     "metadata": {},
     "output_type": "display_data"
    },
    {
     "data": {
      "image/png": "[encoded data removed]",
      "text/plain": [
       "Plot with title \"Normal Q-Q Plot\""
      ]
     },
     "metadata": {},
     "output_type": "display_data"
    }
   ],
   "source": [
    "median(data[data$area=='ca3' & data$group=='control',]$prop_pyr)\n",
    "median(data[data$area=='ca3' & data$group=='pae',]$prop_pyr)\n",
    "\n",
    "m1 = glmer(prop_pyr ~ group + (1|rat/session), weights=n_pyr, data=data[data$area=='ca3',], family=\"binomial\")\n",
    "m1.null = glmer(prop_pyr ~ 1 + (1|rat/session), weights=n_pyr, data=data[data$area=='ca3',], family=\"binomial\")\n",
    "\n",
    "anova(m1.null, m1)  \n",
    "\n",
    "summary(m1)\n",
    "overdisp.glmer(m1)\n",
    "\n",
    "plot(density(resid(m1)))\n",
    "\n",
    "options(repr.plot.width = 4, repr.plot.height = 4)\n",
    "\n",
    "plot(m1)\n",
    "qqnorm(resid(m1))\n",
    "qqline(resid(m1))"
   ]
  },
  {
   "cell_type": "markdown",
   "metadata": {},
   "source": [
    "# CA3 interneurons"
   ]
  },
  {
   "cell_type": "code",
   "execution_count": 84,
   "metadata": {},
   "outputs": [
    {
     "data": {
      "text/html": [
       "0.375"
      ],
      "text/latex": [
       "0.375"
      ],
      "text/markdown": [
       "0.375"
      ],
      "text/plain": [
       "[1] 0.375"
      ]
     },
     "metadata": {},
     "output_type": "display_data"
    },
    {
     "data": {
      "text/html": [
       "0.2"
      ],
      "text/latex": [
       "0.2"
      ],
      "text/markdown": [
       "0.2"
      ],
      "text/plain": [
       "[1] 0.2"
      ]
     },
     "metadata": {},
     "output_type": "display_data"
    },
    {
     "data": {
      "text/html": [
       "<table>\n",
       "<thead><tr><th></th><th scope=col>npar</th><th scope=col>AIC</th><th scope=col>BIC</th><th scope=col>logLik</th><th scope=col>deviance</th><th scope=col>Chisq</th><th scope=col>Df</th><th scope=col>Pr(&gt;Chisq)</th></tr></thead>\n",
       "<tbody>\n",
       "\t<tr><th scope=row>m1.null</th><td>3         </td><td>281.9122  </td><td>288.3416  </td><td>-137.9561 </td><td>275.9122  </td><td>        NA</td><td>NA        </td><td>       NA </td></tr>\n",
       "\t<tr><th scope=row>m1</th><td>4         </td><td>283.8904  </td><td>292.4630  </td><td>-137.9452 </td><td>275.8904  </td><td>0.02180036</td><td> 1        </td><td>0.8826194 </td></tr>\n",
       "</tbody>\n",
       "</table>\n"
      ],
      "text/latex": [
       "\\begin{tabular}{r|llllllll}\n",
       "  & npar & AIC & BIC & logLik & deviance & Chisq & Df & Pr(>Chisq)\\\\\n",
       "\\hline\n",
       "\tm1.null & 3          & 281.9122   & 288.3416   & -137.9561  & 275.9122   &         NA & NA         &        NA \\\\\n",
       "\tm1 & 4          & 283.8904   & 292.4630   & -137.9452  & 275.8904   & 0.02180036 &  1         & 0.8826194 \\\\\n",
       "\\end{tabular}\n"
      ],
      "text/markdown": [
       "\n",
       "| <!--/--> | npar | AIC | BIC | logLik | deviance | Chisq | Df | Pr(>Chisq) |\n",
       "|---|---|---|---|---|---|---|---|---|\n",
       "| m1.null | 3          | 281.9122   | 288.3416   | -137.9561  | 275.9122   |         NA | NA         |        NA  |\n",
       "| m1 | 4          | 283.8904   | 292.4630   | -137.9452  | 275.8904   | 0.02180036 |  1         | 0.8826194  |\n",
       "\n"
      ],
      "text/plain": [
       "        npar AIC      BIC      logLik    deviance Chisq      Df Pr(>Chisq)\n",
       "m1.null 3    281.9122 288.3416 -137.9561 275.9122         NA NA        NA \n",
       "m1      4    283.8904 292.4630 -137.9452 275.8904 0.02180036  1 0.8826194 "
      ]
     },
     "metadata": {},
     "output_type": "display_data"
    },
    {
     "data": {
      "text/plain": [
       "Generalized linear mixed model fit by maximum likelihood (Laplace\n",
       "  Approximation) [glmerMod]\n",
       " Family: binomial  ( logit )\n",
       "Formula: prop_int ~ group + (1 | rat/session)\n",
       "   Data: data[data$area == \"ca3\", ]\n",
       "Weights: n_int\n",
       "\n",
       "     AIC      BIC   logLik deviance df.resid \n",
       "   283.9    292.5   -137.9    275.9       59 \n",
       "\n",
       "Scaled residuals: \n",
       "     Min       1Q   Median       3Q      Max \n",
       "-1.17676 -0.48711 -0.09374  0.40709  1.12450 \n",
       "\n",
       "Random effects:\n",
       " Groups      Name        Variance Std.Dev.\n",
       " session:rat (Intercept) 0.5461   0.739   \n",
       " rat         (Intercept) 1.2950   1.138   \n",
       "Number of obs: 63, groups:  session:rat, 63; rat, 6\n",
       "\n",
       "Fixed effects:\n",
       "            Estimate Std. Error z value Pr(>|z|)  \n",
       "(Intercept)  -1.2933     0.7708  -1.678   0.0934 .\n",
       "grouppae     -0.1532     1.0236  -0.150   0.8810  \n",
       "---\n",
       "Signif. codes:  0 '***' 0.001 '**' 0.01 '*' 0.05 '.' 0.1 ' ' 1\n",
       "\n",
       "Correlation of Fixed Effects:\n",
       "         (Intr)\n",
       "grouppae -0.752"
      ]
     },
     "metadata": {},
     "output_type": "display_data"
    },
    {
     "name": "stdout",
     "output_type": "stream",
     "text": [
      "Residual deviance: 36.457 on 59 degrees of freedom (ratio: 0.618)\n"
     ]
    },
    {
     "data": {
      "image/png": "[encoded data removed]",
      "text/plain": [
       "Plot with title \"density.default(x = resid(m1))\""
      ]
     },
     "metadata": {},
     "output_type": "display_data"
    },
    {
     "data": {
      "image/png": "[encoded data removed]",
      "text/plain": [
       "plot without title"
      ]
     },
     "metadata": {},
     "output_type": "display_data"
    },
    {
     "data": {
      "image/png": "[encoded data removed]",
      "text/plain": [
       "Plot with title \"Normal Q-Q Plot\""
      ]
     },
     "metadata": {},
     "output_type": "display_data"
    }
   ],
   "source": [
    "median(data[data$area=='ca3' & data$group=='control',]$prop_int,na.rm = TRUE)\n",
    "median(data[data$area=='ca3' & data$group=='pae',]$prop_int)\n",
    "\n",
    "m1 = glmer(prop_int ~ group + (1|rat/session), weights=n_int, data=data[data$area=='ca3',], family=\"binomial\")\n",
    "m1.null = glmer(prop_int ~ 1 + (1|rat/session), weights=n_int, data=data[data$area=='ca3',], family=\"binomial\")\n",
    "\n",
    "anova(m1.null, m1)  \n",
    "\n",
    "summary(m1)\n",
    "overdisp.glmer(m1)\n",
    "\n",
    "plot(density(resid(m1)))\n",
    "\n",
    "options(repr.plot.width = 4, repr.plot.height = 4)\n",
    "\n",
    "plot(m1)\n",
    "qqnorm(resid(m1))\n",
    "qqline(resid(m1))"
   ]
  },
  {
   "cell_type": "markdown",
   "metadata": {},
   "source": [
    "# pyramidal cell interneuron cell count data"
   ]
  },
  {
   "cell_type": "code",
   "execution_count": 10,
   "metadata": {},
   "outputs": [
    {
     "data": {
      "text/plain": [
       "       X             n_pyr           n_int          prop_pyr     \n",
       " Min.   :  0.0   Min.   : 0.00   Min.   : 0.00   Min.   :0.0000  \n",
       " 1st Qu.: 50.5   1st Qu.:12.00   1st Qu.: 7.00   1st Qu.:0.5241  \n",
       " Median :101.0   Median :25.00   Median :16.00   Median :0.6857  \n",
       " Mean   :101.0   Mean   :29.39   Mean   :16.24   Mean   :0.6460  \n",
       " 3rd Qu.:151.5   3rd Qu.:41.50   3rd Qu.:24.50   3rd Qu.:0.7748  \n",
       " Max.   :202.0   Max.   :92.00   Max.   :62.00   Max.   :1.0000  \n",
       "                                                                 \n",
       "    prop_int       area                        session        group    \n",
       " Min.   :0.0000   ca1: 80   LEM3124_S20190307132509:  2   control: 80  \n",
       " 1st Qu.:0.2252   ca3:123   LEM3124_S20190307163732:  2   pae    :123  \n",
       " Median :0.3143             LEM3124_S20190309145324:  2                \n",
       " Mean   :0.3540             LEM3124_S20190311161641:  2                \n",
       " 3rd Qu.:0.4759             LEM3124_S20190315160017:  2                \n",
       " Max.   :1.0000             LEM3124_S20190319154019:  2                \n",
       "                            (Other)                :191                \n",
       "      rat    \n",
       " LEM3124:37  \n",
       " LEM3206:36  \n",
       " LEM3116:30  \n",
       " LEM3216:28  \n",
       " LEM3246:22  \n",
       " LS19   :15  \n",
       " (Other):35  "
      ]
     },
     "metadata": {},
     "output_type": "display_data"
    }
   ],
   "source": [
    "data <- read.csv('F:/Projects/PAE_PlaceCell/analysis/cell_recruitment/processed/df_prop.csv')\n",
    "summary(data)"
   ]
  },
  {
   "cell_type": "code",
   "execution_count": 11,
   "metadata": {},
   "outputs": [],
   "source": [
    "data$groupup = factor(data$group, levels=c('control', 'pae'))\n",
    "data$rat = factor(data$rat)\n",
    "data$session = factor(data$session)\n",
    "data$area = factor(data$area, levels=c('ca1', 'ca3'))"
   ]
  },
  {
   "cell_type": "code",
   "execution_count": 12,
   "metadata": {},
   "outputs": [],
   "source": [
    "data$total = data$n_pyr + data$n_int"
   ]
  },
  {
   "cell_type": "code",
   "execution_count": 13,
   "metadata": {},
   "outputs": [
    {
     "data": {
      "text/html": [
       "0.802777777777778"
      ],
      "text/latex": [
       "0.802777777777778"
      ],
      "text/markdown": [
       "0.802777777777778"
      ],
      "text/plain": [
       "[1] 0.8027778"
      ]
     },
     "metadata": {},
     "output_type": "display_data"
    },
    {
     "data": {
      "text/html": [
       "0.637073170731707"
      ],
      "text/latex": [
       "0.637073170731707"
      ],
      "text/markdown": [
       "0.637073170731707"
      ],
      "text/plain": [
       "[1] 0.6370732"
      ]
     },
     "metadata": {},
     "output_type": "display_data"
    },
    {
     "data": {
      "text/html": [
       "<table>\n",
       "<thead><tr><th></th><th scope=col>npar</th><th scope=col>AIC</th><th scope=col>BIC</th><th scope=col>logLik</th><th scope=col>deviance</th><th scope=col>Chisq</th><th scope=col>Df</th><th scope=col>Pr(&gt;Chisq)</th></tr></thead>\n",
       "<tbody>\n",
       "\t<tr><th scope=row>m1.null</th><td>3        </td><td>497.4133 </td><td>504.5594 </td><td>-245.7066</td><td>491.4133 </td><td>      NA </td><td>NA       </td><td>       NA</td></tr>\n",
       "\t<tr><th scope=row>m1</th><td>4        </td><td>496.7670 </td><td>506.2951 </td><td>-244.3835</td><td>488.7670 </td><td>2.646308 </td><td> 1       </td><td>0.1037907</td></tr>\n",
       "</tbody>\n",
       "</table>\n"
      ],
      "text/latex": [
       "\\begin{tabular}{r|llllllll}\n",
       "  & npar & AIC & BIC & logLik & deviance & Chisq & Df & Pr(>Chisq)\\\\\n",
       "\\hline\n",
       "\tm1.null & 3         & 497.4133  & 504.5594  & -245.7066 & 491.4133  &       NA  & NA        &        NA\\\\\n",
       "\tm1 & 4         & 496.7670  & 506.2951  & -244.3835 & 488.7670  & 2.646308  &  1        & 0.1037907\\\\\n",
       "\\end{tabular}\n"
      ],
      "text/markdown": [
       "\n",
       "| <!--/--> | npar | AIC | BIC | logLik | deviance | Chisq | Df | Pr(>Chisq) |\n",
       "|---|---|---|---|---|---|---|---|---|\n",
       "| m1.null | 3         | 497.4133  | 504.5594  | -245.7066 | 491.4133  |       NA  | NA        |        NA |\n",
       "| m1 | 4         | 496.7670  | 506.2951  | -244.3835 | 488.7670  | 2.646308  |  1        | 0.1037907 |\n",
       "\n"
      ],
      "text/plain": [
       "        npar AIC      BIC      logLik    deviance Chisq    Df Pr(>Chisq)\n",
       "m1.null 3    497.4133 504.5594 -245.7066 491.4133       NA NA        NA \n",
       "m1      4    496.7670 506.2951 -244.3835 488.7670 2.646308  1 0.1037907 "
      ]
     },
     "metadata": {},
     "output_type": "display_data"
    },
    {
     "data": {
      "text/plain": [
       "Generalized linear mixed model fit by maximum likelihood (Laplace\n",
       "  Approximation) [glmerMod]\n",
       " Family: binomial  ( logit )\n",
       "Formula: prop_pyr ~ group + (1 | rat/session)\n",
       "   Data: data[data$area == \"ca1\", ]\n",
       "Weights: total\n",
       "\n",
       "     AIC      BIC   logLik deviance df.resid \n",
       "   496.8    506.3   -244.4    488.8       76 \n",
       "\n",
       "Scaled residuals: \n",
       "     Min       1Q   Median       3Q      Max \n",
       "-2.26548 -0.18223  0.04577  0.42789  1.42541 \n",
       "\n",
       "Random effects:\n",
       " Groups      Name        Variance Std.Dev.\n",
       " session:rat (Intercept) 0.3901   0.6245  \n",
       " rat         (Intercept) 0.2438   0.4938  \n",
       "Number of obs: 80, groups:  session:rat, 80; rat, 10\n",
       "\n",
       "Fixed effects:\n",
       "            Estimate Std. Error z value Pr(>|z|)    \n",
       "(Intercept)   0.9205     0.2763   3.331 0.000864 ***\n",
       "grouppae     -0.6753     0.3887  -1.738 0.082275 .  \n",
       "---\n",
       "Signif. codes:  0 '***' 0.001 '**' 0.01 '*' 0.05 '.' 0.1 ' ' 1\n",
       "\n",
       "Correlation of Fixed Effects:\n",
       "         (Intr)\n",
       "grouppae -0.704"
      ]
     },
     "metadata": {},
     "output_type": "display_data"
    },
    {
     "name": "stdout",
     "output_type": "stream",
     "text": [
      "Residual deviance: 38.106 on 76 degrees of freedom (ratio: 0.501)\n"
     ]
    },
    {
     "data": {
      "image/png": "[encoded data removed]",
      "text/plain": [
       "plot without title"
      ]
     },
     "metadata": {},
     "output_type": "display_data"
    },
    {
     "data": {
      "image/png": "[encoded data removed]",
      "text/plain": [
       "Plot with title \"Normal Q-Q Plot\""
      ]
     },
     "metadata": {},
     "output_type": "display_data"
    },
    {
     "data": {
      "image/png": "[encoded data removed]",
      "text/plain": [
       "Plot with title \"density.default(x = resid(m1))\""
      ]
     },
     "metadata": {},
     "output_type": "display_data"
    },
    {
     "data": {
      "image/png": "[encoded data removed]",
      "text/plain": [
       "plot without title"
      ]
     },
     "metadata": {},
     "output_type": "display_data"
    }
   ],
   "source": [
    "median(data[data$area=='ca1' & data$group=='control',]$prop_pyr)\n",
    "median(data[data$area=='ca1' & data$group=='pae',]$prop_pyr)\n",
    "\n",
    "m1 = glmer(prop_pyr ~ group + (1|rat/session), weights=total, data=data[data$area=='ca1',],family=\"binomial\")\n",
    "m1.null = glmer(prop_pyr ~ 1 + (1|rat/session), weights=total, data=data[data$area=='ca1',],family=\"binomial\")\n",
    "\n",
    "anova(m1.null, m1)  \n",
    "\n",
    "summary(m1)\n",
    "overdisp.glmer(m1)\n",
    "\n",
    "options(repr.plot.width = 4, repr.plot.height = 4)\n",
    "\n",
    "plot(m1)\n",
    "qqnorm(resid(m1))\n",
    "qqline(resid(m1))\n",
    "plot(density(resid(m1)))\n",
    "\n",
    "plot(prop_pyr ~ group, data = data[data$area == \"ca1\",])\n",
    "\n"
   ]
  },
  {
   "cell_type": "code",
   "execution_count": 14,
   "metadata": {},
   "outputs": [
    {
     "data": {
      "text/html": [
       "0.197222222222222"
      ],
      "text/latex": [
       "0.197222222222222"
      ],
      "text/markdown": [
       "0.197222222222222"
      ],
      "text/plain": [
       "[1] 0.1972222"
      ]
     },
     "metadata": {},
     "output_type": "display_data"
    },
    {
     "data": {
      "text/html": [
       "0.362926829268293"
      ],
      "text/latex": [
       "0.362926829268293"
      ],
      "text/markdown": [
       "0.362926829268293"
      ],
      "text/plain": [
       "[1] 0.3629268"
      ]
     },
     "metadata": {},
     "output_type": "display_data"
    },
    {
     "data": {
      "text/html": [
       "<table>\n",
       "<thead><tr><th></th><th scope=col>npar</th><th scope=col>AIC</th><th scope=col>BIC</th><th scope=col>logLik</th><th scope=col>deviance</th><th scope=col>Chisq</th><th scope=col>Df</th><th scope=col>Pr(&gt;Chisq)</th></tr></thead>\n",
       "<tbody>\n",
       "\t<tr><th scope=row>m1.null</th><td>3        </td><td>497.4133 </td><td>504.5594 </td><td>-245.7066</td><td>491.4133 </td><td>      NA </td><td>NA       </td><td>       NA</td></tr>\n",
       "\t<tr><th scope=row>m1</th><td>4        </td><td>496.7670 </td><td>506.2951 </td><td>-244.3835</td><td>488.7670 </td><td>2.646308 </td><td> 1       </td><td>0.1037907</td></tr>\n",
       "</tbody>\n",
       "</table>\n"
      ],
      "text/latex": [
       "\\begin{tabular}{r|llllllll}\n",
       "  & npar & AIC & BIC & logLik & deviance & Chisq & Df & Pr(>Chisq)\\\\\n",
       "\\hline\n",
       "\tm1.null & 3         & 497.4133  & 504.5594  & -245.7066 & 491.4133  &       NA  & NA        &        NA\\\\\n",
       "\tm1 & 4         & 496.7670  & 506.2951  & -244.3835 & 488.7670  & 2.646308  &  1        & 0.1037907\\\\\n",
       "\\end{tabular}\n"
      ],
      "text/markdown": [
       "\n",
       "| <!--/--> | npar | AIC | BIC | logLik | deviance | Chisq | Df | Pr(>Chisq) |\n",
       "|---|---|---|---|---|---|---|---|---|\n",
       "| m1.null | 3         | 497.4133  | 504.5594  | -245.7066 | 491.4133  |       NA  | NA        |        NA |\n",
       "| m1 | 4         | 496.7670  | 506.2951  | -244.3835 | 488.7670  | 2.646308  |  1        | 0.1037907 |\n",
       "\n"
      ],
      "text/plain": [
       "        npar AIC      BIC      logLik    deviance Chisq    Df Pr(>Chisq)\n",
       "m1.null 3    497.4133 504.5594 -245.7066 491.4133       NA NA        NA \n",
       "m1      4    496.7670 506.2951 -244.3835 488.7670 2.646308  1 0.1037907 "
      ]
     },
     "metadata": {},
     "output_type": "display_data"
    },
    {
     "data": {
      "text/plain": [
       "Generalized linear mixed model fit by maximum likelihood (Laplace\n",
       "  Approximation) [glmerMod]\n",
       " Family: binomial  ( logit )\n",
       "Formula: prop_int ~ group + (1 | rat/session)\n",
       "   Data: data[data$area == \"ca1\", ]\n",
       "Weights: total\n",
       "\n",
       "     AIC      BIC   logLik deviance df.resid \n",
       "   496.8    506.3   -244.4    488.8       76 \n",
       "\n",
       "Scaled residuals: \n",
       "     Min       1Q   Median       3Q      Max \n",
       "-1.42541 -0.42789 -0.04577  0.18223  2.26547 \n",
       "\n",
       "Random effects:\n",
       " Groups      Name        Variance Std.Dev.\n",
       " session:rat (Intercept) 0.3901   0.6246  \n",
       " rat         (Intercept) 0.2438   0.4938  \n",
       "Number of obs: 80, groups:  session:rat, 80; rat, 10\n",
       "\n",
       "Fixed effects:\n",
       "            Estimate Std. Error z value Pr(>|z|)    \n",
       "(Intercept)  -0.9204     0.2763  -3.331 0.000864 ***\n",
       "grouppae      0.6753     0.3886   1.738 0.082281 .  \n",
       "---\n",
       "Signif. codes:  0 '***' 0.001 '**' 0.01 '*' 0.05 '.' 0.1 ' ' 1\n",
       "\n",
       "Correlation of Fixed Effects:\n",
       "         (Intr)\n",
       "grouppae -0.704"
      ]
     },
     "metadata": {},
     "output_type": "display_data"
    },
    {
     "name": "stdout",
     "output_type": "stream",
     "text": [
      "Residual deviance: 38.105 on 76 degrees of freedom (ratio: 0.501)\n"
     ]
    },
    {
     "data": {
      "image/png": "[encoded data removed]",
      "text/plain": [
       "plot without title"
      ]
     },
     "metadata": {},
     "output_type": "display_data"
    },
    {
     "data": {
      "image/png": "[encoded data removed]",
      "text/plain": [
       "Plot with title \"Normal Q-Q Plot\""
      ]
     },
     "metadata": {},
     "output_type": "display_data"
    },
    {
     "data": {
      "image/png": "[encoded data removed]",
      "text/plain": [
       "Plot with title \"density.default(x = resid(m1))\""
      ]
     },
     "metadata": {},
     "output_type": "display_data"
    },
    {
     "data": {
      "image/png": "[encoded data removed]",
      "text/plain": [
       "plot without title"
      ]
     },
     "metadata": {},
     "output_type": "display_data"
    }
   ],
   "source": [
    "median(data[data$area=='ca1' & data$group=='control',]$prop_int)\n",
    "median(data[data$area=='ca1' & data$group=='pae',]$prop_int)\n",
    "\n",
    "m1 = glmer(prop_int ~ group + (1|rat/session), weights=total, data=data[data$area=='ca1',],family=\"binomial\")\n",
    "m1.null = glmer(prop_int ~ 1 + (1|rat/session), weights=total, data=data[data$area=='ca1',],family=\"binomial\")\n",
    "\n",
    "anova(m1.null, m1)  \n",
    "\n",
    "summary(m1)\n",
    "overdisp.glmer(m1)\n",
    "\n",
    "options(repr.plot.width = 4, repr.plot.height = 4)\n",
    "\n",
    "plot(m1)\n",
    "qqnorm(resid(m1))\n",
    "qqline(resid(m1))\n",
    "plot(density(resid(m1)))\n",
    "\n",
    "plot(prop_int ~ group, data = data[data$area == \"ca1\",])\n",
    "\n"
   ]
  },
  {
   "cell_type": "code",
   "execution_count": 15,
   "metadata": {},
   "outputs": [
    {
     "data": {
      "text/html": [
       "0.761327713382508"
      ],
      "text/latex": [
       "0.761327713382508"
      ],
      "text/markdown": [
       "0.761327713382508"
      ],
      "text/plain": [
       "[1] 0.7613277"
      ]
     },
     "metadata": {},
     "output_type": "display_data"
    },
    {
     "data": {
      "text/html": [
       "0.623931623931624"
      ],
      "text/latex": [
       "0.623931623931624"
      ],
      "text/markdown": [
       "0.623931623931624"
      ],
      "text/plain": [
       "[1] 0.6239316"
      ]
     },
     "metadata": {},
     "output_type": "display_data"
    },
    {
     "data": {
      "text/html": [
       "<table>\n",
       "<thead><tr><th></th><th scope=col>npar</th><th scope=col>AIC</th><th scope=col>BIC</th><th scope=col>logLik</th><th scope=col>deviance</th><th scope=col>Chisq</th><th scope=col>Df</th><th scope=col>Pr(&gt;Chisq)</th></tr></thead>\n",
       "<tbody>\n",
       "\t<tr><th scope=row>m1.null</th><td>3        </td><td>827.8613 </td><td>836.2978 </td><td>-410.9306</td><td>821.8613 </td><td>      NA </td><td>NA       </td><td>      NA </td></tr>\n",
       "\t<tr><th scope=row>m1</th><td>4        </td><td>827.7433 </td><td>838.9920 </td><td>-409.8716</td><td>819.7433 </td><td>2.118006 </td><td> 1       </td><td>0.145576 </td></tr>\n",
       "</tbody>\n",
       "</table>\n"
      ],
      "text/latex": [
       "\\begin{tabular}{r|llllllll}\n",
       "  & npar & AIC & BIC & logLik & deviance & Chisq & Df & Pr(>Chisq)\\\\\n",
       "\\hline\n",
       "\tm1.null & 3         & 827.8613  & 836.2978  & -410.9306 & 821.8613  &       NA  & NA        &       NA \\\\\n",
       "\tm1 & 4         & 827.7433  & 838.9920  & -409.8716 & 819.7433  & 2.118006  &  1        & 0.145576 \\\\\n",
       "\\end{tabular}\n"
      ],
      "text/markdown": [
       "\n",
       "| <!--/--> | npar | AIC | BIC | logLik | deviance | Chisq | Df | Pr(>Chisq) |\n",
       "|---|---|---|---|---|---|---|---|---|\n",
       "| m1.null | 3         | 827.8613  | 836.2978  | -410.9306 | 821.8613  |       NA  | NA        |       NA  |\n",
       "| m1 | 4         | 827.7433  | 838.9920  | -409.8716 | 819.7433  | 2.118006  |  1        | 0.145576  |\n",
       "\n"
      ],
      "text/plain": [
       "        npar AIC      BIC      logLik    deviance Chisq    Df Pr(>Chisq)\n",
       "m1.null 3    827.8613 836.2978 -410.9306 821.8613       NA NA       NA  \n",
       "m1      4    827.7433 838.9920 -409.8716 819.7433 2.118006  1 0.145576  "
      ]
     },
     "metadata": {},
     "output_type": "display_data"
    },
    {
     "data": {
      "text/plain": [
       "Generalized linear mixed model fit by maximum likelihood (Laplace\n",
       "  Approximation) [glmerMod]\n",
       " Family: binomial  ( logit )\n",
       "Formula: prop_pyr ~ group + (1 | rat/session)\n",
       "   Data: data[data$area == \"ca3\", ]\n",
       "Weights: total\n",
       "\n",
       "     AIC      BIC   logLik deviance df.resid \n",
       "   827.7    839.0   -409.9    819.7      119 \n",
       "\n",
       "Scaled residuals: \n",
       "     Min       1Q   Median       3Q      Max \n",
       "-1.36366 -0.21765  0.06279  0.22425  1.29923 \n",
       "\n",
       "Random effects:\n",
       " Groups      Name        Variance Std.Dev.\n",
       " session:rat (Intercept) 0.6264   0.7915  \n",
       " rat         (Intercept) 0.2710   0.5206  \n",
       "Number of obs: 123, groups:  session:rat, 123; rat, 8\n",
       "\n",
       "Fixed effects:\n",
       "            Estimate Std. Error z value Pr(>|z|)    \n",
       "(Intercept)   1.0828     0.3017   3.589 0.000332 ***\n",
       "grouppae     -0.7286     0.4395  -1.658 0.097370 .  \n",
       "---\n",
       "Signif. codes:  0 '***' 0.001 '**' 0.01 '*' 0.05 '.' 0.1 ' ' 1\n",
       "\n",
       "Correlation of Fixed Effects:\n",
       "         (Intr)\n",
       "grouppae -0.689"
      ]
     },
     "metadata": {},
     "output_type": "display_data"
    },
    {
     "name": "stdout",
     "output_type": "stream",
     "text": [
      "Residual deviance: 39.466 on 119 degrees of freedom (ratio: 0.332)\n"
     ]
    },
    {
     "data": {
      "image/png": "[encoded data removed]",
      "text/plain": [
       "plot without title"
      ]
     },
     "metadata": {},
     "output_type": "display_data"
    },
    {
     "data": {
      "image/png": "[encoded data removed]",
      "text/plain": [
       "Plot with title \"Normal Q-Q Plot\""
      ]
     },
     "metadata": {},
     "output_type": "display_data"
    },
    {
     "data": {
      "image/png": "[encoded data removed]",
      "text/plain": [
       "Plot with title \"density.default(x = resid(m1))\""
      ]
     },
     "metadata": {},
     "output_type": "display_data"
    },
    {
     "data": {
      "image/png": "[encoded data removed]",
      "text/plain": [
       "plot without title"
      ]
     },
     "metadata": {},
     "output_type": "display_data"
    }
   ],
   "source": [
    "median(data[data$area=='ca3' & data$group=='control',]$prop_pyr)\n",
    "median(data[data$area=='ca3' & data$group=='pae',]$prop_pyr)\n",
    "\n",
    "m1 = glmer(prop_pyr ~ group + (1|rat/session), weights=total, data=data[data$area=='ca3',],family=\"binomial\")\n",
    "m1.null = glmer(prop_pyr ~ 1 + (1|rat/session), weights=total, data=data[data$area=='ca3',],family=\"binomial\")\n",
    "\n",
    "anova(m1.null, m1)  \n",
    "\n",
    "summary(m1)\n",
    "overdisp.glmer(m1)\n",
    "\n",
    "options(repr.plot.width = 4, repr.plot.height = 4)\n",
    "\n",
    "plot(m1)\n",
    "qqnorm(resid(m1))\n",
    "qqline(resid(m1))\n",
    "plot(density(resid(m1)))\n",
    "\n",
    "plot(prop_pyr ~ group, data = data[data$area == \"ca3\",])\n"
   ]
  },
  {
   "cell_type": "code",
   "execution_count": 16,
   "metadata": {},
   "outputs": [
    {
     "data": {
      "text/html": [
       "0.238672286617492"
      ],
      "text/latex": [
       "0.238672286617492"
      ],
      "text/markdown": [
       "0.238672286617492"
      ],
      "text/plain": [
       "[1] 0.2386723"
      ]
     },
     "metadata": {},
     "output_type": "display_data"
    },
    {
     "data": {
      "text/html": [
       "0.376068376068376"
      ],
      "text/latex": [
       "0.376068376068376"
      ],
      "text/markdown": [
       "0.376068376068376"
      ],
      "text/plain": [
       "[1] 0.3760684"
      ]
     },
     "metadata": {},
     "output_type": "display_data"
    },
    {
     "data": {
      "text/html": [
       "<table>\n",
       "<thead><tr><th></th><th scope=col>npar</th><th scope=col>AIC</th><th scope=col>BIC</th><th scope=col>logLik</th><th scope=col>deviance</th><th scope=col>Chisq</th><th scope=col>Df</th><th scope=col>Pr(&gt;Chisq)</th></tr></thead>\n",
       "<tbody>\n",
       "\t<tr><th scope=row>m1.null</th><td>3        </td><td>827.8613 </td><td>836.2978 </td><td>-410.9306</td><td>821.8613 </td><td>      NA </td><td>NA       </td><td>      NA </td></tr>\n",
       "\t<tr><th scope=row>m1</th><td>4        </td><td>827.7433 </td><td>838.9920 </td><td>-409.8716</td><td>819.7433 </td><td>2.118006 </td><td> 1       </td><td>0.145576 </td></tr>\n",
       "</tbody>\n",
       "</table>\n"
      ],
      "text/latex": [
       "\\begin{tabular}{r|llllllll}\n",
       "  & npar & AIC & BIC & logLik & deviance & Chisq & Df & Pr(>Chisq)\\\\\n",
       "\\hline\n",
       "\tm1.null & 3         & 827.8613  & 836.2978  & -410.9306 & 821.8613  &       NA  & NA        &       NA \\\\\n",
       "\tm1 & 4         & 827.7433  & 838.9920  & -409.8716 & 819.7433  & 2.118006  &  1        & 0.145576 \\\\\n",
       "\\end{tabular}\n"
      ],
      "text/markdown": [
       "\n",
       "| <!--/--> | npar | AIC | BIC | logLik | deviance | Chisq | Df | Pr(>Chisq) |\n",
       "|---|---|---|---|---|---|---|---|---|\n",
       "| m1.null | 3         | 827.8613  | 836.2978  | -410.9306 | 821.8613  |       NA  | NA        |       NA  |\n",
       "| m1 | 4         | 827.7433  | 838.9920  | -409.8716 | 819.7433  | 2.118006  |  1        | 0.145576  |\n",
       "\n"
      ],
      "text/plain": [
       "        npar AIC      BIC      logLik    deviance Chisq    Df Pr(>Chisq)\n",
       "m1.null 3    827.8613 836.2978 -410.9306 821.8613       NA NA       NA  \n",
       "m1      4    827.7433 838.9920 -409.8716 819.7433 2.118006  1 0.145576  "
      ]
     },
     "metadata": {},
     "output_type": "display_data"
    },
    {
     "data": {
      "text/plain": [
       "Generalized linear mixed model fit by maximum likelihood (Laplace\n",
       "  Approximation) [glmerMod]\n",
       " Family: binomial  ( logit )\n",
       "Formula: prop_int ~ group + (1 | rat/session)\n",
       "   Data: data[data$area == \"ca3\", ]\n",
       "Weights: total\n",
       "\n",
       "     AIC      BIC   logLik deviance df.resid \n",
       "   827.7    839.0   -409.9    819.7      119 \n",
       "\n",
       "Scaled residuals: \n",
       "     Min       1Q   Median       3Q      Max \n",
       "-1.29923 -0.22425 -0.06279  0.21765  1.36365 \n",
       "\n",
       "Random effects:\n",
       " Groups      Name        Variance Std.Dev.\n",
       " session:rat (Intercept) 0.6264   0.7915  \n",
       " rat         (Intercept) 0.2710   0.5206  \n",
       "Number of obs: 123, groups:  session:rat, 123; rat, 8\n",
       "\n",
       "Fixed effects:\n",
       "            Estimate Std. Error z value Pr(>|z|)    \n",
       "(Intercept)  -1.0828     0.3017  -3.589 0.000332 ***\n",
       "grouppae      0.7286     0.4395   1.658 0.097368 .  \n",
       "---\n",
       "Signif. codes:  0 '***' 0.001 '**' 0.01 '*' 0.05 '.' 0.1 ' ' 1\n",
       "\n",
       "Correlation of Fixed Effects:\n",
       "         (Intr)\n",
       "grouppae -0.689"
      ]
     },
     "metadata": {},
     "output_type": "display_data"
    },
    {
     "name": "stdout",
     "output_type": "stream",
     "text": [
      "Residual deviance: 39.465 on 119 degrees of freedom (ratio: 0.332)\n"
     ]
    },
    {
     "data": {
      "image/png": "[encoded data removed]",
      "text/plain": [
       "plot without title"
      ]
     },
     "metadata": {},
     "output_type": "display_data"
    },
    {
     "data": {
      "image/png": "[encoded data removed]",
      "text/plain": [
       "Plot with title \"Normal Q-Q Plot\""
      ]
     },
     "metadata": {},
     "output_type": "display_data"
    },
    {
     "data": {
      "image/png": "[encoded data removed]",
      "text/plain": [
       "Plot with title \"density.default(x = resid(m1))\""
      ]
     },
     "metadata": {},
     "output_type": "display_data"
    },
    {
     "data": {
      "image/png": "[encoded data removed]",
      "text/plain": [
       "plot without title"
      ]
     },
     "metadata": {},
     "output_type": "display_data"
    }
   ],
   "source": [
    "median(data[data$area=='ca3' & data$group=='control',]$prop_int)\n",
    "median(data[data$area=='ca3' & data$group=='pae',]$prop_int)\n",
    "\n",
    "m1 = glmer(prop_int ~ group + (1|rat/session), weights=total, data=data[data$area=='ca3',],family=\"binomial\")\n",
    "m1.null = glmer(prop_int ~ 1 + (1|rat/session), weights=total, data=data[data$area=='ca3',],family=\"binomial\")\n",
    "\n",
    "anova(m1.null, m1)  \n",
    "\n",
    "summary(m1)\n",
    "overdisp.glmer(m1)\n",
    "\n",
    "options(repr.plot.width = 4, repr.plot.height = 4)\n",
    "\n",
    "plot(m1)\n",
    "qqnorm(resid(m1))\n",
    "qqline(resid(m1))\n",
    "plot(density(resid(m1)))\n",
    "\n",
    "plot(prop_int ~ group, data = data[data$area == \"ca3\",])\n",
    "\n"
   ]
  },
  {
   "cell_type": "markdown",
   "metadata": {},
   "source": [
    "# compare ripple phase modulation"
   ]
  },
  {
   "cell_type": "code",
   "execution_count": 21,
   "metadata": {},
   "outputs": [
    {
     "data": {
      "text/plain": [
       "       X            n_pyr        n_pyr_pass        n_int        n_int_pass    \n",
       " Min.   : 0.0   Min.   : 4.0   Min.   : 2.00   Min.   : 0.0   Min.   : 0.000  \n",
       " 1st Qu.:23.5   1st Qu.:24.0   1st Qu.:10.00   1st Qu.: 9.5   1st Qu.: 2.000  \n",
       " Median :47.0   Median :36.0   Median :18.00   Median :17.0   Median : 7.000  \n",
       " Mean   :47.0   Mean   :38.6   Mean   :19.65   Mean   :17.4   Mean   : 7.968  \n",
       " 3rd Qu.:70.5   3rd Qu.:49.5   3rd Qu.:26.50   3rd Qu.:26.0   3rd Qu.:11.500  \n",
       " Max.   :94.0   Max.   :92.0   Max.   :60.00   Max.   :45.0   Max.   :35.000  \n",
       "                                                                              \n",
       "    prop_pyr          prop_int       area                       session  \n",
       " Min.   :0.04545   Min.   :0.0000   ca1:27   LEM3124_S20190307163732: 2  \n",
       " 1st Qu.:0.38750   1st Qu.:0.3529   ca3:68   LEM3124_S20190309145324: 2  \n",
       " Median :0.51724   Median :0.5000            LEM3124_S20190315160017: 2  \n",
       " Mean   :0.50862   Mean   :0.4827            LEM3124_S20190319154019: 2  \n",
       " 3rd Qu.:0.66667   3rd Qu.:0.6071            LEM3124_S20190322123145: 2  \n",
       " Max.   :0.88889   Max.   :1.0000            LEM3124_S20190325164111: 2  \n",
       "                   NA's   :6                 (Other)                :83  \n",
       "     group         rat    \n",
       " control:33   LEM3124:28  \n",
       " pae    :62   LEM3216:21  \n",
       "              LEM3246:17  \n",
       "              LEM3206:15  \n",
       "              LEM3116: 9  \n",
       "              LEM3120: 2  \n",
       "              (Other): 3  "
      ]
     },
     "metadata": {},
     "output_type": "display_data"
    }
   ],
   "source": [
    "data <- read.csv('F:/Projects/PAE_PlaceCell/analysis/ripple_modulation_phase/post_processed/df_prop.csv')\n",
    "summary(data)"
   ]
  },
  {
   "cell_type": "code",
   "execution_count": 22,
   "metadata": {},
   "outputs": [],
   "source": [
    "data$groupup = factor(data$group, levels=c('control', 'pae'))\n",
    "data$rat = factor(data$rat)\n",
    "data$session = factor(data$session)\n",
    "data$area = factor(data$area, levels=c('ca1', 'ca3'))"
   ]
  },
  {
   "cell_type": "code",
   "execution_count": 24,
   "metadata": {},
   "outputs": [
    {
     "data": {
      "text/html": [
       "0.457831325301205"
      ],
      "text/latex": [
       "0.457831325301205"
      ],
      "text/markdown": [
       "0.457831325301205"
      ],
      "text/plain": [
       "[1] 0.4578313"
      ]
     },
     "metadata": {},
     "output_type": "display_data"
    },
    {
     "data": {
      "text/html": [
       "0.48218085106383"
      ],
      "text/latex": [
       "0.48218085106383"
      ],
      "text/markdown": [
       "0.48218085106383"
      ],
      "text/plain": [
       "[1] 0.4821809"
      ]
     },
     "metadata": {},
     "output_type": "display_data"
    },
    {
     "data": {
      "text/html": [
       "<table>\n",
       "<thead><tr><th></th><th scope=col>npar</th><th scope=col>AIC</th><th scope=col>BIC</th><th scope=col>logLik</th><th scope=col>deviance</th><th scope=col>Chisq</th><th scope=col>Df</th><th scope=col>Pr(&gt;Chisq)</th></tr></thead>\n",
       "<tbody>\n",
       "\t<tr><th scope=row>m1.null</th><td>3        </td><td>177.7160 </td><td>181.6035 </td><td>-85.85798</td><td>171.7160 </td><td>       NA</td><td>NA       </td><td>       NA</td></tr>\n",
       "\t<tr><th scope=row>m1</th><td>4        </td><td>179.4497 </td><td>184.6330 </td><td>-85.72484</td><td>171.4497 </td><td>0.2662759</td><td> 1       </td><td>0.6058409</td></tr>\n",
       "</tbody>\n",
       "</table>\n"
      ],
      "text/latex": [
       "\\begin{tabular}{r|llllllll}\n",
       "  & npar & AIC & BIC & logLik & deviance & Chisq & Df & Pr(>Chisq)\\\\\n",
       "\\hline\n",
       "\tm1.null & 3         & 177.7160  & 181.6035  & -85.85798 & 171.7160  &        NA & NA        &        NA\\\\\n",
       "\tm1 & 4         & 179.4497  & 184.6330  & -85.72484 & 171.4497  & 0.2662759 &  1        & 0.6058409\\\\\n",
       "\\end{tabular}\n"
      ],
      "text/markdown": [
       "\n",
       "| <!--/--> | npar | AIC | BIC | logLik | deviance | Chisq | Df | Pr(>Chisq) |\n",
       "|---|---|---|---|---|---|---|---|---|\n",
       "| m1.null | 3         | 177.7160  | 181.6035  | -85.85798 | 171.7160  |        NA | NA        |        NA |\n",
       "| m1 | 4         | 179.4497  | 184.6330  | -85.72484 | 171.4497  | 0.2662759 |  1        | 0.6058409 |\n",
       "\n"
      ],
      "text/plain": [
       "        npar AIC      BIC      logLik    deviance Chisq     Df Pr(>Chisq)\n",
       "m1.null 3    177.7160 181.6035 -85.85798 171.7160        NA NA        NA \n",
       "m1      4    179.4497 184.6330 -85.72484 171.4497 0.2662759  1 0.6058409 "
      ]
     },
     "metadata": {},
     "output_type": "display_data"
    },
    {
     "data": {
      "text/plain": [
       "Generalized linear mixed model fit by maximum likelihood (Laplace\n",
       "  Approximation) [glmerMod]\n",
       " Family: binomial  ( logit )\n",
       "Formula: prop_pyr ~ group + (1 | rat/session)\n",
       "   Data: data[data$area == \"ca1\", ]\n",
       "Weights: n_pyr\n",
       "\n",
       "     AIC      BIC   logLik deviance df.resid \n",
       "   179.4    184.6    -85.7    171.4       23 \n",
       "\n",
       "Scaled residuals: \n",
       "    Min      1Q  Median      3Q     Max \n",
       "-1.3555 -0.1742  0.1373  0.3463  1.1040 \n",
       "\n",
       "Random effects:\n",
       " Groups      Name        Variance Std.Dev.\n",
       " session:rat (Intercept) 0.2333   0.4830  \n",
       " rat         (Intercept) 0.3046   0.5519  \n",
       "Number of obs: 27, groups:  session:rat, 27; rat, 6\n",
       "\n",
       "Fixed effects:\n",
       "            Estimate Std. Error z value Pr(>|z|)\n",
       "(Intercept)  -0.1760     0.3983  -0.442    0.659\n",
       "grouppae      0.3115     0.5833   0.534    0.593\n",
       "\n",
       "Correlation of Fixed Effects:\n",
       "         (Intr)\n",
       "grouppae -0.645"
      ]
     },
     "metadata": {},
     "output_type": "display_data"
    },
    {
     "name": "stdout",
     "output_type": "stream",
     "text": [
      "Residual deviance: 8.006 on 23 degrees of freedom (ratio: 0.348)\n"
     ]
    },
    {
     "data": {
      "image/png": "[encoded data removed]",
      "text/plain": [
       "plot without title"
      ]
     },
     "metadata": {},
     "output_type": "display_data"
    },
    {
     "data": {
      "image/png": "[encoded data removed]",
      "text/plain": [
       "Plot with title \"Normal Q-Q Plot\""
      ]
     },
     "metadata": {},
     "output_type": "display_data"
    },
    {
     "data": {
      "image/png": "[encoded data removed]",
      "text/plain": [
       "Plot with title \"density.default(x = resid(m1))\""
      ]
     },
     "metadata": {},
     "output_type": "display_data"
    },
    {
     "data": {
      "image/png": "[encoded data removed]",
      "text/plain": [
       "plot without title"
      ]
     },
     "metadata": {},
     "output_type": "display_data"
    }
   ],
   "source": [
    "median(data[data$area=='ca1' & data$group=='control',]$prop_pyr)\n",
    "median(data[data$area=='ca1' & data$group=='pae',]$prop_pyr)\n",
    "\n",
    "m1 = glmer(prop_pyr ~ group + (1|rat/session), weights=n_pyr, data=data[data$area=='ca1',],family=\"binomial\")\n",
    "m1.null = glmer(prop_pyr ~ 1 + (1|rat/session), weights=n_pyr, data=data[data$area=='ca1',],family=\"binomial\")\n",
    "\n",
    "anova(m1.null, m1)  \n",
    "\n",
    "summary(m1)\n",
    "overdisp.glmer(m1)\n",
    "\n",
    "options(repr.plot.width = 4, repr.plot.height = 4)\n",
    "\n",
    "plot(m1)\n",
    "qqnorm(resid(m1))\n",
    "qqline(resid(m1))\n",
    "plot(density(resid(m1)))\n",
    "\n",
    "plot(prop_pyr ~ group, data = data[data$area == \"ca1\",])"
   ]
  },
  {
   "cell_type": "code",
   "execution_count": 27,
   "metadata": {},
   "outputs": [
    {
     "data": {
      "text/html": [
       "0.113095238095238"
      ],
      "text/latex": [
       "0.113095238095238"
      ],
      "text/markdown": [
       "0.113095238095238"
      ],
      "text/plain": [
       "[1] 0.1130952"
      ]
     },
     "metadata": {},
     "output_type": "display_data"
    },
    {
     "data": {
      "text/html": [
       "0.458333333333333"
      ],
      "text/latex": [
       "0.458333333333333"
      ],
      "text/markdown": [
       "0.458333333333333"
      ],
      "text/plain": [
       "[1] 0.4583333"
      ]
     },
     "metadata": {},
     "output_type": "display_data"
    },
    {
     "name": "stderr",
     "output_type": "stream",
     "text": [
      "Warning message in eval(family$initialize, rho):\n",
      "\"non-integer #successes in a binomial glm!\"Warning message in eval(family$initialize, rho):\n",
      "\"non-integer #successes in a binomial glm!\""
     ]
    },
    {
     "data": {
      "text/html": [
       "<table>\n",
       "<thead><tr><th></th><th scope=col>npar</th><th scope=col>AIC</th><th scope=col>BIC</th><th scope=col>logLik</th><th scope=col>deviance</th><th scope=col>Chisq</th><th scope=col>Df</th><th scope=col>Pr(&gt;Chisq)</th></tr></thead>\n",
       "<tbody>\n",
       "\t<tr><th scope=row>m1.null</th><td>3        </td><td>187.4422 </td><td>191.2165 </td><td>-90.72110</td><td>181.4422 </td><td>       NA</td><td>NA       </td><td>       NA</td></tr>\n",
       "\t<tr><th scope=row>m1</th><td>4        </td><td>188.4888 </td><td>193.5212 </td><td>-90.24441</td><td>180.4888 </td><td>0.9533863</td><td> 1       </td><td>0.3288588</td></tr>\n",
       "</tbody>\n",
       "</table>\n"
      ],
      "text/latex": [
       "\\begin{tabular}{r|llllllll}\n",
       "  & npar & AIC & BIC & logLik & deviance & Chisq & Df & Pr(>Chisq)\\\\\n",
       "\\hline\n",
       "\tm1.null & 3         & 187.4422  & 191.2165  & -90.72110 & 181.4422  &        NA & NA        &        NA\\\\\n",
       "\tm1 & 4         & 188.4888  & 193.5212  & -90.24441 & 180.4888  & 0.9533863 &  1        & 0.3288588\\\\\n",
       "\\end{tabular}\n"
      ],
      "text/markdown": [
       "\n",
       "| <!--/--> | npar | AIC | BIC | logLik | deviance | Chisq | Df | Pr(>Chisq) |\n",
       "|---|---|---|---|---|---|---|---|---|\n",
       "| m1.null | 3         | 187.4422  | 191.2165  | -90.72110 | 181.4422  |        NA | NA        |        NA |\n",
       "| m1 | 4         | 188.4888  | 193.5212  | -90.24441 | 180.4888  | 0.9533863 |  1        | 0.3288588 |\n",
       "\n"
      ],
      "text/plain": [
       "        npar AIC      BIC      logLik    deviance Chisq     Df Pr(>Chisq)\n",
       "m1.null 3    187.4422 191.2165 -90.72110 181.4422        NA NA        NA \n",
       "m1      4    188.4888 193.5212 -90.24441 180.4888 0.9533863  1 0.3288588 "
      ]
     },
     "metadata": {},
     "output_type": "display_data"
    },
    {
     "data": {
      "text/plain": [
       "Generalized linear mixed model fit by maximum likelihood (Laplace\n",
       "  Approximation) [glmerMod]\n",
       " Family: binomial  ( logit )\n",
       "Formula: prop_int ~ group + (1 | rat/session)\n",
       "   Data: data[data$area == \"ca1\", ]\n",
       "Weights: n_pyr\n",
       "\n",
       "     AIC      BIC   logLik deviance df.resid \n",
       "   188.5    193.5    -90.2    180.5       22 \n",
       "\n",
       "Scaled residuals: \n",
       "     Min       1Q   Median       3Q      Max \n",
       "-1.26430 -0.16533  0.00002  0.13061  1.36945 \n",
       "\n",
       "Random effects:\n",
       " Groups      Name        Variance Std.Dev.\n",
       " session:rat (Intercept) 1.0066   1.0033  \n",
       " rat         (Intercept) 0.8729   0.9343  \n",
       "Number of obs: 26, groups:  session:rat, 26; rat, 6\n",
       "\n",
       "Fixed effects:\n",
       "            Estimate Std. Error z value Pr(>|z|)  \n",
       "(Intercept)  -1.4630     0.8334  -1.756   0.0792 .\n",
       "grouppae      1.3407     1.1070   1.211   0.2258  \n",
       "---\n",
       "Signif. codes:  0 '***' 0.001 '**' 0.01 '*' 0.05 '.' 0.1 ' ' 1\n",
       "\n",
       "Correlation of Fixed Effects:\n",
       "         (Intr)\n",
       "grouppae -0.731"
      ]
     },
     "metadata": {},
     "output_type": "display_data"
    },
    {
     "name": "stdout",
     "output_type": "stream",
     "text": [
      "Residual deviance: 11.861 on 22 degrees of freedom (ratio: 0.539)\n"
     ]
    },
    {
     "data": {
      "image/png": "[encoded data removed]",
      "text/plain": [
       "plot without title"
      ]
     },
     "metadata": {},
     "output_type": "display_data"
    },
    {
     "data": {
      "image/png": "[encoded data removed]",
      "text/plain": [
       "Plot with title \"Normal Q-Q Plot\""
      ]
     },
     "metadata": {},
     "output_type": "display_data"
    },
    {
     "data": {
      "image/png": "[encoded data removed]",
      "text/plain": [
       "Plot with title \"density.default(x = resid(m1))\""
      ]
     },
     "metadata": {},
     "output_type": "display_data"
    },
    {
     "data": {
      "image/png": "[encoded data removed]",
      "text/plain": [
       "plot without title"
      ]
     },
     "metadata": {},
     "output_type": "display_data"
    }
   ],
   "source": [
    "median(data[data$area=='ca1' & data$group=='control',]$prop_int,na.rm = TRUE)\n",
    "median(data[data$area=='ca1' & data$group=='pae',]$prop_int)\n",
    "\n",
    "m1 = glmer(prop_int ~ group + (1|rat/session), weights=n_pyr, data=data[data$area=='ca1',],family=\"binomial\")\n",
    "m1.null = glmer(prop_int ~ 1 + (1|rat/session), weights=n_pyr, data=data[data$area=='ca1',],family=\"binomial\")\n",
    "\n",
    "anova(m1.null, m1)  \n",
    "\n",
    "summary(m1)\n",
    "overdisp.glmer(m1)\n",
    "\n",
    "options(repr.plot.width = 4, repr.plot.height = 4)\n",
    "\n",
    "plot(m1)\n",
    "qqnorm(resid(m1))\n",
    "qqline(resid(m1))\n",
    "plot(density(resid(m1)))\n",
    "\n",
    "plot(prop_int ~ group, data = data[data$area == \"ca1\",])"
   ]
  },
  {
   "cell_type": "code",
   "execution_count": 28,
   "metadata": {},
   "outputs": [
    {
     "data": {
      "text/html": [
       "0.555759803921569"
      ],
      "text/latex": [
       "0.555759803921569"
      ],
      "text/markdown": [
       "0.555759803921569"
      ],
      "text/plain": [
       "[1] 0.5557598"
      ]
     },
     "metadata": {},
     "output_type": "display_data"
    },
    {
     "data": {
      "text/html": [
       "0.606944444444445"
      ],
      "text/latex": [
       "0.606944444444445"
      ],
      "text/markdown": [
       "0.606944444444445"
      ],
      "text/plain": [
       "[1] 0.6069444"
      ]
     },
     "metadata": {},
     "output_type": "display_data"
    },
    {
     "data": {
      "text/html": [
       "<table>\n",
       "<thead><tr><th></th><th scope=col>npar</th><th scope=col>AIC</th><th scope=col>BIC</th><th scope=col>logLik</th><th scope=col>deviance</th><th scope=col>Chisq</th><th scope=col>Df</th><th scope=col>Pr(&gt;Chisq)</th></tr></thead>\n",
       "<tbody>\n",
       "\t<tr><th scope=row>m1.null</th><td>3           </td><td>435.5615    </td><td>442.2200    </td><td>-214.7808   </td><td>429.5615    </td><td>          NA</td><td>NA          </td><td>       NA   </td></tr>\n",
       "\t<tr><th scope=row>m1</th><td>4           </td><td>437.5611    </td><td>446.4391    </td><td>-214.7805   </td><td>429.5611    </td><td>0.0004439992</td><td> 1          </td><td>0.9831888   </td></tr>\n",
       "</tbody>\n",
       "</table>\n"
      ],
      "text/latex": [
       "\\begin{tabular}{r|llllllll}\n",
       "  & npar & AIC & BIC & logLik & deviance & Chisq & Df & Pr(>Chisq)\\\\\n",
       "\\hline\n",
       "\tm1.null & 3            & 435.5615     & 442.2200     & -214.7808    & 429.5615     &           NA & NA           &        NA   \\\\\n",
       "\tm1 & 4            & 437.5611     & 446.4391     & -214.7805    & 429.5611     & 0.0004439992 &  1           & 0.9831888   \\\\\n",
       "\\end{tabular}\n"
      ],
      "text/markdown": [
       "\n",
       "| <!--/--> | npar | AIC | BIC | logLik | deviance | Chisq | Df | Pr(>Chisq) |\n",
       "|---|---|---|---|---|---|---|---|---|\n",
       "| m1.null | 3            | 435.5615     | 442.2200     | -214.7808    | 429.5615     |           NA | NA           |        NA    |\n",
       "| m1 | 4            | 437.5611     | 446.4391     | -214.7805    | 429.5611     | 0.0004439992 |  1           | 0.9831888    |\n",
       "\n"
      ],
      "text/plain": [
       "        npar AIC      BIC      logLik    deviance Chisq        Df Pr(>Chisq)\n",
       "m1.null 3    435.5615 442.2200 -214.7808 429.5615           NA NA        NA \n",
       "m1      4    437.5611 446.4391 -214.7805 429.5611 0.0004439992  1 0.9831888 "
      ]
     },
     "metadata": {},
     "output_type": "display_data"
    },
    {
     "data": {
      "text/plain": [
       "Generalized linear mixed model fit by maximum likelihood (Laplace\n",
       "  Approximation) [glmerMod]\n",
       " Family: binomial  ( logit )\n",
       "Formula: prop_pyr ~ group + (1 | rat/session)\n",
       "   Data: data[data$area == \"ca3\", ]\n",
       "Weights: n_pyr\n",
       "\n",
       "     AIC      BIC   logLik deviance df.resid \n",
       "   437.6    446.4   -214.8    429.6       64 \n",
       "\n",
       "Scaled residuals: \n",
       "     Min       1Q   Median       3Q      Max \n",
       "-1.67465 -0.21990  0.02122  0.33295  1.11380 \n",
       "\n",
       "Random effects:\n",
       " Groups      Name        Variance Std.Dev.\n",
       " session:rat (Intercept) 0.4317   0.657   \n",
       " rat         (Intercept) 0.1657   0.407   \n",
       "Number of obs: 68, groups:  session:rat, 68; rat, 6\n",
       "\n",
       "Fixed effects:\n",
       "            Estimate Std. Error z value Pr(>|z|)\n",
       "(Intercept) 0.131512   0.310084   0.424    0.671\n",
       "grouppae    0.008566   0.405953   0.021    0.983\n",
       "\n",
       "Correlation of Fixed Effects:\n",
       "         (Intr)\n",
       "grouppae -0.764"
      ]
     },
     "metadata": {},
     "output_type": "display_data"
    },
    {
     "name": "stdout",
     "output_type": "stream",
     "text": [
      "Residual deviance: 22.187 on 64 degrees of freedom (ratio: 0.347)\n"
     ]
    },
    {
     "data": {
      "image/png": "[encoded data removed]",
      "text/plain": [
       "plot without title"
      ]
     },
     "metadata": {},
     "output_type": "display_data"
    },
    {
     "data": {
      "image/png": "[encoded data removed]",
      "text/plain": [
       "Plot with title \"Normal Q-Q Plot\""
      ]
     },
     "metadata": {},
     "output_type": "display_data"
    },
    {
     "data": {
      "image/png": "[encoded data removed]",
      "text/plain": [
       "Plot with title \"density.default(x = resid(m1))\""
      ]
     },
     "metadata": {},
     "output_type": "display_data"
    },
    {
     "data": {
      "image/png": "[encoded data removed]",
      "text/plain": [
       "plot without title"
      ]
     },
     "metadata": {},
     "output_type": "display_data"
    }
   ],
   "source": [
    "median(data[data$area=='ca3' & data$group=='control',]$prop_pyr)\n",
    "median(data[data$area=='ca3' & data$group=='pae',]$prop_pyr)\n",
    "\n",
    "m1 = glmer(prop_pyr ~ group + (1|rat/session), weights=n_pyr, data=data[data$area=='ca3',],family=\"binomial\")\n",
    "m1.null = glmer(prop_pyr ~ 1 + (1|rat/session), weights=n_pyr, data=data[data$area=='ca3',],family=\"binomial\")\n",
    "\n",
    "anova(m1.null, m1)  \n",
    "\n",
    "summary(m1)\n",
    "overdisp.glmer(m1)\n",
    "\n",
    "options(repr.plot.width = 4, repr.plot.height = 4)\n",
    "\n",
    "plot(m1)\n",
    "qqnorm(resid(m1))\n",
    "qqline(resid(m1))\n",
    "plot(density(resid(m1)))\n",
    "\n",
    "plot(prop_pyr ~ group, data = data[data$area == \"ca3\",])\n"
   ]
  },
  {
   "cell_type": "code",
   "execution_count": 30,
   "metadata": {},
   "outputs": [
    {
     "data": {
      "text/html": [
       "0.571428571428571"
      ],
      "text/latex": [
       "0.571428571428571"
      ],
      "text/markdown": [
       "0.571428571428571"
      ],
      "text/plain": [
       "[1] 0.5714286"
      ]
     },
     "metadata": {},
     "output_type": "display_data"
    },
    {
     "data": {
      "text/html": [
       "0.5"
      ],
      "text/latex": [
       "0.5"
      ],
      "text/markdown": [
       "0.5"
      ],
      "text/plain": [
       "[1] 0.5"
      ]
     },
     "metadata": {},
     "output_type": "display_data"
    },
    {
     "name": "stderr",
     "output_type": "stream",
     "text": [
      "Warning message in eval(family$initialize, rho):\n",
      "\"non-integer #successes in a binomial glm!\"Warning message in eval(family$initialize, rho):\n",
      "\"non-integer #successes in a binomial glm!\""
     ]
    },
    {
     "data": {
      "text/html": [
       "<table>\n",
       "<thead><tr><th></th><th scope=col>npar</th><th scope=col>AIC</th><th scope=col>BIC</th><th scope=col>logLik</th><th scope=col>deviance</th><th scope=col>Chisq</th><th scope=col>Df</th><th scope=col>Pr(&gt;Chisq)</th></tr></thead>\n",
       "<tbody>\n",
       "\t<tr><th scope=row>m1.null</th><td>3        </td><td>442.5726 </td><td>449.0020 </td><td>-218.2863</td><td>436.5726 </td><td>       NA</td><td>NA       </td><td>       NA</td></tr>\n",
       "\t<tr><th scope=row>m1</th><td>4        </td><td>444.0365 </td><td>452.6091 </td><td>-218.0183</td><td>436.0365 </td><td>0.5361184</td><td> 1       </td><td>0.4640458</td></tr>\n",
       "</tbody>\n",
       "</table>\n"
      ],
      "text/latex": [
       "\\begin{tabular}{r|llllllll}\n",
       "  & npar & AIC & BIC & logLik & deviance & Chisq & Df & Pr(>Chisq)\\\\\n",
       "\\hline\n",
       "\tm1.null & 3         & 442.5726  & 449.0020  & -218.2863 & 436.5726  &        NA & NA        &        NA\\\\\n",
       "\tm1 & 4         & 444.0365  & 452.6091  & -218.0183 & 436.0365  & 0.5361184 &  1        & 0.4640458\\\\\n",
       "\\end{tabular}\n"
      ],
      "text/markdown": [
       "\n",
       "| <!--/--> | npar | AIC | BIC | logLik | deviance | Chisq | Df | Pr(>Chisq) |\n",
       "|---|---|---|---|---|---|---|---|---|\n",
       "| m1.null | 3         | 442.5726  | 449.0020  | -218.2863 | 436.5726  |        NA | NA        |        NA |\n",
       "| m1 | 4         | 444.0365  | 452.6091  | -218.0183 | 436.0365  | 0.5361184 |  1        | 0.4640458 |\n",
       "\n"
      ],
      "text/plain": [
       "        npar AIC      BIC      logLik    deviance Chisq     Df Pr(>Chisq)\n",
       "m1.null 3    442.5726 449.0020 -218.2863 436.5726        NA NA        NA \n",
       "m1      4    444.0365 452.6091 -218.0183 436.0365 0.5361184  1 0.4640458 "
      ]
     },
     "metadata": {},
     "output_type": "display_data"
    },
    {
     "data": {
      "text/plain": [
       "Generalized linear mixed model fit by maximum likelihood (Laplace\n",
       "  Approximation) [glmerMod]\n",
       " Family: binomial  ( logit )\n",
       "Formula: prop_int ~ group + (1 | rat/session)\n",
       "   Data: data[data$area == \"ca3\", ]\n",
       "Weights: n_pyr\n",
       "\n",
       "     AIC      BIC   logLik deviance df.resid \n",
       "   444.0    452.6   -218.0    436.0       59 \n",
       "\n",
       "Scaled residuals: \n",
       "     Min       1Q   Median       3Q      Max \n",
       "-1.65663 -0.14581  0.00075  0.12101  1.42655 \n",
       "\n",
       "Random effects:\n",
       " Groups      Name        Variance Std.Dev.\n",
       " session:rat (Intercept) 1.064    1.0316  \n",
       " rat         (Intercept) 0.116    0.3406  \n",
       "Number of obs: 63, groups:  session:rat, 63; rat, 6\n",
       "\n",
       "Fixed effects:\n",
       "            Estimate Std. Error z value Pr(>|z|)\n",
       "(Intercept)   0.3308     0.3618   0.914    0.361\n",
       "grouppae     -0.3494     0.4449  -0.785    0.432\n",
       "\n",
       "Correlation of Fixed Effects:\n",
       "         (Intr)\n",
       "grouppae -0.814"
      ]
     },
     "metadata": {},
     "output_type": "display_data"
    },
    {
     "name": "stdout",
     "output_type": "stream",
     "text": [
      "Residual deviance: 28.528 on 59 degrees of freedom (ratio: 0.484)\n"
     ]
    },
    {
     "data": {
      "image/png": "[encoded data removed]",
      "text/plain": [
       "plot without title"
      ]
     },
     "metadata": {},
     "output_type": "display_data"
    },
    {
     "data": {
      "image/png": "[encoded data removed]",
      "text/plain": [
       "Plot with title \"Normal Q-Q Plot\""
      ]
     },
     "metadata": {},
     "output_type": "display_data"
    },
    {
     "data": {
      "image/png": "[encoded data removed]",
      "text/plain": [
       "Plot with title \"density.default(x = resid(m1))\""
      ]
     },
     "metadata": {},
     "output_type": "display_data"
    },
    {
     "data": {
      "image/png": "[encoded data removed]",
      "text/plain": [
       "plot without title"
      ]
     },
     "metadata": {},
     "output_type": "display_data"
    }
   ],
   "source": [
    "median(data[data$area=='ca3' & data$group=='control',]$prop_int,na.rm = TRUE)\n",
    "median(data[data$area=='ca3' & data$group=='pae',]$prop_int)\n",
    "\n",
    "m1 = glmer(prop_int ~ group + (1|rat/session), weights=n_pyr, data=data[data$area=='ca3',],family=\"binomial\")\n",
    "m1.null = glmer(prop_int ~ 1 + (1|rat/session), weights=n_pyr, data=data[data$area=='ca3',],family=\"binomial\")\n",
    "\n",
    "anova(m1.null, m1)  \n",
    "\n",
    "summary(m1)\n",
    "overdisp.glmer(m1)\n",
    "\n",
    "options(repr.plot.width = 4, repr.plot.height = 4)\n",
    "\n",
    "plot(m1)\n",
    "qqnorm(resid(m1))\n",
    "qqline(resid(m1))\n",
    "plot(density(resid(m1)))\n",
    "\n",
    "plot(prop_int ~ group, data = data[data$area == \"ca3\",])"
   ]
  }
 ],
 "metadata": {
  "kernelspec": {
   "display_name": "R",
   "language": "R",
   "name": "ir"
  },
  "language_info": {
   "codemirror_mode": "r",
   "file_extension": ".r",
   "mimetype": "text/x-r-source",
   "name": "R",
   "pygments_lexer": "r",
   "version": "3.6.1"
  }
 },
 "nbformat": 4,
 "nbformat_minor": 4
}
