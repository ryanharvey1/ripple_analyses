{
 "cells": [
  {
   "cell_type": "markdown",
   "metadata": {},
   "source": [
    "### pull out spikes from matlab files and resave as npy files for much quicker loading"
   ]
  },
  {
   "cell_type": "code",
   "execution_count": 1,
   "metadata": {},
   "outputs": [],
   "source": [
    "import sys\n",
    "sys.path.append(\"D:/ryanh/github/ripple_analyses\")\n",
    "from functions import *\n",
    "from pathlib import Path\n",
    "from joblib import Parallel, delayed\n",
    "import multiprocessing\n",
    "import numpy as np\n",
    "import glob"
   ]
  },
  {
   "cell_type": "code",
   "execution_count": 4,
   "metadata": {},
   "outputs": [],
   "source": [
    "def main_loop(file,save_path):\n",
    "    save_file = save_path+Path(file).stem+'.npy'\n",
    "    if os.path.exists(save_file):\n",
    "        return\n",
    "    try:\n",
    "        spikes = get_spikes(file)\n",
    "    except:\n",
    "        return\n",
    "    np.save(save_file, spikes,allow_pickle=True)\n",
    "\n",
    "data_path = 'F:/Projects/PAE_PlaceCell/ProcessedData/'\n",
    "save_path = 'F:/Projects/PAE_PlaceCell/analysis/spikes/'\n",
    "\n",
    "files = glob.glob(data_path+'*.mat')\n",
    "\n",
    "# for file in files:\n",
    "#     main_loop(file,save_path)\n",
    "\n",
    "num_cores = multiprocessing.cpu_count()         \n",
    "processed_list = Parallel(n_jobs=num_cores)(delayed(main_loop)(file,save_path) for file in files)    "
   ]
  }
 ],
 "metadata": {
  "kernelspec": {
   "display_name": "Python 3",
   "language": "python",
   "name": "python3"
  },
  "language_info": {
   "codemirror_mode": {
    "name": "ipython",
    "version": 3
   },
   "file_extension": ".py",
   "mimetype": "text/x-python",
   "name": "python",
   "nbconvert_exporter": "python",
   "pygments_lexer": "ipython3",
   "version": "3.8.5"
  }
 },
 "nbformat": 4,
 "nbformat_minor": 4
}
