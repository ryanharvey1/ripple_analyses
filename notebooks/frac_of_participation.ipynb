{
 "cells": [
  {
   "cell_type": "markdown",
   "metadata": {},
   "source": [
    "## Look at number of neurons that participate into ripple events"
   ]
  },
  {
   "cell_type": "code",
   "execution_count": 59,
   "metadata": {},
   "outputs": [],
   "source": [
    "import pandas as pd\n",
    "import sys\n",
    "import pickle\n",
    "sys.path.append(\"D:/ryanh/github/ripple_analyses\")\n",
    "from functions import *\n",
    "from matplotlib import pyplot as plt\n",
    "import numpy as np\n",
    "\n",
    "from tqdm import tqdm\n",
    "\n",
    "import itertools\n",
    "# from scipy.ndimage import gaussian_filter1d\n",
    "# import multiprocessing\n",
    "# from joblib import Parallel, delayed\n",
    "# import glob as glob\n",
    "# from scipy.stats import poisson,zscore\n",
    "# import seaborn as sns\n",
    "# import matplotlib.ticker as ticker\n",
    "# from scipy import signal\n",
    "# from itertools import groupby\n"
   ]
  },
  {
   "cell_type": "code",
   "execution_count": null,
   "metadata": {},
   "outputs": [],
   "source": []
  },
  {
   "cell_type": "code",
   "execution_count": 6,
   "metadata": {},
   "outputs": [],
   "source": [
    "project_path = 'F:/Projects/PAE_PlaceCell/'\n",
    "analysis_path = project_path+'analysis/'\n",
    "data_path = project_path+'ProcessedData/'          \n",
    "save_path = analysis_path+\"ripple_modulation/\"\n",
    "df_swr = pd.read_csv(analysis_path+'swr_data/post_processed/swr_df.csv')\n",
    "df_cell_class = pd.read_csv(analysis_path+'cell_recruitment/processed/pyr_int_df.csv')\n",
    "\n",
    "spikes_path = 'F:/Projects/PAE_PlaceCell/analysis/spikes'"
   ]
  },
  {
   "cell_type": "code",
   "execution_count": 84,
   "metadata": {},
   "outputs": [],
   "source": [
    "def get_recruted(spikes,df_swr,session):\n",
    "    # loop through each ripple and each cell to see if the ripple recruited each cell\n",
    "    recruited = np.zeros([len(df_swr[df_swr.session == session]),spikes.shape[0]])\n",
    "    for i,event in enumerate(df_swr[df_swr.session == session].itertuples()):\n",
    "        for j,s in enumerate(spikes):\n",
    "            recruited[i,j] = any((s >= event.start_time) & (s <= event.end_time))\n",
    "\n",
    "    # fraction of all recorded neurons participating in each ripple        \n",
    "    recruit_frac = recruited.sum(axis=1) / spikes.shape[0]     \n",
    "    \n",
    "    return recruit_frac\n",
    "\n",
    "def add_group_affiliation(df):\n",
    "    control=('RH13','RH14','LS21','LS23','LE2821','LE2823','LEM3116','LEM3120','LEM3216')\n",
    "    pae=('RH11','RH16','LS17','LS19','LE2813','LEM3124','LEM3206','LEM3246')\n",
    "\n",
    "    df['group'] = np.ones_like(df.session)\n",
    "\n",
    "    regstr = '|'.join(control)\n",
    "    idx = df['session'].str.upper().str.contains(regstr)    \n",
    "    df.loc[idx,'group'] = 'control'\n",
    "\n",
    "    regstr = '|'.join(pae)\n",
    "    idx = df['session'].str.upper().str.contains(regstr)    \n",
    "    df.loc[idx,'group'] = 'pae'\n",
    "    return df"
   ]
  },
  {
   "cell_type": "code",
   "execution_count": 110,
   "metadata": {},
   "outputs": [
    {
     "name": "stderr",
     "output_type": "stream",
     "text": [
      "100%|██████████████████████████████████████████████████████████████| 189/189 [02:06<00:00,  1.49it/s]\n"
     ]
    }
   ],
   "source": [
    "recruit_frac = []\n",
    "area = []\n",
    "session_ = []\n",
    "n_ripples = []\n",
    "for session in tqdm(df_swr.session.unique()):\n",
    "\n",
    "    spikes = np.load(\n",
    "        os.path.join(spikes_path,session+'.npy'),\n",
    "        allow_pickle=True\n",
    "    )\n",
    "\n",
    "    # maybe multiple areas in a single recording session\n",
    "    for area_ in df_cell_class[df_cell_class.session == session].area.unique():\n",
    "        # pull out cells for current session\n",
    "        cur_spikes = spikes[df_cell_class[df_cell_class.session == session].area==area_]\n",
    "        # restrict cells to those with >= 100 spikes\n",
    "        n_spikes = [len(s) for s in cur_spikes]\n",
    "        cur_spikes = cur_spikes[np.array(n_spikes) >= 100]\n",
    "        # calculate the fraction of active units per ripple\n",
    "        recruit_frac.append(get_recruted(cur_spikes,df_swr,session))\n",
    "        # add number of ripples\n",
    "        n_ripples.append(np.repeat(len(df_swr[df_swr.session == session]), len(df_swr[df_swr.session == session])))        \n",
    "        # add area ID\n",
    "        area.append([area_]*len(df_swr[df_swr.session == session]))\n",
    "        # add session ID\n",
    "        session_.append([session]*len(df_swr[df_swr.session == session]))\n"
   ]
  },
  {
   "cell_type": "code",
   "execution_count": 109,
   "metadata": {},
   "outputs": [
    {
     "data": {
      "text/plain": [
       "array([11, 11, 11, 11, 11, 11, 11, 11, 11, 11, 11])"
      ]
     },
     "execution_count": 109,
     "metadata": {},
     "output_type": "execute_result"
    }
   ],
   "source": [
    "\n",
    "n_ripples[-1]"
   ]
  },
  {
   "cell_type": "code",
   "execution_count": null,
   "metadata": {},
   "outputs": [],
   "source": [
    "df = pd.DataFrame()\n",
    "\n",
    "df['session'] = list(itertools.chain(*session_))\n",
    "rat = [s.split('_')[0] for s in df.session]\n",
    "df['rat']=rat\n",
    "df = add_group_affiliation(df)\n",
    "df['area'] = list(itertools.chain(*area))\n",
    "df['recruit_frac'] = list(itertools.chain(*recruit_frac))\n",
    "df['n_ripples'] = list(itertools.chain(*n_ripples))\n",
    "\n",
    "display(df)\n",
    "df.to_csv('F:\\Projects\\PAE_PlaceCell\\analysis\\ripple_modulation\\post_processed\\recruit_frac_df.csv')"
   ]
  },
  {
   "cell_type": "code",
   "execution_count": 86,
   "metadata": {},
   "outputs": [],
   "source": [
    "tex_fonts = {\n",
    "#     # Use LaTeX to write all text\n",
    "#     \"text.usetex\": True,\n",
    "    \"font.family\": \"serif\",\n",
    "    # Use 10pt font in plots, to match 10pt font in document\n",
    "    \"axes.labelsize\": 10,\n",
    "    \"font.size\": 10,\n",
    "    # Make the legend/label fonts a little smaller\n",
    "    \"legend.fontsize\": 8,\n",
    "    \"xtick.labelsize\": 8,\n",
    "    \"ytick.labelsize\": 8\n",
    "}\n",
    "plt.style.use('seaborn-paper')\n",
    "plt.rcParams.update(tex_fonts)\n",
    "\n",
    "%config InlineBackend.figure_format = 'retina'\n",
    "\n",
    "fig_save_path = 'D:/ryanh/GoogleDrive/school_work/UNM/Lab/Projects/Dissertation/dissertation/inkscape_figs/ripple_recuitment/'"
   ]
  },
  {
   "cell_type": "code",
   "execution_count": 87,
   "metadata": {},
   "outputs": [],
   "source": [
    "group_colors = {\"controlca1\": '#222629ff',\n",
    "                \"controlca3\": '#103876ff',\n",
    "                'paeca1': '#ff5240ff',\n",
    "                'paeca3': '#ebad46ff'} \n",
    "def ecdf(x):\n",
    "    xs = np.sort(x)\n",
    "    ys = np.linspace(0,1,len(xs))\n",
    "    return xs, ys\n",
    "\n",
    "\n",
    "def plot_ecdf(var,df,area,ax,group_colors):\n",
    "    for rat in pd.unique(df.rat):\n",
    "        y = df[(df.rat == rat) & (df.area == area)]\n",
    "        if y.empty == False:\n",
    "            xs, ys = ecdf(y[var])\n",
    "            ax.plot(xs,ys,color=group_colors[y.group.iloc[0]+y.area.iloc[0]],linewidth=.5)"
   ]
  },
  {
   "cell_type": "code",
   "execution_count": 119,
   "metadata": {},
   "outputs": [
    {
     "data": {
      "image/png": "[encoded data removed]",
      "text/plain": [
       "<Figure size 212.598x65.6965 with 2 Axes>"
      ]
     },
     "metadata": {
      "image/png": {
       "height": 96,
       "width": 221
      },
      "needs_background": "light"
     },
     "output_type": "display_data"
    }
   ],
   "source": [
    "df2 = df[df.n_ripples > 50]\n",
    "\n",
    "\n",
    "fig, axs = plt.subplots(1,2, figsize=set_size('thesis', fraction=.5, subplots=(1, 2)), edgecolor='k')\n",
    "fig.subplots_adjust(hspace = 1.2, wspace=0.5)\n",
    "axs = axs.ravel()\n",
    "\n",
    "ax_num = [0,1]\n",
    "plot_ecdf('recruit_frac',df2,'ca1',axs[ax_num[0]],group_colors)\n",
    "axs[ax_num[0]].set_xlabel('fraction of cells')\n",
    "axs[ax_num[0]].set_ylabel('ecdf')\n",
    "\n",
    "plot_ecdf('recruit_frac',df2,'ca3',axs[ax_num[1]],group_colors)\n",
    "axs[ax_num[1]].set_xlabel('fraction of cells')\n",
    "\n",
    "for i in range(2):\n",
    "    right_side = axs[i].spines[\"right\"]\n",
    "    right_side.set_visible(False)\n",
    "    top_side = axs[i].spines[\"top\"]\n",
    "    top_side.set_visible(False)\n",
    "    \n",
    "plt.savefig(os.path.join(fig_save_path,'recruit_frac.svg'),dpi=300,bbox_inches='tight')    "
   ]
  },
  {
   "cell_type": "code",
   "execution_count": 120,
   "metadata": {},
   "outputs": [
    {
     "data": {
      "image/png": "[encoded data removed]",
      "text/plain": [
       "<Figure size 170.079x105.114 with 2 Axes>"
      ]
     },
     "metadata": {
      "image/png": {
       "height": 95,
       "width": 167
      },
      "needs_background": "light"
     },
     "output_type": "display_data"
    }
   ],
   "source": [
    "import seaborn as sns\n",
    "fig, axs = plt.subplots(1,2, figsize=set_size('thesis', fraction=.4, subplots=(1, 1)), edgecolor='k')\n",
    "fig.subplots_adjust(hspace = 0, wspace=.3)\n",
    "axs = axs.ravel()\n",
    "\n",
    "sns.set_palette(sns.color_palette([group_colors['controlca1'],group_colors['paeca1']]))\n",
    "g=sns.boxplot(x=\"group\", y=\"recruit_frac\", data=df2[(df2.area=='ca1')],\n",
    "            width=.6,ax=axs[0],saturation=1,fliersize=.5)\n",
    "axs[0].axes.get_xaxis().set_ticks([])\n",
    "g.set(xlabel=None)\n",
    "g.set(ylabel=None)\n",
    "\n",
    "\n",
    "sns.set_palette(sns.color_palette([group_colors['controlca3'],group_colors['paeca3']]))\n",
    "g=sns.boxplot(x=\"group\", y=\"recruit_frac\", data=df2[(df2.area=='ca3')],\n",
    "            width=.6,ax=axs[1],saturation=1,fliersize=.5)\n",
    "axs[1].axes.get_xaxis().set_ticks([])\n",
    "g.set(xlabel=None)\n",
    "g.set(ylabel=None)\n",
    "\n",
    "axs[0].set_ylim(min(axs[0].get_ylim()[0],axs[1].get_ylim()[0]),max(axs[0].get_ylim()[1],axs[1].get_ylim()[1]))\n",
    "axs[1].set_ylim(min(axs[0].get_ylim()[0],axs[1].get_ylim()[0]),max(axs[0].get_ylim()[1],axs[1].get_ylim()[1]))\n",
    " \n",
    "sns.despine(trim=True, left=True, bottom=True)\n",
    "plt.savefig(os.path.join(fig_save_path,'recruit_frac_box.svg'),dpi=300,bbox_inches='tight')"
   ]
  }
 ],
 "metadata": {
  "kernelspec": {
   "display_name": "Python 3",
   "language": "python",
   "name": "python3"
  },
  "language_info": {
   "codemirror_mode": {
    "name": "ipython",
    "version": 3
   },
   "file_extension": ".py",
   "mimetype": "text/x-python",
   "name": "python",
   "nbconvert_exporter": "python",
   "pygments_lexer": "ipython3",
   "version": "3.8.5"
  }
 },
 "nbformat": 4,
 "nbformat_minor": 4
}
