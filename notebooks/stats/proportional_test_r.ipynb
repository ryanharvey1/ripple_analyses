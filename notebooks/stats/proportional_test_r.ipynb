{
 "cells": [
  {
   "cell_type": "code",
   "execution_count": 1,
   "metadata": {},
   "outputs": [
    {
     "name": "stderr",
     "output_type": "stream",
     "text": [
      "Warning message:\n",
      "\"package 'tidyverse' was built under R version 3.6.3\"-- Attaching packages ------------------------------------------------------------------------------- tidyverse 1.3.0 --\n",
      "v ggplot2 3.3.3     v purrr   0.3.4\n",
      "v tibble  3.0.4     v dplyr   1.0.2\n",
      "v tidyr   1.1.2     v stringr 1.4.0\n",
      "v readr   1.3.1     v forcats 0.4.0\n",
      "Warning message:\n",
      "\"package 'ggplot2' was built under R version 3.6.3\"Warning message:\n",
      "\"package 'tibble' was built under R version 3.6.3\"Warning message:\n",
      "\"package 'tidyr' was built under R version 3.6.3\"Warning message:\n",
      "\"package 'purrr' was built under R version 3.6.3\"Warning message:\n",
      "\"package 'dplyr' was built under R version 3.6.3\"-- Conflicts ---------------------------------------------------------------------------------- tidyverse_conflicts() --\n",
      "x dplyr::filter() masks stats::filter()\n",
      "x dplyr::lag()    masks stats::lag()\n",
      "Warning message:\n",
      "\"package 'lme4' was built under R version 3.6.3\"Loading required package: Matrix\n",
      "\n",
      "Attaching package: 'Matrix'\n",
      "\n",
      "The following objects are masked from 'package:tidyr':\n",
      "\n",
      "    expand, pack, unpack\n",
      "\n",
      "Warning message:\n",
      "\"package 'lmerTest' was built under R version 3.6.3\"\n",
      "Attaching package: 'lmerTest'\n",
      "\n",
      "The following object is masked from 'package:lme4':\n",
      "\n",
      "    lmer\n",
      "\n",
      "The following object is masked from 'package:stats':\n",
      "\n",
      "    step\n",
      "\n"
     ]
    }
   ],
   "source": [
    "library(tidyverse)\n",
    "library(lme4)\n",
    "library(lmerTest)"
   ]
  },
  {
   "cell_type": "code",
   "execution_count": 44,
   "metadata": {},
   "outputs": [
    {
     "data": {
      "text/plain": [
       "       X                           session        rat         group     area   \n",
       " Min.   : 0.0   LEM3124_S20190307163732: 2   LEM3124:28   control:33   ca1:27  \n",
       " 1st Qu.:23.5   LEM3124_S20190309145324: 2   LEM3216:21   pae    :62   ca3:68  \n",
       " Median :47.0   LEM3124_S20190315160017: 2   LEM3246:17                        \n",
       " Mean   :47.0   LEM3124_S20190319154019: 2   LEM3206:15                        \n",
       " 3rd Qu.:70.5   LEM3124_S20190322123145: 2   LEM3116: 9                        \n",
       " Max.   :94.0   LEM3124_S20190325164111: 2   LEM3120: 2                        \n",
       "                (Other)                :83   (Other): 3                        \n",
       "    prop_pyr         prop_int          n_pyr           n_int          groupup  \n",
       " Min.   :0.0000   Min.   :0.0000   Min.   : 1.00   Min.   : 0.00   control:33  \n",
       " 1st Qu.:0.1534   1st Qu.:0.0000   1st Qu.:17.00   1st Qu.: 3.50   pae    :62  \n",
       " Median :0.2857   Median :0.1500   Median :29.00   Median :15.00               \n",
       " Mean   :0.3578   Mean   :0.2519   Mean   :33.87   Mean   :14.73               \n",
       " 3rd Qu.:0.5811   3rd Qu.:0.4000   3rd Qu.:48.00   3rd Qu.:23.50               \n",
       " Max.   :1.0000   Max.   :1.0000   Max.   :92.00   Max.   :45.00               \n",
       "                                                                               "
      ]
     },
     "metadata": {},
     "output_type": "display_data"
    }
   ],
   "source": [
    "data <- read.csv('F:/Projects/PAE_PlaceCell/analysis/ripple_modulation/post_processed/df_prop.csv')\n",
    "\n",
    "data$groupup = factor(data$group, levels=c('control', 'pae'))\n",
    "data$rat = factor(data$rat)\n",
    "data$session = factor(data$session)\n",
    "data$area = factor(data$area, levels=c('ca1', 'ca3'))\n",
    "\n",
    "summary(data)"
   ]
  },
  {
   "cell_type": "code",
   "execution_count": 33,
   "metadata": {},
   "outputs": [
    {
     "data": {
      "text/plain": [
       ", , area = ca1\n",
       "\n",
       "         rat\n",
       "group     LEM3116 LEM3120 LEM3124 LEM3206 LEM3216 LEM3246 LS19 LS23\n",
       "  control       2       1       0       0       5       0    0    1\n",
       "  pae           0       0      16       0       0       0    2    0\n",
       "\n",
       ", , area = ca3\n",
       "\n",
       "         rat\n",
       "group     LEM3116 LEM3120 LEM3124 LEM3206 LEM3216 LEM3246 LS19 LS23\n",
       "  control       7       1       0       0      16       0    0    0\n",
       "  pae           0       0      12      15       0      17    0    0\n"
      ]
     },
     "metadata": {},
     "output_type": "display_data"
    }
   ],
   "source": [
    "xtabs(~group+rat+area,data=data)"
   ]
  },
  {
   "cell_type": "code",
   "execution_count": null,
   "metadata": {},
   "outputs": [],
   "source": [
    "data"
   ]
  },
  {
   "cell_type": "code",
   "execution_count": 74,
   "metadata": {},
   "outputs": [],
   "source": [
    "# hist(data[data$area=='ca1',]$n_pyr_pass / data[data$area=='ca1',]$n_pyr)\n",
    "\n",
    "# data[data$area=='ca1',]$n_pyr_pass / data[data$area=='ca1',]$n_pyr\n",
    "data$prop_pyr = data$n_pyr_pass / data$n_pyr\n",
    "# data$prop_pyr[is.nan(data$prop_pyr)] = 0\n",
    "\n",
    "\n",
    "data$prop_int = data$n_int_pass / data$n_int\n",
    "# data$prop_int[is.nan(data$prop_int)] = 0\n",
    "\n",
    "# data$prop_pyr_log = log(data$prop_pyr)\n",
    "\n",
    "# hist(data$prop_pyr)\n",
    "# hist(data$prop_pyr_log)\n",
    "# data$prop_pyr == \n",
    "\n",
    "# data$prop_pyr_log[is.nan(data$prop_pyr_log)] = 0\n",
    "# data$prop_pyr_log[is.infinite(data$prop_pyr_log)] = 0\n",
    "\n",
    "\n"
   ]
  },
  {
   "cell_type": "markdown",
   "metadata": {},
   "source": [
    "# CA1 pyramidal cells"
   ]
  },
  {
   "cell_type": "code",
   "execution_count": 34,
   "metadata": {},
   "outputs": [],
   "source": [
    "overdisp.glmer <- function(model) {\n",
    "  ## From http://glmm.wikidot.com/faq\n",
    "  ## number of variance parameters in \n",
    "  ##   an n-by-n variance-covariance matrix\n",
    "  vpars <- function(m) {\n",
    "    nrow(m)*(nrow(m)+1)/2\n",
    "  }\n",
    "  model.df <- sum(sapply(lme4::VarCorr(model),vpars))+length(lme4::fixef(model))\n",
    "  rdf <- nrow(model.frame(model))-model.df\n",
    "  rp <- residuals(model)\n",
    "  dev <- sum(rp^2)\n",
    "  prat <- dev/rdf\n",
    "  cat(paste(\"Residual deviance: \",round(dev,3),\" on \",rdf,\" degrees of freedom\",\n",
    "    \" (ratio: \",round(prat,3),\")\\n\",sep=\"\"))\n",
    "}"
   ]
  },
  {
   "cell_type": "code",
   "execution_count": 45,
   "metadata": {},
   "outputs": [
    {
     "data": {
      "text/html": [
       "0.690773067331671"
      ],
      "text/latex": [
       "0.690773067331671"
      ],
      "text/markdown": [
       "0.690773067331671"
      ],
      "text/plain": [
       "[1] 0.6907731"
      ]
     },
     "metadata": {},
     "output_type": "display_data"
    },
    {
     "data": {
      "text/html": [
       "0.224181360201511"
      ],
      "text/latex": [
       "0.224181360201511"
      ],
      "text/markdown": [
       "0.224181360201511"
      ],
      "text/plain": [
       "[1] 0.2241814"
      ]
     },
     "metadata": {},
     "output_type": "display_data"
    },
    {
     "name": "stderr",
     "output_type": "stream",
     "text": [
      "boundary (singular) fit: see ?isSingular\n"
     ]
    },
    {
     "data": {
      "text/html": [
       "<table>\n",
       "<thead><tr><th></th><th scope=col>npar</th><th scope=col>AIC</th><th scope=col>BIC</th><th scope=col>logLik</th><th scope=col>deviance</th><th scope=col>Chisq</th><th scope=col>Df</th><th scope=col>Pr(&gt;Chisq)</th></tr></thead>\n",
       "<tbody>\n",
       "\t<tr><th scope=row>m1.null</th><td>3         </td><td>145.7662  </td><td>149.6537  </td><td>-69.88309 </td><td>139.7662  </td><td>      NA  </td><td>NA        </td><td>        NA</td></tr>\n",
       "\t<tr><th scope=row>m1</th><td>4         </td><td>141.5328  </td><td>146.7161  </td><td>-66.76638 </td><td>133.5328  </td><td>6.233417  </td><td> 1        </td><td>0.01253616</td></tr>\n",
       "</tbody>\n",
       "</table>\n"
      ],
      "text/latex": [
       "\\begin{tabular}{r|llllllll}\n",
       "  & npar & AIC & BIC & logLik & deviance & Chisq & Df & Pr(>Chisq)\\\\\n",
       "\\hline\n",
       "\tm1.null & 3          & 145.7662   & 149.6537   & -69.88309  & 139.7662   &       NA   & NA         &         NA\\\\\n",
       "\tm1 & 4          & 141.5328   & 146.7161   & -66.76638  & 133.5328   & 6.233417   &  1         & 0.01253616\\\\\n",
       "\\end{tabular}\n"
      ],
      "text/markdown": [
       "\n",
       "| <!--/--> | npar | AIC | BIC | logLik | deviance | Chisq | Df | Pr(>Chisq) |\n",
       "|---|---|---|---|---|---|---|---|---|\n",
       "| m1.null | 3          | 145.7662   | 149.6537   | -69.88309  | 139.7662   |       NA   | NA         |         NA |\n",
       "| m1 | 4          | 141.5328   | 146.7161   | -66.76638  | 133.5328   | 6.233417   |  1         | 0.01253616 |\n",
       "\n"
      ],
      "text/plain": [
       "        npar AIC      BIC      logLik    deviance Chisq    Df Pr(>Chisq)\n",
       "m1.null 3    145.7662 149.6537 -69.88309 139.7662       NA NA         NA\n",
       "m1      4    141.5328 146.7161 -66.76638 133.5328 6.233417  1 0.01253616"
      ]
     },
     "metadata": {},
     "output_type": "display_data"
    },
    {
     "data": {
      "text/plain": [
       "Generalized linear mixed model fit by maximum likelihood (Laplace\n",
       "  Approximation) [glmerMod]\n",
       " Family: binomial  ( logit )\n",
       "Formula: prop_pyr ~ group + (1 | rat/session)\n",
       "   Data: data[data$area == \"ca1\", ]\n",
       "Weights: n_pyr\n",
       "\n",
       "     AIC      BIC   logLik deviance df.resid \n",
       "   141.5    146.7    -66.8    133.5       23 \n",
       "\n",
       "Scaled residuals: \n",
       "     Min       1Q   Median       3Q      Max \n",
       "-1.24074 -0.49123  0.09777  0.23566  1.63176 \n",
       "\n",
       "Random effects:\n",
       " Groups      Name        Variance Std.Dev.\n",
       " session:rat (Intercept) 0.8634   0.9292  \n",
       " rat         (Intercept) 0.0000   0.0000  \n",
       "Number of obs: 27, groups:  session:rat, 27; rat, 6\n",
       "\n",
       "Fixed effects:\n",
       "            Estimate Std. Error z value Pr(>|z|)    \n",
       "(Intercept)   0.5510     0.3437   1.603    0.109    \n",
       "grouppae     -2.1579     0.4592  -4.699 2.61e-06 ***\n",
       "---\n",
       "Signif. codes:  0 '***' 0.001 '**' 0.01 '*' 0.05 '.' 0.1 ' ' 1\n",
       "\n",
       "Correlation of Fixed Effects:\n",
       "         (Intr)\n",
       "grouppae -0.737\n",
       "optimizer (Nelder_Mead) convergence code: 0 (OK)\n",
       "boundary (singular) fit: see ?isSingular\n"
      ]
     },
     "metadata": {},
     "output_type": "display_data"
    },
    {
     "name": "stdout",
     "output_type": "stream",
     "text": [
      "Residual deviance: 13.417 on 23 degrees of freedom (ratio: 0.583)\n"
     ]
    },
    {
     "data": {
      "image/png": "[encoded data removed]",
      "text/plain": [
       "plot without title"
      ]
     },
     "metadata": {},
     "output_type": "display_data"
    },
    {
     "data": {
      "image/png": "[encoded data removed]",
      "text/plain": [
       "Plot with title \"Normal Q-Q Plot\""
      ]
     },
     "metadata": {},
     "output_type": "display_data"
    },
    {
     "data": {
      "image/png": "[encoded data removed]",
      "text/plain": [
       "Plot with title \"density.default(x = resid(m1))\""
      ]
     },
     "metadata": {},
     "output_type": "display_data"
    },
    {
     "data": {
      "image/png": "[encoded data removed]",
      "text/plain": [
       "plot without title"
      ]
     },
     "metadata": {},
     "output_type": "display_data"
    }
   ],
   "source": [
    "weighted.mean(data[data$area=='ca1' & data$group=='control',]$prop_pyr,data[data$area=='ca1' & data$group=='control',]$n_pyr)\n",
    "weighted.mean(data[data$area=='ca1' & data$group=='pae',]$prop_pyr,data[data$area=='ca1' & data$group=='pae',]$n_pyr)\n",
    "\n",
    "m1 = glmer(prop_pyr ~ group + (1|rat/session), weights=n_pyr, data=data[data$area=='ca1',],family=\"binomial\")\n",
    "m1.null = glmer(prop_pyr ~ 1 + (1|rat/session), weights=n_pyr, data=data[data$area=='ca1',],family=\"binomial\")\n",
    "\n",
    "anova(m1.null, m1)  \n",
    "\n",
    "summary(m1)\n",
    "overdisp.glmer(m1)\n",
    "\n",
    "options(repr.plot.width = 4, repr.plot.height = 4)\n",
    "\n",
    "plot(m1)\n",
    "qqnorm(resid(m1))\n",
    "qqline(resid(m1))\n",
    "plot(density(resid(m1)))\n",
    "\n",
    "plot(prop_pyr ~ group, data = data[data$area == \"ca1\",])\n",
    "\n"
   ]
  },
  {
   "cell_type": "markdown",
   "metadata": {},
   "source": [
    "# CA1 interneurons"
   ]
  },
  {
   "cell_type": "code",
   "execution_count": 46,
   "metadata": {},
   "outputs": [
    {
     "data": {
      "text/html": [
       "0.386206896551724"
      ],
      "text/latex": [
       "0.386206896551724"
      ],
      "text/markdown": [
       "0.386206896551724"
      ],
      "text/plain": [
       "[1] 0.3862069"
      ]
     },
     "metadata": {},
     "output_type": "display_data"
    },
    {
     "data": {
      "text/html": [
       "0.183783783783784"
      ],
      "text/latex": [
       "0.183783783783784"
      ],
      "text/markdown": [
       "0.183783783783784"
      ],
      "text/plain": [
       "[1] 0.1837838"
      ]
     },
     "metadata": {},
     "output_type": "display_data"
    },
    {
     "name": "stderr",
     "output_type": "stream",
     "text": [
      "boundary (singular) fit: see ?isSingular\n"
     ]
    },
    {
     "data": {
      "text/html": [
       "<table>\n",
       "<thead><tr><th></th><th scope=col>npar</th><th scope=col>AIC</th><th scope=col>BIC</th><th scope=col>logLik</th><th scope=col>deviance</th><th scope=col>Chisq</th><th scope=col>Df</th><th scope=col>Pr(&gt;Chisq)</th></tr></thead>\n",
       "<tbody>\n",
       "\t<tr><th scope=row>m1.null</th><td>3          </td><td>96.86555   </td><td>100.75306  </td><td>-45.43278  </td><td>90.86555   </td><td>      NA   </td><td>NA         </td><td>         NA</td></tr>\n",
       "\t<tr><th scope=row>m1</th><td>4          </td><td>92.10083   </td><td> 97.28418  </td><td>-42.05042  </td><td>84.10083   </td><td>6.764717   </td><td> 1         </td><td>0.009297769</td></tr>\n",
       "</tbody>\n",
       "</table>\n"
      ],
      "text/latex": [
       "\\begin{tabular}{r|llllllll}\n",
       "  & npar & AIC & BIC & logLik & deviance & Chisq & Df & Pr(>Chisq)\\\\\n",
       "\\hline\n",
       "\tm1.null & 3           & 96.86555    & 100.75306   & -45.43278   & 90.86555    &       NA    & NA          &          NA\\\\\n",
       "\tm1 & 4           & 92.10083    &  97.28418   & -42.05042   & 84.10083    & 6.764717    &  1          & 0.009297769\\\\\n",
       "\\end{tabular}\n"
      ],
      "text/markdown": [
       "\n",
       "| <!--/--> | npar | AIC | BIC | logLik | deviance | Chisq | Df | Pr(>Chisq) |\n",
       "|---|---|---|---|---|---|---|---|---|\n",
       "| m1.null | 3           | 96.86555    | 100.75306   | -45.43278   | 90.86555    |       NA    | NA          |          NA |\n",
       "| m1 | 4           | 92.10083    |  97.28418   | -42.05042   | 84.10083    | 6.764717    |  1          | 0.009297769 |\n",
       "\n"
      ],
      "text/plain": [
       "        npar AIC      BIC       logLik    deviance Chisq    Df Pr(>Chisq) \n",
       "m1.null 3    96.86555 100.75306 -45.43278 90.86555       NA NA          NA\n",
       "m1      4    92.10083  97.28418 -42.05042 84.10083 6.764717  1 0.009297769"
      ]
     },
     "metadata": {},
     "output_type": "display_data"
    },
    {
     "data": {
      "text/plain": [
       "Generalized linear mixed model fit by maximum likelihood (Laplace\n",
       "  Approximation) [glmerMod]\n",
       " Family: binomial  ( logit )\n",
       "Formula: prop_int ~ group + (1 | rat/session)\n",
       "   Data: data[data$area == \"ca1\", ]\n",
       "Weights: n_int\n",
       "\n",
       "     AIC      BIC   logLik deviance df.resid \n",
       "    92.1     97.3    -42.1     84.1       23 \n",
       "\n",
       "Scaled residuals: \n",
       "    Min      1Q  Median      3Q     Max \n",
       "-0.9224 -0.4537 -0.0079  0.2308  0.9781 \n",
       "\n",
       "Random effects:\n",
       " Groups      Name        Variance Std.Dev.\n",
       " session:rat (Intercept) 1.281    1.132   \n",
       " rat         (Intercept) 0.000    0.000   \n",
       "Number of obs: 27, groups:  session:rat, 27; rat, 6\n",
       "\n",
       "Fixed effects:\n",
       "            Estimate Std. Error z value Pr(>|z|)   \n",
       "(Intercept)  -0.5822     0.4866  -1.196  0.23158   \n",
       "grouppae     -1.8065     0.6803  -2.655  0.00792 **\n",
       "---\n",
       "Signif. codes:  0 '***' 0.001 '**' 0.01 '*' 0.05 '.' 0.1 ' ' 1\n",
       "\n",
       "Correlation of Fixed Effects:\n",
       "         (Intr)\n",
       "grouppae -0.698\n",
       "optimizer (Nelder_Mead) convergence code: 0 (OK)\n",
       "boundary (singular) fit: see ?isSingular\n"
      ]
     },
     "metadata": {},
     "output_type": "display_data"
    },
    {
     "name": "stdout",
     "output_type": "stream",
     "text": [
      "Residual deviance: 11.014 on 23 degrees of freedom (ratio: 0.479)\n"
     ]
    },
    {
     "data": {
      "image/png": "[encoded data removed]",
      "text/plain": [
       "plot without title"
      ]
     },
     "metadata": {},
     "output_type": "display_data"
    },
    {
     "data": {
      "image/png": "[encoded data removed]",
      "text/plain": [
       "Plot with title \"Normal Q-Q Plot\""
      ]
     },
     "metadata": {},
     "output_type": "display_data"
    },
    {
     "data": {
      "image/png": "[encoded data removed]",
      "text/plain": [
       "Plot with title \"density.default(x = resid(m1))\""
      ]
     },
     "metadata": {},
     "output_type": "display_data"
    },
    {
     "data": {
      "image/png": "[encoded data removed]",
      "text/plain": [
       "plot without title"
      ]
     },
     "metadata": {},
     "output_type": "display_data"
    }
   ],
   "source": [
    "weighted.mean(data[data$area=='ca1' & data$group=='control',]$prop_int,data[data$area=='ca1' & data$group=='control',]$n_int)\n",
    "weighted.mean(data[data$area=='ca1' & data$group=='pae',]$prop_int,data[data$area=='ca1' & data$group=='pae',]$n_int)\n",
    "\n",
    "m1 = glmer(prop_int ~ group + (1|rat/session), weights=n_int, data=data[data$area=='ca1',], family=\"binomial\")\n",
    "m1.null = glmer(prop_int ~ 1 + (1|rat/session), weights=n_int, data=data[data$area=='ca1',], family=\"binomial\")\n",
    "\n",
    "anova(m1.null, m1)  \n",
    "\n",
    "summary(m1)\n",
    "overdisp.glmer(m1)\n",
    "\n",
    "options(repr.plot.width = 4, repr.plot.height = 4)\n",
    "\n",
    "plot(m1)\n",
    "qqnorm(resid(m1))\n",
    "qqline(resid(m1))\n",
    "plot(density(resid(m1)))\n",
    "\n",
    "plot(prop_int ~ group, data = data[data$area == \"ca1\",])\n"
   ]
  },
  {
   "cell_type": "markdown",
   "metadata": {},
   "source": [
    "# CA3 pyramidal cells"
   ]
  },
  {
   "cell_type": "code",
   "execution_count": 38,
   "metadata": {},
   "outputs": [
    {
     "data": {
      "text/html": [
       "0.539950402361176"
      ],
      "text/latex": [
       "0.539950402361176"
      ],
      "text/markdown": [
       "0.539950402361176"
      ],
      "text/plain": [
       "[1] 0.5399504"
      ]
     },
     "metadata": {},
     "output_type": "display_data"
    },
    {
     "data": {
      "text/html": [
       "0.272458926632424"
      ],
      "text/latex": [
       "0.272458926632424"
      ],
      "text/markdown": [
       "0.272458926632424"
      ],
      "text/plain": [
       "[1] 0.2724589"
      ]
     },
     "metadata": {},
     "output_type": "display_data"
    },
    {
     "data": {
      "text/html": [
       "<table>\n",
       "<thead><tr><th></th><th scope=col>npar</th><th scope=col>AIC</th><th scope=col>BIC</th><th scope=col>logLik</th><th scope=col>deviance</th><th scope=col>Chisq</th><th scope=col>Df</th><th scope=col>Pr(&gt;Chisq)</th></tr></thead>\n",
       "<tbody>\n",
       "\t<tr><th scope=row>m1.null</th><td>3        </td><td>401.6920 </td><td>408.3505 </td><td>-197.8460</td><td>395.6920 </td><td>     NA  </td><td>NA       </td><td>       NA</td></tr>\n",
       "\t<tr><th scope=row>m1</th><td>4        </td><td>402.4146 </td><td>411.2926 </td><td>-197.2073</td><td>394.4146 </td><td>1.27737  </td><td> 1       </td><td>0.2583886</td></tr>\n",
       "</tbody>\n",
       "</table>\n"
      ],
      "text/latex": [
       "\\begin{tabular}{r|llllllll}\n",
       "  & npar & AIC & BIC & logLik & deviance & Chisq & Df & Pr(>Chisq)\\\\\n",
       "\\hline\n",
       "\tm1.null & 3         & 401.6920  & 408.3505  & -197.8460 & 395.6920  &      NA   & NA        &        NA\\\\\n",
       "\tm1 & 4         & 402.4146  & 411.2926  & -197.2073 & 394.4146  & 1.27737   &  1        & 0.2583886\\\\\n",
       "\\end{tabular}\n"
      ],
      "text/markdown": [
       "\n",
       "| <!--/--> | npar | AIC | BIC | logLik | deviance | Chisq | Df | Pr(>Chisq) |\n",
       "|---|---|---|---|---|---|---|---|---|\n",
       "| m1.null | 3         | 401.6920  | 408.3505  | -197.8460 | 395.6920  |      NA   | NA        |        NA |\n",
       "| m1 | 4         | 402.4146  | 411.2926  | -197.2073 | 394.4146  | 1.27737   |  1        | 0.2583886 |\n",
       "\n"
      ],
      "text/plain": [
       "        npar AIC      BIC      logLik    deviance Chisq   Df Pr(>Chisq)\n",
       "m1.null 3    401.6920 408.3505 -197.8460 395.6920      NA NA        NA \n",
       "m1      4    402.4146 411.2926 -197.2073 394.4146 1.27737  1 0.2583886 "
      ]
     },
     "metadata": {},
     "output_type": "display_data"
    },
    {
     "data": {
      "text/plain": [
       "Generalized linear mixed model fit by maximum likelihood (Laplace\n",
       "  Approximation) [glmerMod]\n",
       " Family: binomial  ( logit )\n",
       "Formula: prop_pyr ~ group + (1 | rat/session)\n",
       "   Data: data[data$area == \"ca3\", ]\n",
       "Weights: n_pyr\n",
       "\n",
       "     AIC      BIC   logLik deviance df.resid \n",
       "   402.4    411.3   -197.2    394.4       64 \n",
       "\n",
       "Scaled residuals: \n",
       "     Min       1Q   Median       3Q      Max \n",
       "-1.21858 -0.39409 -0.08787  0.29411  1.53186 \n",
       "\n",
       "Random effects:\n",
       " Groups      Name        Variance Std.Dev.\n",
       " session:rat (Intercept) 0.4558   0.6751  \n",
       " rat         (Intercept) 0.8945   0.9458  \n",
       "Number of obs: 68, groups:  session:rat, 68; rat, 6\n",
       "\n",
       "Fixed effects:\n",
       "            Estimate Std. Error z value Pr(>|z|)\n",
       "(Intercept)  -0.3612     0.6033  -0.599    0.549\n",
       "grouppae     -0.9905     0.8244  -1.202    0.230\n",
       "\n",
       "Correlation of Fixed Effects:\n",
       "         (Intr)\n",
       "grouppae -0.731"
      ]
     },
     "metadata": {},
     "output_type": "display_data"
    },
    {
     "name": "stdout",
     "output_type": "stream",
     "text": [
      "Residual deviance: 23.596 on 64 degrees of freedom (ratio: 0.369)\n"
     ]
    },
    {
     "data": {
      "image/png": "[encoded data removed]",
      "text/plain": [
       "Plot with title \"density.default(x = resid(m1))\""
      ]
     },
     "metadata": {},
     "output_type": "display_data"
    },
    {
     "data": {
      "image/png": "[encoded data removed]",
      "text/plain": [
       "plot without title"
      ]
     },
     "metadata": {},
     "output_type": "display_data"
    },
    {
     "data": {
      "image/png": "[encoded data removed]",
      "text/plain": [
       "Plot with title \"Normal Q-Q Plot\""
      ]
     },
     "metadata": {},
     "output_type": "display_data"
    }
   ],
   "source": [
    "weighted.mean(data[data$area=='ca3' & data$group=='control',]$prop_pyr)\n",
    "weighted.mean(data[data$area=='ca3' & data$group=='pae',]$prop_pyr)\n",
    "\n",
    "m1 = glmer(prop_pyr ~ group + (1|rat/session), weights=n_pyr, data=data[data$area=='ca3',], family=\"binomial\")\n",
    "m1.null = glmer(prop_pyr ~ 1 + (1|rat/session), weights=n_pyr, data=data[data$area=='ca3',], family=\"binomial\")\n",
    "\n",
    "anova(m1.null, m1)  \n",
    "\n",
    "summary(m1)\n",
    "overdisp.glmer(m1)\n",
    "\n",
    "plot(density(resid(m1)))\n",
    "\n",
    "options(repr.plot.width = 4, repr.plot.height = 4)\n",
    "\n",
    "plot(m1)\n",
    "qqnorm(resid(m1))\n",
    "qqline(resid(m1))"
   ]
  },
  {
   "cell_type": "markdown",
   "metadata": {},
   "source": [
    "# CA3 interneurons"
   ]
  },
  {
   "cell_type": "code",
   "execution_count": 39,
   "metadata": {},
   "outputs": [
    {
     "data": {
      "text/html": [
       "0.338148731714908"
      ],
      "text/latex": [
       "0.338148731714908"
      ],
      "text/markdown": [
       "0.338148731714908"
      ],
      "text/plain": [
       "[1] 0.3381487"
      ]
     },
     "metadata": {},
     "output_type": "display_data"
    },
    {
     "data": {
      "text/html": [
       "0.246665892964086"
      ],
      "text/latex": [
       "0.246665892964086"
      ],
      "text/markdown": [
       "0.246665892964086"
      ],
      "text/plain": [
       "[1] 0.2466659"
      ]
     },
     "metadata": {},
     "output_type": "display_data"
    },
    {
     "data": {
      "text/html": [
       "<table>\n",
       "<thead><tr><th></th><th scope=col>npar</th><th scope=col>AIC</th><th scope=col>BIC</th><th scope=col>logLik</th><th scope=col>deviance</th><th scope=col>Chisq</th><th scope=col>Df</th><th scope=col>Pr(&gt;Chisq)</th></tr></thead>\n",
       "<tbody>\n",
       "\t<tr><th scope=row>m1.null</th><td>3         </td><td>275.3336  </td><td>281.9921  </td><td>-134.6668 </td><td>269.3336  </td><td>        NA</td><td>NA        </td><td>       NA </td></tr>\n",
       "\t<tr><th scope=row>m1</th><td>4         </td><td>277.3113  </td><td>286.1894  </td><td>-134.6557 </td><td>269.3113  </td><td>0.02224343</td><td> 1        </td><td>0.8814413 </td></tr>\n",
       "</tbody>\n",
       "</table>\n"
      ],
      "text/latex": [
       "\\begin{tabular}{r|llllllll}\n",
       "  & npar & AIC & BIC & logLik & deviance & Chisq & Df & Pr(>Chisq)\\\\\n",
       "\\hline\n",
       "\tm1.null & 3          & 275.3336   & 281.9921   & -134.6668  & 269.3336   &         NA & NA         &        NA \\\\\n",
       "\tm1 & 4          & 277.3113   & 286.1894   & -134.6557  & 269.3113   & 0.02224343 &  1         & 0.8814413 \\\\\n",
       "\\end{tabular}\n"
      ],
      "text/markdown": [
       "\n",
       "| <!--/--> | npar | AIC | BIC | logLik | deviance | Chisq | Df | Pr(>Chisq) |\n",
       "|---|---|---|---|---|---|---|---|---|\n",
       "| m1.null | 3          | 275.3336   | 281.9921   | -134.6668  | 269.3336   |         NA | NA         |        NA  |\n",
       "| m1 | 4          | 277.3113   | 286.1894   | -134.6557  | 269.3113   | 0.02224343 |  1         | 0.8814413  |\n",
       "\n"
      ],
      "text/plain": [
       "        npar AIC      BIC      logLik    deviance Chisq      Df Pr(>Chisq)\n",
       "m1.null 3    275.3336 281.9921 -134.6668 269.3336         NA NA        NA \n",
       "m1      4    277.3113 286.1894 -134.6557 269.3113 0.02224343  1 0.8814413 "
      ]
     },
     "metadata": {},
     "output_type": "display_data"
    },
    {
     "data": {
      "text/plain": [
       "Generalized linear mixed model fit by maximum likelihood (Laplace\n",
       "  Approximation) [glmerMod]\n",
       " Family: binomial  ( logit )\n",
       "Formula: prop_int ~ group + (1 | rat/session)\n",
       "   Data: data[data$area == \"ca3\", ]\n",
       "Weights: n_int\n",
       "\n",
       "     AIC      BIC   logLik deviance df.resid \n",
       "   277.3    286.2   -134.7    269.3       64 \n",
       "\n",
       "Scaled residuals: \n",
       "     Min       1Q   Median       3Q      Max \n",
       "-1.18915 -0.46472 -0.05482  0.40752  1.14306 \n",
       "\n",
       "Random effects:\n",
       " Groups      Name        Variance Std.Dev.\n",
       " session:rat (Intercept) 0.5333   0.7303  \n",
       " rat         (Intercept) 1.3035   1.1417  \n",
       "Number of obs: 68, groups:  session:rat, 68; rat, 6\n",
       "\n",
       "Fixed effects:\n",
       "            Estimate Std. Error z value Pr(>|z|)  \n",
       "(Intercept)  -1.2941     0.7719  -1.677   0.0936 .\n",
       "grouppae     -0.1551     1.0263  -0.151   0.8799  \n",
       "---\n",
       "Signif. codes:  0 '***' 0.001 '**' 0.01 '*' 0.05 '.' 0.1 ' ' 1\n",
       "\n",
       "Correlation of Fixed Effects:\n",
       "         (Intr)\n",
       "grouppae -0.751"
      ]
     },
     "metadata": {},
     "output_type": "display_data"
    },
    {
     "name": "stdout",
     "output_type": "stream",
     "text": [
      "Residual deviance: 35.601 on 64 degrees of freedom (ratio: 0.556)\n"
     ]
    },
    {
     "data": {
      "image/png": "[encoded data removed]",
      "text/plain": [
       "Plot with title \"density.default(x = resid(m1))\""
      ]
     },
     "metadata": {},
     "output_type": "display_data"
    },
    {
     "data": {
      "image/png": "[encoded data removed]",
      "text/plain": [
       "plot without title"
      ]
     },
     "metadata": {},
     "output_type": "display_data"
    },
    {
     "data": {
      "image/png": "[encoded data removed]",
      "text/plain": [
       "Plot with title \"Normal Q-Q Plot\""
      ]
     },
     "metadata": {},
     "output_type": "display_data"
    }
   ],
   "source": [
    "weighted.mean(data[data$area=='ca3' & data$group=='control',]$prop_int)\n",
    "weighted.mean(data[data$area=='ca3' & data$group=='pae',]$prop_int)\n",
    "\n",
    "m1 = glmer(prop_int ~ group + (1|rat/session), weights=n_int, data=data[data$area=='ca3',], family=\"binomial\")\n",
    "m1.null = glmer(prop_int ~ 1 + (1|rat/session), weights=n_int, data=data[data$area=='ca3',], family=\"binomial\")\n",
    "\n",
    "anova(m1.null, m1)  \n",
    "\n",
    "summary(m1)\n",
    "overdisp.glmer(m1)\n",
    "\n",
    "plot(density(resid(m1)))\n",
    "\n",
    "options(repr.plot.width = 4, repr.plot.height = 4)\n",
    "\n",
    "plot(m1)\n",
    "qqnorm(resid(m1))\n",
    "qqline(resid(m1))"
   ]
  },
  {
   "cell_type": "markdown",
   "metadata": {},
   "source": [
    "# pyramidal cell interneuron cell count data"
   ]
  },
  {
   "cell_type": "code",
   "execution_count": 3,
   "metadata": {},
   "outputs": [
    {
     "data": {
      "text/plain": [
       "       X                             session         rat         group    \n",
       " Min.   :  0.00   LEM3124_S20190307132509:  2   LEM3124:37   control: 84  \n",
       " 1st Qu.: 54.25   LEM3124_S20190307163732:  2   LEM3206:36   pae    :134  \n",
       " Median :108.50   LEM3124_S20190309145324:  2   LEM3116:30                \n",
       " Mean   :108.50   LEM3124_S20190311161641:  2   LEM3216:28                \n",
       " 3rd Qu.:162.75   LEM3124_S20190315160017:  2   LEM3246:22                \n",
       " Max.   :217.00   LEM3124_S20190319154019:  2   LS19   :16                \n",
       "                  (Other)                :206   (Other):49                \n",
       "  area        prop_pyr         n_cells     \n",
       " ca1: 92   Min.   :0.0000   Min.   :  1.0  \n",
       " ca3:126   1st Qu.:0.5000   1st Qu.: 18.0  \n",
       "           Median :0.6667   Median : 34.0  \n",
       "           Mean   :0.6386   Mean   : 39.8  \n",
       "           3rd Qu.:0.8000   3rd Qu.: 55.0  \n",
       "           Max.   :1.0000   Max.   :138.0  \n",
       "                                           "
      ]
     },
     "metadata": {},
     "output_type": "display_data"
    }
   ],
   "source": [
    "data <- read.csv('F:/Projects/PAE_PlaceCell/analysis/cell_recruitment/processed/df_prop.csv')\n",
    "summary(data)"
   ]
  },
  {
   "cell_type": "code",
   "execution_count": 4,
   "metadata": {},
   "outputs": [],
   "source": [
    "data$groupup = factor(data$group, levels=c('control', 'pae'))\n",
    "data$rat = factor(data$rat)\n",
    "data$session = factor(data$session)\n",
    "data$area = factor(data$area, levels=c('ca1', 'ca3'))"
   ]
  },
  {
   "cell_type": "markdown",
   "metadata": {},
   "source": [
    "## compare prop of pyramidal cells \n",
    "\n",
    "don't need int prob because they are inversely proportial "
   ]
  },
  {
   "cell_type": "code",
   "execution_count": 13,
   "metadata": {},
   "outputs": [
    {
     "data": {
      "text/html": [
       "0.693415637860082"
      ],
      "text/latex": [
       "0.693415637860082"
      ],
      "text/markdown": [
       "0.693415637860082"
      ],
      "text/plain": [
       "[1] 0.6934156"
      ]
     },
     "metadata": {},
     "output_type": "display_data"
    },
    {
     "data": {
      "text/html": [
       "0.581929555895865"
      ],
      "text/latex": [
       "0.581929555895865"
      ],
      "text/markdown": [
       "0.581929555895865"
      ],
      "text/plain": [
       "[1] 0.5819296"
      ]
     },
     "metadata": {},
     "output_type": "display_data"
    },
    {
     "data": {
      "text/html": [
       "<table>\n",
       "<thead><tr><th></th><th scope=col>npar</th><th scope=col>AIC</th><th scope=col>BIC</th><th scope=col>logLik</th><th scope=col>deviance</th><th scope=col>Chisq</th><th scope=col>Df</th><th scope=col>Pr(&gt;Chisq)</th></tr></thead>\n",
       "<tbody>\n",
       "\t<tr><th scope=row>m1.null</th><td>3         </td><td>530.8457  </td><td>538.4111  </td><td>-262.4229 </td><td>524.8457  </td><td>      NA  </td><td>NA        </td><td>        NA</td></tr>\n",
       "\t<tr><th scope=row>m1</th><td>4         </td><td>529.8656  </td><td>539.9527  </td><td>-260.9328 </td><td>521.8656  </td><td>2.980126  </td><td> 1        </td><td>0.08429269</td></tr>\n",
       "</tbody>\n",
       "</table>\n"
      ],
      "text/latex": [
       "\\begin{tabular}{r|llllllll}\n",
       "  & npar & AIC & BIC & logLik & deviance & Chisq & Df & Pr(>Chisq)\\\\\n",
       "\\hline\n",
       "\tm1.null & 3          & 530.8457   & 538.4111   & -262.4229  & 524.8457   &       NA   & NA         &         NA\\\\\n",
       "\tm1 & 4          & 529.8656   & 539.9527   & -260.9328  & 521.8656   & 2.980126   &  1         & 0.08429269\\\\\n",
       "\\end{tabular}\n"
      ],
      "text/markdown": [
       "\n",
       "| <!--/--> | npar | AIC | BIC | logLik | deviance | Chisq | Df | Pr(>Chisq) |\n",
       "|---|---|---|---|---|---|---|---|---|\n",
       "| m1.null | 3          | 530.8457   | 538.4111   | -262.4229  | 524.8457   |       NA   | NA         |         NA |\n",
       "| m1 | 4          | 529.8656   | 539.9527   | -260.9328  | 521.8656   | 2.980126   |  1         | 0.08429269 |\n",
       "\n"
      ],
      "text/plain": [
       "        npar AIC      BIC      logLik    deviance Chisq    Df Pr(>Chisq)\n",
       "m1.null 3    530.8457 538.4111 -262.4229 524.8457       NA NA         NA\n",
       "m1      4    529.8656 539.9527 -260.9328 521.8656 2.980126  1 0.08429269"
      ]
     },
     "metadata": {},
     "output_type": "display_data"
    },
    {
     "data": {
      "text/plain": [
       "Generalized linear mixed model fit by maximum likelihood (Laplace\n",
       "  Approximation) [glmerMod]\n",
       " Family: binomial  ( logit )\n",
       "Formula: prop_pyr ~ group + (1 | rat/session)\n",
       "   Data: data[data$area == \"ca1\", ]\n",
       "Weights: n_cells\n",
       "\n",
       "     AIC      BIC   logLik deviance df.resid \n",
       "   529.9    540.0   -260.9    521.9       88 \n",
       "\n",
       "Scaled residuals: \n",
       "     Min       1Q   Median       3Q      Max \n",
       "-1.96140 -0.26382  0.03643  0.44800  1.31491 \n",
       "\n",
       "Random effects:\n",
       " Groups      Name        Variance Std.Dev.\n",
       " session:rat (Intercept) 0.6034   0.7768  \n",
       " rat         (Intercept) 0.2512   0.5012  \n",
       "Number of obs: 92, groups:  session:rat, 92; rat, 10\n",
       "\n",
       "Fixed effects:\n",
       "            Estimate Std. Error z value Pr(>|z|)    \n",
       "(Intercept)   0.9906     0.2937   3.373 0.000744 ***\n",
       "grouppae     -0.7587     0.4046  -1.875 0.060802 .  \n",
       "---\n",
       "Signif. codes:  0 '***' 0.001 '**' 0.01 '*' 0.05 '.' 0.1 ' ' 1\n",
       "\n",
       "Correlation of Fixed Effects:\n",
       "         (Intr)\n",
       "grouppae -0.721"
      ]
     },
     "metadata": {},
     "output_type": "display_data"
    },
    {
     "data": {
      "image/png": "[encoded data removed]",
      "text/plain": [
       "plot without title"
      ]
     },
     "metadata": {},
     "output_type": "display_data"
    },
    {
     "data": {
      "image/png": "[encoded data removed]",
      "text/plain": [
       "Plot with title \"Normal Q-Q Plot\""
      ]
     },
     "metadata": {},
     "output_type": "display_data"
    },
    {
     "data": {
      "image/png": "[encoded data removed]",
      "text/plain": [
       "Plot with title \"density.default(x = resid(m1))\""
      ]
     },
     "metadata": {},
     "output_type": "display_data"
    },
    {
     "data": {
      "image/png": "[encoded data removed]",
      "text/plain": [
       "plot without title"
      ]
     },
     "metadata": {},
     "output_type": "display_data"
    }
   ],
   "source": [
    "weighted.mean(data[data$area=='ca1' & data$group=='control',]$prop_pyr, data[data$area=='ca1' & data$group=='control',]$n_cells)\n",
    "weighted.mean(data[data$area=='ca1' & data$group=='pae',]$prop_pyr, data[data$area=='ca1' & data$group=='pae',]$n_cells)\n",
    "\n",
    "m1 = glmer(prop_pyr ~ group + (1|rat/session), weights=n_cells, data=data[data$area=='ca1',],family=\"binomial\")\n",
    "m1.null = glmer(prop_pyr ~ 1 + (1|rat/session), weights=n_cells, data=data[data$area=='ca1',],family=\"binomial\")\n",
    "\n",
    "anova(m1.null, m1)  \n",
    "\n",
    "summary(m1)\n",
    "# overdisp.glmer(m1)\n",
    "\n",
    "options(repr.plot.width = 4, repr.plot.height = 4)\n",
    "\n",
    "plot(m1)\n",
    "qqnorm(resid(m1))\n",
    "qqline(resid(m1))\n",
    "plot(density(resid(m1)))\n",
    "\n",
    "plot(prop_pyr ~ group, data = data[data$area == \"ca1\",])\n"
   ]
  },
  {
   "cell_type": "code",
   "execution_count": 14,
   "metadata": {},
   "outputs": [
    {
     "data": {
      "text/html": [
       "0.748299319727891"
      ],
      "text/latex": [
       "0.748299319727891"
      ],
      "text/markdown": [
       "0.748299319727891"
      ],
      "text/plain": [
       "[1] 0.7482993"
      ]
     },
     "metadata": {},
     "output_type": "display_data"
    },
    {
     "data": {
      "text/html": [
       "0.604893410852713"
      ],
      "text/latex": [
       "0.604893410852713"
      ],
      "text/markdown": [
       "0.604893410852713"
      ],
      "text/plain": [
       "[1] 0.6048934"
      ]
     },
     "metadata": {},
     "output_type": "display_data"
    },
    {
     "data": {
      "text/html": [
       "<table>\n",
       "<thead><tr><th></th><th scope=col>npar</th><th scope=col>AIC</th><th scope=col>BIC</th><th scope=col>logLik</th><th scope=col>deviance</th><th scope=col>Chisq</th><th scope=col>Df</th><th scope=col>Pr(&gt;Chisq)</th></tr></thead>\n",
       "<tbody>\n",
       "\t<tr><th scope=row>m1.null</th><td>3        </td><td>835.3587 </td><td>843.8675 </td><td>-414.6793</td><td>829.3587 </td><td>      NA </td><td>NA       </td><td>       NA</td></tr>\n",
       "\t<tr><th scope=row>m1</th><td>4        </td><td>836.0393 </td><td>847.3844 </td><td>-414.0196</td><td>828.0393 </td><td>1.319394 </td><td> 1       </td><td>0.2507008</td></tr>\n",
       "</tbody>\n",
       "</table>\n"
      ],
      "text/latex": [
       "\\begin{tabular}{r|llllllll}\n",
       "  & npar & AIC & BIC & logLik & deviance & Chisq & Df & Pr(>Chisq)\\\\\n",
       "\\hline\n",
       "\tm1.null & 3         & 835.3587  & 843.8675  & -414.6793 & 829.3587  &       NA  & NA        &        NA\\\\\n",
       "\tm1 & 4         & 836.0393  & 847.3844  & -414.0196 & 828.0393  & 1.319394  &  1        & 0.2507008\\\\\n",
       "\\end{tabular}\n"
      ],
      "text/markdown": [
       "\n",
       "| <!--/--> | npar | AIC | BIC | logLik | deviance | Chisq | Df | Pr(>Chisq) |\n",
       "|---|---|---|---|---|---|---|---|---|\n",
       "| m1.null | 3         | 835.3587  | 843.8675  | -414.6793 | 829.3587  |       NA  | NA        |        NA |\n",
       "| m1 | 4         | 836.0393  | 847.3844  | -414.0196 | 828.0393  | 1.319394  |  1        | 0.2507008 |\n",
       "\n"
      ],
      "text/plain": [
       "        npar AIC      BIC      logLik    deviance Chisq    Df Pr(>Chisq)\n",
       "m1.null 3    835.3587 843.8675 -414.6793 829.3587       NA NA        NA \n",
       "m1      4    836.0393 847.3844 -414.0196 828.0393 1.319394  1 0.2507008 "
      ]
     },
     "metadata": {},
     "output_type": "display_data"
    },
    {
     "data": {
      "text/plain": [
       "Generalized linear mixed model fit by maximum likelihood (Laplace\n",
       "  Approximation) [glmerMod]\n",
       " Family: binomial  ( logit )\n",
       "Formula: prop_pyr ~ group + (1 | rat/session)\n",
       "   Data: data[data$area == \"ca3\", ]\n",
       "Weights: n_cells\n",
       "\n",
       "     AIC      BIC   logLik deviance df.resid \n",
       "   836.0    847.4   -414.0    828.0      122 \n",
       "\n",
       "Scaled residuals: \n",
       "    Min      1Q  Median      3Q     Max \n",
       "-1.3594 -0.2201  0.0564  0.2281  1.2794 \n",
       "\n",
       "Random effects:\n",
       " Groups      Name        Variance Std.Dev.\n",
       " session:rat (Intercept) 0.6452   0.8033  \n",
       " rat         (Intercept) 0.3704   0.6086  \n",
       "Number of obs: 126, groups:  session:rat, 126; rat, 8\n",
       "\n",
       "Fixed effects:\n",
       "            Estimate Std. Error z value Pr(>|z|)   \n",
       "(Intercept)   1.0039     0.3280   3.061   0.0022 **\n",
       "grouppae     -0.6011     0.4929  -1.219   0.2227   \n",
       "---\n",
       "Signif. codes:  0 '***' 0.001 '**' 0.01 '*' 0.05 '.' 0.1 ' ' 1\n",
       "\n",
       "Correlation of Fixed Effects:\n",
       "         (Intr)\n",
       "grouppae -0.666"
      ]
     },
     "metadata": {},
     "output_type": "display_data"
    },
    {
     "data": {
      "image/png": "[encoded data removed]",
      "text/plain": [
       "plot without title"
      ]
     },
     "metadata": {},
     "output_type": "display_data"
    },
    {
     "data": {
      "image/png": "[encoded data removed]",
      "text/plain": [
       "Plot with title \"Normal Q-Q Plot\""
      ]
     },
     "metadata": {},
     "output_type": "display_data"
    },
    {
     "data": {
      "image/png": "[encoded data removed]",
      "text/plain": [
       "Plot with title \"density.default(x = resid(m1))\""
      ]
     },
     "metadata": {},
     "output_type": "display_data"
    },
    {
     "data": {
      "image/png": "[encoded data removed]",
      "text/plain": [
       "plot without title"
      ]
     },
     "metadata": {},
     "output_type": "display_data"
    }
   ],
   "source": [
    "weighted.mean(data[data$area=='ca3' & data$group=='control',]$prop_pyr, data[data$area=='ca3' & data$group=='control',]$n_cells)\n",
    "weighted.mean(data[data$area=='ca3' & data$group=='pae',]$prop_pyr, data[data$area=='ca3' & data$group=='pae',]$n_cells)\n",
    "\n",
    "m1 = glmer(prop_pyr ~ group + (1|rat/session), weights=n_cells, data=data[data$area=='ca3',],family=\"binomial\")\n",
    "m1.null = glmer(prop_pyr ~ 1 + (1|rat/session), weights=n_cells, data=data[data$area=='ca3',],family=\"binomial\")\n",
    "\n",
    "anova(m1.null, m1)  \n",
    "\n",
    "summary(m1)\n",
    "# overdisp.glmer(m1)\n",
    "\n",
    "options(repr.plot.width = 4, repr.plot.height = 4)\n",
    "\n",
    "plot(m1)\n",
    "qqnorm(resid(m1))\n",
    "qqline(resid(m1))\n",
    "plot(density(resid(m1)))\n",
    "\n",
    "plot(prop_pyr ~ group, data = data[data$area == \"ca3\",])\n"
   ]
  },
  {
   "cell_type": "markdown",
   "metadata": {},
   "source": [
    "# compare ripple phase modulation"
   ]
  },
  {
   "cell_type": "code",
   "execution_count": 55,
   "metadata": {},
   "outputs": [
    {
     "data": {
      "text/plain": [
       "       X                           session        rat         group     area   \n",
       " Min.   : 0.0   LEM3124_S20190307163732: 2   LEM3124:28   control:33   ca1:27  \n",
       " 1st Qu.:23.5   LEM3124_S20190309145324: 2   LEM3216:21   pae    :62   ca3:68  \n",
       " Median :47.0   LEM3124_S20190315160017: 2   LEM3246:17                        \n",
       " Mean   :47.0   LEM3124_S20190319154019: 2   LEM3206:15                        \n",
       " 3rd Qu.:70.5   LEM3124_S20190322123145: 2   LEM3116: 9                        \n",
       " Max.   :94.0   LEM3124_S20190325164111: 2   LEM3120: 2                        \n",
       "                (Other)                :83   (Other): 3                        \n",
       "    prop_pyr          prop_int          n_pyr           n_int      \n",
       " Min.   :0.04545   Min.   :0.0000   Min.   : 1.00   Min.   : 0.00  \n",
       " 1st Qu.:0.38315   1st Qu.:0.2500   1st Qu.:17.00   1st Qu.: 3.50  \n",
       " Median :0.55882   Median :0.5000   Median :29.00   Median :15.00  \n",
       " Mean   :0.52514   Mean   :0.4366   Mean   :33.87   Mean   :14.73  \n",
       " 3rd Qu.:0.66667   3rd Qu.:0.6036   3rd Qu.:48.00   3rd Qu.:23.50  \n",
       " Max.   :1.00000   Max.   :1.0000   Max.   :92.00   Max.   :45.00  \n",
       "                                                                   "
      ]
     },
     "metadata": {},
     "output_type": "display_data"
    }
   ],
   "source": [
    "data <- read.csv('F:/Projects/PAE_PlaceCell/analysis/ripple_modulation_phase/post_processed/df_prop.csv')\n",
    "summary(data)"
   ]
  },
  {
   "cell_type": "code",
   "execution_count": 56,
   "metadata": {},
   "outputs": [],
   "source": [
    "data$groupup = factor(data$group, levels=c('control', 'pae'))\n",
    "data$rat = factor(data$rat)\n",
    "data$session = factor(data$session)\n",
    "data$area = factor(data$area, levels=c('ca1', 'ca3'))"
   ]
  },
  {
   "cell_type": "code",
   "execution_count": 57,
   "metadata": {},
   "outputs": [
    {
     "data": {
      "text/html": [
       "0.344139650872818"
      ],
      "text/latex": [
       "0.344139650872818"
      ],
      "text/markdown": [
       "0.344139650872818"
      ],
      "text/plain": [
       "[1] 0.3441397"
      ]
     },
     "metadata": {},
     "output_type": "display_data"
    },
    {
     "data": {
      "text/html": [
       "0.445843828715365"
      ],
      "text/latex": [
       "0.445843828715365"
      ],
      "text/markdown": [
       "0.445843828715365"
      ],
      "text/plain": [
       "[1] 0.4458438"
      ]
     },
     "metadata": {},
     "output_type": "display_data"
    },
    {
     "data": {
      "text/html": [
       "<table>\n",
       "<thead><tr><th></th><th scope=col>npar</th><th scope=col>AIC</th><th scope=col>BIC</th><th scope=col>logLik</th><th scope=col>deviance</th><th scope=col>Chisq</th><th scope=col>Df</th><th scope=col>Pr(&gt;Chisq)</th></tr></thead>\n",
       "<tbody>\n",
       "\t<tr><th scope=row>m1.null</th><td>3        </td><td>147.5544 </td><td>151.4419 </td><td>-70.77720</td><td>141.5544 </td><td>       NA</td><td>NA       </td><td>       NA</td></tr>\n",
       "\t<tr><th scope=row>m1</th><td>4        </td><td>149.1826 </td><td>154.3659 </td><td>-70.59129</td><td>141.1826 </td><td>0.3718204</td><td> 1       </td><td>0.5420137</td></tr>\n",
       "</tbody>\n",
       "</table>\n"
      ],
      "text/latex": [
       "\\begin{tabular}{r|llllllll}\n",
       "  & npar & AIC & BIC & logLik & deviance & Chisq & Df & Pr(>Chisq)\\\\\n",
       "\\hline\n",
       "\tm1.null & 3         & 147.5544  & 151.4419  & -70.77720 & 141.5544  &        NA & NA        &        NA\\\\\n",
       "\tm1 & 4         & 149.1826  & 154.3659  & -70.59129 & 141.1826  & 0.3718204 &  1        & 0.5420137\\\\\n",
       "\\end{tabular}\n"
      ],
      "text/markdown": [
       "\n",
       "| <!--/--> | npar | AIC | BIC | logLik | deviance | Chisq | Df | Pr(>Chisq) |\n",
       "|---|---|---|---|---|---|---|---|---|\n",
       "| m1.null | 3         | 147.5544  | 151.4419  | -70.77720 | 141.5544  |        NA | NA        |        NA |\n",
       "| m1 | 4         | 149.1826  | 154.3659  | -70.59129 | 141.1826  | 0.3718204 |  1        | 0.5420137 |\n",
       "\n"
      ],
      "text/plain": [
       "        npar AIC      BIC      logLik    deviance Chisq     Df Pr(>Chisq)\n",
       "m1.null 3    147.5544 151.4419 -70.77720 141.5544        NA NA        NA \n",
       "m1      4    149.1826 154.3659 -70.59129 141.1826 0.3718204  1 0.5420137 "
      ]
     },
     "metadata": {},
     "output_type": "display_data"
    },
    {
     "data": {
      "text/plain": [
       "Generalized linear mixed model fit by maximum likelihood (Laplace\n",
       "  Approximation) [glmerMod]\n",
       " Family: binomial  ( logit )\n",
       "Formula: prop_pyr ~ group + (1 | rat/session)\n",
       "   Data: data[data$area == \"ca1\", ]\n",
       "Weights: n_pyr\n",
       "\n",
       "     AIC      BIC   logLik deviance df.resid \n",
       "   149.2    154.4    -70.6    141.2       23 \n",
       "\n",
       "Scaled residuals: \n",
       "     Min       1Q   Median       3Q      Max \n",
       "-1.06650 -0.19586  0.06813  0.37520  1.44294 \n",
       "\n",
       "Random effects:\n",
       " Groups      Name        Variance Std.Dev.\n",
       " session:rat (Intercept) 0.3908   0.6252  \n",
       " rat         (Intercept) 0.2406   0.4905  \n",
       "Number of obs: 27, groups:  session:rat, 27; rat, 6\n",
       "\n",
       "Fixed effects:\n",
       "            Estimate Std. Error z value Pr(>|z|)\n",
       "(Intercept)  -0.2400     0.4233  -0.567    0.571\n",
       "grouppae      0.3753     0.5837   0.643    0.520\n",
       "\n",
       "Correlation of Fixed Effects:\n",
       "         (Intr)\n",
       "grouppae -0.665"
      ]
     },
     "metadata": {},
     "output_type": "display_data"
    },
    {
     "data": {
      "image/png": "[encoded data removed]",
      "text/plain": [
       "plot without title"
      ]
     },
     "metadata": {},
     "output_type": "display_data"
    },
    {
     "data": {
      "image/png": "[encoded data removed]",
      "text/plain": [
       "Plot with title \"Normal Q-Q Plot\""
      ]
     },
     "metadata": {},
     "output_type": "display_data"
    },
    {
     "data": {
      "image/png": "[encoded data removed]",
      "text/plain": [
       "Plot with title \"density.default(x = resid(m1))\""
      ]
     },
     "metadata": {},
     "output_type": "display_data"
    },
    {
     "data": {
      "image/png": "[encoded data removed]",
      "text/plain": [
       "plot without title"
      ]
     },
     "metadata": {},
     "output_type": "display_data"
    }
   ],
   "source": [
    "weighted.mean(data[data$area=='ca1' & data$group=='control',]$prop_pyr,data[data$area=='ca1' & data$group=='control',]$n_pyr)\n",
    "weighted.mean(data[data$area=='ca1' & data$group=='pae',]$prop_pyr,data[data$area=='ca1' & data$group=='pae',]$n_pyr)\n",
    "\n",
    "m1 = glmer(prop_pyr ~ group + (1|rat/session), weights=n_pyr, data=data[data$area=='ca1',],family=\"binomial\")\n",
    "m1.null = glmer(prop_pyr ~ 1 + (1|rat/session), weights=n_pyr, data=data[data$area=='ca1',],family=\"binomial\")\n",
    "\n",
    "anova(m1.null, m1)  \n",
    "\n",
    "summary(m1)\n",
    "# overdisp.glmer(m1)\n",
    "\n",
    "options(repr.plot.width = 4, repr.plot.height = 4)\n",
    "\n",
    "plot(m1)\n",
    "qqnorm(resid(m1))\n",
    "qqline(resid(m1))\n",
    "plot(density(resid(m1)))\n",
    "\n",
    "plot(prop_pyr ~ group, data = data[data$area == \"ca1\",])"
   ]
  },
  {
   "cell_type": "code",
   "execution_count": 58,
   "metadata": {},
   "outputs": [
    {
     "data": {
      "text/html": [
       "0.151724137931034"
      ],
      "text/latex": [
       "0.151724137931034"
      ],
      "text/markdown": [
       "0.151724137931034"
      ],
      "text/plain": [
       "[1] 0.1517241"
      ]
     },
     "metadata": {},
     "output_type": "display_data"
    },
    {
     "data": {
      "text/html": [
       "0.416216216216216"
      ],
      "text/latex": [
       "0.416216216216216"
      ],
      "text/markdown": [
       "0.416216216216216"
      ],
      "text/plain": [
       "[1] 0.4162162"
      ]
     },
     "metadata": {},
     "output_type": "display_data"
    },
    {
     "name": "stderr",
     "output_type": "stream",
     "text": [
      "boundary (singular) fit: see ?isSingular\n"
     ]
    },
    {
     "data": {
      "text/html": [
       "<table>\n",
       "<thead><tr><th></th><th scope=col>npar</th><th scope=col>AIC</th><th scope=col>BIC</th><th scope=col>logLik</th><th scope=col>deviance</th><th scope=col>Chisq</th><th scope=col>Df</th><th scope=col>Pr(&gt;Chisq)</th></tr></thead>\n",
       "<tbody>\n",
       "\t<tr><th scope=row>m1.null</th><td>3         </td><td>109.1867  </td><td>113.0743  </td><td>-51.59337 </td><td>103.1867  </td><td>      NA  </td><td>NA        </td><td>        NA</td></tr>\n",
       "\t<tr><th scope=row>m1</th><td>4         </td><td>104.5579  </td><td>109.7413  </td><td>-48.27895 </td><td> 96.5579  </td><td>6.628842  </td><td> 1        </td><td>0.01003404</td></tr>\n",
       "</tbody>\n",
       "</table>\n"
      ],
      "text/latex": [
       "\\begin{tabular}{r|llllllll}\n",
       "  & npar & AIC & BIC & logLik & deviance & Chisq & Df & Pr(>Chisq)\\\\\n",
       "\\hline\n",
       "\tm1.null & 3          & 109.1867   & 113.0743   & -51.59337  & 103.1867   &       NA   & NA         &         NA\\\\\n",
       "\tm1 & 4          & 104.5579   & 109.7413   & -48.27895  &  96.5579   & 6.628842   &  1         & 0.01003404\\\\\n",
       "\\end{tabular}\n"
      ],
      "text/markdown": [
       "\n",
       "| <!--/--> | npar | AIC | BIC | logLik | deviance | Chisq | Df | Pr(>Chisq) |\n",
       "|---|---|---|---|---|---|---|---|---|\n",
       "| m1.null | 3          | 109.1867   | 113.0743   | -51.59337  | 103.1867   |       NA   | NA         |         NA |\n",
       "| m1 | 4          | 104.5579   | 109.7413   | -48.27895  |  96.5579   | 6.628842   |  1         | 0.01003404 |\n",
       "\n"
      ],
      "text/plain": [
       "        npar AIC      BIC      logLik    deviance Chisq    Df Pr(>Chisq)\n",
       "m1.null 3    109.1867 113.0743 -51.59337 103.1867       NA NA         NA\n",
       "m1      4    104.5579 109.7413 -48.27895  96.5579 6.628842  1 0.01003404"
      ]
     },
     "metadata": {},
     "output_type": "display_data"
    },
    {
     "data": {
      "text/plain": [
       "Generalized linear mixed model fit by maximum likelihood (Laplace\n",
       "  Approximation) [glmerMod]\n",
       " Family: binomial  ( logit )\n",
       "Formula: prop_int ~ group + (1 | rat/session)\n",
       "   Data: data[data$area == \"ca1\", ]\n",
       "Weights: n_int\n",
       "\n",
       "     AIC      BIC   logLik deviance df.resid \n",
       "   104.6    109.7    -48.3     96.6       23 \n",
       "\n",
       "Scaled residuals: \n",
       "    Min      1Q  Median      3Q     Max \n",
       "-1.2590 -0.3719  0.0000  0.3581  2.0456 \n",
       "\n",
       "Random effects:\n",
       " Groups      Name        Variance  Std.Dev. \n",
       " session:rat (Intercept) 6.387e-01 7.992e-01\n",
       " rat         (Intercept) 3.519e-10 1.876e-05\n",
       "Number of obs: 27, groups:  session:rat, 27; rat, 6\n",
       "\n",
       "Fixed effects:\n",
       "            Estimate Std. Error z value Pr(>|z|)    \n",
       "(Intercept)  -1.9468     0.4251   -4.58 4.65e-06 ***\n",
       "grouppae      1.6541     0.5074    3.26  0.00111 ** \n",
       "---\n",
       "Signif. codes:  0 '***' 0.001 '**' 0.01 '*' 0.05 '.' 0.1 ' ' 1\n",
       "\n",
       "Correlation of Fixed Effects:\n",
       "         (Intr)\n",
       "grouppae -0.832\n",
       "optimizer (Nelder_Mead) convergence code: 0 (OK)\n",
       "boundary (singular) fit: see ?isSingular\n"
      ]
     },
     "metadata": {},
     "output_type": "display_data"
    },
    {
     "name": "stdout",
     "output_type": "stream",
     "text": [
      "Residual deviance: 16.61 on 23 degrees of freedom (ratio: 0.722)\n"
     ]
    },
    {
     "data": {
      "image/png": "[encoded data removed]",
      "text/plain": [
       "plot without title"
      ]
     },
     "metadata": {},
     "output_type": "display_data"
    },
    {
     "data": {
      "image/png": "[encoded data removed]",
      "text/plain": [
       "Plot with title \"Normal Q-Q Plot\""
      ]
     },
     "metadata": {},
     "output_type": "display_data"
    },
    {
     "data": {
      "image/png": "[encoded data removed]",
      "text/plain": [
       "Plot with title \"density.default(x = resid(m1))\""
      ]
     },
     "metadata": {},
     "output_type": "display_data"
    },
    {
     "data": {
      "image/png": "[encoded data removed]",
      "text/plain": [
       "plot without title"
      ]
     },
     "metadata": {},
     "output_type": "display_data"
    }
   ],
   "source": [
    "weighted.mean(data[data$area=='ca1' & data$group=='control',]$prop_int,data[data$area=='ca1' & data$group=='control',]$n_int)\n",
    "weighted.mean(data[data$area=='ca1' & data$group=='pae',]$prop_int,data[data$area=='ca1' & data$group=='pae',]$n_int)\n",
    "\n",
    "m1 = glmer(prop_int ~ group + (1|rat/session), weights=n_int, data=data[data$area=='ca1',],family=\"binomial\")\n",
    "m1.null = glmer(prop_int ~ 1 + (1|rat/session), weights=n_int, data=data[data$area=='ca1',],family=\"binomial\")\n",
    "\n",
    "anova(m1.null, m1)  \n",
    "\n",
    "summary(m1)\n",
    "overdisp.glmer(m1)\n",
    "\n",
    "options(repr.plot.width = 4, repr.plot.height = 4)\n",
    "\n",
    "plot(m1)\n",
    "qqnorm(resid(m1))\n",
    "qqline(resid(m1))\n",
    "plot(density(resid(m1)))\n",
    "\n",
    "plot(prop_int ~ group, data = data[data$area == \"ca1\",])"
   ]
  },
  {
   "cell_type": "code",
   "execution_count": 53,
   "metadata": {},
   "outputs": [
    {
     "data": {
      "text/html": [
       "0.538853503184713"
      ],
      "text/latex": [
       "0.538853503184713"
      ],
      "text/markdown": [
       "0.538853503184713"
      ],
      "text/plain": [
       "[1] 0.5388535"
      ]
     },
     "metadata": {},
     "output_type": "display_data"
    },
    {
     "data": {
      "text/html": [
       "0.562691131498471"
      ],
      "text/latex": [
       "0.562691131498471"
      ],
      "text/markdown": [
       "0.562691131498471"
      ],
      "text/plain": [
       "[1] 0.5626911"
      ]
     },
     "metadata": {},
     "output_type": "display_data"
    },
    {
     "data": {
      "text/html": [
       "<table>\n",
       "<thead><tr><th></th><th scope=col>npar</th><th scope=col>AIC</th><th scope=col>BIC</th><th scope=col>logLik</th><th scope=col>deviance</th><th scope=col>Chisq</th><th scope=col>Df</th><th scope=col>Pr(&gt;Chisq)</th></tr></thead>\n",
       "<tbody>\n",
       "\t<tr><th scope=row>m1.null</th><td>3           </td><td>430.7095    </td><td>437.3680    </td><td>-212.3547   </td><td>424.7095    </td><td>          NA</td><td>NA          </td><td>       NA   </td></tr>\n",
       "\t<tr><th scope=row>m1</th><td>4           </td><td>432.7087    </td><td>441.5867    </td><td>-212.3544   </td><td>424.7087    </td><td>0.0007374594</td><td> 1          </td><td>0.9783351   </td></tr>\n",
       "</tbody>\n",
       "</table>\n"
      ],
      "text/latex": [
       "\\begin{tabular}{r|llllllll}\n",
       "  & npar & AIC & BIC & logLik & deviance & Chisq & Df & Pr(>Chisq)\\\\\n",
       "\\hline\n",
       "\tm1.null & 3            & 430.7095     & 437.3680     & -212.3547    & 424.7095     &           NA & NA           &        NA   \\\\\n",
       "\tm1 & 4            & 432.7087     & 441.5867     & -212.3544    & 424.7087     & 0.0007374594 &  1           & 0.9783351   \\\\\n",
       "\\end{tabular}\n"
      ],
      "text/markdown": [
       "\n",
       "| <!--/--> | npar | AIC | BIC | logLik | deviance | Chisq | Df | Pr(>Chisq) |\n",
       "|---|---|---|---|---|---|---|---|---|\n",
       "| m1.null | 3            | 430.7095     | 437.3680     | -212.3547    | 424.7095     |           NA | NA           |        NA    |\n",
       "| m1 | 4            | 432.7087     | 441.5867     | -212.3544    | 424.7087     | 0.0007374594 |  1           | 0.9783351    |\n",
       "\n"
      ],
      "text/plain": [
       "        npar AIC      BIC      logLik    deviance Chisq        Df Pr(>Chisq)\n",
       "m1.null 3    430.7095 437.3680 -212.3547 424.7095           NA NA        NA \n",
       "m1      4    432.7087 441.5867 -212.3544 424.7087 0.0007374594  1 0.9783351 "
      ]
     },
     "metadata": {},
     "output_type": "display_data"
    },
    {
     "data": {
      "text/plain": [
       "Generalized linear mixed model fit by maximum likelihood (Laplace\n",
       "  Approximation) [glmerMod]\n",
       " Family: binomial  ( logit )\n",
       "Formula: prop_pyr ~ group + (1 | rat/session)\n",
       "   Data: data[data$area == \"ca3\", ]\n",
       "Weights: n_pyr\n",
       "\n",
       "     AIC      BIC   logLik deviance df.resid \n",
       "   432.7    441.6   -212.4    424.7       64 \n",
       "\n",
       "Scaled residuals: \n",
       "     Min       1Q   Median       3Q      Max \n",
       "-1.64186 -0.25067  0.00546  0.32301  1.08536 \n",
       "\n",
       "Random effects:\n",
       " Groups      Name        Variance Std.Dev.\n",
       " session:rat (Intercept) 0.4499   0.6708  \n",
       " rat         (Intercept) 0.1655   0.4068  \n",
       "Number of obs: 68, groups:  session:rat, 68; rat, 6\n",
       "\n",
       "Fixed effects:\n",
       "            Estimate Std. Error z value Pr(>|z|)\n",
       "(Intercept)  0.13046    0.31163   0.419    0.675\n",
       "grouppae     0.01106    0.40814   0.027    0.978\n",
       "\n",
       "Correlation of Fixed Effects:\n",
       "         (Intr)\n",
       "grouppae -0.764"
      ]
     },
     "metadata": {},
     "output_type": "display_data"
    },
    {
     "name": "stdout",
     "output_type": "stream",
     "text": [
      "Residual deviance: 22.083 on 64 degrees of freedom (ratio: 0.345)\n"
     ]
    },
    {
     "data": {
      "image/png": "[encoded data removed]",
      "text/plain": [
       "plot without title"
      ]
     },
     "metadata": {},
     "output_type": "display_data"
    },
    {
     "data": {
      "image/png": "[encoded data removed]",
      "text/plain": [
       "Plot with title \"Normal Q-Q Plot\""
      ]
     },
     "metadata": {},
     "output_type": "display_data"
    },
    {
     "data": {
      "image/png": "[encoded data removed]",
      "text/plain": [
       "Plot with title \"density.default(x = resid(m1))\""
      ]
     },
     "metadata": {},
     "output_type": "display_data"
    },
    {
     "data": {
      "image/png": "[encoded data removed]",
      "text/plain": [
       "plot without title"
      ]
     },
     "metadata": {},
     "output_type": "display_data"
    }
   ],
   "source": [
    "weighted.mean(data[data$area=='ca3' & data$group=='control',]$prop_pyr,data[data$area=='ca3' & data$group=='control',]$n_pyr)\n",
    "weighted.mean(data[data$area=='ca3' & data$group=='pae',]$prop_pyr,data[data$area=='ca3' & data$group=='pae',]$n_pyr)\n",
    "\n",
    "m1 = glmer(prop_pyr ~ group + (1|rat/session), weights=n_pyr, data=data[data$area=='ca3',],family=\"binomial\")\n",
    "m1.null = glmer(prop_pyr ~ 1 + (1|rat/session), weights=n_pyr, data=data[data$area=='ca3',],family=\"binomial\")\n",
    "\n",
    "anova(m1.null, m1)  \n",
    "\n",
    "summary(m1)\n",
    "overdisp.glmer(m1)\n",
    "\n",
    "options(repr.plot.width = 4, repr.plot.height = 4)\n",
    "\n",
    "plot(m1)\n",
    "qqnorm(resid(m1))\n",
    "qqline(resid(m1))\n",
    "plot(density(resid(m1)))\n",
    "\n",
    "plot(prop_pyr ~ group, data = data[data$area == \"ca3\",])\n"
   ]
  },
  {
   "cell_type": "code",
   "execution_count": 54,
   "metadata": {},
   "outputs": [
    {
     "data": {
      "text/html": [
       "0.457142857142857"
      ],
      "text/latex": [
       "0.457142857142857"
      ],
      "text/markdown": [
       "0.457142857142857"
      ],
      "text/plain": [
       "[1] 0.4571429"
      ]
     },
     "metadata": {},
     "output_type": "display_data"
    },
    {
     "data": {
      "text/html": [
       "0.51237890204521"
      ],
      "text/latex": [
       "0.51237890204521"
      ],
      "text/markdown": [
       "0.51237890204521"
      ],
      "text/plain": [
       "[1] 0.5123789"
      ]
     },
     "metadata": {},
     "output_type": "display_data"
    },
    {
     "data": {
      "text/html": [
       "<table>\n",
       "<thead><tr><th></th><th scope=col>npar</th><th scope=col>AIC</th><th scope=col>BIC</th><th scope=col>logLik</th><th scope=col>deviance</th><th scope=col>Chisq</th><th scope=col>Df</th><th scope=col>Pr(&gt;Chisq)</th></tr></thead>\n",
       "<tbody>\n",
       "\t<tr><th scope=row>m1.null</th><td>3         </td><td>305.3481  </td><td>312.0066  </td><td>-149.674  </td><td>299.3481  </td><td>        NA</td><td>NA        </td><td>       NA </td></tr>\n",
       "\t<tr><th scope=row>m1</th><td>4         </td><td>307.3300  </td><td>316.2081  </td><td>-149.665  </td><td>299.3300  </td><td>0.01804024</td><td> 1        </td><td>0.8931543 </td></tr>\n",
       "</tbody>\n",
       "</table>\n"
      ],
      "text/latex": [
       "\\begin{tabular}{r|llllllll}\n",
       "  & npar & AIC & BIC & logLik & deviance & Chisq & Df & Pr(>Chisq)\\\\\n",
       "\\hline\n",
       "\tm1.null & 3          & 305.3481   & 312.0066   & -149.674   & 299.3481   &         NA & NA         &        NA \\\\\n",
       "\tm1 & 4          & 307.3300   & 316.2081   & -149.665   & 299.3300   & 0.01804024 &  1         & 0.8931543 \\\\\n",
       "\\end{tabular}\n"
      ],
      "text/markdown": [
       "\n",
       "| <!--/--> | npar | AIC | BIC | logLik | deviance | Chisq | Df | Pr(>Chisq) |\n",
       "|---|---|---|---|---|---|---|---|---|\n",
       "| m1.null | 3          | 305.3481   | 312.0066   | -149.674   | 299.3481   |         NA | NA         |        NA  |\n",
       "| m1 | 4          | 307.3300   | 316.2081   | -149.665   | 299.3300   | 0.01804024 |  1         | 0.8931543  |\n",
       "\n"
      ],
      "text/plain": [
       "        npar AIC      BIC      logLik   deviance Chisq      Df Pr(>Chisq)\n",
       "m1.null 3    305.3481 312.0066 -149.674 299.3481         NA NA        NA \n",
       "m1      4    307.3300 316.2081 -149.665 299.3300 0.01804024  1 0.8931543 "
      ]
     },
     "metadata": {},
     "output_type": "display_data"
    },
    {
     "data": {
      "text/plain": [
       "Generalized linear mixed model fit by maximum likelihood (Laplace\n",
       "  Approximation) [glmerMod]\n",
       " Family: binomial  ( logit )\n",
       "Formula: prop_int ~ group + (1 | rat/session)\n",
       "   Data: data[data$area == \"ca3\", ]\n",
       "Weights: n_int\n",
       "\n",
       "     AIC      BIC   logLik deviance df.resid \n",
       "   307.3    316.2   -149.7    299.3       64 \n",
       "\n",
       "Scaled residuals: \n",
       "    Min      1Q  Median      3Q     Max \n",
       "-2.0811 -0.2657  0.0802  0.4070  0.9411 \n",
       "\n",
       "Random effects:\n",
       " Groups      Name        Variance Std.Dev.\n",
       " session:rat (Intercept) 0.42604  0.6527  \n",
       " rat         (Intercept) 0.05745  0.2397  \n",
       "Number of obs: 68, groups:  session:rat, 68; rat, 6\n",
       "\n",
       "Fixed effects:\n",
       "            Estimate Std. Error z value Pr(>|z|)\n",
       "(Intercept) -0.07759    0.30746  -0.252    0.801\n",
       "grouppae     0.04835    0.35962   0.134    0.893\n",
       "\n",
       "Correlation of Fixed Effects:\n",
       "         (Intr)\n",
       "grouppae -0.856"
      ]
     },
     "metadata": {},
     "output_type": "display_data"
    },
    {
     "name": "stdout",
     "output_type": "stream",
     "text": [
      "Residual deviance: 30.677 on 64 degrees of freedom (ratio: 0.479)\n"
     ]
    },
    {
     "data": {
      "image/png": "[encoded data removed]",
      "text/plain": [
       "plot without title"
      ]
     },
     "metadata": {},
     "output_type": "display_data"
    },
    {
     "data": {
      "image/png": "[encoded data removed]",
      "text/plain": [
       "Plot with title \"Normal Q-Q Plot\""
      ]
     },
     "metadata": {},
     "output_type": "display_data"
    },
    {
     "data": {
      "image/png": "[encoded data removed]",
      "text/plain": [
       "Plot with title \"density.default(x = resid(m1))\""
      ]
     },
     "metadata": {},
     "output_type": "display_data"
    },
    {
     "data": {
      "image/png": "[encoded data removed]",
      "text/plain": [
       "plot without title"
      ]
     },
     "metadata": {},
     "output_type": "display_data"
    }
   ],
   "source": [
    "weighted.mean(data[data$area=='ca3' & data$group=='control',]$prop_int,data[data$area=='ca3' & data$group=='control',]$n_int)\n",
    "weighted.mean(data[data$area=='ca3' & data$group=='pae',]$prop_int,data[data$area=='ca3' & data$group=='pae',]$n_int)\n",
    "\n",
    "m1 = glmer(prop_int ~ group + (1|rat/session), weights=n_int, data=data[data$area=='ca3',],family=\"binomial\")\n",
    "m1.null = glmer(prop_int ~ 1 + (1|rat/session), weights=n_int, data=data[data$area=='ca3',],family=\"binomial\")\n",
    "\n",
    "anova(m1.null, m1)  \n",
    "\n",
    "summary(m1)\n",
    "overdisp.glmer(m1)\n",
    "\n",
    "options(repr.plot.width = 4, repr.plot.height = 4)\n",
    "\n",
    "plot(m1)\n",
    "qqnorm(resid(m1))\n",
    "qqline(resid(m1))\n",
    "plot(density(resid(m1)))\n",
    "\n",
    "plot(prop_int ~ group, data = data[data$area == \"ca3\",])"
   ]
  }
 ],
 "metadata": {
  "kernelspec": {
   "display_name": "R",
   "language": "R",
   "name": "ir"
  },
  "language_info": {
   "codemirror_mode": "r",
   "file_extension": ".r",
   "mimetype": "text/x-r-source",
   "name": "R",
   "pygments_lexer": "r",
   "version": "3.6.1"
  }
 },
 "nbformat": 4,
 "nbformat_minor": 4
}
