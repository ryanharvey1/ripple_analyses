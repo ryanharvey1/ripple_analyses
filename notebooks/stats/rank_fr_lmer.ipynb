{
 "cells": [
  {
   "cell_type": "code",
   "execution_count": 4,
   "metadata": {},
   "outputs": [
    {
     "name": "stderr",
     "output_type": "stream",
     "text": [
      "Warning message:\n",
      "\"package 'tidyverse' was built under R version 3.6.3\"-- Attaching packages ------------------------------------------------------------------------------- tidyverse 1.3.0 --\n",
      "v ggplot2 3.3.3     v purrr   0.3.4\n",
      "v tibble  3.0.4     v dplyr   1.0.2\n",
      "v tidyr   1.1.2     v stringr 1.4.0\n",
      "v readr   1.3.1     v forcats 0.4.0\n",
      "Warning message:\n",
      "\"package 'ggplot2' was built under R version 3.6.3\"Warning message:\n",
      "\"package 'tibble' was built under R version 3.6.3\"Warning message:\n",
      "\"package 'tidyr' was built under R version 3.6.3\"Warning message:\n",
      "\"package 'purrr' was built under R version 3.6.3\"Warning message:\n",
      "\"package 'dplyr' was built under R version 3.6.3\"-- Conflicts ---------------------------------------------------------------------------------- tidyverse_conflicts() --\n",
      "x dplyr::filter() masks stats::filter()\n",
      "x dplyr::lag()    masks stats::lag()\n",
      "Warning message:\n",
      "\"package 'lme4' was built under R version 3.6.3\"Loading required package: Matrix\n",
      "\n",
      "Attaching package: 'Matrix'\n",
      "\n",
      "The following objects are masked from 'package:tidyr':\n",
      "\n",
      "    expand, pack, unpack\n",
      "\n",
      "Warning message:\n",
      "\"package 'lmerTest' was built under R version 3.6.3\"\n",
      "Attaching package: 'lmerTest'\n",
      "\n",
      "The following object is masked from 'package:lme4':\n",
      "\n",
      "    lmer\n",
      "\n",
      "The following object is masked from 'package:stats':\n",
      "\n",
      "    step\n",
      "\n",
      "\n",
      "Attaching package: 'MASS'\n",
      "\n",
      "The following object is masked from 'package:dplyr':\n",
      "\n",
      "    select\n",
      "\n"
     ]
    }
   ],
   "source": [
    "library(tidyverse)\n",
    "library(lme4)\n",
    "library(lmerTest)\n",
    "library(MASS)\n"
   ]
  },
  {
   "cell_type": "code",
   "execution_count": 2,
   "metadata": {},
   "outputs": [
    {
     "data": {
      "text/plain": [
       "       X          Unnamed..0                      session        tetrode    \n",
       " Min.   :  75   Min.   :  75   LEM3124_S20190302163218: 134   TT4.mat: 582  \n",
       " 1st Qu.:2034   1st Qu.:2034   LEM3206_S20190719140644: 119   TT1.mat: 581  \n",
       " Median :3917   Median :3917   LEM3206_S20190718143924: 118   TT6.mat: 555  \n",
       " Mean   :3857   Mean   :3857   LEM3206_S20190717140525: 117   TT7.mat: 527  \n",
       " 3rd Qu.:5887   3rd Qu.:5887   LEM3206_S20190720132154: 113   TT3.mat: 460  \n",
       " Max.   :8225   Max.   :8225   LEM3216_S20190718101925: 113   TT2.mat: 449  \n",
       "                               (Other)                :3903   (Other):1463  \n",
       "      cell        acg_tau_decay      acg_tau_rise         acg_c         \n",
       " Min.   :  0.00   Min.   :  1.000   Min.   : 0.1000   Min.   :  0.0868  \n",
       " 1st Qu.:  3.00   1st Qu.:  8.766   1st Qu.: 0.7589   1st Qu.: 10.2524  \n",
       " Median :  6.00   Median : 17.568   Median : 1.5602   Median : 20.1631  \n",
       " Mean   : 23.79   Mean   : 53.078   Mean   : 3.3075   Mean   : 30.5431  \n",
       " 3rd Qu.: 11.00   3rd Qu.: 50.036   3rd Qu.: 4.2575   3rd Qu.: 39.3214  \n",
       " Max.   :347.00   Max.   :500.000   Max.   :50.0000   Max.   :499.9888  \n",
       "                                                                        \n",
       "     acg_d           acg_asymptote        acg_refrac     acg_tau_burst   \n",
       " Min.   : 0.004399   Min.   :-30.0000   Min.   : 0.000   Min.   :0.1000  \n",
       " 1st Qu.: 1.102996   1st Qu.: -0.2159   1st Qu.: 1.540   1st Qu.:0.7911  \n",
       " Median : 1.540085   Median :  2.2051   Median : 3.767   Median :1.4647  \n",
       " Mean   : 2.055289   Mean   :  1.3474   Mean   : 3.684   Mean   :2.1879  \n",
       " 3rd Qu.: 2.452563   3rd Qu.:  5.7709   3rd Qu.: 5.179   3rd Qu.:3.6891  \n",
       " Max.   :14.999698   Max.   : 50.0000   Max.   :19.948   Max.   :5.0000  \n",
       "                                                                         \n",
       "     acg_h        acg_fit_rsquare   thetaModulationIndex burstIndex_Royer2012\n",
       " Min.   :  0.00   Min.   :-3.4316   Min.   :-1.000000    Min.   :  0.000     \n",
       " 1st Qu.: 10.13   1st Qu.: 0.2040   1st Qu.: 0.009718    1st Qu.:  1.068     \n",
       " Median : 21.83   Median : 0.6253   Median : 0.086522    Median :  2.047     \n",
       " Mean   : 26.35   Mean   : 0.5336   Mean   : 0.110382    Mean   :  4.686     \n",
       " 3rd Qu.: 37.74   3rd Qu.: 0.8712   3rd Qu.: 0.204857    3rd Qu.:  4.822     \n",
       " Max.   :100.00   Max.   : 0.9979   Max.   : 1.000000    Max.   :235.667     \n",
       "                  NA's   :10        NA's   :11           NA's   :6           \n",
       " burstIndex_Doublets    polarity        peaktoTrough     troughtoPeak   \n",
       " Min.   :0.000       Min.   :-1.8202   Min.   :0.0000   Min.   :0.1016  \n",
       " 1st Qu.:1.257       1st Qu.: 0.5318   1st Qu.:0.1562   1st Qu.:0.1797  \n",
       " Median :1.670       Median : 0.9859   Median :0.2188   Median :0.2969  \n",
       " Mean   :  Inf       Mean   : 0.8746   Mean   :0.1927   Mean   :0.3227  \n",
       " 3rd Qu.:2.667       3rd Qu.: 1.2924   3rd Qu.:0.2188   3rd Qu.:0.3750  \n",
       " Max.   :  Inf       Max.   : 1.7979   Max.   :0.4922   Max.   :0.9688  \n",
       " NA's   :44                                                             \n",
       " derivative_TroughtoPeak     peakA              peakB        \n",
       " Min.   :0.07812         Min.   :-4.06333   Min.   :0.04162  \n",
       " 1st Qu.:0.12500         1st Qu.:-0.06819   1st Qu.:0.80077  \n",
       " Median :0.14062         Median : 0.38566   Median :0.98218  \n",
       " Mean   :0.14855         Mean   : 0.53409   Mean   :1.02957  \n",
       " 3rd Qu.:0.14844         3rd Qu.: 0.92416   3rd Qu.:1.19594  \n",
       " Max.   :0.78125         Max.   : 3.81341   Max.   :3.72351  \n",
       "                                                             \n",
       "    ab_ratio             trough             spkW          short_isi        \n",
       " Min.   :-53.23339   Min.   :-4.0633   Min.   :0.2270   Min.   :0.0000000  \n",
       " 1st Qu.: -0.03944   1st Qu.:-2.7688   1st Qu.:0.4538   1st Qu.:0.0009445  \n",
       " Median :  0.45238   Median :-2.4917   Median :0.6842   Median :0.0036496  \n",
       " Mean   :  0.48702   Mean   :-2.4744   Mean   :0.7617   Mean   :0.0099211  \n",
       " 3rd Qu.:  1.11183   3rd Qu.:-2.2343   3rd Qu.:0.8187   3rd Qu.:0.0101266  \n",
       " Max.   : 30.10614   Max.   :-0.3002   Max.   :3.4435   Max.   :0.7010366  \n",
       "                                                                           \n",
       "       lv               cv             avg_fr           asymmetry      \n",
       " Min.   :0.1953   Min.   : 0.619   Min.   :  0.0216   Min.   : 0.2873  \n",
       " 1st Qu.:0.9969   1st Qu.: 1.188   1st Qu.:  0.5576   1st Qu.: 1.9338  \n",
       " Median :1.0923   Median : 1.456   Median :  1.5609   Median : 2.4965  \n",
       " Mean   :1.1588   Mean   : 1.956   Mean   :  4.2812   Mean   : 3.0065  \n",
       " 3rd Qu.:1.3338   3rd Qu.: 2.290   3rd Qu.:  4.5532   3rd Qu.: 3.2843  \n",
       " Max.   :2.1830   Max.   :16.884   Max.   :103.3385   Max.   :46.1741  \n",
       "                                                                       \n",
       "    n_spikes      cell_type   area        swr_energy      participation_prob\n",
       " Min.   :   101   int:1399   ca1:1128   Min.   :  6.132   Min.   :0.0000    \n",
       " 1st Qu.:  1680   pyr:3218   ca3:3489   1st Qu.: 20.186   1st Qu.:0.1111    \n",
       " Median :  4666                         Median : 25.199   Median :0.2542    \n",
       " Mean   : 13275                         Mean   : 28.533   Mean   :0.3389    \n",
       " 3rd Qu.: 13901                         3rd Qu.: 32.713   3rd Qu.:0.5181    \n",
       " Max.   :359869                         Max.   :181.074   Max.   :1.0000    \n",
       "                                        NA's   :18                          \n",
       "  hi_pass      low_pass     long_v_short       rank_order          rat      \n",
       " False:3192   False:4334   Min.   :-1.0000   Min.   :0.0000   LEM3206:1211  \n",
       " True :1425   True : 283   1st Qu.:-0.1034   1st Qu.:0.4765   LEM3124:1029  \n",
       "                           Median : 0.1333   Median :0.5498   LEM3246: 805  \n",
       "                           Mean   : 0.1375   Mean   :0.5454   LEM3216: 723  \n",
       "                           3rd Qu.: 0.4000   3rd Qu.:0.6183   LEM3116: 631  \n",
       "                           Max.   : 1.0000   Max.   :1.0000   LEM3120: 109  \n",
       "                                             NA's   :60       (Other): 109  \n",
       "     group        n_ripples     n_spikes_in_rip_window  mod_strength   \n",
       " control:1471   Min.   : 51.0   Min.   :    0.0        Min.   :0.0000  \n",
       " pae    :3146   1st Qu.: 79.0   1st Qu.:   97.0        1st Qu.:0.5164  \n",
       "                Median :108.0   Median :  274.0        Median :1.4125  \n",
       "                Mean   :191.4   Mean   :  875.4        Mean   :1.9901  \n",
       "                3rd Qu.:193.0   3rd Qu.:  790.0        3rd Qu.:3.3315  \n",
       "                Max.   :983.0   Max.   :24096.0        Max.   :6.9401  \n",
       "                                                       NA's   :8       "
      ]
     },
     "metadata": {},
     "output_type": "display_data"
    }
   ],
   "source": [
    "data <- read.csv('F:/Projects/PAE_PlaceCell/analysis/ripple_modulation/post_processed/pyr_int_df.csv')\n",
    "\n",
    "# only keep hippocampal events\n",
    "idx <- data$area == 'cortex'\n",
    "data = data[!idx,]\n",
    "# data = data[data$n_cells > 1,]\n",
    "\n",
    "# To be consistent with participation_prob, we restrict to sessions with >= 50 ripples\n",
    "data = data[data$n_ripples >= 50,]\n",
    "data = data[data$n_spikes >= 100,]\n",
    "\n",
    "\n",
    "\n",
    "data$group = factor(data$group, levels=c('control', 'pae'))\n",
    "data$rat = factor(data$rat)\n",
    "data$session = factor(data$session)\n",
    "data$area = factor(data$area, levels=c('ca1', 'ca3'))\n",
    "\n",
    "summary(data)"
   ]
  },
  {
   "cell_type": "code",
   "execution_count": 15,
   "metadata": {},
   "outputs": [
    {
     "data": {
      "image/png": "[encoded data removed]",
      "text/plain": [
       "plot without title"
      ]
     },
     "metadata": {},
     "output_type": "display_data"
    },
    {
     "data": {
      "image/png": "[encoded data removed]",
      "text/plain": [
       "plot without title"
      ]
     },
     "metadata": {},
     "output_type": "display_data"
    }
   ],
   "source": [
    "plot(avg_fr_log ~ rank_order * group,data=data[data$area == \"ca1\" & data$cell_type=='pyr',])"
   ]
  },
  {
   "cell_type": "code",
   "execution_count": 17,
   "metadata": {},
   "outputs": [
    {
     "data": {
      "text/plain": [
       "Linear mixed model fit by maximum likelihood . t-tests use Satterthwaite's\n",
       "  method [lmerModLmerTest]\n",
       "Formula: avg_fr_log ~ rank_order * group + (1 | session)\n",
       "   Data: data[data$area == \"ca1\" & data$cell_type == \"pyr\", ]\n",
       "\n",
       "     AIC      BIC   logLik deviance df.resid \n",
       "  2288.1   2316.2  -1138.0   2276.1      789 \n",
       "\n",
       "Scaled residuals: \n",
       "    Min      1Q  Median      3Q     Max \n",
       "-4.3034 -0.5681  0.0918  0.6704  2.8044 \n",
       "\n",
       "Random effects:\n",
       " Groups   Name        Variance Std.Dev.\n",
       " session  (Intercept) 0.1032   0.3212  \n",
       " Residual             0.9860   0.9930  \n",
       "Number of obs: 795, groups:  session, 27\n",
       "\n",
       "Fixed effects:\n",
       "                    Estimate Std. Error       df t value Pr(>|t|)    \n",
       "(Intercept)           5.1417     0.2921 369.8478  17.604  < 2e-16 ***\n",
       "rank_order           -8.8130     0.4733 789.2286 -18.620  < 2e-16 ***\n",
       "grouppae             -2.4680     0.3970 425.3705  -6.216 1.22e-09 ***\n",
       "rank_order:grouppae   4.2302     0.6552 792.4202   6.457 1.86e-10 ***\n",
       "---\n",
       "Signif. codes:  0 '***' 0.001 '**' 0.01 '*' 0.05 '.' 0.1 ' ' 1\n",
       "\n",
       "Correlation of Fixed Effects:\n",
       "            (Intr) rnk_rd groupp\n",
       "rank_order  -0.906              \n",
       "grouppae    -0.736  0.667       \n",
       "rnk_rdr:grp  0.655 -0.722 -0.913"
      ]
     },
     "metadata": {},
     "output_type": "display_data"
    },
    {
     "data": {
      "image/png": "[encoded data removed]",
      "text/plain": [
       "plot without title"
      ]
     },
     "metadata": {},
     "output_type": "display_data"
    },
    {
     "data": {
      "image/png": "[encoded data removed]",
      "text/plain": [
       "Plot with title \"Normal Q-Q Plot\""
      ]
     },
     "metadata": {},
     "output_type": "display_data"
    }
   ],
   "source": [
    "data$avg_fr_log <- log(data$avg_fr)\n",
    "\n",
    "m1 = lmer(avg_fr_log ~ rank_order * group + (1 | session), data = data[data$area == \"ca1\" & data$cell_type=='pyr',],REML=FALSE)\n",
    " \n",
    "summary(m1)\n",
    "options(repr.plot.width = 4, repr.plot.height = 3)\n",
    "plot(m1)\n",
    "options(repr.plot.width = 4, repr.plot.height = 4)\n",
    "qqnorm(resid(m1))\n",
    "qqline(resid(m1))"
   ]
  },
  {
   "cell_type": "code",
   "execution_count": 21,
   "metadata": {},
   "outputs": [
    {
     "data": {
      "text/plain": [
       "$session\n",
       "                        (Intercept) rank_order  grouppae rank_order:grouppae\n",
       "LEM3116_S20180717110938    4.565581  -8.812963 -2.467998            4.230224\n",
       "LEM3116_S20180718184628    5.512517  -8.812963 -2.467998            4.230224\n",
       "LEM3120_S20181007151036    5.096851  -8.812963 -2.467998            4.230224\n",
       "LEM3124_S20190226101957    5.275198  -8.812963 -2.467998            4.230224\n",
       "LEM3124_S20190301133246    5.290112  -8.812963 -2.467998            4.230224\n",
       "LEM3124_S20190302163218    4.913672  -8.812963 -2.467998            4.230224\n",
       "LEM3124_S20190305105641    4.593907  -8.812963 -2.467998            4.230224\n",
       "LEM3124_S20190307163732    4.921304  -8.812963 -2.467998            4.230224\n",
       "LEM3124_S20190309145324    5.034977  -8.812963 -2.467998            4.230224\n",
       "LEM3124_S20190315160017    5.249360  -8.812963 -2.467998            4.230224\n",
       "LEM3124_S20190319154019    5.122997  -8.812963 -2.467998            4.230224\n",
       "LEM3124_S20190322123145    4.969918  -8.812963 -2.467998            4.230224\n",
       "LEM3124_S20190325164111    5.018090  -8.812963 -2.467998            4.230224\n",
       "LEM3124_S20190326160632    5.394418  -8.812963 -2.467998            4.230224\n",
       "LEM3124_S20190327204851    5.219531  -8.812963 -2.467998            4.230224\n",
       "LEM3124_S20190328174647    5.121734  -8.812963 -2.467998            4.230224\n",
       "LEM3124_S20190331172013    5.196776  -8.812963 -2.467998            4.230224\n",
       "LEM3124_S20190401125222    4.948327  -8.812963 -2.467998            4.230224\n",
       "LEM3124_S20190402101910    5.227238  -8.812963 -2.467998            4.230224\n",
       "LEM3216_S20190712114116    4.903209  -8.812963 -2.467998            4.230224\n",
       "LEM3216_S20190717174058    5.533096  -8.812963 -2.467998            4.230224\n",
       "LEM3216_S20190718101925    5.075543  -8.812963 -2.467998            4.230224\n",
       "LEM3216_S20190720145517    5.319463  -8.812963 -2.467998            4.230224\n",
       "LEM3216_S20190723165548    5.185386  -8.812963 -2.467998            4.230224\n",
       "LS19_S20170508130713       5.418839  -8.812963 -2.467998            4.230224\n",
       "LS19_S20170515215901       5.634738  -8.812963 -2.467998            4.230224\n",
       "LS23_S20170502130551       5.083922  -8.812963 -2.467998            4.230224\n",
       "\n",
       "attr(,\"class\")\n",
       "[1] \"coef.mer\""
      ]
     },
     "metadata": {},
     "output_type": "display_data"
    }
   ],
   "source": [
    "coef(m1)"
   ]
  },
  {
   "cell_type": "code",
   "execution_count": 25,
   "metadata": {},
   "outputs": [
    {
     "data": {
      "text/plain": [
       "Linear mixed model fit by maximum likelihood . t-tests use Satterthwaite's\n",
       "  method [lmerModLmerTest]\n",
       "Formula: avg_fr_log ~ rank_order * group + (1 | session)\n",
       "   Data: data[data$area == \"ca1\" & data$cell_type == \"int\", ]\n",
       "\n",
       "     AIC      BIC   logLik deviance df.resid \n",
       "   992.3   1014.9   -490.1    980.3      318 \n",
       "\n",
       "Scaled residuals: \n",
       "    Min      1Q  Median      3Q     Max \n",
       "-3.5034 -0.6500  0.0771  0.6441  2.3670 \n",
       "\n",
       "Random effects:\n",
       " Groups   Name        Variance Std.Dev.\n",
       " session  (Intercept) 0.183    0.4277  \n",
       " Residual             1.121    1.0587  \n",
       "Number of obs: 324, groups:  session, 25\n",
       "\n",
       "Fixed effects:\n",
       "                    Estimate Std. Error       df t value Pr(>|t|)    \n",
       "(Intercept)           5.2565     0.4805 257.0874  10.939  < 2e-16 ***\n",
       "rank_order           -8.8587     0.8081 317.3293 -10.962  < 2e-16 ***\n",
       "grouppae             -3.2797     0.5974 251.3054  -5.490 9.82e-08 ***\n",
       "rank_order:grouppae   5.5541     1.0056 317.7804   5.523 6.93e-08 ***\n",
       "---\n",
       "Signif. codes:  0 '***' 0.001 '**' 0.01 '*' 0.05 '.' 0.1 ' ' 1\n",
       "\n",
       "Correlation of Fixed Effects:\n",
       "            (Intr) rnk_rd groupp\n",
       "rank_order  -0.918              \n",
       "grouppae    -0.804  0.738       \n",
       "rnk_rdr:grp  0.738 -0.804 -0.915"
      ]
     },
     "metadata": {},
     "output_type": "display_data"
    },
    {
     "data": {
      "image/png": "[encoded data removed]",
      "text/plain": [
       "plot without title"
      ]
     },
     "metadata": {},
     "output_type": "display_data"
    },
    {
     "data": {
      "image/png": "[encoded data removed]",
      "text/plain": [
       "Plot with title \"Normal Q-Q Plot\""
      ]
     },
     "metadata": {},
     "output_type": "display_data"
    }
   ],
   "source": [
    "data$avg_fr_log <- log(data$avg_fr)\n",
    "\n",
    "m1 = lmer(avg_fr_log ~ rank_order * group + (1 | session), data = data[data$area == \"ca1\" & data$cell_type=='int',],REML=FALSE)\n",
    " \n",
    "summary(m1)\n",
    "options(repr.plot.width = 4, repr.plot.height = 3)\n",
    "plot(m1)\n",
    "options(repr.plot.width = 4, repr.plot.height = 4)\n",
    "qqnorm(resid(m1))\n",
    "qqline(resid(m1))"
   ]
  },
  {
   "cell_type": "code",
   "execution_count": 39,
   "metadata": {},
   "outputs": [
    {
     "data": {
      "text/plain": [
       "Linear mixed model fit by maximum likelihood . t-tests use Satterthwaite's\n",
       "  method [lmerModLmerTest]\n",
       "Formula: avg_fr_log_trans ~ rank_order * group + (1 | rat/session)\n",
       "   Data: data[data$area == \"ca3\" & data$cell_type == \"pyr\", ]\n",
       "\n",
       "     AIC      BIC   logLik deviance df.resid \n",
       "  9503.2   9543.7  -4744.6   9489.2     2384 \n",
       "\n",
       "Scaled residuals: \n",
       "    Min      1Q  Median      3Q     Max \n",
       "-4.5640 -0.6323  0.1166  0.7187  2.5035 \n",
       "\n",
       "Random effects:\n",
       " Groups      Name        Variance Std.Dev.\n",
       " session:rat (Intercept) 0.3594   0.5995  \n",
       " rat         (Intercept) 0.6412   0.8008  \n",
       " Residual                2.9442   1.7159  \n",
       "Number of obs: 2391, groups:  session:rat, 68; rat, 6\n",
       "\n",
       "Fixed effects:\n",
       "                     Estimate Std. Error        df t value Pr(>|t|)    \n",
       "(Intercept)           12.3695     0.5703   11.0082  21.690 2.21e-10 ***\n",
       "rank_order            -9.0349     0.4613 2342.0179 -19.585  < 2e-16 ***\n",
       "grouppae              -0.9156     0.7710    9.5433  -1.188   0.2637    \n",
       "rank_order:grouppae    1.2638     0.6051 2347.4375   2.089   0.0368 *  \n",
       "---\n",
       "Signif. codes:  0 '***' 0.001 '**' 0.01 '*' 0.05 '.' 0.1 ' ' 1\n",
       "\n",
       "Correlation of Fixed Effects:\n",
       "            (Intr) rnk_rd groupp\n",
       "rank_order  -0.445              \n",
       "grouppae    -0.740  0.329       \n",
       "rnk_rdr:grp  0.339 -0.762 -0.428"
      ]
     },
     "metadata": {},
     "output_type": "display_data"
    },
    {
     "data": {
      "image/png": "[encoded data removed]",
      "text/plain": [
       "plot without title"
      ]
     },
     "metadata": {},
     "output_type": "display_data"
    },
    {
     "data": {
      "image/png": "[encoded data removed]",
      "text/plain": [
       "plot without title"
      ]
     },
     "metadata": {},
     "output_type": "display_data"
    },
    {
     "data": {
      "image/png": "[encoded data removed]",
      "text/plain": [
       "Plot with title \"Normal Q-Q Plot\""
      ]
     },
     "metadata": {},
     "output_type": "display_data"
    }
   ],
   "source": [
    "data$avg_fr_log <- log(data$avg_fr)\n",
    "data$avg_fr_log <- data$avg_fr_log+5\n",
    "\n",
    "m1 = lm(avg_fr_log ~ rank_order * group, data = data[data$cell_type == \"pyr\" & data$area == \"ca3\",])\n",
    "result = boxcox(m1, lambda = seq(-5,5,0.5))\n",
    "lambda = result$x[which.max(result$y)]\n",
    "data$avg_fr_log_trans = data$avg_fr_log^lambda\n",
    "\n",
    "m1 = lmer(avg_fr_log_trans ~ rank_order * group + (1 | rat/session), data = data[data$area == \"ca3\" & data$cell_type=='pyr',],REML=FALSE)\n",
    " \n",
    "summary(m1)\n",
    "options(repr.plot.width = 4, repr.plot.height = 3)\n",
    "plot(m1)\n",
    "options(repr.plot.width = 4, repr.plot.height = 4)\n",
    "qqnorm(resid(m1))\n",
    "qqline(resid(m1))"
   ]
  },
  {
   "cell_type": "code",
   "execution_count": 41,
   "metadata": {},
   "outputs": [
    {
     "data": {
      "text/plain": [
       "Linear mixed model fit by maximum likelihood . t-tests use Satterthwaite's\n",
       "  method [lmerModLmerTest]\n",
       "Formula: avg_fr_log_trans ~ rank_order * group + (1 | rat/session)\n",
       "   Data: data[data$area == \"ca3\" & data$cell_type == \"int\", ]\n",
       "\n",
       "     AIC      BIC   logLik deviance df.resid \n",
       "  4217.0   4251.6  -2101.5   4203.0     1040 \n",
       "\n",
       "Scaled residuals: \n",
       "    Min      1Q  Median      3Q     Max \n",
       "-4.5303 -0.6239  0.0839  0.7380  2.2466 \n",
       "\n",
       "Random effects:\n",
       " Groups      Name        Variance Std.Dev.\n",
       " session:rat (Intercept) 0.4584   0.6771  \n",
       " rat         (Intercept) 0.6569   0.8105  \n",
       " Residual                2.9897   1.7291  \n",
       "Number of obs: 1047, groups:  session:rat, 63; rat, 6\n",
       "\n",
       "Fixed effects:\n",
       "                     Estimate Std. Error        df t value Pr(>|t|)    \n",
       "(Intercept)           13.4161     0.8063   30.0870  16.639   <2e-16 ***\n",
       "rank_order            -9.7371     1.0995 1037.9776  -8.856   <2e-16 ***\n",
       "grouppae              -0.9124     0.9740   16.6379  -0.937    0.362    \n",
       "rank_order:grouppae    0.4885     1.1953 1037.6810   0.409    0.683    \n",
       "---\n",
       "Signif. codes:  0 '***' 0.001 '**' 0.01 '*' 0.05 '.' 0.1 ' ' 1\n",
       "\n",
       "Correlation of Fixed Effects:\n",
       "            (Intr) rnk_rd groupp\n",
       "rank_order  -0.729              \n",
       "grouppae    -0.828  0.603       \n",
       "rnk_rdr:grp  0.671 -0.920 -0.658"
      ]
     },
     "metadata": {},
     "output_type": "display_data"
    },
    {
     "data": {
      "image/png": "[encoded data removed]",
      "text/plain": [
       "plot without title"
      ]
     },
     "metadata": {},
     "output_type": "display_data"
    },
    {
     "data": {
      "image/png": "[encoded data removed]",
      "text/plain": [
       "plot without title"
      ]
     },
     "metadata": {},
     "output_type": "display_data"
    },
    {
     "data": {
      "image/png": "[encoded data removed]",
      "text/plain": [
       "Plot with title \"Normal Q-Q Plot\""
      ]
     },
     "metadata": {},
     "output_type": "display_data"
    }
   ],
   "source": [
    "data$avg_fr_log <- log(data$avg_fr)\n",
    "data$avg_fr_log <- data$avg_fr_log+5\n",
    "\n",
    "m1 = lm(avg_fr_log ~ rank_order * group, data = data[data$cell_type == \"int\" & data$area == \"ca3\",])\n",
    "result = boxcox(m1, lambda = seq(-5,5,0.5))\n",
    "lambda = result$x[which.max(result$y)]\n",
    "data$avg_fr_log_trans = data$avg_fr_log^lambda\n",
    "\n",
    "\n",
    "m1 = lmer(avg_fr_log_trans ~ rank_order * group + (1 | rat/session), data = data[data$area == \"ca3\" & data$cell_type=='int',],REML=FALSE)\n",
    " \n",
    "summary(m1)\n",
    "options(repr.plot.width = 4, repr.plot.height = 3)\n",
    "plot(m1)\n",
    "options(repr.plot.width = 4, repr.plot.height = 4)\n",
    "qqnorm(resid(m1))\n",
    "qqline(resid(m1))"
   ]
  }
 ],
 "metadata": {
  "kernelspec": {
   "display_name": "R",
   "language": "R",
   "name": "ir"
  },
  "language_info": {
   "codemirror_mode": "r",
   "file_extension": ".r",
   "mimetype": "text/x-r-source",
   "name": "R",
   "pygments_lexer": "r",
   "version": "3.6.1"
  }
 },
 "nbformat": 4,
 "nbformat_minor": 4
}
