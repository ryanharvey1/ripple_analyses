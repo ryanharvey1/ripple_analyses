{
 "cells": [
  {
   "cell_type": "code",
   "execution_count": 1,
   "metadata": {},
   "outputs": [
    {
     "name": "stderr",
     "output_type": "stream",
     "text": [
      "Warning message:\n",
      "\"package 'tidyverse' was built under R version 3.6.3\"-- Attaching packages ------------------------------------------------------------------------------- tidyverse 1.3.0 --\n",
      "v ggplot2 3.3.3     v purrr   0.3.4\n",
      "v tibble  3.0.4     v dplyr   1.0.2\n",
      "v tidyr   1.1.2     v stringr 1.4.0\n",
      "v readr   1.3.1     v forcats 0.4.0\n",
      "Warning message:\n",
      "\"package 'ggplot2' was built under R version 3.6.3\"Warning message:\n",
      "\"package 'tibble' was built under R version 3.6.3\"Warning message:\n",
      "\"package 'tidyr' was built under R version 3.6.3\"Warning message:\n",
      "\"package 'purrr' was built under R version 3.6.3\"Warning message:\n",
      "\"package 'dplyr' was built under R version 3.6.3\"-- Conflicts ---------------------------------------------------------------------------------- tidyverse_conflicts() --\n",
      "x dplyr::filter() masks stats::filter()\n",
      "x dplyr::lag()    masks stats::lag()\n",
      "Warning message:\n",
      "\"package 'lme4' was built under R version 3.6.3\"Loading required package: Matrix\n",
      "\n",
      "Attaching package: 'Matrix'\n",
      "\n",
      "The following objects are masked from 'package:tidyr':\n",
      "\n",
      "    expand, pack, unpack\n",
      "\n",
      "Warning message:\n",
      "\"package 'lmerTest' was built under R version 3.6.3\"\n",
      "Attaching package: 'lmerTest'\n",
      "\n",
      "The following object is masked from 'package:lme4':\n",
      "\n",
      "    lmer\n",
      "\n",
      "The following object is masked from 'package:stats':\n",
      "\n",
      "    step\n",
      "\n"
     ]
    }
   ],
   "source": [
    "# install.packages(\"tidyverse\")\n",
    "# install.packages(\"lmerTest\")\n",
    "\n",
    "library(tidyverse)\n",
    "library(lme4)\n",
    "library(lmerTest)"
   ]
  },
  {
   "cell_type": "code",
   "execution_count": 154,
   "metadata": {},
   "outputs": [
    {
     "name": "stdout",
     "output_type": "stream",
     "text": [
      "'data.frame':\t18041 obs. of  16 variables:\n",
      " $ X              : int  0 1 2 3 4 6 7 8 9 10 ...\n",
      " $ ripple_number  : int  22 60 72 80 100 110 136 137 140 141 ...\n",
      " $ start_time     : num  211 518 608 676 933 ...\n",
      " $ end_time       : num  211 518 608 676 933 ...\n",
      " $ ripple_duration: num  0.08 0.392 0.388 0.154 0.198 ...\n",
      " $ max_emg        : num  0.991 0.995 0.991 0.994 0.993 ...\n",
      " $ peak_time      : num  211 518 608 676 933 ...\n",
      " $ peak_channel   : int  3 7 3 7 7 7 7 7 3 4 ...\n",
      " $ peak_amplitude : num  5.57 29.17 7.93 5.08 27.29 ...\n",
      " $ peak_freq      : num  214 203 104 174 120 ...\n",
      " $ clipped        : num  0 0 0 0 0 ...\n",
      " $ session        : Factor w/ 189 levels \"LEM3116_S20180715121821\",..: 1 1 1 1 1 1 1 1 1 1 ...\n",
      " $ area           : Factor w/ 3 levels \"ca1\",\"ca3\",\"cortex\": 1 1 1 1 1 1 1 1 1 1 ...\n",
      " $ ep_type        : Factor w/ 7 levels \"cylinder_1\",\"cylinder_2\",..: 7 7 7 7 4 1 5 5 5 5 ...\n",
      " $ group          : Factor w/ 2 levels \"control\",\"pae\": 1 1 1 1 1 1 1 1 1 1 ...\n",
      " $ rat            : Factor w/ 12 levels \"LEM3116\",\"LEM3120\",..: 1 1 1 1 1 1 1 1 1 1 ...\n",
      "NULL\n"
     ]
    }
   ],
   "source": [
    "data <- read.csv('F:/Projects/PAE_PlaceCell/analysis/swr_data/post_processed/swr_df.csv')\n",
    "\n",
    "# only keep hippocampal events\n",
    "idx <- data$area == 'cortex'\n",
    "data = data[!idx,]\n",
    "print(str(data))"
   ]
  },
  {
   "cell_type": "code",
   "execution_count": 155,
   "metadata": {},
   "outputs": [],
   "source": [
    "data$group = factor(data$group)\n",
    "data$rat = factor(data$rat)\n",
    "data$ep_type = factor(data$ep_type, levels=c('pedestal_1', 'track','pedestal_2','cylinder_1','pedestal_3','cylinder_2','pedestal_4'))\n",
    "data$session = factor(data$session)\n",
    "data$area = factor(data$area)"
   ]
  },
  {
   "cell_type": "code",
   "execution_count": 156,
   "metadata": {},
   "outputs": [
    {
     "data": {
      "image/png": "[encoded data removed]",
      "text/plain": [
       "Plot with title \"Histogram of (data$peak_freq)\""
      ]
     },
     "metadata": {},
     "output_type": "display_data"
    },
    {
     "data": {
      "image/png": "[encoded data removed]",
      "text/plain": [
       "Plot with title \"Histogram of log(data$peak_freq)\""
      ]
     },
     "metadata": {},
     "output_type": "display_data"
    }
   ],
   "source": [
    "options(repr.plot.width = 4, repr.plot.height = 3)\n",
    "hist((data$peak_freq))\n",
    "hist(log(data$peak_freq))"
   ]
  },
  {
   "cell_type": "code",
   "execution_count": 157,
   "metadata": {},
   "outputs": [
    {
     "data": {
      "image/png": "[encoded data removed]",
      "text/plain": [
       "plot without title"
      ]
     },
     "metadata": {},
     "output_type": "display_data"
    }
   ],
   "source": [
    "options(repr.plot.width = 10, repr.plot.height = 3)\n",
    "ggplot(data)+\n",
    "  stat_summary(aes(x=group, y=peak_freq), fun=\"median\", geom=\"col\")+\n",
    "  facet_wrap(~ep_type, ncol = 7)+\n",
    "  labs(title=\"By epoch type\")+\n",
    "  theme(legend.position = \"none\",\n",
    "        plot.title=element_text(face=\"bold\"))"
   ]
  },
  {
   "cell_type": "code",
   "execution_count": 145,
   "metadata": {},
   "outputs": [
    {
     "data": {
      "image/png": "[encoded data removed]",
      "text/plain": [
       "plot without title"
      ]
     },
     "metadata": {},
     "output_type": "display_data"
    }
   ],
   "source": [
    "options(repr.plot.width = 10, repr.plot.height = 3)\n",
    "\n",
    "ggplot(data)+\n",
    "  stat_summary(aes(x='', y=peak_freq), fun=\"median\", geom=\"col\")+\n",
    "  facet_wrap(~group+rat, ncol = 12)+\n",
    "  labs(title=\"By group and rat\")+\n",
    "  theme(legend.position = \"none\",\n",
    "        plot.title=element_text(face=\"bold\"))"
   ]
  },
  {
   "cell_type": "code",
   "execution_count": 158,
   "metadata": {},
   "outputs": [
    {
     "data": {
      "image/png": "[encoded data removed]",
      "text/plain": [
       "plot without title"
      ]
     },
     "metadata": {},
     "output_type": "display_data"
    }
   ],
   "source": [
    "options(repr.plot.width = 10, repr.plot.height = 3)\n",
    "\n",
    "ggplot(data)+\n",
    "  stat_summary(aes(x=area, y=peak_freq), fun=\"median\", geom=\"col\")+\n",
    "  facet_wrap(~group+rat, ncol = 12)+\n",
    "  labs(title=\"By group and rat\")+\n",
    "  theme(legend.position = \"none\",\n",
    "        plot.title=element_text(face=\"bold\"))"
   ]
  },
  {
   "cell_type": "code",
   "execution_count": 159,
   "metadata": {},
   "outputs": [
    {
     "data": {
      "image/png": "[encoded data removed]",
      "text/plain": [
       "plot without title"
      ]
     },
     "metadata": {},
     "output_type": "display_data"
    }
   ],
   "source": [
    "options(repr.plot.width = 10, repr.plot.height = 3)\n",
    "\n",
    "p<-ggplot(data, aes(x=rat, y=peak_freq, color=area)) +\n",
    "    geom_violin(trim=FALSE)\n",
    "p"
   ]
  },
  {
   "cell_type": "markdown",
   "metadata": {},
   "source": [
    "### intercept only model"
   ]
  },
  {
   "cell_type": "code",
   "execution_count": 46,
   "metadata": {},
   "outputs": [
    {
     "data": {
      "text/plain": [
       "\n",
       "Call:\n",
       "lm(formula = peak_freq ~ 1, data = data)\n",
       "\n",
       "Residuals:\n",
       "    Min      1Q  Median      3Q     Max \n",
       "-60.324 -29.565  -7.106  27.587  96.489 \n",
       "\n",
       "Coefficients:\n",
       "            Estimate Std. Error t value Pr(>|t|)    \n",
       "(Intercept) 140.9337     0.2542   554.4   <2e-16 ***\n",
       "---\n",
       "Signif. codes:  0 '***' 0.001 '**' 0.01 '*' 0.05 '.' 0.1 ' ' 1\n",
       "\n",
       "Residual standard error: 33.52 on 17381 degrees of freedom\n"
      ]
     },
     "metadata": {},
     "output_type": "display_data"
    }
   ],
   "source": [
    "m.lin.noGroup = lm(peak_freq ~ 1, data = data)\n",
    "summary(m.lin.noGroup)"
   ]
  },
  {
   "cell_type": "markdown",
   "metadata": {},
   "source": [
    "### Model with 1 fixed effect"
   ]
  },
  {
   "cell_type": "code",
   "execution_count": 42,
   "metadata": {},
   "outputs": [
    {
     "name": "stdout",
     "output_type": "stream",
     "text": [
      " Factor w/ 2 levels \"control\",\"pae\": 1 2\n"
     ]
    }
   ],
   "source": [
    "str(unique(data$group))"
   ]
  },
  {
   "cell_type": "code",
   "execution_count": 43,
   "metadata": {},
   "outputs": [
    {
     "data": {
      "text/plain": [
       "\n",
       "Call:\n",
       "lm(formula = peak_freq ~ group, data = data)\n",
       "\n",
       "Residuals:\n",
       "    Min      1Q  Median      3Q     Max \n",
       "-67.573 -26.139  -7.539  25.045 100.773 \n",
       "\n",
       "Coefficients:\n",
       "            Estimate Std. Error t value Pr(>|t|)    \n",
       "(Intercept) 133.0395     0.3323  400.32   <2e-16 ***\n",
       "grouppae     17.3935     0.4933   35.26   <2e-16 ***\n",
       "---\n",
       "Signif. codes:  0 '***' 0.001 '**' 0.01 '*' 0.05 '.' 0.1 ' ' 1\n",
       "\n",
       "Residual standard error: 32.38 on 17380 degrees of freedom\n",
       "Multiple R-squared:  0.06676,\tAdjusted R-squared:  0.0667 \n",
       "F-statistic:  1243 on 1 and 17380 DF,  p-value: < 2.2e-16\n"
      ]
     },
     "metadata": {},
     "output_type": "display_data"
    }
   ],
   "source": [
    "m.lin = lm(peak_freq ~ group, data = data)\n",
    "summary(m.lin)"
   ]
  },
  {
   "cell_type": "markdown",
   "metadata": {},
   "source": [
    "### no-intercept model"
   ]
  },
  {
   "cell_type": "code",
   "execution_count": 44,
   "metadata": {},
   "outputs": [
    {
     "data": {
      "text/plain": [
       "\n",
       "Call:\n",
       "lm(formula = peak_freq ~ 0 + group, data = data)\n",
       "\n",
       "Residuals:\n",
       "    Min      1Q  Median      3Q     Max \n",
       "-67.573 -26.139  -7.539  25.045 100.773 \n",
       "\n",
       "Coefficients:\n",
       "             Estimate Std. Error t value Pr(>|t|)    \n",
       "groupcontrol 133.0395     0.3323   400.3   <2e-16 ***\n",
       "grouppae     150.4330     0.3646   412.7   <2e-16 ***\n",
       "---\n",
       "Signif. codes:  0 '***' 0.001 '**' 0.01 '*' 0.05 '.' 0.1 ' ' 1\n",
       "\n",
       "Residual standard error: 32.38 on 17380 degrees of freedom\n",
       "Multiple R-squared:   0.95,\tAdjusted R-squared:   0.95 \n",
       "F-statistic: 1.653e+05 on 2 and 17380 DF,  p-value: < 2.2e-16\n"
      ]
     },
     "metadata": {},
     "output_type": "display_data"
    }
   ],
   "source": [
    "m.lin.noInt = lm(peak_freq ~ 0 + group, data = data);\n",
    "summary(m.lin.noInt)"
   ]
  },
  {
   "cell_type": "markdown",
   "metadata": {},
   "source": [
    "### model comparison"
   ]
  },
  {
   "cell_type": "code",
   "execution_count": 47,
   "metadata": {},
   "outputs": [
    {
     "data": {
      "text/html": [
       "<table>\n",
       "<thead><tr><th></th><th scope=col>npar</th><th scope=col>AIC</th><th scope=col>BIC</th><th scope=col>logLik</th><th scope=col>deviance</th><th scope=col>Chisq</th><th scope=col>Df</th><th scope=col>Pr(&gt;Chisq)</th></tr></thead>\n",
       "<tbody>\n",
       "\t<tr><th scope=row>m.lin.noGroup</th><td>2            </td><td>171423.7     </td><td>171439.3     </td><td>-85709.86    </td><td>171419.7     </td><td>      NA     </td><td>NA           </td><td>           NA</td></tr>\n",
       "\t<tr><th scope=row>m.lin</th><td>3            </td><td>170224.8     </td><td>170248.1     </td><td>-85109.40    </td><td>170218.8     </td><td>1200.934     </td><td> 1           </td><td>3.821904e-263</td></tr>\n",
       "</tbody>\n",
       "</table>\n"
      ],
      "text/latex": [
       "\\begin{tabular}{r|llllllll}\n",
       "  & npar & AIC & BIC & logLik & deviance & Chisq & Df & Pr(>Chisq)\\\\\n",
       "\\hline\n",
       "\tm.lin.noGroup & 2             & 171423.7      & 171439.3      & -85709.86     & 171419.7      &       NA      & NA            &            NA\\\\\n",
       "\tm.lin & 3             & 170224.8      & 170248.1      & -85109.40     & 170218.8      & 1200.934      &  1            & 3.821904e-263\\\\\n",
       "\\end{tabular}\n"
      ],
      "text/markdown": [
       "\n",
       "| <!--/--> | npar | AIC | BIC | logLik | deviance | Chisq | Df | Pr(>Chisq) |\n",
       "|---|---|---|---|---|---|---|---|---|\n",
       "| m.lin.noGroup | 2             | 171423.7      | 171439.3      | -85709.86     | 171419.7      |       NA      | NA            |            NA |\n",
       "| m.lin | 3             | 170224.8      | 170248.1      | -85109.40     | 170218.8      | 1200.934      |  1            | 3.821904e-263 |\n",
       "\n"
      ],
      "text/plain": [
       "              npar AIC      BIC      logLik    deviance Chisq    Df\n",
       "m.lin.noGroup 2    171423.7 171439.3 -85709.86 171419.7       NA NA\n",
       "m.lin         3    170224.8 170248.1 -85109.40 170218.8 1200.934  1\n",
       "              Pr(>Chisq)   \n",
       "m.lin.noGroup            NA\n",
       "m.lin         3.821904e-263"
      ]
     },
     "metadata": {},
     "output_type": "display_data"
    }
   ],
   "source": [
    "lme4:::anova.merMod(m.lin.noGroup, m.lin)"
   ]
  },
  {
   "cell_type": "markdown",
   "metadata": {},
   "source": [
    "### Mixed effect model\n",
    "\n",
    "Let the intercept vary across rats"
   ]
  },
  {
   "cell_type": "code",
   "execution_count": 48,
   "metadata": {},
   "outputs": [
    {
     "data": {
      "text/plain": [
       "Linear mixed model fit by maximum likelihood . t-tests use Satterthwaite's\n",
       "  method [lmerModLmerTest]\n",
       "Formula: peak_freq ~ group + (1 | rat)\n",
       "   Data: data\n",
       "\n",
       "     AIC      BIC   logLik deviance df.resid \n",
       "166702.5 166733.6 -83347.3 166694.5    17378 \n",
       "\n",
       "Scaled residuals: \n",
       "    Min      1Q  Median      3Q     Max \n",
       "-2.6252 -0.7203 -0.2294  0.6904  3.3312 \n",
       "\n",
       "Random effects:\n",
       " Groups   Name        Variance Std.Dev.\n",
       " rat      (Intercept) 143.9    11.99   \n",
       " Residual             853.6    29.22   \n",
       "Number of obs: 17382, groups:  rat, 12\n",
       "\n",
       "Fixed effects:\n",
       "            Estimate Std. Error      df t value Pr(>|t|)    \n",
       "(Intercept)  147.596      5.254  14.057   28.09 9.43e-14 ***\n",
       "grouppae       3.625      7.253  13.175    0.50    0.625    \n",
       "---\n",
       "Signif. codes:  0 '***' 0.001 '**' 0.01 '*' 0.05 '.' 0.1 ' ' 1\n",
       "\n",
       "Correlation of Fixed Effects:\n",
       "         (Intr)\n",
       "grouppae -0.724"
      ]
     },
     "metadata": {},
     "output_type": "display_data"
    }
   ],
   "source": [
    "m.ri1 = lmer(peak_freq ~ group + (1 | rat), data = data,\n",
    "             REML=FALSE);\n",
    "summary(m.ri1)"
   ]
  },
  {
   "cell_type": "markdown",
   "metadata": {},
   "source": [
    "### Does this random effect add to explained variance compared to the fixed-effect-only model?"
   ]
  },
  {
   "cell_type": "code",
   "execution_count": 49,
   "metadata": {},
   "outputs": [
    {
     "data": {
      "text/html": [
       "<table>\n",
       "<thead><tr><th></th><th scope=col>npar</th><th scope=col>AIC</th><th scope=col>BIC</th><th scope=col>logLik</th><th scope=col>deviance</th><th scope=col>Chisq</th><th scope=col>Df</th><th scope=col>Pr(&gt;Chisq)</th></tr></thead>\n",
       "<tbody>\n",
       "\t<tr><th scope=row>m.lin.noInt</th><td>3        </td><td>170224.8 </td><td>170248.1 </td><td>-85109.40</td><td>170218.8 </td><td>      NA </td><td>NA       </td><td>NA       </td></tr>\n",
       "\t<tr><th scope=row>m.ri1</th><td>4        </td><td>166702.5 </td><td>166733.6 </td><td>-83347.27</td><td>166694.5 </td><td>3524.246 </td><td> 1       </td><td> 0       </td></tr>\n",
       "</tbody>\n",
       "</table>\n"
      ],
      "text/latex": [
       "\\begin{tabular}{r|llllllll}\n",
       "  & npar & AIC & BIC & logLik & deviance & Chisq & Df & Pr(>Chisq)\\\\\n",
       "\\hline\n",
       "\tm.lin.noInt & 3         & 170224.8  & 170248.1  & -85109.40 & 170218.8  &       NA  & NA        & NA       \\\\\n",
       "\tm.ri1 & 4         & 166702.5  & 166733.6  & -83347.27 & 166694.5  & 3524.246  &  1        &  0       \\\\\n",
       "\\end{tabular}\n"
      ],
      "text/markdown": [
       "\n",
       "| <!--/--> | npar | AIC | BIC | logLik | deviance | Chisq | Df | Pr(>Chisq) |\n",
       "|---|---|---|---|---|---|---|---|---|\n",
       "| m.lin.noInt | 3         | 170224.8  | 170248.1  | -85109.40 | 170218.8  |       NA  | NA        | NA        |\n",
       "| m.ri1 | 4         | 166702.5  | 166733.6  | -83347.27 | 166694.5  | 3524.246  |  1        |  0        |\n",
       "\n"
      ],
      "text/plain": [
       "            npar AIC      BIC      logLik    deviance Chisq    Df Pr(>Chisq)\n",
       "m.lin.noInt 3    170224.8 170248.1 -85109.40 170218.8       NA NA NA        \n",
       "m.ri1       4    166702.5 166733.6 -83347.27 166694.5 3524.246  1  0        "
      ]
     },
     "metadata": {},
     "output_type": "display_data"
    }
   ],
   "source": [
    "anova(m.ri1, m.lin.noInt)"
   ]
  },
  {
   "cell_type": "markdown",
   "metadata": {},
   "source": [
    "### add another random intercept: session"
   ]
  },
  {
   "cell_type": "code",
   "execution_count": 62,
   "metadata": {},
   "outputs": [
    {
     "data": {
      "text/html": [
       "<table>\n",
       "<thead><tr><th></th><th scope=col>Estimate</th><th scope=col>Std. Error</th><th scope=col>df</th><th scope=col>t value</th><th scope=col>Pr(&gt;|t|)</th></tr></thead>\n",
       "<tbody>\n",
       "\t<tr><th scope=row>(Intercept)</th><td>147.143299  </td><td>5.639604    </td><td>15.12151    </td><td>26.0910678  </td><td>5.447133e-14</td></tr>\n",
       "\t<tr><th scope=row>grouppae</th><td> -2.497438  </td><td>7.687711    </td><td>13.83375    </td><td>-0.3248611  </td><td>7.501468e-01</td></tr>\n",
       "</tbody>\n",
       "</table>\n"
      ],
      "text/latex": [
       "\\begin{tabular}{r|lllll}\n",
       "  & Estimate & Std. Error & df & t value & Pr(>\\textbar{}t\\textbar{})\\\\\n",
       "\\hline\n",
       "\t(Intercept) & 147.143299   & 5.639604     & 15.12151     & 26.0910678   & 5.447133e-14\\\\\n",
       "\tgrouppae &  -2.497438   & 7.687711     & 13.83375     & -0.3248611   & 7.501468e-01\\\\\n",
       "\\end{tabular}\n"
      ],
      "text/markdown": [
       "\n",
       "| <!--/--> | Estimate | Std. Error | df | t value | Pr(>|t|) |\n",
       "|---|---|---|---|---|---|\n",
       "| (Intercept) | 147.143299   | 5.639604     | 15.12151     | 26.0910678   | 5.447133e-14 |\n",
       "| grouppae |  -2.497438   | 7.687711     | 13.83375     | -0.3248611   | 7.501468e-01 |\n",
       "\n"
      ],
      "text/plain": [
       "            Estimate   Std. Error df       t value    Pr(>|t|)    \n",
       "(Intercept) 147.143299 5.639604   15.12151 26.0910678 5.447133e-14\n",
       "grouppae     -2.497438 7.687711   13.83375 -0.3248611 7.501468e-01"
      ]
     },
     "metadata": {},
     "output_type": "display_data"
    }
   ],
   "source": [
    "m.ri2 = lmer(peak_freq ~ group + (1 | rat) + (1 | session), data = data,\n",
    "             REML=FALSE);\n",
    "coef(summary(m.ri2))    # fixed"
   ]
  },
  {
   "cell_type": "code",
   "execution_count": 63,
   "metadata": {},
   "outputs": [
    {
     "data": {
      "text/plain": [
       " Groups   Name        Std.Dev.\n",
       " session  (Intercept) 14.229  \n",
       " rat      (Intercept) 11.867  \n",
       " Residual             25.178  "
      ]
     },
     "metadata": {},
     "output_type": "display_data"
    }
   ],
   "source": [
    "VarCorr(m.ri2)          # random"
   ]
  },
  {
   "cell_type": "markdown",
   "metadata": {},
   "source": [
    "### Let’s compare our models to see if adding the session intercept actually improved model fit."
   ]
  },
  {
   "cell_type": "code",
   "execution_count": 65,
   "metadata": {},
   "outputs": [
    {
     "data": {
      "text/html": [
       "<table>\n",
       "<thead><tr><th></th><th scope=col>npar</th><th scope=col>AIC</th><th scope=col>BIC</th><th scope=col>logLik</th><th scope=col>deviance</th><th scope=col>Chisq</th><th scope=col>Df</th><th scope=col>Pr(&gt;Chisq)</th></tr></thead>\n",
       "<tbody>\n",
       "\t<tr><th scope=row>m.ri1</th><td>4        </td><td>166702.5 </td><td>166733.6 </td><td>-83347.27</td><td>166694.5 </td><td>      NA </td><td>NA       </td><td>NA       </td></tr>\n",
       "\t<tr><th scope=row>m.ri2</th><td>5        </td><td>161979.4 </td><td>162018.2 </td><td>-80984.71</td><td>161969.4 </td><td>4725.117 </td><td> 1       </td><td> 0       </td></tr>\n",
       "</tbody>\n",
       "</table>\n"
      ],
      "text/latex": [
       "\\begin{tabular}{r|llllllll}\n",
       "  & npar & AIC & BIC & logLik & deviance & Chisq & Df & Pr(>Chisq)\\\\\n",
       "\\hline\n",
       "\tm.ri1 & 4         & 166702.5  & 166733.6  & -83347.27 & 166694.5  &       NA  & NA        & NA       \\\\\n",
       "\tm.ri2 & 5         & 161979.4  & 162018.2  & -80984.71 & 161969.4  & 4725.117  &  1        &  0       \\\\\n",
       "\\end{tabular}\n"
      ],
      "text/markdown": [
       "\n",
       "| <!--/--> | npar | AIC | BIC | logLik | deviance | Chisq | Df | Pr(>Chisq) |\n",
       "|---|---|---|---|---|---|---|---|---|\n",
       "| m.ri1 | 4         | 166702.5  | 166733.6  | -83347.27 | 166694.5  |       NA  | NA        | NA        |\n",
       "| m.ri2 | 5         | 161979.4  | 162018.2  | -80984.71 | 161969.4  | 4725.117  |  1        |  0        |\n",
       "\n"
      ],
      "text/plain": [
       "      npar AIC      BIC      logLik    deviance Chisq    Df Pr(>Chisq)\n",
       "m.ri1 4    166702.5 166733.6 -83347.27 166694.5       NA NA NA        \n",
       "m.ri2 5    161979.4 162018.2 -80984.71 161969.4 4725.117  1  0        "
      ]
     },
     "metadata": {},
     "output_type": "display_data"
    }
   ],
   "source": [
    "anova(m.ri1, m.ri2)"
   ]
  },
  {
   "cell_type": "markdown",
   "metadata": {},
   "source": [
    "### Add a 3rd random intercept: ep_type"
   ]
  },
  {
   "cell_type": "code",
   "execution_count": 37,
   "metadata": {},
   "outputs": [
    {
     "data": {
      "text/plain": [
       "Linear mixed model fit by maximum likelihood . t-tests use Satterthwaite's\n",
       "  method [lmerModLmerTest]\n",
       "Formula: peak_freq ~ group + (1 | rat) + (1 | session) + (1 | ep_type)\n",
       "   Data: data[data$area == \"ca3\", ]\n",
       "\n",
       "     AIC      BIC   logLik deviance df.resid \n",
       "115656.7 115701.4 -57822.4 115644.7    12694 \n",
       "\n",
       "Scaled residuals: \n",
       "    Min      1Q  Median      3Q     Max \n",
       "-3.5558 -0.6086 -0.1211  0.5654  4.7108 \n",
       "\n",
       "Random effects:\n",
       " Groups   Name        Variance Std.Dev.\n",
       " session  (Intercept) 135.178  11.627  \n",
       " ep_type  (Intercept)   4.486   2.118  \n",
       " rat      (Intercept) 276.276  16.622  \n",
       " Residual             514.164  22.675  \n",
       "Number of obs: 12700, groups:  session, 108; ep_type, 7; rat, 7\n",
       "\n",
       "Fixed effects:\n",
       "            Estimate Std. Error       df t value Pr(>|t|)    \n",
       "(Intercept) 145.7381     8.1926   8.6570  17.789 4.07e-08 ***\n",
       "grouppae     -0.5608    14.3961   7.0685  -0.039     0.97    \n",
       "---\n",
       "Signif. codes:  0 '***' 0.001 '**' 0.01 '*' 0.05 '.' 0.1 ' ' 1\n",
       "\n",
       "Correlation of Fixed Effects:\n",
       "         (Intr)\n",
       "grouppae -0.563"
      ]
     },
     "metadata": {},
     "output_type": "display_data"
    }
   ],
   "source": [
    "m.ri3 = lmer(peak_freq ~ group + (1 | rat) + (1 | session) + (1 | ep_type), data = data[data$area == \"ca3\",],\n",
    "             REML=FALSE)\n",
    "# coef(summary(m.ri3))    # fixed\n",
    "summary(m.ri3)"
   ]
  },
  {
   "cell_type": "code",
   "execution_count": 67,
   "metadata": {},
   "outputs": [
    {
     "data": {
      "text/plain": [
       " Groups   Name        Std.Dev.\n",
       " session  (Intercept) 13.7372 \n",
       " rat      (Intercept) 11.7038 \n",
       " ep_type  (Intercept)  2.4845 \n",
       " Residual             25.1126 "
      ]
     },
     "metadata": {},
     "output_type": "display_data"
    }
   ],
   "source": [
    "VarCorr(m.ri3)          # random"
   ]
  },
  {
   "cell_type": "code",
   "execution_count": 68,
   "metadata": {},
   "outputs": [
    {
     "data": {
      "text/html": [
       "<table>\n",
       "<thead><tr><th></th><th scope=col>npar</th><th scope=col>AIC</th><th scope=col>BIC</th><th scope=col>logLik</th><th scope=col>deviance</th><th scope=col>Chisq</th><th scope=col>Df</th><th scope=col>Pr(&gt;Chisq)</th></tr></thead>\n",
       "<tbody>\n",
       "\t<tr><th scope=row>m.ri2</th><td>5           </td><td>161979.4    </td><td>162018.2    </td><td>-80984.71   </td><td>161969.4    </td><td>      NA    </td><td>NA          </td><td>          NA</td></tr>\n",
       "\t<tr><th scope=row>m.ri3</th><td>6           </td><td>161897.0    </td><td>161943.5    </td><td>-80942.48   </td><td>161885.0    </td><td>84.46889    </td><td> 1          </td><td>3.903089e-20</td></tr>\n",
       "</tbody>\n",
       "</table>\n"
      ],
      "text/latex": [
       "\\begin{tabular}{r|llllllll}\n",
       "  & npar & AIC & BIC & logLik & deviance & Chisq & Df & Pr(>Chisq)\\\\\n",
       "\\hline\n",
       "\tm.ri2 & 5            & 161979.4     & 162018.2     & -80984.71    & 161969.4     &       NA     & NA           &           NA\\\\\n",
       "\tm.ri3 & 6            & 161897.0     & 161943.5     & -80942.48    & 161885.0     & 84.46889     &  1           & 3.903089e-20\\\\\n",
       "\\end{tabular}\n"
      ],
      "text/markdown": [
       "\n",
       "| <!--/--> | npar | AIC | BIC | logLik | deviance | Chisq | Df | Pr(>Chisq) |\n",
       "|---|---|---|---|---|---|---|---|---|\n",
       "| m.ri2 | 5            | 161979.4     | 162018.2     | -80984.71    | 161969.4     |       NA     | NA           |           NA |\n",
       "| m.ri3 | 6            | 161897.0     | 161943.5     | -80942.48    | 161885.0     | 84.46889     |  1           | 3.903089e-20 |\n",
       "\n"
      ],
      "text/plain": [
       "      npar AIC      BIC      logLik    deviance Chisq    Df Pr(>Chisq)  \n",
       "m.ri2 5    161979.4 162018.2 -80984.71 161969.4       NA NA           NA\n",
       "m.ri3 6    161897.0 161943.5 -80942.48 161885.0 84.46889  1 3.903089e-20"
      ]
     },
     "metadata": {},
     "output_type": "display_data"
    }
   ],
   "source": [
    "anova(m.ri2, m.ri3)"
   ]
  },
  {
   "cell_type": "markdown",
   "metadata": {},
   "source": [
    "### Random slopes"
   ]
  },
  {
   "cell_type": "code",
   "execution_count": 69,
   "metadata": {},
   "outputs": [
    {
     "name": "stderr",
     "output_type": "stream",
     "text": [
      "Warning message in checkConv(attr(opt, \"derivs\"), opt$par, ctrl = control$checkConv, :\n",
      "\"unable to evaluate scaled gradient\"Warning message in checkConv(attr(opt, \"derivs\"), opt$par, ctrl = control$checkConv, :\n",
      "\"Model failed to converge: degenerate  Hessian with 2 negative eigenvalues\"Warning message:\n",
      "\"Model failed to converge with 2 negative eigenvalues: -3.0e-03 -1.7e-02\""
     ]
    }
   ],
   "source": [
    "m.ris = lmer(peak_freq ~ group + (1 + group | rat) + (1 + group| session) + (1 + group | ep_type), data = data, REML=FALSE)\n"
   ]
  },
  {
   "cell_type": "code",
   "execution_count": 70,
   "metadata": {},
   "outputs": [
    {
     "data": {
      "text/html": [
       "<table>\n",
       "<thead><tr><th></th><th scope=col>Estimate</th><th scope=col>Std. Error</th><th scope=col>df</th><th scope=col>t value</th><th scope=col>Pr(&gt;|t|)</th></tr></thead>\n",
       "<tbody>\n",
       "\t<tr><th scope=row>(Intercept)</th><td>146.129586  </td><td>6.298818    </td><td> 7.533485   </td><td>23.1995245  </td><td>2.788156e-08</td></tr>\n",
       "\t<tr><th scope=row>grouppae</th><td> -1.710217  </td><td>7.631366    </td><td>12.794971   </td><td>-0.2241037  </td><td>8.262154e-01</td></tr>\n",
       "</tbody>\n",
       "</table>\n"
      ],
      "text/latex": [
       "\\begin{tabular}{r|lllll}\n",
       "  & Estimate & Std. Error & df & t value & Pr(>\\textbar{}t\\textbar{})\\\\\n",
       "\\hline\n",
       "\t(Intercept) & 146.129586   & 6.298818     &  7.533485    & 23.1995245   & 2.788156e-08\\\\\n",
       "\tgrouppae &  -1.710217   & 7.631366     & 12.794971    & -0.2241037   & 8.262154e-01\\\\\n",
       "\\end{tabular}\n"
      ],
      "text/markdown": [
       "\n",
       "| <!--/--> | Estimate | Std. Error | df | t value | Pr(>|t|) |\n",
       "|---|---|---|---|---|---|\n",
       "| (Intercept) | 146.129586   | 6.298818     |  7.533485    | 23.1995245   | 2.788156e-08 |\n",
       "| grouppae |  -1.710217   | 7.631366     | 12.794971    | -0.2241037   | 8.262154e-01 |\n",
       "\n"
      ],
      "text/plain": [
       "            Estimate   Std. Error df        t value    Pr(>|t|)    \n",
       "(Intercept) 146.129586 6.298818    7.533485 23.1995245 2.788156e-08\n",
       "grouppae     -1.710217 7.631366   12.794971 -0.2241037 8.262154e-01"
      ]
     },
     "metadata": {},
     "output_type": "display_data"
    }
   ],
   "source": [
    "m.ris = lmer(peak_freq ~ group + (1 + group | rat) + (1 | session) + (1 | ep_type), data = data, REML=FALSE)\n",
    "coef(summary(m.ris))    # fixed\n"
   ]
  },
  {
   "cell_type": "code",
   "execution_count": 71,
   "metadata": {},
   "outputs": [
    {
     "data": {
      "text/plain": [
       " Groups   Name        Std.Dev. Corr  \n",
       " session  (Intercept) 13.7366        \n",
       " rat      (Intercept) 13.4802        \n",
       "          grouppae     7.5610  -0.701\n",
       " ep_type  (Intercept)  2.4837        \n",
       " Residual             25.1127        "
      ]
     },
     "metadata": {},
     "output_type": "display_data"
    }
   ],
   "source": [
    "VarCorr(m.ris)          # random\n"
   ]
  },
  {
   "cell_type": "code",
   "execution_count": 72,
   "metadata": {},
   "outputs": [
    {
     "data": {
      "text/html": [
       "<table>\n",
       "<thead><tr><th></th><th scope=col>npar</th><th scope=col>AIC</th><th scope=col>BIC</th><th scope=col>logLik</th><th scope=col>deviance</th><th scope=col>Chisq</th><th scope=col>Df</th><th scope=col>Pr(&gt;Chisq)</th></tr></thead>\n",
       "<tbody>\n",
       "\t<tr><th scope=row>m.ri3</th><td>6        </td><td>161897.0 </td><td>161943.5 </td><td>-80942.48</td><td>161885.0 </td><td>       NA</td><td>NA       </td><td>       NA</td></tr>\n",
       "\t<tr><th scope=row>m.ris</th><td>8        </td><td>161900.5 </td><td>161962.6 </td><td>-80942.24</td><td>161884.5 </td><td>0.4867732</td><td> 2       </td><td>0.7839684</td></tr>\n",
       "</tbody>\n",
       "</table>\n"
      ],
      "text/latex": [
       "\\begin{tabular}{r|llllllll}\n",
       "  & npar & AIC & BIC & logLik & deviance & Chisq & Df & Pr(>Chisq)\\\\\n",
       "\\hline\n",
       "\tm.ri3 & 6         & 161897.0  & 161943.5  & -80942.48 & 161885.0  &        NA & NA        &        NA\\\\\n",
       "\tm.ris & 8         & 161900.5  & 161962.6  & -80942.24 & 161884.5  & 0.4867732 &  2        & 0.7839684\\\\\n",
       "\\end{tabular}\n"
      ],
      "text/markdown": [
       "\n",
       "| <!--/--> | npar | AIC | BIC | logLik | deviance | Chisq | Df | Pr(>Chisq) |\n",
       "|---|---|---|---|---|---|---|---|---|\n",
       "| m.ri3 | 6         | 161897.0  | 161943.5  | -80942.48 | 161885.0  |        NA | NA        |        NA |\n",
       "| m.ris | 8         | 161900.5  | 161962.6  | -80942.24 | 161884.5  | 0.4867732 |  2        | 0.7839684 |\n",
       "\n"
      ],
      "text/plain": [
       "      npar AIC      BIC      logLik    deviance Chisq     Df Pr(>Chisq)\n",
       "m.ri3 6    161897.0 161943.5 -80942.48 161885.0        NA NA        NA \n",
       "m.ris 8    161900.5 161962.6 -80942.24 161884.5 0.4867732  2 0.7839684 "
      ]
     },
     "metadata": {},
     "output_type": "display_data"
    }
   ],
   "source": [
    "anova(m.ris, m.ri3)\n"
   ]
  },
  {
   "cell_type": "markdown",
   "metadata": {},
   "source": [
    "# Interactions"
   ]
  },
  {
   "cell_type": "code",
   "execution_count": 5,
   "metadata": {},
   "outputs": [
    {
     "data": {
      "text/html": [
       "<table>\n",
       "<thead><tr><th></th><th scope=col>Estimate</th><th scope=col>Std. Error</th><th scope=col>df</th><th scope=col>t value</th><th scope=col>Pr(&gt;|t|)</th></tr></thead>\n",
       "<tbody>\n",
       "\t<tr><th scope=row>(Intercept)</th><td>152.317156  </td><td>6.124098    </td><td> 18.68804   </td><td>24.8717695  </td><td>8.788148e-16</td></tr>\n",
       "\t<tr><th scope=row>grouppae</th><td> -3.976712  </td><td>7.853385    </td><td> 13.64240   </td><td>-0.5063692  </td><td>6.206817e-01</td></tr>\n",
       "\t<tr><th scope=row>areaca3</th><td>-10.759921  </td><td>3.446722    </td><td>170.66729   </td><td>-3.1217837  </td><td>2.111666e-03</td></tr>\n",
       "</tbody>\n",
       "</table>\n"
      ],
      "text/latex": [
       "\\begin{tabular}{r|lllll}\n",
       "  & Estimate & Std. Error & df & t value & Pr(>\\textbar{}t\\textbar{})\\\\\n",
       "\\hline\n",
       "\t(Intercept) & 152.317156   & 6.124098     &  18.68804    & 24.8717695   & 8.788148e-16\\\\\n",
       "\tgrouppae &  -3.976712   & 7.853385     &  13.64240    & -0.5063692   & 6.206817e-01\\\\\n",
       "\tareaca3 & -10.759921   & 3.446722     & 170.66729    & -3.1217837   & 2.111666e-03\\\\\n",
       "\\end{tabular}\n"
      ],
      "text/markdown": [
       "\n",
       "| <!--/--> | Estimate | Std. Error | df | t value | Pr(>|t|) |\n",
       "|---|---|---|---|---|---|\n",
       "| (Intercept) | 152.317156   | 6.124098     |  18.68804    | 24.8717695   | 8.788148e-16 |\n",
       "| grouppae |  -3.976712   | 7.853385     |  13.64240    | -0.5063692   | 6.206817e-01 |\n",
       "| areaca3 | -10.759921   | 3.446722     | 170.66729    | -3.1217837   | 2.111666e-03 |\n",
       "\n"
      ],
      "text/plain": [
       "            Estimate   Std. Error df        t value    Pr(>|t|)    \n",
       "(Intercept) 152.317156 6.124098    18.68804 24.8717695 8.788148e-16\n",
       "grouppae     -3.976712 7.853385    13.64240 -0.5063692 6.206817e-01\n",
       "areaca3     -10.759921 3.446722   170.66729 -3.1217837 2.111666e-03"
      ]
     },
     "metadata": {},
     "output_type": "display_data"
    }
   ],
   "source": [
    "m.ris2 = lmer(peak_freq ~ group + area + (1 | rat) + (1 | session) + (1 | ep_type), data = data,\n",
    "             REML=FALSE)\n",
    "coef(summary(m.ris2))    # fixed\n"
   ]
  },
  {
   "cell_type": "code",
   "execution_count": 6,
   "metadata": {},
   "outputs": [
    {
     "data": {
      "text/plain": [
       " Groups   Name        Std.Dev.\n",
       " session  (Intercept) 13.1725 \n",
       " rat      (Intercept) 12.2419 \n",
       " ep_type  (Intercept)  2.4844 \n",
       " Residual             25.1142 "
      ]
     },
     "metadata": {},
     "output_type": "display_data"
    }
   ],
   "source": [
    "VarCorr(m.ris2)          # random"
   ]
  },
  {
   "cell_type": "code",
   "execution_count": 28,
   "metadata": {},
   "outputs": [
    {
     "data": {
      "text/plain": [
       "Linear mixed model fit by maximum likelihood . t-tests use Satterthwaite's\n",
       "  method [lmerModLmerTest]\n",
       "Formula: peak_freq ~ group * area + (1 | rat) + (1 | session) + (1 | ep_type)\n",
       "   Data: data\n",
       "\n",
       "     AIC      BIC   logLik deviance df.resid \n",
       "161890.4 161952.5 -80937.2 161874.4    17374 \n",
       "\n",
       "Scaled residuals: \n",
       "    Min      1Q  Median      3Q     Max \n",
       "-3.2376 -0.6384 -0.0985  0.6225  4.2280 \n",
       "\n",
       "Random effects:\n",
       " Groups   Name        Variance Std.Dev.\n",
       " session  (Intercept) 173.393  13.168  \n",
       " rat      (Intercept) 134.019  11.577  \n",
       " ep_type  (Intercept)   6.156   2.481  \n",
       " Residual             630.719  25.114  \n",
       "Number of obs: 17382, groups:  session, 189; rat, 12; ep_type, 7\n",
       "\n",
       "Fixed effects:\n",
       "                 Estimate Std. Error      df t value Pr(>|t|)    \n",
       "(Intercept)       153.056      5.923  20.351  25.843  < 2e-16 ***\n",
       "grouppae           -8.911      8.646  15.944  -1.031  0.31806    \n",
       "areaca3           -11.997      3.621 172.498  -3.313  0.00112 ** \n",
       "grouppae:areaca3   12.805     11.145  14.421   1.149  0.26927    \n",
       "---\n",
       "Signif. codes:  0 '***' 0.001 '**' 0.01 '*' 0.05 '.' 0.1 ' ' 1\n",
       "\n",
       "Correlation of Fixed Effects:\n",
       "            (Intr) groupp areac3\n",
       "grouppae    -0.667              \n",
       "areaca3     -0.346  0.237       \n",
       "grouppa:rc3  0.112 -0.499 -0.325"
      ]
     },
     "metadata": {},
     "output_type": "display_data"
    }
   ],
   "source": [
    "m.ris3 = lmer(peak_freq ~ group * area + (1 | rat) + (1 | session) + (1 | ep_type), data = data,\n",
    "             REML=FALSE)\n",
    "summary(m.ris3)"
   ]
  },
  {
   "cell_type": "code",
   "execution_count": 26,
   "metadata": {},
   "outputs": [
    {
     "data": {
      "text/plain": [
       " Groups   Name        Std.Dev.\n",
       " session  (Intercept) 13.168  \n",
       " rat      (Intercept) 11.577  \n",
       " ep_type  (Intercept)  2.481  \n",
       " Residual             25.114  "
      ]
     },
     "metadata": {},
     "output_type": "display_data"
    }
   ],
   "source": [
    "VarCorr(m.ris3)          # random"
   ]
  },
  {
   "cell_type": "code",
   "execution_count": 13,
   "metadata": {},
   "outputs": [
    {
     "data": {
      "text/html": [
       "<table>\n",
       "<thead><tr><th></th><th scope=col>npar</th><th scope=col>AIC</th><th scope=col>BIC</th><th scope=col>logLik</th><th scope=col>deviance</th><th scope=col>Chisq</th><th scope=col>Df</th><th scope=col>Pr(&gt;Chisq)</th></tr></thead>\n",
       "<tbody>\n",
       "\t<tr><th scope=row>m.ris</th><td>6          </td><td>161897.0   </td><td>161943.5   </td><td>-80942.48  </td><td>161885.0   </td><td>      NA   </td><td>NA         </td><td>         NA</td></tr>\n",
       "\t<tr><th scope=row>m.ris3</th><td>8          </td><td>161890.4   </td><td>161952.5   </td><td>-80937.22  </td><td>161874.4   </td><td>10.52461   </td><td> 2         </td><td>0.005183338</td></tr>\n",
       "</tbody>\n",
       "</table>\n"
      ],
      "text/latex": [
       "\\begin{tabular}{r|llllllll}\n",
       "  & npar & AIC & BIC & logLik & deviance & Chisq & Df & Pr(>Chisq)\\\\\n",
       "\\hline\n",
       "\tm.ris & 6           & 161897.0    & 161943.5    & -80942.48   & 161885.0    &       NA    & NA          &          NA\\\\\n",
       "\tm.ris3 & 8           & 161890.4    & 161952.5    & -80937.22   & 161874.4    & 10.52461    &  2          & 0.005183338\\\\\n",
       "\\end{tabular}\n"
      ],
      "text/markdown": [
       "\n",
       "| <!--/--> | npar | AIC | BIC | logLik | deviance | Chisq | Df | Pr(>Chisq) |\n",
       "|---|---|---|---|---|---|---|---|---|\n",
       "| m.ris | 6           | 161897.0    | 161943.5    | -80942.48   | 161885.0    |       NA    | NA          |          NA |\n",
       "| m.ris3 | 8           | 161890.4    | 161952.5    | -80937.22   | 161874.4    | 10.52461    |  2          | 0.005183338 |\n",
       "\n"
      ],
      "text/plain": [
       "       npar AIC      BIC      logLik    deviance Chisq    Df Pr(>Chisq) \n",
       "m.ris  6    161897.0 161943.5 -80942.48 161885.0       NA NA          NA\n",
       "m.ris3 8    161890.4 161952.5 -80937.22 161874.4 10.52461  2 0.005183338"
      ]
     },
     "metadata": {},
     "output_type": "display_data"
    }
   ],
   "source": [
    "m.ris = lmer(peak_freq ~ group + (1 | rat) + (1 | session) + (1 | ep_type), data = data,\n",
    "             REML=FALSE)\n",
    "\n",
    "anova(m.ris3, m.ris)"
   ]
  },
  {
   "cell_type": "code",
   "execution_count": 160,
   "metadata": {},
   "outputs": [
    {
     "data": {
      "image/png": "[encoded data removed]",
      "text/plain": [
       "plot without title"
      ]
     },
     "metadata": {},
     "output_type": "display_data"
    }
   ],
   "source": [
    "options(repr.plot.width = 5, repr.plot.height = 3)\n",
    "\n",
    "ggplot(data)+\n",
    "  stat_summary(aes(x=area, y=peak_freq, fill=group), \n",
    "               geom=\"col\", fun=\"mean\", position=position_dodge(0.8))+\n",
    "  stat_summary(aes(x=area, y=peak_freq, group=group), \n",
    "               geom='errorbar', fun.data='mean_se', position=position_dodge(0.8), width=0.2)"
   ]
  },
  {
   "cell_type": "code",
   "execution_count": 20,
   "metadata": {},
   "outputs": [
    {
     "data": {
      "image/png": "[encoded data removed]",
      "text/plain": [
       "plot without title"
      ]
     },
     "metadata": {},
     "output_type": "display_data"
    }
   ],
   "source": [
    "plot(m.ris3)"
   ]
  },
  {
   "cell_type": "markdown",
   "metadata": {},
   "source": [
    "# Testing significance"
   ]
  },
  {
   "cell_type": "markdown",
   "metadata": {},
   "source": [
    "### Method 1: read p-values from model summay"
   ]
  },
  {
   "cell_type": "code",
   "execution_count": 166,
   "metadata": {},
   "outputs": [
    {
     "data": {
      "text/plain": [
       "Linear mixed model fit by maximum likelihood . t-tests use Satterthwaite's\n",
       "  method [lmerModLmerTest]\n",
       "Formula: peak_freq_log ~ group + (1 | rat/session)\n",
       "   Data: data[data$area == \"ca3\", ]\n",
       "\n",
       "     AIC      BIC   logLik deviance df.resid \n",
       "-10176.3 -10138.8   5093.1 -10186.3    13338 \n",
       "\n",
       "Scaled residuals: \n",
       "    Min      1Q  Median      3Q     Max \n",
       "-3.7354 -0.6367 -0.0706  0.6168  3.9928 \n",
       "\n",
       "Random effects:\n",
       " Groups      Name        Variance Std.Dev.\n",
       " session:rat (Intercept) 0.005758 0.07588 \n",
       " rat         (Intercept) 0.012431 0.11149 \n",
       " Residual                0.026625 0.16317 \n",
       "Number of obs: 13343, groups:  session:rat, 123; rat, 8\n",
       "\n",
       "Fixed effects:\n",
       "            Estimate Std. Error       df t value Pr(>|t|)    \n",
       "(Intercept)  4.95703    0.05473  9.79944  90.568 1.18e-15 ***\n",
       "grouppae    -0.01982    0.08508  8.40392  -0.233    0.821    \n",
       "---\n",
       "Signif. codes:  0 '***' 0.001 '**' 0.01 '*' 0.05 '.' 0.1 ' ' 1\n",
       "\n",
       "Correlation of Fixed Effects:\n",
       "         (Intr)\n",
       "grouppae -0.643"
      ]
     },
     "metadata": {},
     "output_type": "display_data"
    },
    {
     "data": {
      "image/png": "[encoded data removed]",
      "text/plain": [
       "plot without title"
      ]
     },
     "metadata": {},
     "output_type": "display_data"
    },
    {
     "data": {
      "image/png": "[encoded data removed]",
      "text/plain": [
       "Plot with title \"Normal Q-Q Plot\""
      ]
     },
     "metadata": {},
     "output_type": "display_data"
    }
   ],
   "source": [
    "options(repr.plot.width = 6, repr.plot.height = 5)\n",
    "\n",
    "data$peak_freq_log <- log(data$peak_freq)\n",
    "# m1 = lmer(peak_freq ~ group + (1 | rat) + (1 | session) + (1 | ep_type), data = data, REML=FALSE)\n",
    "# m1 = lmer(peak_freq_log ~ group + (1 | rat) + (1 | session), data = data[data$area == \"ca3\",],REML=FALSE)\n",
    "m1 = lmer(peak_freq_log ~ group + (1 | rat/session), data = data[data$area == \"ca3\",],REML=FALSE)\n",
    "\n",
    "# coef(summary(m.ri3))    # fixed\n",
    "summary(m1)\n",
    "plot(m1)\n",
    "\n",
    "qqnorm(resid(m1))\n",
    "qqline(resid(m1))"
   ]
  },
  {
   "cell_type": "markdown",
   "metadata": {},
   "source": [
    "### Method 2: Model comparison"
   ]
  },
  {
   "cell_type": "markdown",
   "metadata": {},
   "source": [
    "1. Create a “null” model where the predictor of interest is missing"
   ]
  },
  {
   "cell_type": "code",
   "execution_count": 167,
   "metadata": {},
   "outputs": [],
   "source": [
    "m1.null = lmer(peak_freq_log ~ 1 + (1 | rat/session), data = data[data$area == \"ca3\",], REML=FALSE)"
   ]
  },
  {
   "cell_type": "markdown",
   "metadata": {},
   "source": [
    "2. Use the likelihood ratio test (the anova() command) to find out if the model with more parameters fits the data better."
   ]
  },
  {
   "cell_type": "code",
   "execution_count": 168,
   "metadata": {},
   "outputs": [
    {
     "data": {
      "text/html": [
       "<table>\n",
       "<thead><tr><th></th><th scope=col>npar</th><th scope=col>AIC</th><th scope=col>BIC</th><th scope=col>logLik</th><th scope=col>deviance</th><th scope=col>Chisq</th><th scope=col>Df</th><th scope=col>Pr(&gt;Chisq)</th></tr></thead>\n",
       "<tbody>\n",
       "\t<tr><th scope=row>m1.null</th><td>4         </td><td>-10178.20 </td><td>-10148.20 </td><td>5093.099  </td><td>-10186.20 </td><td>        NA</td><td>NA        </td><td>       NA </td></tr>\n",
       "\t<tr><th scope=row>m1</th><td>5         </td><td>-10176.25 </td><td>-10138.76 </td><td>5093.127  </td><td>-10186.25 </td><td>0.05414031</td><td> 1        </td><td>0.8160094 </td></tr>\n",
       "</tbody>\n",
       "</table>\n"
      ],
      "text/latex": [
       "\\begin{tabular}{r|llllllll}\n",
       "  & npar & AIC & BIC & logLik & deviance & Chisq & Df & Pr(>Chisq)\\\\\n",
       "\\hline\n",
       "\tm1.null & 4          & -10178.20  & -10148.20  & 5093.099   & -10186.20  &         NA & NA         &        NA \\\\\n",
       "\tm1 & 5          & -10176.25  & -10138.76  & 5093.127   & -10186.25  & 0.05414031 &  1         & 0.8160094 \\\\\n",
       "\\end{tabular}\n"
      ],
      "text/markdown": [
       "\n",
       "| <!--/--> | npar | AIC | BIC | logLik | deviance | Chisq | Df | Pr(>Chisq) |\n",
       "|---|---|---|---|---|---|---|---|---|\n",
       "| m1.null | 4          | -10178.20  | -10148.20  | 5093.099   | -10186.20  |         NA | NA         |        NA  |\n",
       "| m1 | 5          | -10176.25  | -10138.76  | 5093.127   | -10186.25  | 0.05414031 |  1         | 0.8160094  |\n",
       "\n"
      ],
      "text/plain": [
       "        npar AIC       BIC       logLik   deviance  Chisq      Df Pr(>Chisq)\n",
       "m1.null 4    -10178.20 -10148.20 5093.099 -10186.20         NA NA        NA \n",
       "m1      5    -10176.25 -10138.76 5093.127 -10186.25 0.05414031  1 0.8160094 "
      ]
     },
     "metadata": {},
     "output_type": "display_data"
    }
   ],
   "source": [
    "anova(m1.null, m1)"
   ]
  },
  {
   "cell_type": "markdown",
   "metadata": {},
   "source": [
    "# Method 3: pairwise tests\n",
    "\n",
    "If you just want the mean estimates for each condition and you want to compare them to 0, you can use ls_means() from lmerTest"
   ]
  },
  {
   "cell_type": "code",
   "execution_count": 101,
   "metadata": {},
   "outputs": [
    {
     "data": {
      "text/html": [
       "<table>\n",
       "<thead><tr><th></th><th scope=col>Estimate</th><th scope=col>Std. Error</th><th scope=col>df</th><th scope=col>t value</th><th scope=col>lower</th><th scope=col>upper</th><th scope=col>Pr(&gt;|t|)</th></tr></thead>\n",
       "<tbody>\n",
       "\t<tr><th scope=row>groupcontrol</th><td>4.956520   </td><td>0.05749912 </td><td>8.495047   </td><td>86.20167   </td><td>4.825260   </td><td>5.08778    </td><td>8.45388e-14</td></tr>\n",
       "\t<tr><th scope=row>grouppae</th><td>4.957219   </td><td>0.08379320 </td><td>6.547165   </td><td>59.16016   </td><td>4.756267   </td><td>5.15817    </td><td>3.50507e-10</td></tr>\n",
       "</tbody>\n",
       "</table>\n"
      ],
      "text/latex": [
       "\\begin{tabular}{r|lllllll}\n",
       "  & Estimate & Std. Error & df & t value & lower & upper & Pr(>\\textbar{}t\\textbar{})\\\\\n",
       "\\hline\n",
       "\tgroupcontrol & 4.956520    & 0.05749912  & 8.495047    & 86.20167    & 4.825260    & 5.08778     & 8.45388e-14\\\\\n",
       "\tgrouppae & 4.957219    & 0.08379320  & 6.547165    & 59.16016    & 4.756267    & 5.15817     & 3.50507e-10\\\\\n",
       "\\end{tabular}\n"
      ],
      "text/markdown": [
       "\n",
       "| <!--/--> | Estimate | Std. Error | df | t value | lower | upper | Pr(>|t|) |\n",
       "|---|---|---|---|---|---|---|---|\n",
       "| groupcontrol | 4.956520    | 0.05749912  | 8.495047    | 86.20167    | 4.825260    | 5.08778     | 8.45388e-14 |\n",
       "| grouppae | 4.957219    | 0.08379320  | 6.547165    | 59.16016    | 4.756267    | 5.15817     | 3.50507e-10 |\n",
       "\n"
      ],
      "text/plain": [
       "             Estimate Std. Error df       t value  lower    upper   Pr(>|t|)   \n",
       "groupcontrol 4.956520 0.05749912 8.495047 86.20167 4.825260 5.08778 8.45388e-14\n",
       "grouppae     4.957219 0.08379320 6.547165 59.16016 4.756267 5.15817 3.50507e-10"
      ]
     },
     "metadata": {},
     "output_type": "display_data"
    }
   ],
   "source": [
    "ls_means(m1)"
   ]
  },
  {
   "cell_type": "code",
   "execution_count": 105,
   "metadata": {},
   "outputs": [
    {
     "data": {
      "text/html": [
       "<table>\n",
       "<thead><tr><th></th><th scope=col>Estimate</th><th scope=col>Std. Error</th><th scope=col>df</th><th scope=col>t value</th><th scope=col>lower</th><th scope=col>upper</th><th scope=col>Pr(&gt;|t|)</th></tr></thead>\n",
       "<tbody>\n",
       "\t<tr><th scope=row>groupcontrol - grouppae</th><td>-0.000698942</td><td>0.1016241   </td><td>7.091554    </td><td>-0.006877722</td><td>-0.2403742  </td><td>0.2389763   </td><td>0.9947019   </td></tr>\n",
       "</tbody>\n",
       "</table>\n"
      ],
      "text/latex": [
       "\\begin{tabular}{r|lllllll}\n",
       "  & Estimate & Std. Error & df & t value & lower & upper & Pr(>\\textbar{}t\\textbar{})\\\\\n",
       "\\hline\n",
       "\tgroupcontrol - grouppae & -0.000698942 & 0.1016241    & 7.091554     & -0.006877722 & -0.2403742   & 0.2389763    & 0.9947019   \\\\\n",
       "\\end{tabular}\n"
      ],
      "text/markdown": [
       "\n",
       "| <!--/--> | Estimate | Std. Error | df | t value | lower | upper | Pr(>|t|) |\n",
       "|---|---|---|---|---|---|---|---|\n",
       "| groupcontrol - grouppae | -0.000698942 | 0.1016241    | 7.091554     | -0.006877722 | -0.2403742   | 0.2389763    | 0.9947019    |\n",
       "\n"
      ],
      "text/plain": [
       "                        Estimate     Std. Error df       t value     \n",
       "groupcontrol - grouppae -0.000698942 0.1016241  7.091554 -0.006877722\n",
       "                        lower      upper     Pr(>|t|) \n",
       "groupcontrol - grouppae -0.2403742 0.2389763 0.9947019"
      ]
     },
     "metadata": {},
     "output_type": "display_data"
    }
   ],
   "source": [
    "ls_means(m1, pairwise = TRUE)\n"
   ]
  },
  {
   "cell_type": "code",
   "execution_count": 164,
   "metadata": {},
   "outputs": [
    {
     "data": {
      "image/png": "[encoded data removed]",
      "text/plain": [
       "plot without title"
      ]
     },
     "metadata": {},
     "output_type": "display_data"
    }
   ],
   "source": [
    "ggplot(data, aes(x=peak_freq,colour = rat)) + stat_ecdf(geom = \"point\")"
   ]
  },
  {
   "cell_type": "code",
   "execution_count": 165,
   "metadata": {},
   "outputs": [
    {
     "data": {
      "text/plain": [
       ", , area = ca1\n",
       "\n",
       "         rat\n",
       "group     LEM3116 LEM3120 LEM3124 LEM3206 LEM3216 LEM3246 LS17 LS19 LS23 RH13\n",
       "  control     722     263       0       0    2300       0    0    0  120    3\n",
       "  pae           0       0     933       0       0       0   89  233    0    0\n",
       "         rat\n",
       "group     RH14 RH16\n",
       "  control    1    0\n",
       "  pae        0   34\n",
       "\n",
       ", , area = ca3\n",
       "\n",
       "         rat\n",
       "group     LEM3116 LEM3120 LEM3124 LEM3206 LEM3216 LEM3246 LS17 LS19 LS23 RH13\n",
       "  control     765     189       0       0    5113       0    0    0    0    8\n",
       "  pae           0       0     644    2498       0    4117    0    0    0    0\n",
       "         rat\n",
       "group     RH14 RH16\n",
       "  control    9    0\n",
       "  pae        0    0\n"
      ]
     },
     "metadata": {},
     "output_type": "display_data"
    }
   ],
   "source": [
    "xtabs(~group+rat+area,data=data)"
   ]
  },
  {
   "cell_type": "code",
   "execution_count": 130,
   "metadata": {},
   "outputs": [
    {
     "data": {
      "text/plain": [
       ", , area = ca1\n",
       "\n",
       "         rat\n",
       "group     LEM3116 LEM3120 LEM3124 LEM3206 LEM3216 LEM3246 LS17 LS19 LS23 RH13\n",
       "  control     253     152       0       0    1089       0    0    0   62   74\n",
       "  pae           0       0    1502       0       0       0  336 1297    0    0\n",
       "         rat\n",
       "group     RH14 RH16\n",
       "  control   38    0\n",
       "  pae        0  438\n",
       "\n",
       ", , area = ca3\n",
       "\n",
       "         rat\n",
       "group     LEM3116 LEM3120 LEM3124 LEM3206 LEM3216 LEM3246 LS17 LS19 LS23 RH13\n",
       "  control     953     304       0       0    1241       0    0    0    0  180\n",
       "  pae           0       0    1472    6240       0    2085    0    0    0    0\n",
       "         rat\n",
       "group     RH14 RH16\n",
       "  control   29    0\n",
       "  pae        0    0\n"
      ]
     },
     "metadata": {},
     "output_type": "display_data"
    }
   ],
   "source": [
    "df <- read.csv('D:/ryanh/github/harvey_et_al_2020/Rdata_pae_track_cylinder_all_cells.csv')\n",
    "# # print(str(df))\n",
    "xtabs(~group+rat+area,data=df)\n",
    "# str_split(df$session, \"_\")[1]"
   ]
  },
  {
   "cell_type": "code",
   "execution_count": 140,
   "metadata": {},
   "outputs": [
    {
     "data": {
      "text/html": [
       "<ol class=list-inline>\n",
       "\t<li>LEM3124_S20190307132509.mat</li>\n",
       "\t<li>LEM3124_S20190307163732.mat</li>\n",
       "\t<li>LEM3124_S20190309145324.mat</li>\n",
       "\t<li>LEM3124_S20190311161641.mat</li>\n",
       "\t<li>LEM3124_S20190315160017.mat</li>\n",
       "\t<li>LEM3124_S20190319154019.mat</li>\n",
       "\t<li>LEM3124_S20190322123145.mat</li>\n",
       "\t<li>LEM3124_S20190325164111.mat</li>\n",
       "\t<li>LEM3124_S20190326160632.mat</li>\n",
       "\t<li>LEM3124_S20190327204851.mat</li>\n",
       "\t<li>LEM3124_S20190328174647.mat</li>\n",
       "\t<li>LEM3124_S20190329151248.mat</li>\n",
       "\t<li>LEM3124_S20190331172013.mat</li>\n",
       "\t<li>LEM3124_S20190401125222.mat</li>\n",
       "\t<li>LEM3124_S20190402101910.mat</li>\n",
       "</ol>\n",
       "\n",
       "<details>\n",
       "\t<summary style=display:list-item;cursor:pointer>\n",
       "\t\t<strong>Levels</strong>:\n",
       "\t</summary>\n",
       "\t<ol class=list-inline>\n",
       "\t\t<li>'LEM3116_S20180715121821.mat'</li>\n",
       "\t\t<li>'LEM3116_S20180715160836.mat'</li>\n",
       "\t\t<li>'LEM3116_S20180716115155.mat'</li>\n",
       "\t\t<li>'LEM3116_S20180716174306.mat'</li>\n",
       "\t\t<li>'LEM3116_S20180717110938.mat'</li>\n",
       "\t\t<li>'LEM3116_S20180717203042.mat'</li>\n",
       "\t\t<li>'LEM3116_S20180718160658.mat'</li>\n",
       "\t\t<li>'LEM3116_S20180718184628.mat'</li>\n",
       "\t\t<li>'LEM3116_S20180719120803.mat'</li>\n",
       "\t\t<li>'LEM3116_S20180719173052.mat'</li>\n",
       "\t\t<li>'LEM3116_S20180720112057.mat'</li>\n",
       "\t\t<li>'LEM3116_S20180724114005.mat'</li>\n",
       "\t\t<li>'LEM3116_S20180727123953.mat'</li>\n",
       "\t\t<li>'LEM3116_S20180728123155.mat'</li>\n",
       "\t\t<li>'LEM3116_S20180728165712.mat'</li>\n",
       "\t\t<li>'LEM3116_S20180731114926.mat'</li>\n",
       "\t\t<li>'LEM3116_S20180802100324.mat'</li>\n",
       "\t\t<li>'LEM3116_S20180803103321.mat'</li>\n",
       "\t\t<li>'LEM3116_S20180806104145.mat'</li>\n",
       "\t\t<li>'LEM3116_S20180807105247.mat'</li>\n",
       "\t\t<li>'LEM3116_S20180808160117.mat'</li>\n",
       "\t\t<li>'LEM3116_S20180809122404.mat'</li>\n",
       "\t\t<li>'LEM3116_S20180810110603.mat'</li>\n",
       "\t\t<li>'LEM3116_S20180812141038.mat'</li>\n",
       "\t\t<li>'LEM3116_S20180813102918.mat'</li>\n",
       "\t\t<li>'LEM3116_S20180814141527.mat'</li>\n",
       "\t\t<li>'LEM3116_S20180815132530.mat'</li>\n",
       "\t\t<li>'LEM3116_S20180817153256.mat'</li>\n",
       "\t\t<li>'LEM3116_S20180819114815.mat'</li>\n",
       "\t\t<li>'LEM3116_S20180820160259.mat'</li>\n",
       "\t\t<li>'LEM3120_S20180924174015.mat'</li>\n",
       "\t\t<li>'LEM3120_S20181001120306.mat'</li>\n",
       "\t\t<li>'LEM3120_S20181007151036.mat'</li>\n",
       "\t\t<li>'LEM3120_S20181008130218.mat'</li>\n",
       "\t\t<li>'LEM3120_S20181011123942.mat'</li>\n",
       "\t\t<li>'LEM3120_S20181019161212.mat'</li>\n",
       "\t\t<li>'LEM3120_S20181025160915.mat'</li>\n",
       "\t\t<li>'LEM3120_S20181108144159.mat'</li>\n",
       "\t\t<li>'LEM3120_S20181109141806.mat'</li>\n",
       "\t\t<li>'LEM3120_S20181111142629.mat'</li>\n",
       "\t\t<li>'LEM3120_S20181111162427.mat'</li>\n",
       "\t\t<li>'LEM3120_S20181117145341.mat'</li>\n",
       "\t\t<li>'LEM3120_S20181119175240.mat'</li>\n",
       "\t\t<li>'LEM3120_S20181120141551.mat'</li>\n",
       "\t\t<li>'LEM3124_S20190224154619.mat'</li>\n",
       "\t\t<li>'LEM3124_S20190226101957.mat'</li>\n",
       "\t\t<li>'LEM3124_S20190228180140.mat'</li>\n",
       "\t\t<li>'LEM3124_S20190301133246.mat'</li>\n",
       "\t\t<li>'LEM3124_S20190302163218.mat'</li>\n",
       "\t\t<li>'LEM3124_S20190305105641.mat'</li>\n",
       "\t\t<li>'LEM3124_S20190305161825.mat'</li>\n",
       "\t\t<li>'LEM3124_S20190306133401.mat'</li>\n",
       "\t\t<li>'LEM3124_S20190307132509.mat'</li>\n",
       "\t\t<li>'LEM3124_S20190307163732.mat'</li>\n",
       "\t\t<li>'LEM3124_S20190309145324.mat'</li>\n",
       "\t\t<li>'LEM3124_S20190311161641.mat'</li>\n",
       "\t\t<li>'LEM3124_S20190315160017.mat'</li>\n",
       "\t\t<li>'LEM3124_S20190319154019.mat'</li>\n",
       "\t\t<li>'LEM3124_S20190322123145.mat'</li>\n",
       "\t\t<li>'LEM3124_S20190325164111.mat'</li>\n",
       "\t\t<li>'LEM3124_S20190326160632.mat'</li>\n",
       "\t\t<li>'LEM3124_S20190327204851.mat'</li>\n",
       "\t\t<li>'LEM3124_S20190328174647.mat'</li>\n",
       "\t\t<li>'LEM3124_S20190329151248.mat'</li>\n",
       "\t\t<li>'LEM3124_S20190331172013.mat'</li>\n",
       "\t\t<li>'LEM3124_S20190401125222.mat'</li>\n",
       "\t\t<li>'LEM3124_S20190402101910.mat'</li>\n",
       "\t\t<li>'LEM3206_S20190624170501.mat'</li>\n",
       "\t\t<li>'LEM3206_S20190626105616.mat'</li>\n",
       "\t\t<li>'LEM3206_S20190628160304.mat'</li>\n",
       "\t\t<li>'LEM3206_S20190628174755.mat'</li>\n",
       "\t\t<li>'LEM3206_S20190702114353.mat'</li>\n",
       "\t\t<li>'LEM3206_S20190703122435.mat'</li>\n",
       "\t\t<li>'LEM3206_S20190703181629.mat'</li>\n",
       "\t\t<li>'LEM3206_S20190706122527.mat'</li>\n",
       "\t\t<li>'LEM3206_S20190709104450.mat'</li>\n",
       "\t\t<li>'LEM3206_S20190710134828.mat'</li>\n",
       "\t\t<li>'LEM3206_S20190713163501.mat'</li>\n",
       "\t\t<li>'LEM3206_S20190714141426.mat'</li>\n",
       "\t\t<li>'LEM3206_S20190715171306.mat'</li>\n",
       "\t\t<li>'LEM3206_S20190716135207.mat'</li>\n",
       "\t\t<li>'LEM3206_S20190717140525.mat'</li>\n",
       "\t\t<li>'LEM3206_S20190718143924.mat'</li>\n",
       "\t\t<li>'LEM3206_S20190718172605.mat'</li>\n",
       "\t\t<li>'LEM3206_S20190719140644.mat'</li>\n",
       "\t\t<li>'LEM3206_S20190720132154.mat'</li>\n",
       "\t\t<li>'LEM3206_S20190722211425.mat'</li>\n",
       "\t\t<li>'LEM3206_S20190724151552.mat'</li>\n",
       "\t\t<li>'LEM3206_S20190725155548.mat'</li>\n",
       "\t\t<li>'LEM3206_S20190730190607.mat'</li>\n",
       "\t\t<li>'LEM3206_S20190801131848.mat'</li>\n",
       "\t\t<li>'LEM3206_S20190807173632.mat'</li>\n",
       "\t\t<li>'LEM3206_S20190810190012.mat'</li>\n",
       "\t\t<li>'LEM3206_S20190812163328.mat'</li>\n",
       "\t\t<li>'LEM3206_S20190813165732.mat'</li>\n",
       "\t\t<li>'LEM3206_S20190815114446.mat'</li>\n",
       "\t\t<li>'LEM3206_S20190826150010.mat'</li>\n",
       "\t\t<li>'LEM3206_S20190827132138.mat'</li>\n",
       "\t\t<li>'LEM3206_S20190830171312.mat'</li>\n",
       "\t\t<li>'LEM3206_S20190831170753.mat'</li>\n",
       "\t\t<li>'LEM3206_S20190901130307.mat'</li>\n",
       "\t\t<li>'LEM3206_S20190903134605.mat'</li>\n",
       "\t\t<li>'LEM3206_S20190906150456.mat'</li>\n",
       "\t\t<li>'LEM3216_S20190709170605.mat'</li>\n",
       "\t\t<li>'LEM3216_S20190710184004.mat'</li>\n",
       "\t\t<li>'LEM3216_S20190712114116.mat'</li>\n",
       "\t\t<li>'LEM3216_S20190717174058.mat'</li>\n",
       "\t\t<li>'LEM3216_S20190718101925.mat'</li>\n",
       "\t\t<li>'LEM3216_S20190720145517.mat'</li>\n",
       "\t\t<li>'LEM3216_S20190723165548.mat'</li>\n",
       "\t\t<li>'LEM3216_S20190726184722.mat'</li>\n",
       "\t\t<li>'LEM3216_S20190731112719.mat'</li>\n",
       "\t\t<li>'LEM3216_S20190801165651.mat'</li>\n",
       "\t\t<li>'LEM3216_S20190802094401.mat'</li>\n",
       "\t\t<li>'LEM3216_S20190805141510.mat'</li>\n",
       "\t\t<li>'LEM3216_S20190807105102.mat'</li>\n",
       "\t\t<li>'LEM3216_S20190807145112.mat'</li>\n",
       "\t\t<li>'LEM3216_S20190808101926.mat'</li>\n",
       "\t\t<li>'LEM3216_S20190808141648.mat'</li>\n",
       "\t\t<li>'LEM3216_S20190809140023.mat'</li>\n",
       "\t\t<li>'LEM3216_S20190810172326.mat'</li>\n",
       "\t\t<li>'LEM3216_S20190812175606.mat'</li>\n",
       "\t\t<li>'LEM3216_S20190813135257.mat'</li>\n",
       "\t\t<li>'LEM3216_S20190814123043.mat'</li>\n",
       "\t\t<li>'LEM3216_S20190814172812.mat'</li>\n",
       "\t\t<li>'LEM3216_S20190815182509.mat'</li>\n",
       "\t\t<li>'LEM3216_S20190819122340.mat'</li>\n",
       "\t\t<li>'LEM3216_S20190821125550.mat'</li>\n",
       "\t\t<li>'LEM3216_S20190822113344.mat'</li>\n",
       "\t\t<li>'LEM3216_S20190823135619.mat'</li>\n",
       "\t\t<li>'LEM3216_S20190911132239.mat'</li>\n",
       "\t\t<li>'LEM3246_S20190629164240.mat'</li>\n",
       "\t\t<li>'LEM3246_S20190701153855.mat'</li>\n",
       "\t\t<li>'LEM3246_S20190702103544.mat'</li>\n",
       "\t\t<li>'LEM3246_S20190703165826.mat'</li>\n",
       "\t\t<li>'LEM3246_S20190706150556.mat'</li>\n",
       "\t\t<li>'LEM3246_S20190708191502.mat'</li>\n",
       "\t\t<li>'LEM3246_S20190709143146.mat'</li>\n",
       "\t\t<li>'LEM3246_S20190710150227.mat'</li>\n",
       "\t\t<li>'LEM3246_S20190712170007.mat'</li>\n",
       "\t\t<li>'LEM3246_S20190714113704.mat'</li>\n",
       "\t\t<li>'LEM3246_S20190715190235.mat'</li>\n",
       "\t\t<li>'LEM3246_S20190717115825.mat'</li>\n",
       "\t\t<li>'LEM3246_S20190719175852.mat'</li>\n",
       "\t\t<li>'LEM3246_S20190720111537.mat'</li>\n",
       "\t\t<li>'LEM3246_S20190723113815.mat'</li>\n",
       "\t\t<li>'LEM3246_S20190725114415.mat'</li>\n",
       "\t\t<li>'LEM3246_S20190729172642.mat'</li>\n",
       "\t\t<li>'LEM3246_S20190802143700.mat'</li>\n",
       "\t\t<li>'LEM3246_S20190807163403.mat'</li>\n",
       "\t\t<li>'LEM3246_S20190808162933.mat'</li>\n",
       "\t\t<li>'LEM3246_S20190906175934.mat'</li>\n",
       "\t\t<li>'LEM3246_S20190915154448.mat'</li>\n",
       "\t\t<li>'LS17_S20170507142720.mat'</li>\n",
       "\t\t<li>'LS17_S20170507171105.mat'</li>\n",
       "\t\t<li>'LS17_S20170508214712.mat'</li>\n",
       "\t\t<li>'LS17_S20170601174218.mat'</li>\n",
       "\t\t<li>'LS17_S20170606230236.mat'</li>\n",
       "\t\t<li>'LS17_S20170608174555.mat'</li>\n",
       "\t\t<li>'LS17_S20170622150614.mat'</li>\n",
       "\t\t<li>'LS17_S20170712150744.mat'</li>\n",
       "\t\t<li>'LS19_S20170507185907.mat'</li>\n",
       "\t\t<li>'LS19_S20170508130713.mat'</li>\n",
       "\t\t<li>'LS19_S20170508205640.mat'</li>\n",
       "\t\t<li>'LS19_S20170515113552.mat'</li>\n",
       "\t\t<li>'LS19_S20170515215901.mat'</li>\n",
       "\t\t<li>'LS19_S20170516151632.mat'</li>\n",
       "\t\t<li>'LS19_S20170522113749.mat'</li>\n",
       "\t\t<li>'LS19_S20170523165204.mat'</li>\n",
       "\t\t<li>'LS19_S20170523215606.mat'</li>\n",
       "\t\t<li>'LS19_S20170524144650.mat'</li>\n",
       "\t\t<li>'LS19_S20170530134025.mat'</li>\n",
       "\t\t<li>'LS19_S20170601161338.mat'</li>\n",
       "\t\t<li>'LS19_S20170605232604.mat'</li>\n",
       "\t\t<li>'LS19_S20170606111728.mat'</li>\n",
       "\t\t<li>'LS19_S20170608170123.mat'</li>\n",
       "\t\t<li>'LS19_S20170622141707.mat'</li>\n",
       "\t\t<li>'LS23_S20170428111117.mat'</li>\n",
       "\t\t<li>'LS23_S20170502130551.mat'</li>\n",
       "\t\t<li>'LS23_S20170508153858.mat'</li>\n",
       "\t\t<li>'LS23_S20170522143934.mat'</li>\n",
       "\t\t<li>'RH13_S20160810100000.mat'</li>\n",
       "\t\t<li>'RH13_S20160925121510.mat'</li>\n",
       "\t\t<li>'RH13_S20160928161315.mat'</li>\n",
       "\t\t<li>'RH13_S20161007094709.mat'</li>\n",
       "\t\t<li>'RH13_S20161013191501.mat'</li>\n",
       "\t\t<li>'RH13_S20161025144837.mat'</li>\n",
       "\t\t<li>'RH14_S20160729110000.mat'</li>\n",
       "\t\t<li>'RH14_S20160807140000.mat'</li>\n",
       "\t\t<li>'RH16_S20160926105050.mat'</li>\n",
       "\t\t<li>'RH16_S20161003135542.mat'</li>\n",
       "\t\t<li>'RH16_S20161004161817.mat'</li>\n",
       "\t\t<li>'RH16_S20161014114355.mat'</li>\n",
       "\t\t<li>'RH16_S20161016140135.mat'</li>\n",
       "\t\t<li>'RH16_S20161017151810.mat'</li>\n",
       "\t\t<li>'RH16_S20161021165052.mat'</li>\n",
       "\t\t<li>'RH16_S20161021170643.mat'</li>\n",
       "\t\t<li>'RH16_S20161025155106.mat'</li>\n",
       "\t\t<li>'RH16_S20161025160727.mat'</li>\n",
       "\t\t<li>'RH16_S20161030143701.mat'</li>\n",
       "\t\t<li>'RH16_S20161030145324.mat'</li>\n",
       "\t\t<li>'RH16_S20161126145021.mat'</li>\n",
       "\t\t<li>'RH16_S20161126150318.mat'</li>\n",
       "\t\t<li>'RH16_S20161207130000.mat'</li>\n",
       "\t</ol>\n",
       "</details>"
      ],
      "text/latex": [
       "\\begin{enumerate*}\n",
       "\\item LEM3124\\_S20190307132509.mat\n",
       "\\item LEM3124\\_S20190307163732.mat\n",
       "\\item LEM3124\\_S20190309145324.mat\n",
       "\\item LEM3124\\_S20190311161641.mat\n",
       "\\item LEM3124\\_S20190315160017.mat\n",
       "\\item LEM3124\\_S20190319154019.mat\n",
       "\\item LEM3124\\_S20190322123145.mat\n",
       "\\item LEM3124\\_S20190325164111.mat\n",
       "\\item LEM3124\\_S20190326160632.mat\n",
       "\\item LEM3124\\_S20190327204851.mat\n",
       "\\item LEM3124\\_S20190328174647.mat\n",
       "\\item LEM3124\\_S20190329151248.mat\n",
       "\\item LEM3124\\_S20190331172013.mat\n",
       "\\item LEM3124\\_S20190401125222.mat\n",
       "\\item LEM3124\\_S20190402101910.mat\n",
       "\\end{enumerate*}\n",
       "\n",
       "\\emph{Levels}: \\begin{enumerate*}\n",
       "\\item 'LEM3116\\_S20180715121821.mat'\n",
       "\\item 'LEM3116\\_S20180715160836.mat'\n",
       "\\item 'LEM3116\\_S20180716115155.mat'\n",
       "\\item 'LEM3116\\_S20180716174306.mat'\n",
       "\\item 'LEM3116\\_S20180717110938.mat'\n",
       "\\item 'LEM3116\\_S20180717203042.mat'\n",
       "\\item 'LEM3116\\_S20180718160658.mat'\n",
       "\\item 'LEM3116\\_S20180718184628.mat'\n",
       "\\item 'LEM3116\\_S20180719120803.mat'\n",
       "\\item 'LEM3116\\_S20180719173052.mat'\n",
       "\\item 'LEM3116\\_S20180720112057.mat'\n",
       "\\item 'LEM3116\\_S20180724114005.mat'\n",
       "\\item 'LEM3116\\_S20180727123953.mat'\n",
       "\\item 'LEM3116\\_S20180728123155.mat'\n",
       "\\item 'LEM3116\\_S20180728165712.mat'\n",
       "\\item 'LEM3116\\_S20180731114926.mat'\n",
       "\\item 'LEM3116\\_S20180802100324.mat'\n",
       "\\item 'LEM3116\\_S20180803103321.mat'\n",
       "\\item 'LEM3116\\_S20180806104145.mat'\n",
       "\\item 'LEM3116\\_S20180807105247.mat'\n",
       "\\item 'LEM3116\\_S20180808160117.mat'\n",
       "\\item 'LEM3116\\_S20180809122404.mat'\n",
       "\\item 'LEM3116\\_S20180810110603.mat'\n",
       "\\item 'LEM3116\\_S20180812141038.mat'\n",
       "\\item 'LEM3116\\_S20180813102918.mat'\n",
       "\\item 'LEM3116\\_S20180814141527.mat'\n",
       "\\item 'LEM3116\\_S20180815132530.mat'\n",
       "\\item 'LEM3116\\_S20180817153256.mat'\n",
       "\\item 'LEM3116\\_S20180819114815.mat'\n",
       "\\item 'LEM3116\\_S20180820160259.mat'\n",
       "\\item 'LEM3120\\_S20180924174015.mat'\n",
       "\\item 'LEM3120\\_S20181001120306.mat'\n",
       "\\item 'LEM3120\\_S20181007151036.mat'\n",
       "\\item 'LEM3120\\_S20181008130218.mat'\n",
       "\\item 'LEM3120\\_S20181011123942.mat'\n",
       "\\item 'LEM3120\\_S20181019161212.mat'\n",
       "\\item 'LEM3120\\_S20181025160915.mat'\n",
       "\\item 'LEM3120\\_S20181108144159.mat'\n",
       "\\item 'LEM3120\\_S20181109141806.mat'\n",
       "\\item 'LEM3120\\_S20181111142629.mat'\n",
       "\\item 'LEM3120\\_S20181111162427.mat'\n",
       "\\item 'LEM3120\\_S20181117145341.mat'\n",
       "\\item 'LEM3120\\_S20181119175240.mat'\n",
       "\\item 'LEM3120\\_S20181120141551.mat'\n",
       "\\item 'LEM3124\\_S20190224154619.mat'\n",
       "\\item 'LEM3124\\_S20190226101957.mat'\n",
       "\\item 'LEM3124\\_S20190228180140.mat'\n",
       "\\item 'LEM3124\\_S20190301133246.mat'\n",
       "\\item 'LEM3124\\_S20190302163218.mat'\n",
       "\\item 'LEM3124\\_S20190305105641.mat'\n",
       "\\item 'LEM3124\\_S20190305161825.mat'\n",
       "\\item 'LEM3124\\_S20190306133401.mat'\n",
       "\\item 'LEM3124\\_S20190307132509.mat'\n",
       "\\item 'LEM3124\\_S20190307163732.mat'\n",
       "\\item 'LEM3124\\_S20190309145324.mat'\n",
       "\\item 'LEM3124\\_S20190311161641.mat'\n",
       "\\item 'LEM3124\\_S20190315160017.mat'\n",
       "\\item 'LEM3124\\_S20190319154019.mat'\n",
       "\\item 'LEM3124\\_S20190322123145.mat'\n",
       "\\item 'LEM3124\\_S20190325164111.mat'\n",
       "\\item 'LEM3124\\_S20190326160632.mat'\n",
       "\\item 'LEM3124\\_S20190327204851.mat'\n",
       "\\item 'LEM3124\\_S20190328174647.mat'\n",
       "\\item 'LEM3124\\_S20190329151248.mat'\n",
       "\\item 'LEM3124\\_S20190331172013.mat'\n",
       "\\item 'LEM3124\\_S20190401125222.mat'\n",
       "\\item 'LEM3124\\_S20190402101910.mat'\n",
       "\\item 'LEM3206\\_S20190624170501.mat'\n",
       "\\item 'LEM3206\\_S20190626105616.mat'\n",
       "\\item 'LEM3206\\_S20190628160304.mat'\n",
       "\\item 'LEM3206\\_S20190628174755.mat'\n",
       "\\item 'LEM3206\\_S20190702114353.mat'\n",
       "\\item 'LEM3206\\_S20190703122435.mat'\n",
       "\\item 'LEM3206\\_S20190703181629.mat'\n",
       "\\item 'LEM3206\\_S20190706122527.mat'\n",
       "\\item 'LEM3206\\_S20190709104450.mat'\n",
       "\\item 'LEM3206\\_S20190710134828.mat'\n",
       "\\item 'LEM3206\\_S20190713163501.mat'\n",
       "\\item 'LEM3206\\_S20190714141426.mat'\n",
       "\\item 'LEM3206\\_S20190715171306.mat'\n",
       "\\item 'LEM3206\\_S20190716135207.mat'\n",
       "\\item 'LEM3206\\_S20190717140525.mat'\n",
       "\\item 'LEM3206\\_S20190718143924.mat'\n",
       "\\item 'LEM3206\\_S20190718172605.mat'\n",
       "\\item 'LEM3206\\_S20190719140644.mat'\n",
       "\\item 'LEM3206\\_S20190720132154.mat'\n",
       "\\item 'LEM3206\\_S20190722211425.mat'\n",
       "\\item 'LEM3206\\_S20190724151552.mat'\n",
       "\\item 'LEM3206\\_S20190725155548.mat'\n",
       "\\item 'LEM3206\\_S20190730190607.mat'\n",
       "\\item 'LEM3206\\_S20190801131848.mat'\n",
       "\\item 'LEM3206\\_S20190807173632.mat'\n",
       "\\item 'LEM3206\\_S20190810190012.mat'\n",
       "\\item 'LEM3206\\_S20190812163328.mat'\n",
       "\\item 'LEM3206\\_S20190813165732.mat'\n",
       "\\item 'LEM3206\\_S20190815114446.mat'\n",
       "\\item 'LEM3206\\_S20190826150010.mat'\n",
       "\\item 'LEM3206\\_S20190827132138.mat'\n",
       "\\item 'LEM3206\\_S20190830171312.mat'\n",
       "\\item 'LEM3206\\_S20190831170753.mat'\n",
       "\\item 'LEM3206\\_S20190901130307.mat'\n",
       "\\item 'LEM3206\\_S20190903134605.mat'\n",
       "\\item 'LEM3206\\_S20190906150456.mat'\n",
       "\\item 'LEM3216\\_S20190709170605.mat'\n",
       "\\item 'LEM3216\\_S20190710184004.mat'\n",
       "\\item 'LEM3216\\_S20190712114116.mat'\n",
       "\\item 'LEM3216\\_S20190717174058.mat'\n",
       "\\item 'LEM3216\\_S20190718101925.mat'\n",
       "\\item 'LEM3216\\_S20190720145517.mat'\n",
       "\\item 'LEM3216\\_S20190723165548.mat'\n",
       "\\item 'LEM3216\\_S20190726184722.mat'\n",
       "\\item 'LEM3216\\_S20190731112719.mat'\n",
       "\\item 'LEM3216\\_S20190801165651.mat'\n",
       "\\item 'LEM3216\\_S20190802094401.mat'\n",
       "\\item 'LEM3216\\_S20190805141510.mat'\n",
       "\\item 'LEM3216\\_S20190807105102.mat'\n",
       "\\item 'LEM3216\\_S20190807145112.mat'\n",
       "\\item 'LEM3216\\_S20190808101926.mat'\n",
       "\\item 'LEM3216\\_S20190808141648.mat'\n",
       "\\item 'LEM3216\\_S20190809140023.mat'\n",
       "\\item 'LEM3216\\_S20190810172326.mat'\n",
       "\\item 'LEM3216\\_S20190812175606.mat'\n",
       "\\item 'LEM3216\\_S20190813135257.mat'\n",
       "\\item 'LEM3216\\_S20190814123043.mat'\n",
       "\\item 'LEM3216\\_S20190814172812.mat'\n",
       "\\item 'LEM3216\\_S20190815182509.mat'\n",
       "\\item 'LEM3216\\_S20190819122340.mat'\n",
       "\\item 'LEM3216\\_S20190821125550.mat'\n",
       "\\item 'LEM3216\\_S20190822113344.mat'\n",
       "\\item 'LEM3216\\_S20190823135619.mat'\n",
       "\\item 'LEM3216\\_S20190911132239.mat'\n",
       "\\item 'LEM3246\\_S20190629164240.mat'\n",
       "\\item 'LEM3246\\_S20190701153855.mat'\n",
       "\\item 'LEM3246\\_S20190702103544.mat'\n",
       "\\item 'LEM3246\\_S20190703165826.mat'\n",
       "\\item 'LEM3246\\_S20190706150556.mat'\n",
       "\\item 'LEM3246\\_S20190708191502.mat'\n",
       "\\item 'LEM3246\\_S20190709143146.mat'\n",
       "\\item 'LEM3246\\_S20190710150227.mat'\n",
       "\\item 'LEM3246\\_S20190712170007.mat'\n",
       "\\item 'LEM3246\\_S20190714113704.mat'\n",
       "\\item 'LEM3246\\_S20190715190235.mat'\n",
       "\\item 'LEM3246\\_S20190717115825.mat'\n",
       "\\item 'LEM3246\\_S20190719175852.mat'\n",
       "\\item 'LEM3246\\_S20190720111537.mat'\n",
       "\\item 'LEM3246\\_S20190723113815.mat'\n",
       "\\item 'LEM3246\\_S20190725114415.mat'\n",
       "\\item 'LEM3246\\_S20190729172642.mat'\n",
       "\\item 'LEM3246\\_S20190802143700.mat'\n",
       "\\item 'LEM3246\\_S20190807163403.mat'\n",
       "\\item 'LEM3246\\_S20190808162933.mat'\n",
       "\\item 'LEM3246\\_S20190906175934.mat'\n",
       "\\item 'LEM3246\\_S20190915154448.mat'\n",
       "\\item 'LS17\\_S20170507142720.mat'\n",
       "\\item 'LS17\\_S20170507171105.mat'\n",
       "\\item 'LS17\\_S20170508214712.mat'\n",
       "\\item 'LS17\\_S20170601174218.mat'\n",
       "\\item 'LS17\\_S20170606230236.mat'\n",
       "\\item 'LS17\\_S20170608174555.mat'\n",
       "\\item 'LS17\\_S20170622150614.mat'\n",
       "\\item 'LS17\\_S20170712150744.mat'\n",
       "\\item 'LS19\\_S20170507185907.mat'\n",
       "\\item 'LS19\\_S20170508130713.mat'\n",
       "\\item 'LS19\\_S20170508205640.mat'\n",
       "\\item 'LS19\\_S20170515113552.mat'\n",
       "\\item 'LS19\\_S20170515215901.mat'\n",
       "\\item 'LS19\\_S20170516151632.mat'\n",
       "\\item 'LS19\\_S20170522113749.mat'\n",
       "\\item 'LS19\\_S20170523165204.mat'\n",
       "\\item 'LS19\\_S20170523215606.mat'\n",
       "\\item 'LS19\\_S20170524144650.mat'\n",
       "\\item 'LS19\\_S20170530134025.mat'\n",
       "\\item 'LS19\\_S20170601161338.mat'\n",
       "\\item 'LS19\\_S20170605232604.mat'\n",
       "\\item 'LS19\\_S20170606111728.mat'\n",
       "\\item 'LS19\\_S20170608170123.mat'\n",
       "\\item 'LS19\\_S20170622141707.mat'\n",
       "\\item 'LS23\\_S20170428111117.mat'\n",
       "\\item 'LS23\\_S20170502130551.mat'\n",
       "\\item 'LS23\\_S20170508153858.mat'\n",
       "\\item 'LS23\\_S20170522143934.mat'\n",
       "\\item 'RH13\\_S20160810100000.mat'\n",
       "\\item 'RH13\\_S20160925121510.mat'\n",
       "\\item 'RH13\\_S20160928161315.mat'\n",
       "\\item 'RH13\\_S20161007094709.mat'\n",
       "\\item 'RH13\\_S20161013191501.mat'\n",
       "\\item 'RH13\\_S20161025144837.mat'\n",
       "\\item 'RH14\\_S20160729110000.mat'\n",
       "\\item 'RH14\\_S20160807140000.mat'\n",
       "\\item 'RH16\\_S20160926105050.mat'\n",
       "\\item 'RH16\\_S20161003135542.mat'\n",
       "\\item 'RH16\\_S20161004161817.mat'\n",
       "\\item 'RH16\\_S20161014114355.mat'\n",
       "\\item 'RH16\\_S20161016140135.mat'\n",
       "\\item 'RH16\\_S20161017151810.mat'\n",
       "\\item 'RH16\\_S20161021165052.mat'\n",
       "\\item 'RH16\\_S20161021170643.mat'\n",
       "\\item 'RH16\\_S20161025155106.mat'\n",
       "\\item 'RH16\\_S20161025160727.mat'\n",
       "\\item 'RH16\\_S20161030143701.mat'\n",
       "\\item 'RH16\\_S20161030145324.mat'\n",
       "\\item 'RH16\\_S20161126145021.mat'\n",
       "\\item 'RH16\\_S20161126150318.mat'\n",
       "\\item 'RH16\\_S20161207130000.mat'\n",
       "\\end{enumerate*}\n"
      ],
      "text/markdown": [
       "1. LEM3124_S20190307132509.mat\n",
       "2. LEM3124_S20190307163732.mat\n",
       "3. LEM3124_S20190309145324.mat\n",
       "4. LEM3124_S20190311161641.mat\n",
       "5. LEM3124_S20190315160017.mat\n",
       "6. LEM3124_S20190319154019.mat\n",
       "7. LEM3124_S20190322123145.mat\n",
       "8. LEM3124_S20190325164111.mat\n",
       "9. LEM3124_S20190326160632.mat\n",
       "10. LEM3124_S20190327204851.mat\n",
       "11. LEM3124_S20190328174647.mat\n",
       "12. LEM3124_S20190329151248.mat\n",
       "13. LEM3124_S20190331172013.mat\n",
       "14. LEM3124_S20190401125222.mat\n",
       "15. LEM3124_S20190402101910.mat\n",
       "\n",
       "\n",
       "\n",
       "**Levels**: 1. 'LEM3116_S20180715121821.mat'\n",
       "2. 'LEM3116_S20180715160836.mat'\n",
       "3. 'LEM3116_S20180716115155.mat'\n",
       "4. 'LEM3116_S20180716174306.mat'\n",
       "5. 'LEM3116_S20180717110938.mat'\n",
       "6. 'LEM3116_S20180717203042.mat'\n",
       "7. 'LEM3116_S20180718160658.mat'\n",
       "8. 'LEM3116_S20180718184628.mat'\n",
       "9. 'LEM3116_S20180719120803.mat'\n",
       "10. 'LEM3116_S20180719173052.mat'\n",
       "11. 'LEM3116_S20180720112057.mat'\n",
       "12. 'LEM3116_S20180724114005.mat'\n",
       "13. 'LEM3116_S20180727123953.mat'\n",
       "14. 'LEM3116_S20180728123155.mat'\n",
       "15. 'LEM3116_S20180728165712.mat'\n",
       "16. 'LEM3116_S20180731114926.mat'\n",
       "17. 'LEM3116_S20180802100324.mat'\n",
       "18. 'LEM3116_S20180803103321.mat'\n",
       "19. 'LEM3116_S20180806104145.mat'\n",
       "20. 'LEM3116_S20180807105247.mat'\n",
       "21. 'LEM3116_S20180808160117.mat'\n",
       "22. 'LEM3116_S20180809122404.mat'\n",
       "23. 'LEM3116_S20180810110603.mat'\n",
       "24. 'LEM3116_S20180812141038.mat'\n",
       "25. 'LEM3116_S20180813102918.mat'\n",
       "26. 'LEM3116_S20180814141527.mat'\n",
       "27. 'LEM3116_S20180815132530.mat'\n",
       "28. 'LEM3116_S20180817153256.mat'\n",
       "29. 'LEM3116_S20180819114815.mat'\n",
       "30. 'LEM3116_S20180820160259.mat'\n",
       "31. 'LEM3120_S20180924174015.mat'\n",
       "32. 'LEM3120_S20181001120306.mat'\n",
       "33. 'LEM3120_S20181007151036.mat'\n",
       "34. 'LEM3120_S20181008130218.mat'\n",
       "35. 'LEM3120_S20181011123942.mat'\n",
       "36. 'LEM3120_S20181019161212.mat'\n",
       "37. 'LEM3120_S20181025160915.mat'\n",
       "38. 'LEM3120_S20181108144159.mat'\n",
       "39. 'LEM3120_S20181109141806.mat'\n",
       "40. 'LEM3120_S20181111142629.mat'\n",
       "41. 'LEM3120_S20181111162427.mat'\n",
       "42. 'LEM3120_S20181117145341.mat'\n",
       "43. 'LEM3120_S20181119175240.mat'\n",
       "44. 'LEM3120_S20181120141551.mat'\n",
       "45. 'LEM3124_S20190224154619.mat'\n",
       "46. 'LEM3124_S20190226101957.mat'\n",
       "47. 'LEM3124_S20190228180140.mat'\n",
       "48. 'LEM3124_S20190301133246.mat'\n",
       "49. 'LEM3124_S20190302163218.mat'\n",
       "50. 'LEM3124_S20190305105641.mat'\n",
       "51. 'LEM3124_S20190305161825.mat'\n",
       "52. 'LEM3124_S20190306133401.mat'\n",
       "53. 'LEM3124_S20190307132509.mat'\n",
       "54. 'LEM3124_S20190307163732.mat'\n",
       "55. 'LEM3124_S20190309145324.mat'\n",
       "56. 'LEM3124_S20190311161641.mat'\n",
       "57. 'LEM3124_S20190315160017.mat'\n",
       "58. 'LEM3124_S20190319154019.mat'\n",
       "59. 'LEM3124_S20190322123145.mat'\n",
       "60. 'LEM3124_S20190325164111.mat'\n",
       "61. 'LEM3124_S20190326160632.mat'\n",
       "62. 'LEM3124_S20190327204851.mat'\n",
       "63. 'LEM3124_S20190328174647.mat'\n",
       "64. 'LEM3124_S20190329151248.mat'\n",
       "65. 'LEM3124_S20190331172013.mat'\n",
       "66. 'LEM3124_S20190401125222.mat'\n",
       "67. 'LEM3124_S20190402101910.mat'\n",
       "68. 'LEM3206_S20190624170501.mat'\n",
       "69. 'LEM3206_S20190626105616.mat'\n",
       "70. 'LEM3206_S20190628160304.mat'\n",
       "71. 'LEM3206_S20190628174755.mat'\n",
       "72. 'LEM3206_S20190702114353.mat'\n",
       "73. 'LEM3206_S20190703122435.mat'\n",
       "74. 'LEM3206_S20190703181629.mat'\n",
       "75. 'LEM3206_S20190706122527.mat'\n",
       "76. 'LEM3206_S20190709104450.mat'\n",
       "77. 'LEM3206_S20190710134828.mat'\n",
       "78. 'LEM3206_S20190713163501.mat'\n",
       "79. 'LEM3206_S20190714141426.mat'\n",
       "80. 'LEM3206_S20190715171306.mat'\n",
       "81. 'LEM3206_S20190716135207.mat'\n",
       "82. 'LEM3206_S20190717140525.mat'\n",
       "83. 'LEM3206_S20190718143924.mat'\n",
       "84. 'LEM3206_S20190718172605.mat'\n",
       "85. 'LEM3206_S20190719140644.mat'\n",
       "86. 'LEM3206_S20190720132154.mat'\n",
       "87. 'LEM3206_S20190722211425.mat'\n",
       "88. 'LEM3206_S20190724151552.mat'\n",
       "89. 'LEM3206_S20190725155548.mat'\n",
       "90. 'LEM3206_S20190730190607.mat'\n",
       "91. 'LEM3206_S20190801131848.mat'\n",
       "92. 'LEM3206_S20190807173632.mat'\n",
       "93. 'LEM3206_S20190810190012.mat'\n",
       "94. 'LEM3206_S20190812163328.mat'\n",
       "95. 'LEM3206_S20190813165732.mat'\n",
       "96. 'LEM3206_S20190815114446.mat'\n",
       "97. 'LEM3206_S20190826150010.mat'\n",
       "98. 'LEM3206_S20190827132138.mat'\n",
       "99. 'LEM3206_S20190830171312.mat'\n",
       "100. 'LEM3206_S20190831170753.mat'\n",
       "101. 'LEM3206_S20190901130307.mat'\n",
       "102. 'LEM3206_S20190903134605.mat'\n",
       "103. 'LEM3206_S20190906150456.mat'\n",
       "104. 'LEM3216_S20190709170605.mat'\n",
       "105. 'LEM3216_S20190710184004.mat'\n",
       "106. 'LEM3216_S20190712114116.mat'\n",
       "107. 'LEM3216_S20190717174058.mat'\n",
       "108. 'LEM3216_S20190718101925.mat'\n",
       "109. 'LEM3216_S20190720145517.mat'\n",
       "110. 'LEM3216_S20190723165548.mat'\n",
       "111. 'LEM3216_S20190726184722.mat'\n",
       "112. 'LEM3216_S20190731112719.mat'\n",
       "113. 'LEM3216_S20190801165651.mat'\n",
       "114. 'LEM3216_S20190802094401.mat'\n",
       "115. 'LEM3216_S20190805141510.mat'\n",
       "116. 'LEM3216_S20190807105102.mat'\n",
       "117. 'LEM3216_S20190807145112.mat'\n",
       "118. 'LEM3216_S20190808101926.mat'\n",
       "119. 'LEM3216_S20190808141648.mat'\n",
       "120. 'LEM3216_S20190809140023.mat'\n",
       "121. 'LEM3216_S20190810172326.mat'\n",
       "122. 'LEM3216_S20190812175606.mat'\n",
       "123. 'LEM3216_S20190813135257.mat'\n",
       "124. 'LEM3216_S20190814123043.mat'\n",
       "125. 'LEM3216_S20190814172812.mat'\n",
       "126. 'LEM3216_S20190815182509.mat'\n",
       "127. 'LEM3216_S20190819122340.mat'\n",
       "128. 'LEM3216_S20190821125550.mat'\n",
       "129. 'LEM3216_S20190822113344.mat'\n",
       "130. 'LEM3216_S20190823135619.mat'\n",
       "131. 'LEM3216_S20190911132239.mat'\n",
       "132. 'LEM3246_S20190629164240.mat'\n",
       "133. 'LEM3246_S20190701153855.mat'\n",
       "134. 'LEM3246_S20190702103544.mat'\n",
       "135. 'LEM3246_S20190703165826.mat'\n",
       "136. 'LEM3246_S20190706150556.mat'\n",
       "137. 'LEM3246_S20190708191502.mat'\n",
       "138. 'LEM3246_S20190709143146.mat'\n",
       "139. 'LEM3246_S20190710150227.mat'\n",
       "140. 'LEM3246_S20190712170007.mat'\n",
       "141. 'LEM3246_S20190714113704.mat'\n",
       "142. 'LEM3246_S20190715190235.mat'\n",
       "143. 'LEM3246_S20190717115825.mat'\n",
       "144. 'LEM3246_S20190719175852.mat'\n",
       "145. 'LEM3246_S20190720111537.mat'\n",
       "146. 'LEM3246_S20190723113815.mat'\n",
       "147. 'LEM3246_S20190725114415.mat'\n",
       "148. 'LEM3246_S20190729172642.mat'\n",
       "149. 'LEM3246_S20190802143700.mat'\n",
       "150. 'LEM3246_S20190807163403.mat'\n",
       "151. 'LEM3246_S20190808162933.mat'\n",
       "152. 'LEM3246_S20190906175934.mat'\n",
       "153. 'LEM3246_S20190915154448.mat'\n",
       "154. 'LS17_S20170507142720.mat'\n",
       "155. 'LS17_S20170507171105.mat'\n",
       "156. 'LS17_S20170508214712.mat'\n",
       "157. 'LS17_S20170601174218.mat'\n",
       "158. 'LS17_S20170606230236.mat'\n",
       "159. 'LS17_S20170608174555.mat'\n",
       "160. 'LS17_S20170622150614.mat'\n",
       "161. 'LS17_S20170712150744.mat'\n",
       "162. 'LS19_S20170507185907.mat'\n",
       "163. 'LS19_S20170508130713.mat'\n",
       "164. 'LS19_S20170508205640.mat'\n",
       "165. 'LS19_S20170515113552.mat'\n",
       "166. 'LS19_S20170515215901.mat'\n",
       "167. 'LS19_S20170516151632.mat'\n",
       "168. 'LS19_S20170522113749.mat'\n",
       "169. 'LS19_S20170523165204.mat'\n",
       "170. 'LS19_S20170523215606.mat'\n",
       "171. 'LS19_S20170524144650.mat'\n",
       "172. 'LS19_S20170530134025.mat'\n",
       "173. 'LS19_S20170601161338.mat'\n",
       "174. 'LS19_S20170605232604.mat'\n",
       "175. 'LS19_S20170606111728.mat'\n",
       "176. 'LS19_S20170608170123.mat'\n",
       "177. 'LS19_S20170622141707.mat'\n",
       "178. 'LS23_S20170428111117.mat'\n",
       "179. 'LS23_S20170502130551.mat'\n",
       "180. 'LS23_S20170508153858.mat'\n",
       "181. 'LS23_S20170522143934.mat'\n",
       "182. 'RH13_S20160810100000.mat'\n",
       "183. 'RH13_S20160925121510.mat'\n",
       "184. 'RH13_S20160928161315.mat'\n",
       "185. 'RH13_S20161007094709.mat'\n",
       "186. 'RH13_S20161013191501.mat'\n",
       "187. 'RH13_S20161025144837.mat'\n",
       "188. 'RH14_S20160729110000.mat'\n",
       "189. 'RH14_S20160807140000.mat'\n",
       "190. 'RH16_S20160926105050.mat'\n",
       "191. 'RH16_S20161003135542.mat'\n",
       "192. 'RH16_S20161004161817.mat'\n",
       "193. 'RH16_S20161014114355.mat'\n",
       "194. 'RH16_S20161016140135.mat'\n",
       "195. 'RH16_S20161017151810.mat'\n",
       "196. 'RH16_S20161021165052.mat'\n",
       "197. 'RH16_S20161021170643.mat'\n",
       "198. 'RH16_S20161025155106.mat'\n",
       "199. 'RH16_S20161025160727.mat'\n",
       "200. 'RH16_S20161030143701.mat'\n",
       "201. 'RH16_S20161030145324.mat'\n",
       "202. 'RH16_S20161126145021.mat'\n",
       "203. 'RH16_S20161126150318.mat'\n",
       "204. 'RH16_S20161207130000.mat'\n",
       "\n",
       "\n"
      ],
      "text/plain": [
       " [1] LEM3124_S20190307132509.mat LEM3124_S20190307163732.mat\n",
       " [3] LEM3124_S20190309145324.mat LEM3124_S20190311161641.mat\n",
       " [5] LEM3124_S20190315160017.mat LEM3124_S20190319154019.mat\n",
       " [7] LEM3124_S20190322123145.mat LEM3124_S20190325164111.mat\n",
       " [9] LEM3124_S20190326160632.mat LEM3124_S20190327204851.mat\n",
       "[11] LEM3124_S20190328174647.mat LEM3124_S20190329151248.mat\n",
       "[13] LEM3124_S20190331172013.mat LEM3124_S20190401125222.mat\n",
       "[15] LEM3124_S20190402101910.mat\n",
       "204 Levels: LEM3116_S20180715121821.mat ... RH16_S20161207130000.mat"
      ]
     },
     "metadata": {},
     "output_type": "display_data"
    }
   ],
   "source": [
    "unique(df$session[df$rat =='LEM3124' & df$area == \"ca3\"])"
   ]
  },
  {
   "cell_type": "code",
   "execution_count": 139,
   "metadata": {},
   "outputs": [
    {
     "data": {
      "text/plain": [
       ", , area = ca1\n",
       "\n",
       "         rat\n",
       "group     LEM3116 LEM3120 LEM3124 LEM3206 LEM3216 LEM3246 LS17 LS19 LS23 RH13\n",
       "  control    5866    1373       0       0    2808       0    0    0 1244   25\n",
       "  pae           0       0    3571       0       0       0 2042 6509    0    0\n",
       "         rat\n",
       "group     RH14 RH16\n",
       "  control   74    0\n",
       "  pae        0  190\n",
       "\n",
       ", , area = ca3\n",
       "\n",
       "         rat\n",
       "group     LEM3116 LEM3120 LEM3124 LEM3206 LEM3216 LEM3246 LS17 LS19 LS23 RH13\n",
       "  control    6045    1724       0       0    6007       0    0    0    0   49\n",
       "  pae           0       0       0    7196       0    8817    0    0    0    0\n",
       "         rat\n",
       "group     RH14 RH16\n",
       "  control  134    0\n",
       "  pae        0    0\n"
      ]
     },
     "metadata": {},
     "output_type": "display_data"
    }
   ],
   "source": [
    "df_swr <- read.csv('F:/Projects/PAE_PlaceCell/analysis/multiunit_data/post_processed/mua_df.csv')\n",
    "# df_swr\n",
    "xtabs(~group+rat+area,data=df_swr)\n",
    "\n"
   ]
  }
 ],
 "metadata": {
  "kernelspec": {
   "display_name": "Python 3",
   "language": "python",
   "name": "python3"
  },
  "language_info": {
   "codemirror_mode": {
    "name": "ipython",
    "version": 3
   },
   "file_extension": ".py",
   "mimetype": "text/x-python",
   "name": "python",
   "nbconvert_exporter": "python",
   "pygments_lexer": "ipython3",
   "version": "3.7.9"
  }
 },
 "nbformat": 4,
 "nbformat_minor": 4
}
