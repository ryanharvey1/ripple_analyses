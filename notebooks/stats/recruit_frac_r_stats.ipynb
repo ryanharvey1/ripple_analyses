{
 "cells": [
  {
   "cell_type": "code",
   "execution_count": 1,
   "metadata": {},
   "outputs": [
    {
     "name": "stderr",
     "output_type": "stream",
     "text": [
      "Warning message:\n",
      "\"package 'tidyverse' was built under R version 3.6.3\"-- Attaching packages ------------------------------------------------------------------------------- tidyverse 1.3.0 --\n",
      "v ggplot2 3.3.3     v purrr   0.3.4\n",
      "v tibble  3.0.4     v dplyr   1.0.2\n",
      "v tidyr   1.1.2     v stringr 1.4.0\n",
      "v readr   1.3.1     v forcats 0.4.0\n",
      "Warning message:\n",
      "\"package 'ggplot2' was built under R version 3.6.3\"Warning message:\n",
      "\"package 'tibble' was built under R version 3.6.3\"Warning message:\n",
      "\"package 'tidyr' was built under R version 3.6.3\"Warning message:\n",
      "\"package 'purrr' was built under R version 3.6.3\"Warning message:\n",
      "\"package 'dplyr' was built under R version 3.6.3\"-- Conflicts ---------------------------------------------------------------------------------- tidyverse_conflicts() --\n",
      "x dplyr::filter() masks stats::filter()\n",
      "x dplyr::lag()    masks stats::lag()\n",
      "Warning message:\n",
      "\"package 'lme4' was built under R version 3.6.3\"Loading required package: Matrix\n",
      "\n",
      "Attaching package: 'Matrix'\n",
      "\n",
      "The following objects are masked from 'package:tidyr':\n",
      "\n",
      "    expand, pack, unpack\n",
      "\n",
      "Warning message:\n",
      "\"package 'lmerTest' was built under R version 3.6.3\"\n",
      "Attaching package: 'lmerTest'\n",
      "\n",
      "The following object is masked from 'package:lme4':\n",
      "\n",
      "    lmer\n",
      "\n",
      "The following object is masked from 'package:stats':\n",
      "\n",
      "    step\n",
      "\n",
      "\n",
      "Attaching package: 'MASS'\n",
      "\n",
      "The following object is masked from 'package:dplyr':\n",
      "\n",
      "    select\n",
      "\n"
     ]
    }
   ],
   "source": [
    "library(tidyverse)\n",
    "library(lme4)\n",
    "library(lmerTest)\n",
    "library(MASS)\n"
   ]
  },
  {
   "cell_type": "code",
   "execution_count": 51,
   "metadata": {},
   "outputs": [
    {
     "data": {
      "text/plain": [
       "       X                            session           rat           group     \n",
       " Min.   :   89   LEM3246_S20190629164240:  983   LEM3216:7258   control:8860  \n",
       " 1st Qu.: 6399   LEM3246_S20190701153855:  978   LEM3246:3991   pae    :8697  \n",
       " Median :11404   LEM3216_S20190805141510:  824   LEM3124:2680                 \n",
       " Mean   :10993   LEM3216_S20190718101925:  698   LEM3206:1904                 \n",
       " 3rd Qu.:15793   LEM3216_S20190720145517:  577   LEM3116:1238                 \n",
       " Max.   :20628   LEM3216_S20190723165548:  518   LEM3120: 287                 \n",
       "                 (Other)                :12979   (Other): 199                 \n",
       "  area        recruit_frac      n_ripples        n_cells      \n",
       " ca1: 4772   Min.   :0.0000   Min.   : 51.0   Min.   :  1.00  \n",
       " ca3:12785   1st Qu.:0.2617   1st Qu.:114.0   1st Qu.: 23.00  \n",
       "             Median :0.3636   Median :322.0   Median : 49.00  \n",
       "             Mean   :0.3974   Mean   :371.4   Mean   : 50.33  \n",
       "             3rd Qu.:0.5185   3rd Qu.:518.0   3rd Qu.: 75.00  \n",
       "             Max.   :1.0000   Max.   :983.0   Max.   :134.00  \n",
       "                                                              "
      ]
     },
     "metadata": {},
     "output_type": "display_data"
    }
   ],
   "source": [
    "# data <- read.csv('F:/Projects/PAE_PlaceCell/analysis/ripple_modulation/post_processed/recruit_frac_df.csv')\n",
    "\n",
    "# # only keep hippocampal events\n",
    "# idx <- data$area == 'cortex'\n",
    "# data = data[!idx,]\n",
    "\n",
    "# # data = data[data$n_cells >= 10,]\n",
    "# # to be consistent with participation_prob, we restrict to sessions with >= 50 ripples\n",
    "# data = data[data$n_ripples >= 50,]\n",
    "\n",
    "# data$group = factor(data$group, levels=c('control', 'pae'))\n",
    "# data$rat = factor(data$rat)\n",
    "# data$session = factor(data$session)\n",
    "# data$area = factor(data$area, levels=c('ca1', 'ca3'))\n",
    "\n",
    "# summary(data)"
   ]
  },
  {
   "cell_type": "code",
   "execution_count": null,
   "metadata": {},
   "outputs": [],
   "source": []
  },
  {
   "cell_type": "code",
   "execution_count": null,
   "metadata": {},
   "outputs": [],
   "source": [
    "# options(repr.plot.width = 6, repr.plot.height = 3)\n",
    "\n",
    "# ggplot(data, aes(x=recruit_frac, color=group)) +\n",
    "#     geom_histogram(aes(y=..density..),alpha=0.5,bins = 200) +\n",
    "#     geom_density() +\n",
    "#     facet_grid(area ~ .)\n",
    " "
   ]
  },
  {
   "cell_type": "code",
   "execution_count": null,
   "metadata": {},
   "outputs": [],
   "source": [
    "# weighted.mean(data[data$area=='ca1' & data$group=='control',]$recruit_frac,\n",
    "#               data[data$area=='ca1' & data$group=='control',]$n_cells)\n",
    "\n",
    "# weighted.mean(data[data$area=='ca1' & data$group=='pae',]$recruit_frac,\n",
    "#               data[data$area=='ca1' & data$group=='pae',]$n_cells)\n",
    "\n",
    "# m1 = glmer(recruit_frac ~ group + (1|rat/session), weights=n_cells, data=data[data$area=='ca1',],family=\"binomial\")\n",
    "# m1.null = glmer(recruit_frac ~ 1 + (1|rat/session), weights=n_cells, data=data[data$area=='ca1',],family=\"binomial\")\n",
    "\n",
    "# anova(m1.null, m1)  \n",
    "\n",
    "# summary(m1)\n",
    "# # overdisp.glmer(m1)\n",
    "\n",
    "# options(repr.plot.width = 4, repr.plot.height = 4)\n",
    "\n",
    "# plot(m1)\n",
    "# qqnorm(resid(m1))\n",
    "# qqline(resid(m1))\n",
    "# plot(density(resid(m1)))\n",
    "\n",
    "# plot(recruit_frac ~ group, data = data[data$area == \"ca1\",])\n",
    "\n"
   ]
  },
  {
   "cell_type": "code",
   "execution_count": null,
   "metadata": {},
   "outputs": [],
   "source": [
    "# weighted.mean(data[data$area=='ca3' & data$group=='control',]$recruit_frac,\n",
    "#               data[data$area=='ca3' & data$group=='control',]$n_cells)\n",
    "\n",
    "# weighted.mean(data[data$area=='ca3' & data$group=='pae',]$recruit_frac,\n",
    "#               data[data$area=='ca3' & data$group=='pae',]$n_cells)\n",
    "\n",
    "# m1 = glmer(recruit_frac ~ group + (1|rat/session), weights=n_cells, data=data[data$area=='ca3',],family=\"binomial\")\n",
    "# m1.null = glmer(recruit_frac ~ 1 + (1|rat/session), weights=n_cells, data=data[data$area=='ca3',],family=\"binomial\")\n",
    "\n",
    "# anova(m1.null, m1)  \n",
    "\n",
    "# summary(m1)\n",
    "# # overdisp.glmer(m1)\n",
    "\n",
    "# options(repr.plot.width = 4, repr.plot.height = 4)\n",
    "\n",
    "# plot(m1)\n",
    "# qqnorm(resid(m1))\n",
    "# qqline(resid(m1))\n",
    "# plot(density(resid(m1)))\n",
    "\n",
    "# plot(recruit_frac ~ group, data = data[data$area == \"ca3\",])\n",
    "\n"
   ]
  },
  {
   "cell_type": "markdown",
   "metadata": {},
   "source": [
    "# compare recruitment fraction "
   ]
  },
  {
   "cell_type": "code",
   "execution_count": 143,
   "metadata": {},
   "outputs": [
    {
     "data": {
      "text/plain": [
       "       X                            session           rat       \n",
       " Min.   :  178   LEM3246_S20190629164240: 1966   LEM3216:10531  \n",
       " 1st Qu.:11436   LEM3246_S20190701153855: 1956   LEM3246: 7982  \n",
       " Median :20649   LEM3216_S20190718101925: 1396   LEM3124: 4904  \n",
       " Mean   :20500   LEM3216_S20190720145517: 1154   LEM3206: 3808  \n",
       " 3rd Qu.:30583   LEM3116_S20180717110938:  876   LEM3116: 2370  \n",
       " Max.   :38897   LEM3216_S20190805141510:  824   LEM3120:  574  \n",
       "                 (Other)                :22318   (Other):  321  \n",
       "     group        area        recruit_frac      n_ripples        n_cells    \n",
       " control:13552   ca1: 8387   Min.   :0.0000   Min.   : 51.0   Min.   : 2.0  \n",
       " pae    :16938   ca3:22103   1st Qu.:0.2222   1st Qu.:107.0   1st Qu.:16.0  \n",
       "                             Median :0.3485   Median :313.0   Median :26.0  \n",
       "                             Mean   :0.3743   Mean   :367.4   Mean   :28.9  \n",
       "                             3rd Qu.:0.5000   3rd Qu.:518.0   3rd Qu.:32.0  \n",
       "                             Max.   :1.0000   Max.   :983.0   Max.   :92.0  \n",
       "                                                                            \n",
       " cell_type  \n",
       " int:13161  \n",
       " pyr:17329  \n",
       "            \n",
       "            \n",
       "            \n",
       "            \n",
       "            "
      ]
     },
     "metadata": {},
     "output_type": "display_data"
    }
   ],
   "source": [
    "data <- read.csv('F:/Projects/PAE_PlaceCell/analysis/ripple_modulation/post_processed/recruit_frac_df_v2.csv')\n",
    "\n",
    "# only keep hippocampal events\n",
    "idx <- data$area == 'cortex'\n",
    "data = data[!idx,]\n",
    "data = data[data$n_cells > 1,]\n",
    "\n",
    "# To be consistent with participation_prob, we restrict to sessions with >= 50 ripples\n",
    "data = data[data$n_ripples >= 50,]\n",
    "\n",
    "data$group = factor(data$group, levels=c('control', 'pae'))\n",
    "data$rat = factor(data$rat)\n",
    "data$session = factor(data$session)\n",
    "data$area = factor(data$area, levels=c('ca1', 'ca3'))\n",
    "\n",
    "summary(data)"
   ]
  },
  {
   "cell_type": "code",
   "execution_count": 139,
   "metadata": {},
   "outputs": [
    {
     "data": {
      "text/html": [
       "0.407276912597186"
      ],
      "text/latex": [
       "0.407276912597186"
      ],
      "text/markdown": [
       "0.407276912597186"
      ],
      "text/plain": [
       "[1] 0.4072769"
      ]
     },
     "metadata": {},
     "output_type": "display_data"
    },
    {
     "data": {
      "text/html": [
       "0.263238445056627"
      ],
      "text/latex": [
       "0.263238445056627"
      ],
      "text/markdown": [
       "0.263238445056627"
      ],
      "text/plain": [
       "[1] 0.2632384"
      ]
     },
     "metadata": {},
     "output_type": "display_data"
    },
    {
     "data": {
      "text/html": [
       "<table>\n",
       "<thead><tr><th></th><th scope=col>npar</th><th scope=col>AIC</th><th scope=col>BIC</th><th scope=col>logLik</th><th scope=col>deviance</th><th scope=col>Chisq</th><th scope=col>Df</th><th scope=col>Pr(&gt;Chisq)</th></tr></thead>\n",
       "<tbody>\n",
       "\t<tr><th scope=row>m1.null</th><td>2           </td><td>32264.88    </td><td>32277.72    </td><td>-16130.44   </td><td>32260.88    </td><td>      NA    </td><td>NA          </td><td>          NA</td></tr>\n",
       "\t<tr><th scope=row>m1</th><td>3           </td><td>32255.98    </td><td>32275.25    </td><td>-16124.99   </td><td>32249.98    </td><td>10.89485    </td><td> 1          </td><td>0.0009643189</td></tr>\n",
       "</tbody>\n",
       "</table>\n"
      ],
      "text/latex": [
       "\\begin{tabular}{r|llllllll}\n",
       "  & npar & AIC & BIC & logLik & deviance & Chisq & Df & Pr(>Chisq)\\\\\n",
       "\\hline\n",
       "\tm1.null & 2            & 32264.88     & 32277.72     & -16130.44    & 32260.88     &       NA     & NA           &           NA\\\\\n",
       "\tm1 & 3            & 32255.98     & 32275.25     & -16124.99    & 32249.98     & 10.89485     &  1           & 0.0009643189\\\\\n",
       "\\end{tabular}\n"
      ],
      "text/markdown": [
       "\n",
       "| <!--/--> | npar | AIC | BIC | logLik | deviance | Chisq | Df | Pr(>Chisq) |\n",
       "|---|---|---|---|---|---|---|---|---|\n",
       "| m1.null | 2            | 32264.88     | 32277.72     | -16130.44    | 32260.88     |       NA     | NA           |           NA |\n",
       "| m1 | 3            | 32255.98     | 32275.25     | -16124.99    | 32249.98     | 10.89485     |  1           | 0.0009643189 |\n",
       "\n"
      ],
      "text/plain": [
       "        npar AIC      BIC      logLik    deviance Chisq    Df Pr(>Chisq)  \n",
       "m1.null 2    32264.88 32277.72 -16130.44 32260.88       NA NA           NA\n",
       "m1      3    32255.98 32275.25 -16124.99 32249.98 10.89485  1 0.0009643189"
      ]
     },
     "metadata": {},
     "output_type": "display_data"
    },
    {
     "data": {
      "text/plain": [
       "Generalized linear mixed model fit by maximum likelihood (Laplace\n",
       "  Approximation) [glmerMod]\n",
       " Family: binomial  ( logit )\n",
       "Formula: recruit_frac ~ group + (1 | session)\n",
       "   Data: data[data$area == \"ca1\" & data$cell_type == \"pyr\", ]\n",
       "Weights: n_cells\n",
       "\n",
       "     AIC      BIC   logLik deviance df.resid \n",
       " 32256.0  32275.2 -16125.0  32250.0     4541 \n",
       "\n",
       "Scaled residuals: \n",
       "    Min      1Q  Median      3Q     Max \n",
       "-7.1791 -1.0741 -0.0981  1.0186  7.9122 \n",
       "\n",
       "Random effects:\n",
       " Groups  Name        Variance Std.Dev.\n",
       " session (Intercept) 0.1918   0.4379  \n",
       "Number of obs: 4544, groups:  session, 25\n",
       "\n",
       "Fixed effects:\n",
       "            Estimate Std. Error z value Pr(>|z|)    \n",
       "(Intercept)  -0.3387     0.1465  -2.312 0.020780 *  \n",
       "grouppae     -0.6856     0.1842  -3.722 0.000198 ***\n",
       "---\n",
       "Signif. codes:  0 '***' 0.001 '**' 0.01 '*' 0.05 '.' 0.1 ' ' 1\n",
       "\n",
       "Correlation of Fixed Effects:\n",
       "         (Intr)\n",
       "grouppae -0.795"
      ]
     },
     "metadata": {},
     "output_type": "display_data"
    },
    {
     "data": {
      "image/png": "[encoded data removed]",
      "text/plain": [
       "plot without title"
      ]
     },
     "metadata": {},
     "output_type": "display_data"
    },
    {
     "data": {
      "image/png": "[encoded data removed]",
      "text/plain": [
       "Plot with title \"Normal Q-Q Plot\""
      ]
     },
     "metadata": {},
     "output_type": "display_data"
    },
    {
     "data": {
      "image/png": "[encoded data removed]",
      "text/plain": [
       "Plot with title \"density.default(x = resid(m1))\""
      ]
     },
     "metadata": {},
     "output_type": "display_data"
    },
    {
     "data": {
      "image/png": "[encoded data removed]",
      "text/plain": [
       "plot without title"
      ]
     },
     "metadata": {},
     "output_type": "display_data"
    }
   ],
   "source": [
    "weighted.mean(data[data$area=='ca1' & data$group=='control' & data$cell_type=='pyr',]$recruit_frac,\n",
    "              data[data$area=='ca1' & data$group=='control' & data$cell_type=='pyr',]$n_cells)\n",
    "\n",
    "weighted.mean(data[data$area=='ca1' & data$group=='pae' & data$cell_type=='pyr',]$recruit_frac,\n",
    "              data[data$area=='ca1' & data$group=='pae' & data$cell_type=='pyr',]$n_cells)\n",
    "\n",
    "m1 = glmer(recruit_frac ~ group + (1|session), weights=n_cells, data=data[data$area=='ca1' & data$cell_type=='pyr',],family=\"binomial\")\n",
    "m1.null = glmer(recruit_frac ~ 1 + (1|session), weights=n_cells, data=data[data$area=='ca1' & data$cell_type=='pyr',],family=\"binomial\")\n",
    "\n",
    "anova(m1.null, m1)  \n",
    "\n",
    "summary(m1)\n",
    "# overdisp.glmer(m1)\n",
    "\n",
    "options(repr.plot.width = 4, repr.plot.height = 4)\n",
    "\n",
    "plot(m1)\n",
    "qqnorm(resid(m1))\n",
    "qqline(resid(m1))\n",
    "plot(density(resid(m1)))\n",
    "\n",
    "plot(recruit_frac ~ group, data = data[data$area == \"ca1\" & data$cell_type=='pyr',])\n",
    "\n"
   ]
  },
  {
   "cell_type": "code",
   "execution_count": 140,
   "metadata": {},
   "outputs": [
    {
     "data": {
      "text/html": [
       "0.490271310771792"
      ],
      "text/latex": [
       "0.490271310771792"
      ],
      "text/markdown": [
       "0.490271310771792"
      ],
      "text/plain": [
       "[1] 0.4902713"
      ]
     },
     "metadata": {},
     "output_type": "display_data"
    },
    {
     "data": {
      "text/html": [
       "0.335122834754446"
      ],
      "text/latex": [
       "0.335122834754446"
      ],
      "text/markdown": [
       "0.335122834754446"
      ],
      "text/plain": [
       "[1] 0.3351228"
      ]
     },
     "metadata": {},
     "output_type": "display_data"
    },
    {
     "data": {
      "text/html": [
       "<table>\n",
       "<thead><tr><th></th><th scope=col>npar</th><th scope=col>AIC</th><th scope=col>BIC</th><th scope=col>logLik</th><th scope=col>deviance</th><th scope=col>Chisq</th><th scope=col>Df</th><th scope=col>Pr(&gt;Chisq)</th></tr></thead>\n",
       "<tbody>\n",
       "\t<tr><th scope=row>m1.null</th><td>3        </td><td>71559.50 </td><td>71581.87 </td><td>-35776.75</td><td>71553.50 </td><td>      NA </td><td>NA       </td><td>       NA</td></tr>\n",
       "\t<tr><th scope=row>m1</th><td>4        </td><td>71559.65 </td><td>71589.48 </td><td>-35775.83</td><td>71551.65 </td><td>1.845056 </td><td> 1       </td><td>0.1743595</td></tr>\n",
       "</tbody>\n",
       "</table>\n"
      ],
      "text/latex": [
       "\\begin{tabular}{r|llllllll}\n",
       "  & npar & AIC & BIC & logLik & deviance & Chisq & Df & Pr(>Chisq)\\\\\n",
       "\\hline\n",
       "\tm1.null & 3         & 71559.50  & 71581.87  & -35776.75 & 71553.50  &       NA  & NA        &        NA\\\\\n",
       "\tm1 & 4         & 71559.65  & 71589.48  & -35775.83 & 71551.65  & 1.845056  &  1        & 0.1743595\\\\\n",
       "\\end{tabular}\n"
      ],
      "text/markdown": [
       "\n",
       "| <!--/--> | npar | AIC | BIC | logLik | deviance | Chisq | Df | Pr(>Chisq) |\n",
       "|---|---|---|---|---|---|---|---|---|\n",
       "| m1.null | 3         | 71559.50  | 71581.87  | -35776.75 | 71553.50  |       NA  | NA        |        NA |\n",
       "| m1 | 4         | 71559.65  | 71589.48  | -35775.83 | 71551.65  | 1.845056  |  1        | 0.1743595 |\n",
       "\n"
      ],
      "text/plain": [
       "        npar AIC      BIC      logLik    deviance Chisq    Df Pr(>Chisq)\n",
       "m1.null 3    71559.50 71581.87 -35776.75 71553.50       NA NA        NA \n",
       "m1      4    71559.65 71589.48 -35775.83 71551.65 1.845056  1 0.1743595 "
      ]
     },
     "metadata": {},
     "output_type": "display_data"
    },
    {
     "data": {
      "text/plain": [
       "Generalized linear mixed model fit by maximum likelihood (Laplace\n",
       "  Approximation) [glmerMod]\n",
       " Family: binomial  ( logit )\n",
       "Formula: recruit_frac ~ group + (1 | rat/session)\n",
       "   Data: data[data$area == \"ca3\" & data$cell_type == \"pyr\", ]\n",
       "Weights: n_cells\n",
       "\n",
       "     AIC      BIC   logLik deviance df.resid \n",
       " 71559.7  71589.5 -35775.8  71551.7    12781 \n",
       "\n",
       "Scaled residuals: \n",
       "    Min      1Q  Median      3Q     Max \n",
       "-5.5841 -0.8524 -0.0360  0.8818  7.3757 \n",
       "\n",
       "Random effects:\n",
       " Groups      Name        Variance Std.Dev.\n",
       " session:rat (Intercept) 0.1415   0.3761  \n",
       " rat         (Intercept) 0.1544   0.3929  \n",
       "Number of obs: 12785, groups:  session:rat, 68; rat, 6\n",
       "\n",
       "Fixed effects:\n",
       "            Estimate Std. Error z value Pr(>|z|)\n",
       "(Intercept)  -0.2964     0.2571  -1.153    0.249\n",
       "grouppae     -0.5128     0.3486  -1.471    0.141\n",
       "\n",
       "Correlation of Fixed Effects:\n",
       "         (Intr)\n",
       "grouppae -0.739"
      ]
     },
     "metadata": {},
     "output_type": "display_data"
    },
    {
     "data": {
      "image/png": "[encoded data removed]",
      "text/plain": [
       "plot without title"
      ]
     },
     "metadata": {},
     "output_type": "display_data"
    },
    {
     "data": {
      "image/png": "[encoded data removed]",
      "text/plain": [
       "Plot with title \"Normal Q-Q Plot\""
      ]
     },
     "metadata": {},
     "output_type": "display_data"
    },
    {
     "data": {
      "image/png": "[encoded data removed]",
      "text/plain": [
       "Plot with title \"density.default(x = resid(m1))\""
      ]
     },
     "metadata": {},
     "output_type": "display_data"
    },
    {
     "data": {
      "image/png": "[encoded data removed]",
      "text/plain": [
       "plot without title"
      ]
     },
     "metadata": {},
     "output_type": "display_data"
    }
   ],
   "source": [
    "weighted.mean(data[data$area=='ca3' & data$group=='control' & data$cell_type=='pyr',]$recruit_frac,\n",
    "              data[data$area=='ca3' & data$group=='control' & data$cell_type=='pyr',]$n_cells)\n",
    "\n",
    "weighted.mean(data[data$area=='ca3' & data$group=='pae' & data$cell_type=='pyr',]$recruit_frac,\n",
    "              data[data$area=='ca3' & data$group=='pae' & data$cell_type=='pyr',]$n_cells)\n",
    "\n",
    "m1 = glmer(recruit_frac ~ group + (1|rat/session), weights=n_cells, data=data[data$area=='ca3' & data$cell_type=='pyr',],family=\"binomial\")\n",
    "m1.null = glmer(recruit_frac ~ 1 + (1|rat/session), weights=n_cells, data=data[data$area=='ca3' & data$cell_type=='pyr',],family=\"binomial\")\n",
    "\n",
    "anova(m1.null, m1)  \n",
    "\n",
    "summary(m1)\n",
    "# overdisp.glmer(m1)\n",
    "\n",
    "options(repr.plot.width = 4, repr.plot.height = 4)\n",
    "\n",
    "plot(m1)\n",
    "qqnorm(resid(m1))\n",
    "qqline(resid(m1))\n",
    "plot(density(resid(m1)))\n",
    "\n",
    "plot(recruit_frac ~ group, data = data[data$area == \"ca3\" & data$cell_type=='pyr',])\n",
    "\n"
   ]
  },
  {
   "cell_type": "code",
   "execution_count": 141,
   "metadata": {},
   "outputs": [
    {
     "data": {
      "text/html": [
       "0.309048803499442"
      ],
      "text/latex": [
       "0.309048803499442"
      ],
      "text/markdown": [
       "0.309048803499442"
      ],
      "text/plain": [
       "[1] 0.3090488"
      ]
     },
     "metadata": {},
     "output_type": "display_data"
    },
    {
     "data": {
      "text/html": [
       "0.244940788487483"
      ],
      "text/latex": [
       "0.244940788487483"
      ],
      "text/markdown": [
       "0.244940788487483"
      ],
      "text/plain": [
       "[1] 0.2449408"
      ]
     },
     "metadata": {},
     "output_type": "display_data"
    },
    {
     "data": {
      "text/html": [
       "0.309048803499442"
      ],
      "text/latex": [
       "0.309048803499442"
      ],
      "text/markdown": [
       "0.309048803499442"
      ],
      "text/plain": [
       "[1] 0.3090488"
      ]
     },
     "metadata": {},
     "output_type": "display_data"
    },
    {
     "data": {
      "text/html": [
       "0.244940788487483"
      ],
      "text/latex": [
       "0.244940788487483"
      ],
      "text/markdown": [
       "0.244940788487483"
      ],
      "text/plain": [
       "[1] 0.2449408"
      ]
     },
     "metadata": {},
     "output_type": "display_data"
    },
    {
     "data": {
      "text/html": [
       "<table>\n",
       "<thead><tr><th></th><th scope=col>npar</th><th scope=col>AIC</th><th scope=col>BIC</th><th scope=col>logLik</th><th scope=col>deviance</th><th scope=col>Chisq</th><th scope=col>Df</th><th scope=col>Pr(&gt;Chisq)</th></tr></thead>\n",
       "<tbody>\n",
       "\t<tr><th scope=row>m1.null</th><td>2         </td><td>16456.63  </td><td>16469.14  </td><td>-8226.317 </td><td>16452.63  </td><td>      NA  </td><td>NA        </td><td>        NA</td></tr>\n",
       "\t<tr><th scope=row>m1</th><td>3         </td><td>16454.17  </td><td>16472.93  </td><td>-8224.085 </td><td>16448.17  </td><td>4.462822  </td><td> 1        </td><td>0.03464022</td></tr>\n",
       "</tbody>\n",
       "</table>\n"
      ],
      "text/latex": [
       "\\begin{tabular}{r|llllllll}\n",
       "  & npar & AIC & BIC & logLik & deviance & Chisq & Df & Pr(>Chisq)\\\\\n",
       "\\hline\n",
       "\tm1.null & 2          & 16456.63   & 16469.14   & -8226.317  & 16452.63   &       NA   & NA         &         NA\\\\\n",
       "\tm1 & 3          & 16454.17   & 16472.93   & -8224.085  & 16448.17   & 4.462822   &  1         & 0.03464022\\\\\n",
       "\\end{tabular}\n"
      ],
      "text/markdown": [
       "\n",
       "| <!--/--> | npar | AIC | BIC | logLik | deviance | Chisq | Df | Pr(>Chisq) |\n",
       "|---|---|---|---|---|---|---|---|---|\n",
       "| m1.null | 2          | 16456.63   | 16469.14   | -8226.317  | 16452.63   |       NA   | NA         |         NA |\n",
       "| m1 | 3          | 16454.17   | 16472.93   | -8224.085  | 16448.17   | 4.462822   |  1         | 0.03464022 |\n",
       "\n"
      ],
      "text/plain": [
       "        npar AIC      BIC      logLik    deviance Chisq    Df Pr(>Chisq)\n",
       "m1.null 2    16456.63 16469.14 -8226.317 16452.63       NA NA         NA\n",
       "m1      3    16454.17 16472.93 -8224.085 16448.17 4.462822  1 0.03464022"
      ]
     },
     "metadata": {},
     "output_type": "display_data"
    },
    {
     "data": {
      "text/plain": [
       "Generalized linear mixed model fit by maximum likelihood (Laplace\n",
       "  Approximation) [glmerMod]\n",
       " Family: binomial  ( logit )\n",
       "Formula: recruit_frac_trans ~ group + (1 | session)\n",
       "   Data: data[data$area == \"ca1\" & data$cell_type == \"int\", ]\n",
       "Weights: n_cells\n",
       "\n",
       "     AIC      BIC   logLik deviance df.resid \n",
       " 16454.2  16472.9  -8224.1  16448.2     3840 \n",
       "\n",
       "Scaled residuals: \n",
       "    Min      1Q  Median      3Q     Max \n",
       "-4.2758 -0.7388 -0.2533  0.7421  5.5528 \n",
       "\n",
       "Random effects:\n",
       " Groups  Name        Variance Std.Dev.\n",
       " session (Intercept) 0.5927   0.7698  \n",
       "Number of obs: 3843, groups:  session, 22\n",
       "\n",
       "Fixed effects:\n",
       "            Estimate Std. Error z value Pr(>|z|)  \n",
       "(Intercept)  -0.7639     0.3147  -2.427   0.0152 *\n",
       "grouppae     -0.8225     0.3714  -2.215   0.0268 *\n",
       "---\n",
       "Signif. codes:  0 '***' 0.001 '**' 0.01 '*' 0.05 '.' 0.1 ' ' 1\n",
       "\n",
       "Correlation of Fixed Effects:\n",
       "         (Intr)\n",
       "grouppae -0.847"
      ]
     },
     "metadata": {},
     "output_type": "display_data"
    },
    {
     "data": {
      "image/png": "[encoded data removed]",
      "text/plain": [
       "plot without title"
      ]
     },
     "metadata": {},
     "output_type": "display_data"
    },
    {
     "data": {
      "image/png": "[encoded data removed]",
      "text/plain": [
       "Plot with title \"Normal Q-Q Plot\""
      ]
     },
     "metadata": {},
     "output_type": "display_data"
    },
    {
     "data": {
      "image/png": "[encoded data removed]",
      "text/plain": [
       "Plot with title \"density.default(x = resid(m1))\""
      ]
     },
     "metadata": {},
     "output_type": "display_data"
    },
    {
     "data": {
      "image/png": "[encoded data removed]",
      "text/plain": [
       "plot without title"
      ]
     },
     "metadata": {},
     "output_type": "display_data"
    },
    {
     "data": {
      "image/png": "[encoded data removed]",
      "text/plain": [
       "plot without title"
      ]
     },
     "metadata": {},
     "output_type": "display_data"
    },
    {
     "data": {
      "image/png": "[encoded data removed]",
      "text/plain": [
       "plot without title"
      ]
     },
     "metadata": {},
     "output_type": "display_data"
    }
   ],
   "source": [
    "\n",
    "\n",
    "weighted.mean(data[data$area=='ca1' & data$group=='control' & data$cell_type=='int',]$recruit_frac,\n",
    "              data[data$area=='ca1' & data$group=='control' & data$cell_type=='int',]$n_cells)\n",
    "\n",
    "weighted.mean(data[data$area=='ca1' & data$group=='pae' & data$cell_type=='int',]$recruit_frac,\n",
    "              data[data$area=='ca1' & data$group=='pae' & data$cell_type=='int',]$n_cells)\n",
    "\n",
    "\n",
    "# data$recruit_frac_trans = data$recruit_frac+.5\n",
    "# m1 = lm(recruit_frac_trans ~ group, data = data[data$cell_type == \"int\" & data$area == \"ca1\",])\n",
    "# result = boxcox(m1, lambda = seq(-5,5,0.5))\n",
    "# lambda = result$x[which.max(result$y)]\n",
    "# data$recruit_frac_trans = data$recruit_frac_trans^lambda\n",
    "data$recruit_frac_trans = (data$recruit_frac)\n",
    "\n",
    "\n",
    "weighted.mean(data[data$area=='ca1' & data$group=='control' & data$cell_type=='int',]$recruit_frac_trans,\n",
    "              data[data$area=='ca1' & data$group=='control' & data$cell_type=='int',]$n_cells)\n",
    "\n",
    "weighted.mean(data[data$area=='ca1' & data$group=='pae' & data$cell_type=='int',]$recruit_frac_trans,\n",
    "              data[data$area=='ca1' & data$group=='pae' & data$cell_type=='int',]$n_cells)\n",
    "\n",
    "m1 = glmer(recruit_frac_trans ~ group + (1|session), weights=n_cells, data=data[data$area=='ca1' & data$cell_type=='int',],family=\"binomial\")\n",
    "m1.null = glmer(recruit_frac_trans ~ 1 + (1|session), weights=n_cells, data=data[data$area=='ca1' & data$cell_type=='int',],family=\"binomial\")\n",
    "\n",
    "anova(m1.null, m1)  \n",
    "\n",
    "summary(m1)\n",
    "# overdisp.glmer(m1)\n",
    "\n",
    "options(repr.plot.width = 4, repr.plot.height = 4)\n",
    "\n",
    "plot(m1)\n",
    "qqnorm(resid(m1))\n",
    "qqline(resid(m1))\n",
    "plot(density(resid(m1)))\n",
    "\n",
    "plot(recruit_frac_trans ~ group, data = data[data$area == \"ca1\" & data$cell_type=='int',])\n",
    "\n",
    "# hist(data[data$area=='ca1' & data$group=='control' & data$cell_type=='int',]$recruit_frac,200)\n",
    "\n",
    "# hist(data[data$area=='ca1' & data$group=='control' & data$cell_type=='int',]$recruit_frac_trans,200)\n",
    "\n",
    "options(repr.plot.width = 6, repr.plot.height = 3)\n",
    "\n",
    "ggplot(data[data$area=='ca1' & data$cell_type=='int',], aes(x=recruit_frac, color=group)) +\n",
    "    geom_histogram(aes(y=..density..),alpha=0.5,bins = 200) +\n",
    "    geom_density() +\n",
    "    facet_grid(area ~ .)\n",
    "\n",
    "ggplot(data[data$area=='ca1' & data$cell_type=='int',], aes(x=recruit_frac_trans, color=group)) +\n",
    "    geom_histogram(aes(y=..density..),alpha=0.5,bins = 200) +\n",
    "    geom_density() +\n",
    "    facet_grid(area ~ .)"
   ]
  },
  {
   "cell_type": "code",
   "execution_count": 142,
   "metadata": {},
   "outputs": [
    {
     "data": {
      "text/html": [
       "0.391104770175547"
      ],
      "text/latex": [
       "0.391104770175547"
      ],
      "text/markdown": [
       "0.391104770175547"
      ],
      "text/plain": [
       "[1] 0.3911048"
      ]
     },
     "metadata": {},
     "output_type": "display_data"
    },
    {
     "data": {
      "text/html": [
       "0.269043039116786"
      ],
      "text/latex": [
       "0.269043039116786"
      ],
      "text/markdown": [
       "0.269043039116786"
      ],
      "text/plain": [
       "[1] 0.269043"
      ]
     },
     "metadata": {},
     "output_type": "display_data"
    },
    {
     "data": {
      "text/html": [
       "<table>\n",
       "<thead><tr><th></th><th scope=col>npar</th><th scope=col>AIC</th><th scope=col>BIC</th><th scope=col>logLik</th><th scope=col>deviance</th><th scope=col>Chisq</th><th scope=col>Df</th><th scope=col>Pr(&gt;Chisq)</th></tr></thead>\n",
       "<tbody>\n",
       "\t<tr><th scope=row>m1.null</th><td>3        </td><td>37160.86 </td><td>37182.28 </td><td>-18577.43</td><td>37154.86 </td><td>      NA </td><td>NA       </td><td>       NA</td></tr>\n",
       "\t<tr><th scope=row>m1</th><td>4        </td><td>37161.34 </td><td>37189.90 </td><td>-18576.67</td><td>37153.34 </td><td>1.517291 </td><td> 1       </td><td>0.2180299</td></tr>\n",
       "</tbody>\n",
       "</table>\n"
      ],
      "text/latex": [
       "\\begin{tabular}{r|llllllll}\n",
       "  & npar & AIC & BIC & logLik & deviance & Chisq & Df & Pr(>Chisq)\\\\\n",
       "\\hline\n",
       "\tm1.null & 3         & 37160.86  & 37182.28  & -18577.43 & 37154.86  &       NA  & NA        &        NA\\\\\n",
       "\tm1 & 4         & 37161.34  & 37189.90  & -18576.67 & 37153.34  & 1.517291  &  1        & 0.2180299\\\\\n",
       "\\end{tabular}\n"
      ],
      "text/markdown": [
       "\n",
       "| <!--/--> | npar | AIC | BIC | logLik | deviance | Chisq | Df | Pr(>Chisq) |\n",
       "|---|---|---|---|---|---|---|---|---|\n",
       "| m1.null | 3         | 37160.86  | 37182.28  | -18577.43 | 37154.86  |       NA  | NA        |        NA |\n",
       "| m1 | 4         | 37161.34  | 37189.90  | -18576.67 | 37153.34  | 1.517291  |  1        | 0.2180299 |\n",
       "\n"
      ],
      "text/plain": [
       "        npar AIC      BIC      logLik    deviance Chisq    Df Pr(>Chisq)\n",
       "m1.null 3    37160.86 37182.28 -18577.43 37154.86       NA NA        NA \n",
       "m1      4    37161.34 37189.90 -18576.67 37153.34 1.517291  1 0.2180299 "
      ]
     },
     "metadata": {},
     "output_type": "display_data"
    },
    {
     "data": {
      "text/plain": [
       "Generalized linear mixed model fit by maximum likelihood (Laplace\n",
       "  Approximation) [glmerMod]\n",
       " Family: binomial  ( logit )\n",
       "Formula: recruit_frac ~ group + (1 | rat/session)\n",
       "   Data: data[data$area == \"ca3\" & data$cell_type == \"int\", ]\n",
       "Weights: n_cells\n",
       "\n",
       "     AIC      BIC   logLik deviance df.resid \n",
       " 37161.3  37189.9 -18576.7  37153.3     9314 \n",
       "\n",
       "Scaled residuals: \n",
       "    Min      1Q  Median      3Q     Max \n",
       "-8.5848 -0.7588 -0.0279  0.6076  5.2952 \n",
       "\n",
       "Random effects:\n",
       " Groups      Name        Variance Std.Dev.\n",
       " session:rat (Intercept) 0.302    0.5495  \n",
       " rat         (Intercept) 0.559    0.7477  \n",
       "Number of obs: 9318, groups:  session:rat, 58; rat, 6\n",
       "\n",
       "Fixed effects:\n",
       "             Estimate Std. Error z value Pr(>|z|)\n",
       "(Intercept) -0.006387   0.466411  -0.014    0.989\n",
       "grouppae    -0.864787   0.627863  -1.377    0.168\n",
       "\n",
       "Correlation of Fixed Effects:\n",
       "         (Intr)\n",
       "grouppae -0.723"
      ]
     },
     "metadata": {},
     "output_type": "display_data"
    },
    {
     "data": {
      "image/png": "[encoded data removed]",
      "text/plain": [
       "plot without title"
      ]
     },
     "metadata": {},
     "output_type": "display_data"
    },
    {
     "data": {
      "image/png": "[encoded data removed]",
      "text/plain": [
       "Plot with title \"Normal Q-Q Plot\""
      ]
     },
     "metadata": {},
     "output_type": "display_data"
    },
    {
     "data": {
      "image/png": "[encoded data removed]",
      "text/plain": [
       "Plot with title \"density.default(x = resid(m1))\""
      ]
     },
     "metadata": {},
     "output_type": "display_data"
    },
    {
     "data": {
      "image/png": "[encoded data removed]",
      "text/plain": [
       "plot without title"
      ]
     },
     "metadata": {},
     "output_type": "display_data"
    }
   ],
   "source": [
    "weighted.mean(data[data$area=='ca3' & data$group=='control' & data$cell_type=='int',]$recruit_frac,\n",
    "              data[data$area=='ca3' & data$group=='control' & data$cell_type=='int',]$n_cells)\n",
    "\n",
    "weighted.mean(data[data$area=='ca3' & data$group=='pae' & data$cell_type=='int',]$recruit_frac,\n",
    "              data[data$area=='ca3' & data$group=='pae' & data$cell_type=='int',]$n_cells)\n",
    "\n",
    "m1 = glmer(recruit_frac ~ group + (1|rat/session), weights=n_cells, data=data[data$area=='ca3' & data$cell_type=='int',],family=\"binomial\")\n",
    "m1.null = glmer(recruit_frac ~ 1 + (1|rat/session), weights=n_cells, data=data[data$area=='ca3' & data$cell_type=='int',],family=\"binomial\")\n",
    "\n",
    "anova(m1.null, m1)  \n",
    "\n",
    "summary(m1)\n",
    "# overdisp.glmer(m1)\n",
    "\n",
    "options(repr.plot.width = 4, repr.plot.height = 4)\n",
    "\n",
    "plot(m1)\n",
    "qqnorm(resid(m1))\n",
    "qqline(resid(m1))\n",
    "plot(density(resid(m1)))\n",
    "\n",
    "plot(recruit_frac ~ group, data = data[data$area == \"ca3\" & data$cell_type=='int',])\n",
    "\n"
   ]
  },
  {
   "cell_type": "code",
   "execution_count": 112,
   "metadata": {},
   "outputs": [
    {
     "data": {
      "text/plain": [
       "       X                           session          rat           group     \n",
       " Min.   :  75   LEM3124_S20190302163218: 134   LEM3206:1211   control:1471  \n",
       " 1st Qu.:2031   LEM3206_S20190719140644: 119   LEM3124:1029   pae    :3146  \n",
       " Median :3917   LEM3206_S20190718143924: 118   LEM3246: 805                 \n",
       " Mean   :3857   LEM3206_S20190717140525: 117   LEM3216: 723                 \n",
       " 3rd Qu.:5887   LEM3206_S20190720132154: 113   LEM3116: 631                 \n",
       " Max.   :8225   LEM3216_S20190718101925: 113   LEM3120: 109                 \n",
       "                (Other)                :3903   (Other): 109                 \n",
       "  area      participation_prob   n_ripples        n_cells         n_spikes     \n",
       " ca1:1128   Min.   :0.0000     Min.   : 51.0   Min.   : 1.00   Min.   :   101  \n",
       " ca3:3489   1st Qu.:0.1111     1st Qu.: 79.0   1st Qu.:23.00   1st Qu.:  1680  \n",
       "            Median :0.2542     Median :108.0   Median :36.00   Median :  4666  \n",
       "            Mean   :0.3389     Mean   :191.4   Mean   :41.27   Mean   : 13275  \n",
       "            3rd Qu.:0.5181     3rd Qu.:193.0   3rd Qu.:57.00   3rd Qu.: 13901  \n",
       "            Max.   :1.0000     Max.   :983.0   Max.   :95.00   Max.   :359869  \n",
       "                                                                               \n",
       " cell_type \n",
       " int:1399  \n",
       " pyr:3218  \n",
       "           \n",
       "           \n",
       "           \n",
       "           \n",
       "           "
      ]
     },
     "metadata": {},
     "output_type": "display_data"
    }
   ],
   "source": [
    "data <- read.csv('F:/Projects/PAE_PlaceCell/analysis/ripple_modulation/post_processed/recruit_frac_df_part_prob.csv')\n",
    "\n",
    "# only keep hippocampal events\n",
    "idx <- data$area == 'cortex'\n",
    "data = data[!idx,]\n",
    "\n",
    "# To be consistent with participation_prob, we restrict to sessions with >= 50 ripples\n",
    "data = data[data$n_ripples >= 50,]\n",
    "data = data[data$n_spikes >= 100,]\n",
    "\n",
    "data$group = factor(data$group, levels=c('control', 'pae'))\n",
    "data$rat = factor(data$rat)\n",
    "data$session = factor(data$session)\n",
    "data$area = factor(data$area, levels=c('ca1', 'ca3'))\n",
    "\n",
    "summary(data)"
   ]
  },
  {
   "cell_type": "code",
   "execution_count": 113,
   "metadata": {},
   "outputs": [
    {
     "data": {
      "text/html": [
       "0.407276912597186"
      ],
      "text/latex": [
       "0.407276912597186"
      ],
      "text/markdown": [
       "0.407276912597186"
      ],
      "text/plain": [
       "[1] 0.4072769"
      ]
     },
     "metadata": {},
     "output_type": "display_data"
    },
    {
     "data": {
      "text/html": [
       "0.265416051898171"
      ],
      "text/latex": [
       "0.265416051898171"
      ],
      "text/markdown": [
       "0.265416051898171"
      ],
      "text/plain": [
       "[1] 0.2654161"
      ]
     },
     "metadata": {},
     "output_type": "display_data"
    },
    {
     "data": {
      "text/html": [
       "<table>\n",
       "<thead><tr><th></th><th scope=col>npar</th><th scope=col>AIC</th><th scope=col>BIC</th><th scope=col>logLik</th><th scope=col>deviance</th><th scope=col>Chisq</th><th scope=col>Df</th><th scope=col>Pr(&gt;Chisq)</th></tr></thead>\n",
       "<tbody>\n",
       "\t<tr><th scope=row>m1.null</th><td>2         </td><td>68886.91  </td><td>68896.28  </td><td>-34441.46 </td><td>68882.91  </td><td>      NA  </td><td>NA        </td><td>        NA</td></tr>\n",
       "\t<tr><th scope=row>m1</th><td>3         </td><td>68884.81  </td><td>68898.86  </td><td>-34439.41 </td><td>68878.81  </td><td>4.101725  </td><td> 1        </td><td>0.04283948</td></tr>\n",
       "</tbody>\n",
       "</table>\n"
      ],
      "text/latex": [
       "\\begin{tabular}{r|llllllll}\n",
       "  & npar & AIC & BIC & logLik & deviance & Chisq & Df & Pr(>Chisq)\\\\\n",
       "\\hline\n",
       "\tm1.null & 2          & 68886.91   & 68896.28   & -34441.46  & 68882.91   &       NA   & NA         &         NA\\\\\n",
       "\tm1 & 3          & 68884.81   & 68898.86   & -34439.41  & 68878.81   & 4.101725   &  1         & 0.04283948\\\\\n",
       "\\end{tabular}\n"
      ],
      "text/markdown": [
       "\n",
       "| <!--/--> | npar | AIC | BIC | logLik | deviance | Chisq | Df | Pr(>Chisq) |\n",
       "|---|---|---|---|---|---|---|---|---|\n",
       "| m1.null | 2          | 68886.91   | 68896.28   | -34441.46  | 68882.91   |       NA   | NA         |         NA |\n",
       "| m1 | 3          | 68884.81   | 68898.86   | -34439.41  | 68878.81   | 4.101725   |  1         | 0.04283948 |\n",
       "\n"
      ],
      "text/plain": [
       "        npar AIC      BIC      logLik    deviance Chisq    Df Pr(>Chisq)\n",
       "m1.null 2    68886.91 68896.28 -34441.46 68882.91       NA NA         NA\n",
       "m1      3    68884.81 68898.86 -34439.41 68878.81 4.101725  1 0.04283948"
      ]
     },
     "metadata": {},
     "output_type": "display_data"
    },
    {
     "data": {
      "text/plain": [
       "Generalized linear mixed model fit by maximum likelihood (Laplace\n",
       "  Approximation) [glmerMod]\n",
       " Family: binomial  ( logit )\n",
       "Formula: participation_prob ~ group + (1 | session)\n",
       "   Data: data[data$area == area & data$cell_type == cell_type, ]\n",
       "Weights: n_ripples\n",
       "\n",
       "     AIC      BIC   logLik deviance df.resid \n",
       " 68884.8  68898.9 -34439.4  68878.8      795 \n",
       "\n",
       "Scaled residuals: \n",
       "    Min      1Q  Median      3Q     Max \n",
       "-21.222  -4.972  -1.183   4.358  31.534 \n",
       "\n",
       "Random effects:\n",
       " Groups  Name        Variance Std.Dev.\n",
       " session (Intercept) 0.3459   0.5881  \n",
       "Number of obs: 798, groups:  session, 27\n",
       "\n",
       "Fixed effects:\n",
       "            Estimate Std. Error z value Pr(>|z|)  \n",
       "(Intercept)  -0.3396     0.1964  -1.729   0.0838 .\n",
       "grouppae     -0.5127     0.2417  -2.121   0.0339 *\n",
       "---\n",
       "Signif. codes:  0 '***' 0.001 '**' 0.01 '*' 0.05 '.' 0.1 ' ' 1\n",
       "\n",
       "Correlation of Fixed Effects:\n",
       "         (Intr)\n",
       "grouppae -0.813"
      ]
     },
     "metadata": {},
     "output_type": "display_data"
    },
    {
     "data": {
      "image/png": "[encoded data removed]",
      "text/plain": [
       "plot without title"
      ]
     },
     "metadata": {},
     "output_type": "display_data"
    },
    {
     "data": {
      "image/png": "[encoded data removed]",
      "text/plain": [
       "Plot with title \"Normal Q-Q Plot\""
      ]
     },
     "metadata": {},
     "output_type": "display_data"
    },
    {
     "data": {
      "image/png": "[encoded data removed]",
      "text/plain": [
       "Plot with title \"density.default(x = resid(m1))\""
      ]
     },
     "metadata": {},
     "output_type": "display_data"
    },
    {
     "data": {
      "image/png": "[encoded data removed]",
      "text/plain": [
       "plot without title"
      ]
     },
     "metadata": {},
     "output_type": "display_data"
    }
   ],
   "source": [
    "area = 'ca1'\n",
    "cell_type = 'pyr'\n",
    "\n",
    "weighted.mean(data[data$area==area & data$group=='control' & data$cell_type==cell_type,]$participation_prob,\n",
    "              data[data$area==area & data$group=='control' & data$cell_type==cell_type,]$n_ripples)\n",
    "\n",
    "weighted.mean(data[data$area==area & data$group=='pae' & data$cell_type==cell_type,]$participation_prob,\n",
    "              data[data$area==area & data$group=='pae' & data$cell_type==cell_type,]$n_ripples)\n",
    "\n",
    "m1 = glmer(participation_prob ~ group + (1|session), weights=n_ripples, data=data[data$area==area & data$cell_type==cell_type,],family=\"binomial\")\n",
    "m1.null = glmer(participation_prob ~ 1 + (1|session), weights=n_ripples, data=data[data$area==area & data$cell_type==cell_type,],family=\"binomial\")\n",
    "\n",
    "anova(m1.null, m1)  \n",
    "\n",
    "summary(m1)\n",
    "# overdisp.glmer(m1)\n",
    "\n",
    "options(repr.plot.width = 4, repr.plot.height = 4)\n",
    "\n",
    "plot(m1)\n",
    "qqnorm(resid(m1))\n",
    "qqline(resid(m1))\n",
    "plot(density(resid(m1)))\n",
    "\n",
    "plot(participation_prob ~ group, data = data[data$area == area & data$cell_type==cell_type,])\n",
    "\n"
   ]
  },
  {
   "cell_type": "code",
   "execution_count": 114,
   "metadata": {},
   "outputs": [
    {
     "data": {
      "text/html": [
       "0.490271310771792"
      ],
      "text/latex": [
       "0.490271310771792"
      ],
      "text/markdown": [
       "0.490271310771792"
      ],
      "text/plain": [
       "[1] 0.4902713"
      ]
     },
     "metadata": {},
     "output_type": "display_data"
    },
    {
     "data": {
      "text/html": [
       "0.335122834754446"
      ],
      "text/latex": [
       "0.335122834754446"
      ],
      "text/markdown": [
       "0.335122834754446"
      ],
      "text/plain": [
       "[1] 0.3351228"
      ]
     },
     "metadata": {},
     "output_type": "display_data"
    },
    {
     "data": {
      "text/html": [
       "<table>\n",
       "<thead><tr><th></th><th scope=col>npar</th><th scope=col>AIC</th><th scope=col>BIC</th><th scope=col>logLik</th><th scope=col>deviance</th><th scope=col>Chisq</th><th scope=col>Df</th><th scope=col>Pr(&gt;Chisq)</th></tr></thead>\n",
       "<tbody>\n",
       "\t<tr><th scope=row>m1.null</th><td>3        </td><td>171220.9 </td><td>171238.3 </td><td>-85607.47</td><td>171214.9 </td><td>      NA </td><td>NA       </td><td>       NA</td></tr>\n",
       "\t<tr><th scope=row>m1</th><td>4        </td><td>171221.1 </td><td>171244.3 </td><td>-85606.54</td><td>171213.1 </td><td>1.845056 </td><td> 1       </td><td>0.1743595</td></tr>\n",
       "</tbody>\n",
       "</table>\n"
      ],
      "text/latex": [
       "\\begin{tabular}{r|llllllll}\n",
       "  & npar & AIC & BIC & logLik & deviance & Chisq & Df & Pr(>Chisq)\\\\\n",
       "\\hline\n",
       "\tm1.null & 3         & 171220.9  & 171238.3  & -85607.47 & 171214.9  &       NA  & NA        &        NA\\\\\n",
       "\tm1 & 4         & 171221.1  & 171244.3  & -85606.54 & 171213.1  & 1.845056  &  1        & 0.1743595\\\\\n",
       "\\end{tabular}\n"
      ],
      "text/markdown": [
       "\n",
       "| <!--/--> | npar | AIC | BIC | logLik | deviance | Chisq | Df | Pr(>Chisq) |\n",
       "|---|---|---|---|---|---|---|---|---|\n",
       "| m1.null | 3         | 171220.9  | 171238.3  | -85607.47 | 171214.9  |       NA  | NA        |        NA |\n",
       "| m1 | 4         | 171221.1  | 171244.3  | -85606.54 | 171213.1  | 1.845056  |  1        | 0.1743595 |\n",
       "\n"
      ],
      "text/plain": [
       "        npar AIC      BIC      logLik    deviance Chisq    Df Pr(>Chisq)\n",
       "m1.null 3    171220.9 171238.3 -85607.47 171214.9       NA NA        NA \n",
       "m1      4    171221.1 171244.3 -85606.54 171213.1 1.845056  1 0.1743595 "
      ]
     },
     "metadata": {},
     "output_type": "display_data"
    },
    {
     "data": {
      "text/plain": [
       "Generalized linear mixed model fit by maximum likelihood (Laplace\n",
       "  Approximation) [glmerMod]\n",
       " Family: binomial  ( logit )\n",
       "Formula: participation_prob ~ group + (1 | rat/session)\n",
       "   Data: data[data$area == area & data$cell_type == cell_type, ]\n",
       "Weights: n_ripples\n",
       "\n",
       "     AIC      BIC   logLik deviance df.resid \n",
       "171221.1 171244.3 -85606.5 171213.1     2416 \n",
       "\n",
       "Scaled residuals: \n",
       "    Min      1Q  Median      3Q     Max \n",
       "-28.054  -4.391  -1.460   4.135  36.816 \n",
       "\n",
       "Random effects:\n",
       " Groups      Name        Variance Std.Dev.\n",
       " session:rat (Intercept) 0.1415   0.3761  \n",
       " rat         (Intercept) 0.1544   0.3929  \n",
       "Number of obs: 2420, groups:  session:rat, 68; rat, 6\n",
       "\n",
       "Fixed effects:\n",
       "            Estimate Std. Error z value Pr(>|z|)\n",
       "(Intercept)  -0.2964     0.2566  -1.155    0.248\n",
       "grouppae     -0.5128     0.3474  -1.476    0.140\n",
       "\n",
       "Correlation of Fixed Effects:\n",
       "         (Intr)\n",
       "grouppae -0.739"
      ]
     },
     "metadata": {},
     "output_type": "display_data"
    },
    {
     "data": {
      "image/png": "[encoded data removed]",
      "text/plain": [
       "plot without title"
      ]
     },
     "metadata": {},
     "output_type": "display_data"
    },
    {
     "data": {
      "image/png": "[encoded data removed]",
      "text/plain": [
       "Plot with title \"Normal Q-Q Plot\""
      ]
     },
     "metadata": {},
     "output_type": "display_data"
    },
    {
     "data": {
      "image/png": "[encoded data removed]",
      "text/plain": [
       "Plot with title \"density.default(x = resid(m1))\""
      ]
     },
     "metadata": {},
     "output_type": "display_data"
    },
    {
     "data": {
      "image/png": "[encoded data removed]",
      "text/plain": [
       "plot without title"
      ]
     },
     "metadata": {},
     "output_type": "display_data"
    }
   ],
   "source": [
    "area = 'ca3'\n",
    "cell_type = 'pyr'\n",
    "\n",
    "weighted.mean(data[data$area==area & data$group=='control' & data$cell_type==cell_type,]$participation_prob,\n",
    "              data[data$area==area & data$group=='control' & data$cell_type==cell_type,]$n_ripples)\n",
    "\n",
    "weighted.mean(data[data$area==area & data$group=='pae' & data$cell_type==cell_type,]$participation_prob,\n",
    "              data[data$area==area & data$group=='pae' & data$cell_type==cell_type,]$n_ripples)\n",
    "\n",
    "m1 = glmer(participation_prob ~ group + (1|rat/session), weights=n_ripples, data=data[data$area==area & data$cell_type==cell_type,],family=\"binomial\")\n",
    "m1.null = glmer(participation_prob ~ 1 + (1|rat/session), weights=n_ripples, data=data[data$area==area & data$cell_type==cell_type,],family=\"binomial\")\n",
    "\n",
    "anova(m1.null, m1)  \n",
    "\n",
    "summary(m1)\n",
    "# overdisp.glmer(m1)\n",
    "\n",
    "options(repr.plot.width = 4, repr.plot.height = 4)\n",
    "\n",
    "plot(m1)\n",
    "qqnorm(resid(m1))\n",
    "qqline(resid(m1))\n",
    "plot(density(resid(m1)))\n",
    "\n",
    "plot(participation_prob ~ group, data = data[data$area == area & data$cell_type==cell_type,])\n",
    "\n"
   ]
  },
  {
   "cell_type": "code",
   "execution_count": 124,
   "metadata": {},
   "outputs": [
    {
     "data": {
      "text/html": [
       "0.246556061127008"
      ],
      "text/latex": [
       "0.246556061127008"
      ],
      "text/markdown": [
       "0.246556061127008"
      ],
      "text/plain": [
       "[1] 0.2465561"
      ]
     },
     "metadata": {},
     "output_type": "display_data"
    },
    {
     "data": {
      "text/html": [
       "0.202019180337494"
      ],
      "text/latex": [
       "0.202019180337494"
      ],
      "text/markdown": [
       "0.202019180337494"
      ],
      "text/plain": [
       "[1] 0.2020192"
      ]
     },
     "metadata": {},
     "output_type": "display_data"
    },
    {
     "name": "stderr",
     "output_type": "stream",
     "text": [
      "Warning message in eval(family$initialize, rho):\n",
      "\"non-integer #successes in a binomial glm!\"Warning message in eval(family$initialize, rho):\n",
      "\"non-integer #successes in a binomial glm!\""
     ]
    },
    {
     "data": {
      "text/html": [
       "<table>\n",
       "<thead><tr><th></th><th scope=col>npar</th><th scope=col>AIC</th><th scope=col>BIC</th><th scope=col>logLik</th><th scope=col>deviance</th><th scope=col>Chisq</th><th scope=col>Df</th><th scope=col>Pr(&gt;Chisq)</th></tr></thead>\n",
       "<tbody>\n",
       "\t<tr><th scope=row>m1.null</th><td>2         </td><td>17119.97  </td><td>17127.57  </td><td>-8557.987 </td><td>17115.97  </td><td>      NA  </td><td>NA        </td><td>        NA</td></tr>\n",
       "\t<tr><th scope=row>m1</th><td>3         </td><td>17117.92  </td><td>17129.32  </td><td>-8555.961 </td><td>17111.92  </td><td>4.051982  </td><td> 1        </td><td>0.04411951</td></tr>\n",
       "</tbody>\n",
       "</table>\n"
      ],
      "text/latex": [
       "\\begin{tabular}{r|llllllll}\n",
       "  & npar & AIC & BIC & logLik & deviance & Chisq & Df & Pr(>Chisq)\\\\\n",
       "\\hline\n",
       "\tm1.null & 2          & 17119.97   & 17127.57   & -8557.987  & 17115.97   &       NA   & NA         &         NA\\\\\n",
       "\tm1 & 3          & 17117.92   & 17129.32   & -8555.961  & 17111.92   & 4.051982   &  1         & 0.04411951\\\\\n",
       "\\end{tabular}\n"
      ],
      "text/markdown": [
       "\n",
       "| <!--/--> | npar | AIC | BIC | logLik | deviance | Chisq | Df | Pr(>Chisq) |\n",
       "|---|---|---|---|---|---|---|---|---|\n",
       "| m1.null | 2          | 17119.97   | 17127.57   | -8557.987  | 17115.97   |       NA   | NA         |         NA |\n",
       "| m1 | 3          | 17117.92   | 17129.32   | -8555.961  | 17111.92   | 4.051982   |  1         | 0.04411951 |\n",
       "\n"
      ],
      "text/plain": [
       "        npar AIC      BIC      logLik    deviance Chisq    Df Pr(>Chisq)\n",
       "m1.null 2    17119.97 17127.57 -8557.987 17115.97       NA NA         NA\n",
       "m1      3    17117.92 17129.32 -8555.961 17111.92 4.051982  1 0.04411951"
      ]
     },
     "metadata": {},
     "output_type": "display_data"
    },
    {
     "data": {
      "text/plain": [
       "Generalized linear mixed model fit by maximum likelihood (Laplace\n",
       "  Approximation) [glmerMod]\n",
       " Family: binomial  ( logit )\n",
       "Formula: participation_prob_trans ~ group + (1 | session)\n",
       "   Data: data[data$area == area & data$cell_type == cell_type, ]\n",
       "Weights: n_ripples\n",
       "\n",
       "     AIC      BIC   logLik deviance df.resid \n",
       " 17117.9  17129.3  -8556.0  17111.9      327 \n",
       "\n",
       "Scaled residuals: \n",
       "    Min      1Q  Median      3Q     Max \n",
       "-13.322  -4.112  -1.343   3.532  31.604 \n",
       "\n",
       "Random effects:\n",
       " Groups  Name        Variance Std.Dev.\n",
       " session (Intercept) 0.5881   0.7669  \n",
       "Number of obs: 330, groups:  session, 25\n",
       "\n",
       "Fixed effects:\n",
       "            Estimate Std. Error z value Pr(>|z|)    \n",
       "(Intercept)  -1.0059     0.2734  -3.679 0.000234 ***\n",
       "grouppae     -0.6949     0.3335  -2.084 0.037194 *  \n",
       "---\n",
       "Signif. codes:  0 '***' 0.001 '**' 0.01 '*' 0.05 '.' 0.1 ' ' 1\n",
       "\n",
       "Correlation of Fixed Effects:\n",
       "         (Intr)\n",
       "grouppae -0.820"
      ]
     },
     "metadata": {},
     "output_type": "display_data"
    },
    {
     "data": {
      "image/png": "[encoded data removed]",
      "text/plain": [
       "plot without title"
      ]
     },
     "metadata": {},
     "output_type": "display_data"
    },
    {
     "data": {
      "image/png": "[encoded data removed]",
      "text/plain": [
       "Plot with title \"Normal Q-Q Plot\""
      ]
     },
     "metadata": {},
     "output_type": "display_data"
    },
    {
     "data": {
      "image/png": "[encoded data removed]",
      "text/plain": [
       "Plot with title \"density.default(x = resid(m1))\""
      ]
     },
     "metadata": {},
     "output_type": "display_data"
    },
    {
     "data": {
      "image/png": "[encoded data removed]",
      "text/plain": [
       "plot without title"
      ]
     },
     "metadata": {},
     "output_type": "display_data"
    },
    {
     "data": {
      "image/png": "[encoded data removed]",
      "text/plain": [
       "plot without title"
      ]
     },
     "metadata": {},
     "output_type": "display_data"
    },
    {
     "data": {
      "image/png": "[encoded data removed]",
      "text/plain": [
       "plot without title"
      ]
     },
     "metadata": {},
     "output_type": "display_data"
    }
   ],
   "source": [
    "area = 'ca1'\n",
    "cell_type = 'int'\n",
    "\n",
    "data$participation_prob_trans = data$participation_prob+1\n",
    "\n",
    "# m1 = lm(participation_prob_trans ~ group, data = data[data$cell_type == \"int\" & data$area == \"ca1\",])\n",
    "# result = boxcox(m1, lambda = seq(-5,5,0.5))\n",
    "# lambda = result$x[which.max(result$y)]\n",
    "# data$participation_prob_trans = data$participation_prob_trans^lambda\n",
    "\n",
    "data$participation_prob_trans = log(data$participation_prob+1)\n",
    "\n",
    "weighted.mean(data[data$area==area & data$group=='control' & data$cell_type==cell_type,]$participation_prob_trans,\n",
    "              data[data$area==area & data$group=='control' & data$cell_type==cell_type,]$n_ripples)\n",
    "\n",
    "weighted.mean(data[data$area==area & data$group=='pae' & data$cell_type==cell_type,]$participation_prob_trans,\n",
    "              data[data$area==area & data$group=='pae' & data$cell_type==cell_type,]$n_ripples)\n",
    "\n",
    "m1 = glmer(participation_prob_trans ~ group + (1|session), weights=n_ripples, data=data[data$area==area & data$cell_type==cell_type,],family=\"binomial\")\n",
    "m1.null = glmer(participation_prob_trans ~ 1 + (1|session), weights=n_ripples, data=data[data$area==area & data$cell_type==cell_type,],family=\"binomial\")\n",
    "\n",
    "anova(m1.null, m1)  \n",
    "\n",
    "summary(m1)\n",
    "# overdisp.glmer(m1)\n",
    "\n",
    "options(repr.plot.width = 4, repr.plot.height = 4)\n",
    "\n",
    "plot(m1)\n",
    "qqnorm(resid(m1))\n",
    "qqline(resid(m1))\n",
    "plot(density(resid(m1)))\n",
    "\n",
    "plot(participation_prob_trans ~ group, data = data[data$area == area & data$cell_type==cell_type,])\n",
    "\n",
    "ggplot(data[data$area=='ca1' & data$cell_type==cell_type,], aes(x=participation_prob, color=group)) +\n",
    "    geom_histogram(aes(y=..density..),alpha=0.5,bins = 200) +\n",
    "    geom_density() +\n",
    "    facet_grid(area ~ .)\n",
    "\n",
    "ggplot(data[data$area=='ca1' & data$cell_type==cell_type,], aes(x=participation_prob_trans, color=group)) +\n",
    "    geom_histogram(aes(y=..density..),alpha=0.5,bins = 200) +\n",
    "    geom_density() +\n",
    "    facet_grid(area ~ .)\n"
   ]
  },
  {
   "cell_type": "code",
   "execution_count": 125,
   "metadata": {},
   "outputs": [
    {
     "data": {
      "text/html": [
       "0.421958791984194"
      ],
      "text/latex": [
       "0.421958791984194"
      ],
      "text/markdown": [
       "0.421958791984194"
      ],
      "text/plain": [
       "[1] 0.4219588"
      ]
     },
     "metadata": {},
     "output_type": "display_data"
    },
    {
     "data": {
      "text/html": [
       "0.269043039116786"
      ],
      "text/latex": [
       "0.269043039116786"
      ],
      "text/markdown": [
       "0.269043039116786"
      ],
      "text/plain": [
       "[1] 0.269043"
      ]
     },
     "metadata": {},
     "output_type": "display_data"
    },
    {
     "name": "stderr",
     "output_type": "stream",
     "text": [
      "Warning message in eval(family$initialize, rho):\n",
      "\"non-integer #successes in a binomial glm!\"Warning message in eval(family$initialize, rho):\n",
      "\"non-integer #successes in a binomial glm!\""
     ]
    },
    {
     "data": {
      "text/html": [
       "<table>\n",
       "<thead><tr><th></th><th scope=col>npar</th><th scope=col>AIC</th><th scope=col>BIC</th><th scope=col>logLik</th><th scope=col>deviance</th><th scope=col>Chisq</th><th scope=col>Df</th><th scope=col>Pr(&gt;Chisq)</th></tr></thead>\n",
       "<tbody>\n",
       "\t<tr><th scope=row>m1.null</th><td>3        </td><td>34627.91 </td><td>34642.83 </td><td>-17310.95</td><td>34621.91 </td><td>      NA </td><td>NA       </td><td>       NA</td></tr>\n",
       "\t<tr><th scope=row>m1</th><td>4        </td><td>34628.33 </td><td>34648.23 </td><td>-17310.16</td><td>34620.33 </td><td>1.581794 </td><td> 1       </td><td>0.2085024</td></tr>\n",
       "</tbody>\n",
       "</table>\n"
      ],
      "text/latex": [
       "\\begin{tabular}{r|llllllll}\n",
       "  & npar & AIC & BIC & logLik & deviance & Chisq & Df & Pr(>Chisq)\\\\\n",
       "\\hline\n",
       "\tm1.null & 3         & 34627.91  & 34642.83  & -17310.95 & 34621.91  &       NA  & NA        &        NA\\\\\n",
       "\tm1 & 4         & 34628.33  & 34648.23  & -17310.16 & 34620.33  & 1.581794  &  1        & 0.2085024\\\\\n",
       "\\end{tabular}\n"
      ],
      "text/markdown": [
       "\n",
       "| <!--/--> | npar | AIC | BIC | logLik | deviance | Chisq | Df | Pr(>Chisq) |\n",
       "|---|---|---|---|---|---|---|---|---|\n",
       "| m1.null | 3         | 34627.91  | 34642.83  | -17310.95 | 34621.91  |       NA  | NA        |        NA |\n",
       "| m1 | 4         | 34628.33  | 34648.23  | -17310.16 | 34620.33  | 1.581794  |  1        | 0.2085024 |\n",
       "\n"
      ],
      "text/plain": [
       "        npar AIC      BIC      logLik    deviance Chisq    Df Pr(>Chisq)\n",
       "m1.null 3    34627.91 34642.83 -17310.95 34621.91       NA NA        NA \n",
       "m1      4    34628.33 34648.23 -17310.16 34620.33 1.581794  1 0.2085024 "
      ]
     },
     "metadata": {},
     "output_type": "display_data"
    },
    {
     "data": {
      "text/plain": [
       "Generalized linear mixed model fit by maximum likelihood (Laplace\n",
       "  Approximation) [glmerMod]\n",
       " Family: binomial  ( logit )\n",
       "Formula: participation_prob_trans ~ group + (1 | rat/session)\n",
       "   Data: data[data$area == area & data$cell_type == cell_type, ]\n",
       "Weights: n_ripples\n",
       "\n",
       "     AIC      BIC   logLik deviance df.resid \n",
       " 34628.3  34648.2 -17310.2  34620.3     1065 \n",
       "\n",
       "Scaled residuals: \n",
       "     Min       1Q   Median       3Q      Max \n",
       "-17.5405  -3.5604  -0.9555   3.0104  26.5526 \n",
       "\n",
       "Random effects:\n",
       " Groups      Name        Variance Std.Dev.\n",
       " session:rat (Intercept) 0.1359   0.3686  \n",
       " rat         (Intercept) 0.1683   0.4103  \n",
       "Number of obs: 1069, groups:  session:rat, 63; rat, 6\n",
       "\n",
       "Fixed effects:\n",
       "            Estimate Std. Error z value Pr(>|z|)  \n",
       "(Intercept)  -0.6529     0.2682  -2.434   0.0149 *\n",
       "grouppae     -0.4978     0.3623  -1.374   0.1694  \n",
       "---\n",
       "Signif. codes:  0 '***' 0.001 '**' 0.01 '*' 0.05 '.' 0.1 ' ' 1\n",
       "\n",
       "Correlation of Fixed Effects:\n",
       "         (Intr)\n",
       "grouppae -0.740"
      ]
     },
     "metadata": {},
     "output_type": "display_data"
    },
    {
     "data": {
      "image/png": "[encoded data removed]",
      "text/plain": [
       "plot without title"
      ]
     },
     "metadata": {},
     "output_type": "display_data"
    },
    {
     "data": {
      "image/png": "[encoded data removed]",
      "text/plain": [
       "Plot with title \"Normal Q-Q Plot\""
      ]
     },
     "metadata": {},
     "output_type": "display_data"
    },
    {
     "data": {
      "image/png": "[encoded data removed]",
      "text/plain": [
       "Plot with title \"density.default(x = resid(m1))\""
      ]
     },
     "metadata": {},
     "output_type": "display_data"
    },
    {
     "data": {
      "image/png": "[encoded data removed]",
      "text/plain": [
       "plot without title"
      ]
     },
     "metadata": {},
     "output_type": "display_data"
    }
   ],
   "source": [
    "area = 'ca3'\n",
    "cell_type = 'int'\n",
    "\n",
    "data$participation_prob_trans = log(data$participation_prob+1)\n",
    "\n",
    "\n",
    "weighted.mean(data[data$area==area & data$group=='control' & data$cell_type==cell_type,]$participation_prob,\n",
    "              data[data$area==area & data$group=='control' & data$cell_type==cell_type,]$n_ripples)\n",
    "\n",
    "weighted.mean(data[data$area==area & data$group=='pae' & data$cell_type==cell_type,]$participation_prob,\n",
    "              data[data$area==area & data$group=='pae' & data$cell_type==cell_type,]$n_ripples)\n",
    "\n",
    "m1 = glmer(participation_prob_trans ~ group + (1|rat/session), weights=n_ripples, data=data[data$area==area & data$cell_type==cell_type,],family=\"binomial\")\n",
    "m1.null = glmer(participation_prob_trans ~ 1 + (1|rat/session), weights=n_ripples, data=data[data$area==area & data$cell_type==cell_type,],family=\"binomial\")\n",
    "\n",
    "anova(m1.null, m1)  \n",
    "\n",
    "summary(m1)\n",
    "# overdisp.glmer(m1)\n",
    "\n",
    "options(repr.plot.width = 4, repr.plot.height = 4)\n",
    "\n",
    "plot(m1)\n",
    "qqnorm(resid(m1))\n",
    "qqline(resid(m1))\n",
    "plot(density(resid(m1)))\n",
    "\n",
    "plot(participation_prob_trans ~ group, data = data[data$area == area & data$cell_type==cell_type,])\n",
    "\n"
   ]
  }
 ],
 "metadata": {
  "kernelspec": {
   "display_name": "R",
   "language": "R",
   "name": "ir"
  },
  "language_info": {
   "codemirror_mode": "r",
   "file_extension": ".r",
   "mimetype": "text/x-r-source",
   "name": "R",
   "pygments_lexer": "r",
   "version": "3.6.1"
  }
 },
 "nbformat": 4,
 "nbformat_minor": 4
}
