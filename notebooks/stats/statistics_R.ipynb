{
 "cells": [
  {
   "cell_type": "code",
   "execution_count": 1,
   "metadata": {},
   "outputs": [
    {
     "name": "stderr",
     "output_type": "stream",
     "text": [
      "Warning message:\n",
      "\"package 'lme4' was built under R version 3.6.3\"Loading required package: Matrix\n"
     ]
    }
   ],
   "source": [
    "# install.packages(\"lme4\")\n",
    "library(lme4)\n"
   ]
  },
  {
   "cell_type": "code",
   "execution_count": 4,
   "metadata": {},
   "outputs": [
    {
     "data": {
      "text/plain": [
       "       X           Unnamed..0     Unnamed..0.1   ripple_number \n",
       " Min.   :    0   Min.   :    0   Min.   :    0   Min.   :   0  \n",
       " 1st Qu.: 4386   1st Qu.: 4386   1st Qu.: 4432   1st Qu.: 179  \n",
       " Median : 8772   Median : 8772   Median : 8897   Median : 405  \n",
       " Mean   : 8772   Mean   : 8772   Mean   : 8891   Mean   : 584  \n",
       " 3rd Qu.:13158   3rd Qu.:13158   3rd Qu.:13344   3rd Qu.: 874  \n",
       " Max.   :17544   Max.   :17544   Max.   :17822   Max.   :3665  \n",
       "                                                               \n",
       "   start_time        end_time        ripple_duration     max_emg       \n",
       " Min.   :   0.0   Min.   :   0.239   Min.   :0.0248   Min.   :-0.0709  \n",
       " 1st Qu.: 717.7   1st Qu.: 717.786   1st Qu.:0.0720   1st Qu.: 0.3016  \n",
       " Median :1747.9   Median :1747.918   Median :0.1040   Median : 0.4030  \n",
       " Mean   :1779.6   Mean   :1779.701   Mean   :0.1230   Mean   : 0.4449  \n",
       " 3rd Qu.:2597.7   3rd Qu.:2597.737   3rd Qu.:0.1520   3rd Qu.: 0.5471  \n",
       " Max.   :6172.0   Max.   :6172.226   Max.   :0.9864   Max.   : 1.0000  \n",
       "                                                      NA's   :55       \n",
       "   peak_time         peak_channel   peak_amplitude      peak_freq    \n",
       " Min.   :   0.002   Min.   : 0.00   Min.   :  1.867   Min.   : 80.0  \n",
       " 1st Qu.: 717.737   1st Qu.: 3.00   1st Qu.:  3.824   1st Qu.:111.5  \n",
       " Median :1747.898   Median : 6.00   Median :  4.694   Median :134.1  \n",
       " Mean   :1779.642   Mean   :13.71   Mean   :  5.839   Mean   :141.0  \n",
       " 3rd Qu.:2597.722   3rd Qu.:19.00   3rd Qu.:  6.026   3rd Qu.:168.5  \n",
       " Max.   :6172.192   Max.   :63.00   Max.   :220.574   Max.   :237.4  \n",
       "                                                                     \n",
       "    clipped                            session            ep_type    \n",
       " Min.   :0.000000   LEM3246_S20190629164240:  983   cylinder_1:4003  \n",
       " 1st Qu.:0.000000   LEM3246_S20190701153855:  978   cylinder_2:5948  \n",
       " Median :0.000000   LEM3216_S20190805141510:  824   pedestal_1: 353  \n",
       " Mean   :0.004456   LEM3216_S20190718101925:  698   pedestal_2:1513  \n",
       " 3rd Qu.:0.006667   LEM3216_S20190720145517:  577   pedestal_3:1412  \n",
       " Max.   :0.046667   LEM3216_S20190723165548:  518   pedestal_4: 350  \n",
       "                    (Other)                :12967   track     :3966  \n",
       "     group       area       ripple_duration_log10 peak_amplitude_log10\n",
       " control:9493   ca1: 4845   Min.   :-1.605548     Min.   :0.2712      \n",
       " pae    :8052   ca3:12700   1st Qu.:-1.142667     1st Qu.:0.5825      \n",
       "                            Median :-0.982967     Median :0.6716      \n",
       "                            Mean   :-0.977414     Mean   :0.7013      \n",
       "                            3rd Qu.:-0.818156     3rd Qu.:0.7800      \n",
       "                            Max.   :-0.005947     Max.   :2.3436      \n",
       "                                                                      \n",
       "      rat      \n",
       " LEM3216:7413  \n",
       " LEM3246:4117  \n",
       " LEM3206:2499  \n",
       " LEM3116:1487  \n",
       " LEM3124: 917  \n",
       " LEM3120: 452  \n",
       " (Other): 660  "
      ]
     },
     "metadata": {},
     "output_type": "display_data"
    }
   ],
   "source": [
    "\n",
    "\n",
    "df <- read.csv('F:/Projects/PAE_PlaceCell/analysis/swr_data/post_processed/swr_df.csv')\n",
    "# df <- subset(df,select =- c(Unnamed..0, Unnamed..0.1))\n",
    "\n",
    "summary(df)"
   ]
  },
  {
   "cell_type": "code",
   "execution_count": 9,
   "metadata": {},
   "outputs": [
    {
     "data": {
      "text/plain": [
       "Linear mixed model fit by REML ['lmerMod']\n",
       "Formula: ripple_duration ~ group + (group | rat)\n",
       "   Data: df\n",
       "\n",
       "REML criterion at convergence: -40114.4\n",
       "\n",
       "Scaled residuals: \n",
       "    Min      1Q  Median      3Q     Max \n",
       "-1.9407 -0.6286 -0.2131  0.3682 11.0690 \n",
       "\n",
       "Random effects:\n",
       " Groups   Name        Variance  Std.Dev. Corr\n",
       " rat      (Intercept) 0.0005770 0.02402      \n",
       "          grouppae    0.0003824 0.01955  0.70\n",
       " Residual             0.0059301 0.07701      \n",
       "Number of obs: 17545, groups:  rat, 12\n",
       "\n",
       "Fixed effects:\n",
       "             Estimate Std. Error t value\n",
       "(Intercept)  0.144819   0.010850  13.347\n",
       "grouppae    -0.001155   0.019837  -0.058\n",
       "\n",
       "Correlation of Fixed Effects:\n",
       "         (Intr)\n",
       "grouppae -0.547"
      ]
     },
     "metadata": {},
     "output_type": "display_data"
    }
   ],
   "source": [
    "mdl_null = lmer(ripple_duration ~ 1 + (1|rat) , data = df)\n",
    "summary(mdl)"
   ]
  },
  {
   "cell_type": "code",
   "execution_count": 10,
   "metadata": {},
   "outputs": [
    {
     "data": {
      "text/plain": [
       "Linear mixed model fit by REML ['lmerMod']\n",
       "Formula: ripple_duration ~ group + (1 | rat)\n",
       "   Data: df\n",
       "\n",
       "REML criterion at convergence: -40113.5\n",
       "\n",
       "Scaled residuals: \n",
       "    Min      1Q  Median      3Q     Max \n",
       "-1.9376 -0.6285 -0.2130  0.3681 11.0692 \n",
       "\n",
       "Random effects:\n",
       " Groups   Name        Variance Std.Dev.\n",
       " rat      (Intercept) 0.001171 0.03423 \n",
       " Residual             0.005930 0.07701 \n",
       "Number of obs: 17545, groups:  rat, 12\n",
       "\n",
       "Fixed effects:\n",
       "            Estimate Std. Error t value\n",
       "(Intercept)  0.14617    0.01488   9.826\n",
       "grouppae    -0.00279    0.02056  -0.136\n",
       "\n",
       "Correlation of Fixed Effects:\n",
       "         (Intr)\n",
       "grouppae -0.724"
      ]
     },
     "metadata": {},
     "output_type": "display_data"
    }
   ],
   "source": [
    "mdl = lmer(ripple_duration ~ group + (1|rat) , data = df)\n",
    "summary(mdl)"
   ]
  },
  {
   "cell_type": "code",
   "execution_count": 5,
   "metadata": {},
   "outputs": [
    {
     "data": {
      "image/png": "[encoded data removed]",
      "text/plain": [
       "plot without title"
      ]
     },
     "metadata": {},
     "output_type": "display_data"
    }
   ],
   "source": [
    "plot(mdl)"
   ]
  },
  {
   "cell_type": "code",
   "execution_count": 25,
   "metadata": {},
   "outputs": [
    {
     "name": "stderr",
     "output_type": "stream",
     "text": [
      "refitting model(s) with ML (instead of REML)\n"
     ]
    },
    {
     "data": {
      "text/html": [
       "<table>\n",
       "<thead><tr><th></th><th scope=col>npar</th><th scope=col>AIC</th><th scope=col>BIC</th><th scope=col>logLik</th><th scope=col>deviance</th><th scope=col>Chisq</th><th scope=col>Df</th><th scope=col>Pr(&gt;Chisq)</th></tr></thead>\n",
       "<tbody>\n",
       "\t<tr><th scope=row>mdl_2</th><td>4            </td><td>-39736.6     </td><td>-39705.54    </td><td>19872.30     </td><td>-39744.6     </td><td>      NA     </td><td>NA           </td><td>           NA</td></tr>\n",
       "\t<tr><th scope=row>mdl_1</th><td>5            </td><td>-40571.3     </td><td>-40532.47    </td><td>20290.65     </td><td>-40581.3     </td><td>836.6937     </td><td> 1           </td><td>5.680905e-184</td></tr>\n",
       "</tbody>\n",
       "</table>\n"
      ],
      "text/latex": [
       "\\begin{tabular}{r|llllllll}\n",
       "  & npar & AIC & BIC & logLik & deviance & Chisq & Df & Pr(>Chisq)\\\\\n",
       "\\hline\n",
       "\tmdl\\_2 & 4             & -39736.6      & -39705.54     & 19872.30      & -39744.6      &       NA      & NA            &            NA\\\\\n",
       "\tmdl\\_1 & 5             & -40571.3      & -40532.47     & 20290.65      & -40581.3      & 836.6937      &  1            & 5.680905e-184\\\\\n",
       "\\end{tabular}\n"
      ],
      "text/markdown": [
       "\n",
       "| <!--/--> | npar | AIC | BIC | logLik | deviance | Chisq | Df | Pr(>Chisq) |\n",
       "|---|---|---|---|---|---|---|---|---|\n",
       "| mdl_2 | 4             | -39736.6      | -39705.54     | 19872.30      | -39744.6      |       NA      | NA            |            NA |\n",
       "| mdl_1 | 5             | -40571.3      | -40532.47     | 20290.65      | -40581.3      | 836.6937      |  1            | 5.680905e-184 |\n",
       "\n"
      ],
      "text/plain": [
       "      npar AIC      BIC       logLik   deviance Chisq    Df Pr(>Chisq)   \n",
       "mdl_2 4    -39736.6 -39705.54 19872.30 -39744.6       NA NA            NA\n",
       "mdl_1 5    -40571.3 -40532.47 20290.65 -40581.3 836.6937  1 5.680905e-184"
      ]
     },
     "metadata": {},
     "output_type": "display_data"
    }
   ],
   "source": [
    "mdl_1 = lmer(ripple_duration ~ group + (1|rat/session) , data = df)\n",
    "mdl_2 = lmer(ripple_duration ~ group + (1|rat) , data = df)\n",
    "\n",
    "anova(mdl_1,mdl_2,refit=TRUE)"
   ]
  },
  {
   "cell_type": "code",
   "execution_count": 26,
   "metadata": {},
   "outputs": [
    {
     "data": {
      "text/html": [
       "<table>\n",
       "<thead><tr><th></th><th scope=col>npar</th><th scope=col>AIC</th><th scope=col>BIC</th><th scope=col>logLik</th><th scope=col>deviance</th><th scope=col>Chisq</th><th scope=col>Df</th><th scope=col>Pr(&gt;Chisq)</th></tr></thead>\n",
       "<tbody>\n",
       "\t<tr><th scope=row>mdl_2</th><td>4          </td><td>-39724.87  </td><td>-39693.80  </td><td>19866.43   </td><td>-39732.87  </td><td>      NA   </td><td>NA         </td><td>         NA</td></tr>\n",
       "\t<tr><th scope=row>mdl_1</th><td>5          </td><td>-40559.25  </td><td>-40520.42  </td><td>20284.63   </td><td>-40569.25  </td><td>836.3858   </td><td> 1         </td><td>6.6276e-184</td></tr>\n",
       "</tbody>\n",
       "</table>\n"
      ],
      "text/latex": [
       "\\begin{tabular}{r|llllllll}\n",
       "  & npar & AIC & BIC & logLik & deviance & Chisq & Df & Pr(>Chisq)\\\\\n",
       "\\hline\n",
       "\tmdl\\_2 & 4           & -39724.87   & -39693.80   & 19866.43    & -39732.87   &       NA    & NA          &          NA\\\\\n",
       "\tmdl\\_1 & 5           & -40559.25   & -40520.42   & 20284.63    & -40569.25   & 836.3858    &  1          & 6.6276e-184\\\\\n",
       "\\end{tabular}\n"
      ],
      "text/markdown": [
       "\n",
       "| <!--/--> | npar | AIC | BIC | logLik | deviance | Chisq | Df | Pr(>Chisq) |\n",
       "|---|---|---|---|---|---|---|---|---|\n",
       "| mdl_2 | 4           | -39724.87   | -39693.80   | 19866.43    | -39732.87   |       NA    | NA          |          NA |\n",
       "| mdl_1 | 5           | -40559.25   | -40520.42   | 20284.63    | -40569.25   | 836.3858    |  1          | 6.6276e-184 |\n",
       "\n"
      ],
      "text/plain": [
       "      npar AIC       BIC       logLik   deviance  Chisq    Df Pr(>Chisq) \n",
       "mdl_2 4    -39724.87 -39693.80 19866.43 -39732.87       NA NA          NA\n",
       "mdl_1 5    -40559.25 -40520.42 20284.63 -40569.25 836.3858  1 6.6276e-184"
      ]
     },
     "metadata": {},
     "output_type": "display_data"
    }
   ],
   "source": [
    "anova(mdl_1,mdl_2,refit=FALSE)"
   ]
  },
  {
   "cell_type": "code",
   "execution_count": 43,
   "metadata": {},
   "outputs": [],
   "source": [
    "# install.packages(\"car\")\n",
    "\n",
    "library(\"car\")\n",
    "mdl_full = lmer(peak_freq ~ group + (1|rat) , data = df, REML=FALSE)\n",
    "# summary(mdl_1)\n",
    "# Anova(mdl_1)"
   ]
  },
  {
   "cell_type": "code",
   "execution_count": 44,
   "metadata": {},
   "outputs": [],
   "source": [
    "mdl_null = lmer(peak_freq ~ (1|rat) , data = df, REML=FALSE)\n",
    "\n"
   ]
  },
  {
   "cell_type": "code",
   "execution_count": 45,
   "metadata": {},
   "outputs": [
    {
     "data": {
      "text/html": [
       "<table>\n",
       "<thead><tr><th></th><th scope=col>npar</th><th scope=col>AIC</th><th scope=col>BIC</th><th scope=col>logLik</th><th scope=col>deviance</th><th scope=col>Chisq</th><th scope=col>Df</th><th scope=col>Pr(&gt;Chisq)</th></tr></thead>\n",
       "<tbody>\n",
       "\t<tr><th scope=row>mdl_null</th><td>3        </td><td>167169.1 </td><td>167192.4 </td><td>-83581.56</td><td>167163.1 </td><td>       NA</td><td>NA       </td><td>       NA</td></tr>\n",
       "\t<tr><th scope=row>mdl_full</th><td>4        </td><td>167170.4 </td><td>167201.5 </td><td>-83581.19</td><td>167162.4 </td><td>0.7359491</td><td> 1       </td><td>0.3909616</td></tr>\n",
       "</tbody>\n",
       "</table>\n"
      ],
      "text/latex": [
       "\\begin{tabular}{r|llllllll}\n",
       "  & npar & AIC & BIC & logLik & deviance & Chisq & Df & Pr(>Chisq)\\\\\n",
       "\\hline\n",
       "\tmdl\\_null & 3         & 167169.1  & 167192.4  & -83581.56 & 167163.1  &        NA & NA        &        NA\\\\\n",
       "\tmdl\\_full & 4         & 167170.4  & 167201.5  & -83581.19 & 167162.4  & 0.7359491 &  1        & 0.3909616\\\\\n",
       "\\end{tabular}\n"
      ],
      "text/markdown": [
       "\n",
       "| <!--/--> | npar | AIC | BIC | logLik | deviance | Chisq | Df | Pr(>Chisq) |\n",
       "|---|---|---|---|---|---|---|---|---|\n",
       "| mdl_null | 3         | 167169.1  | 167192.4  | -83581.56 | 167163.1  |        NA | NA        |        NA |\n",
       "| mdl_full | 4         | 167170.4  | 167201.5  | -83581.19 | 167162.4  | 0.7359491 |  1        | 0.3909616 |\n",
       "\n"
      ],
      "text/plain": [
       "         npar AIC      BIC      logLik    deviance Chisq     Df Pr(>Chisq)\n",
       "mdl_null 3    167169.1 167192.4 -83581.56 167163.1        NA NA        NA \n",
       "mdl_full 4    167170.4 167201.5 -83581.19 167162.4 0.7359491  1 0.3909616 "
      ]
     },
     "metadata": {},
     "output_type": "display_data"
    }
   ],
   "source": [
    "anova(mdl_null,mdl_full)"
   ]
  },
  {
   "cell_type": "code",
   "execution_count": null,
   "metadata": {},
   "outputs": [],
   "source": [
    "df_ripple_rate <- read.csv('F:/Projects/PAE_PlaceCell/analysis/swr_data/post_processed/df_ripple_rate.csv')\n",
    "df_ripple_rate"
   ]
  },
  {
   "cell_type": "markdown",
   "metadata": {},
   "source": [
    "### get cliff's delta effect size with confidence"
   ]
  },
  {
   "cell_type": "code",
   "execution_count": 7,
   "metadata": {},
   "outputs": [
    {
     "name": "stdout",
     "output_type": "stream",
     "text": [
      "[1] \"ripple_duration\"\n"
     ]
    },
    {
     "data": {
      "text/html": [
       "<table>\n",
       "<thead><tr><th scope=col>Cliff.delta</th><th scope=col>lower.ci</th><th scope=col>upper.ci</th></tr></thead>\n",
       "<tbody>\n",
       "\t<tr><td>0.187</td><td>0.171</td><td>0.204</td></tr>\n",
       "</tbody>\n",
       "</table>\n"
      ],
      "text/latex": [
       "\\begin{tabular}{r|lll}\n",
       " Cliff.delta & lower.ci & upper.ci\\\\\n",
       "\\hline\n",
       "\t 0.187 & 0.171 & 0.204\\\\\n",
       "\\end{tabular}\n"
      ],
      "text/markdown": [
       "\n",
       "| Cliff.delta | lower.ci | upper.ci |\n",
       "|---|---|---|\n",
       "| 0.187 | 0.171 | 0.204 |\n",
       "\n"
      ],
      "text/plain": [
       "  Cliff.delta lower.ci upper.ci\n",
       "1 0.187       0.171    0.204   "
      ]
     },
     "metadata": {},
     "output_type": "display_data"
    },
    {
     "name": "stdout",
     "output_type": "stream",
     "text": [
      "[1] \"peak_freq\"\n"
     ]
    },
    {
     "data": {
      "text/html": [
       "<table>\n",
       "<thead><tr><th scope=col>Cliff.delta</th><th scope=col>lower.ci</th><th scope=col>upper.ci</th></tr></thead>\n",
       "<tbody>\n",
       "\t<tr><td>-0.314</td><td>-0.331</td><td>-0.298</td></tr>\n",
       "</tbody>\n",
       "</table>\n"
      ],
      "text/latex": [
       "\\begin{tabular}{r|lll}\n",
       " Cliff.delta & lower.ci & upper.ci\\\\\n",
       "\\hline\n",
       "\t -0.314 & -0.331 & -0.298\\\\\n",
       "\\end{tabular}\n"
      ],
      "text/markdown": [
       "\n",
       "| Cliff.delta | lower.ci | upper.ci |\n",
       "|---|---|---|\n",
       "| -0.314 | -0.331 | -0.298 |\n",
       "\n"
      ],
      "text/plain": [
       "  Cliff.delta lower.ci upper.ci\n",
       "1 -0.314      -0.331   -0.298  "
      ]
     },
     "metadata": {},
     "output_type": "display_data"
    },
    {
     "name": "stdout",
     "output_type": "stream",
     "text": [
      "[1] \"peak_amplitude\"\n"
     ]
    },
    {
     "data": {
      "text/html": [
       "<table>\n",
       "<thead><tr><th scope=col>Cliff.delta</th><th scope=col>lower.ci</th><th scope=col>upper.ci</th></tr></thead>\n",
       "<tbody>\n",
       "\t<tr><td>0.11  </td><td>0.0917</td><td>0.128 </td></tr>\n",
       "</tbody>\n",
       "</table>\n"
      ],
      "text/latex": [
       "\\begin{tabular}{r|lll}\n",
       " Cliff.delta & lower.ci & upper.ci\\\\\n",
       "\\hline\n",
       "\t 0.11   & 0.0917 & 0.128 \\\\\n",
       "\\end{tabular}\n"
      ],
      "text/markdown": [
       "\n",
       "| Cliff.delta | lower.ci | upper.ci |\n",
       "|---|---|---|\n",
       "| 0.11   | 0.0917 | 0.128  |\n",
       "\n"
      ],
      "text/plain": [
       "  Cliff.delta lower.ci upper.ci\n",
       "1 0.11        0.0917   0.128   "
      ]
     },
     "metadata": {},
     "output_type": "display_data"
    },
    {
     "name": "stdout",
     "output_type": "stream",
     "text": [
      "[1] \"ripple_rate\"\n"
     ]
    },
    {
     "data": {
      "text/html": [
       "<table>\n",
       "<thead><tr><th scope=col>Cliff.delta</th><th scope=col>lower.ci</th><th scope=col>upper.ci</th></tr></thead>\n",
       "<tbody>\n",
       "\t<tr><td>-0.00413</td><td>-0.185  </td><td>0.172   </td></tr>\n",
       "</tbody>\n",
       "</table>\n"
      ],
      "text/latex": [
       "\\begin{tabular}{r|lll}\n",
       " Cliff.delta & lower.ci & upper.ci\\\\\n",
       "\\hline\n",
       "\t -0.00413 & -0.185   & 0.172   \\\\\n",
       "\\end{tabular}\n"
      ],
      "text/markdown": [
       "\n",
       "| Cliff.delta | lower.ci | upper.ci |\n",
       "|---|---|---|\n",
       "| -0.00413 | -0.185   | 0.172    |\n",
       "\n"
      ],
      "text/plain": [
       "  Cliff.delta lower.ci upper.ci\n",
       "1 -0.00413    -0.185   0.172   "
      ]
     },
     "metadata": {},
     "output_type": "display_data"
    }
   ],
   "source": [
    "\n",
    "library(rcompanion)\n",
    "\n",
    "print('ripple_duration')\n",
    "cliffDelta(ripple_duration~group,data=df,ci=TRUE)\n",
    "\n",
    "print('peak_freq')\n",
    "cliffDelta(peak_freq~group,data=df,ci=TRUE)\n",
    "\n",
    "print('peak_amplitude')\n",
    "cliffDelta(peak_amplitude~group,data=df,ci=TRUE)\n",
    "\n",
    "print('ripple_rate')\n",
    "cliffDelta(ripple_rate~group,data=df_ripple_rate,ci=TRUE)\n",
    "\n"
   ]
  },
  {
   "cell_type": "markdown",
   "metadata": {},
   "source": [
    "### get median differences"
   ]
  },
  {
   "cell_type": "code",
   "execution_count": 8,
   "metadata": {},
   "outputs": [
    {
     "data": {
      "text/html": [
       "0.019999999999925"
      ],
      "text/latex": [
       "0.019999999999925"
      ],
      "text/markdown": [
       "0.019999999999925"
      ],
      "text/plain": [
       "[1] 0.02"
      ]
     },
     "metadata": {},
     "output_type": "display_data"
    },
    {
     "data": {
      "text/html": [
       "-31.8359814917018"
      ],
      "text/latex": [
       "-31.8359814917018"
      ],
      "text/markdown": [
       "-31.8359814917018"
      ],
      "text/plain": [
       "[1] -31.83598"
      ]
     },
     "metadata": {},
     "output_type": "display_data"
    },
    {
     "data": {
      "text/html": [
       "0.331308480006059"
      ],
      "text/latex": [
       "0.331308480006059"
      ],
      "text/markdown": [
       "0.331308480006059"
      ],
      "text/plain": [
       "[1] 0.3313085"
      ]
     },
     "metadata": {},
     "output_type": "display_data"
    },
    {
     "data": {
      "text/html": [
       "-0.00279901637244461"
      ],
      "text/latex": [
       "-0.00279901637244461"
      ],
      "text/markdown": [
       "-0.00279901637244461"
      ],
      "text/plain": [
       "[1] -0.002799016"
      ]
     },
     "metadata": {},
     "output_type": "display_data"
    }
   ],
   "source": [
    "\n",
    "median(df$ripple_duration[df$group=='control']) - median(df$ripple_duration[df$group=='pae'])\n",
    "\n",
    "median(df$peak_freq[df$group=='control']) - median(df$peak_freq[df$group=='pae'])\n",
    "\n",
    "median(df$peak_amplitude[df$group=='control']) - median(df$peak_amplitude[df$group=='pae'])\n",
    "\n",
    "median(df_ripple_rate$ripple_rate[df_ripple_rate$group=='control']) - median(df_ripple_rate$ripple_rate[df_ripple_rate$group=='pae'])"
   ]
  },
  {
   "cell_type": "code",
   "execution_count": null,
   "metadata": {},
   "outputs": [],
   "source": []
  }
 ],
 "metadata": {
  "kernelspec": {
   "display_name": "R",
   "language": "R",
   "name": "ir"
  },
  "language_info": {
   "codemirror_mode": "r",
   "file_extension": ".r",
   "mimetype": "text/x-r-source",
   "name": "R",
   "pygments_lexer": "r",
   "version": "3.6.1"
  }
 },
 "nbformat": 4,
 "nbformat_minor": 4
}
