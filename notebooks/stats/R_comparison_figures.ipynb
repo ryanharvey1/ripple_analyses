{
 "cells": [
  {
   "cell_type": "code",
   "execution_count": 47,
   "metadata": {},
   "outputs": [
    {
     "data": {
      "text/plain": [
       "       X           Unnamed..0    ripple_number    start_time    \n",
       " Min.   :    0   Min.   :    0   Min.   :   0   Min.   :   0.0  \n",
       " 1st Qu.: 4386   1st Qu.: 4432   1st Qu.: 179   1st Qu.: 717.7  \n",
       " Median : 8772   Median : 8897   Median : 405   Median :1747.9  \n",
       " Mean   : 8772   Mean   : 8891   Mean   : 584   Mean   :1779.6  \n",
       " 3rd Qu.:13158   3rd Qu.:13344   3rd Qu.: 874   3rd Qu.:2597.7  \n",
       " Max.   :17544   Max.   :17822   Max.   :3665   Max.   :6172.0  \n",
       "                                                                \n",
       "    end_time        ripple_duration     max_emg          peak_time       \n",
       " Min.   :   0.239   Min.   :0.0248   Min.   :-0.0709   Min.   :   0.002  \n",
       " 1st Qu.: 717.786   1st Qu.:0.0720   1st Qu.: 0.3016   1st Qu.: 717.737  \n",
       " Median :1747.918   Median :0.1040   Median : 0.4030   Median :1747.898  \n",
       " Mean   :1779.701   Mean   :0.1230   Mean   : 0.4449   Mean   :1779.642  \n",
       " 3rd Qu.:2597.737   3rd Qu.:0.1520   3rd Qu.: 0.5471   3rd Qu.:2597.722  \n",
       " Max.   :6172.226   Max.   :0.9864   Max.   : 1.0000   Max.   :6172.192  \n",
       "                                     NA's   :55                          \n",
       "  peak_channel   peak_amplitude      peak_freq        clipped        \n",
       " Min.   : 0.00   Min.   :  1.867   Min.   : 80.0   Min.   :0.000000  \n",
       " 1st Qu.: 3.00   1st Qu.:  3.824   1st Qu.:111.5   1st Qu.:0.000000  \n",
       " Median : 6.00   Median :  4.694   Median :134.1   Median :0.000000  \n",
       " Mean   :13.71   Mean   :  5.839   Mean   :141.0   Mean   :0.004456  \n",
       " 3rd Qu.:19.00   3rd Qu.:  6.026   3rd Qu.:168.5   3rd Qu.:0.006667  \n",
       " Max.   :63.00   Max.   :220.574   Max.   :237.4   Max.   :0.046667  \n",
       "                                                                     \n",
       "                    session            ep_type         group       area      \n",
       " LEM3246_S20190629164240:  983   cylinder_1:4003   control:9493   ca1: 4845  \n",
       " LEM3246_S20190701153855:  978   cylinder_2:5948   pae    :8052   ca3:12700  \n",
       " LEM3216_S20190805141510:  824   pedestal_1: 353                             \n",
       " LEM3216_S20190718101925:  698   pedestal_2:1513                             \n",
       " LEM3216_S20190720145517:  577   pedestal_3:1412                             \n",
       " LEM3216_S20190723165548:  518   pedestal_4: 350                             \n",
       " (Other)                :12967   track     :3966                             \n",
       " ripple_duration_log10 peak_amplitude_log10\n",
       " Min.   :-1.605548     Min.   :0.2712      \n",
       " 1st Qu.:-1.142667     1st Qu.:0.5825      \n",
       " Median :-0.982967     Median :0.6716      \n",
       " Mean   :-0.977414     Mean   :0.7013      \n",
       " 3rd Qu.:-0.818156     3rd Qu.:0.7800      \n",
       " Max.   :-0.005947     Max.   :2.3436      \n",
       "                                           "
      ]
     },
     "metadata": {},
     "output_type": "display_data"
    },
    {
     "data": {
      "text/plain": [
       "       X         Unnamed..0   ripple_rate                          session   \n",
       " Min.   :  0   Min.   :  0   Min.   :0.000521   LEM3116_S20180715121821:  1  \n",
       " 1st Qu.: 47   1st Qu.: 47   1st Qu.:0.010138   LEM3116_S20180715160836:  1  \n",
       " Median : 94   Median : 94   Median :0.035276   LEM3116_S20180716115155:  1  \n",
       " Mean   : 94   Mean   : 94   Mean   :0.075463   LEM3116_S20180716174306:  1  \n",
       " 3rd Qu.:141   3rd Qu.:141   3rd Qu.:0.082044   LEM3116_S20180717110938:  1  \n",
       " Max.   :188   Max.   :188   Max.   :0.481211   LEM3116_S20180717203042:  1  \n",
       "                                                (Other)                :183  \n",
       "     group      area    \n",
       " control: 80   ca1: 81  \n",
       " pae    :109   ca3:108  \n",
       "                        \n",
       "                        \n",
       "                        \n",
       "                        \n",
       "                        "
      ]
     },
     "metadata": {},
     "output_type": "display_data"
    }
   ],
   "source": [
    "df <- read.csv('F:/Projects/PAE_PlaceCell/analysis/swr_data/post_processed/swr_df.csv')\n",
    "summary(df)\n",
    "\n",
    "df_ripple_rate <- read.csv('F:/Projects/PAE_PlaceCell/analysis/swr_data/post_processed/df_ripple_rate.csv')\n",
    "summary(df_ripple_rate)"
   ]
  },
  {
   "cell_type": "code",
   "execution_count": 22,
   "metadata": {},
   "outputs": [],
   "source": [
    "set_size <- function(width, fraction, subplots) {\n",
    "#     \"\"\"Set figure dimensions to avoid scaling in LaTeX.\n",
    "#     Parameters\n",
    "#     ----------\n",
    "#     width: float or string\n",
    "#             Document width in points, or string of predined document type\n",
    "#     fraction: float, optional\n",
    "#             Fraction of the width which you wish the figure to occupy\n",
    "#     subplots: array-like, optional\n",
    "#             The number of rows and columns of subplots.\n",
    "#     Returns\n",
    "#     -------\n",
    "#     fig_dim: tuple\n",
    "#             Dimensions of figure in inches\n",
    "#     \"\"\"\n",
    "\n",
    "    if (width == 'thesis') {\n",
    "    width_pt = 426.79135\n",
    "    } else if ( width == 'beamer')  {\n",
    "    width_pt = 307.28987\n",
    "    } else {\n",
    "    width_pt = width    \n",
    "    }\n",
    "    \n",
    "\n",
    "    # Width of figure (in pts)\n",
    "    fig_width_pt = width_pt * fraction\n",
    "    # Convert from pt to inches\n",
    "    inches_per_pt = 1 / 72.27\n",
    "\n",
    "    # Golden ratio to set aesthetic figure height\n",
    "    # https://disq.us/p/2940ij3\n",
    "    golden_ratio = (5**.5 - 1) / 2\n",
    "\n",
    "    # Figure width in inches\n",
    "    fig_width_in = fig_width_pt * inches_per_pt\n",
    "    # Figure height in inches\n",
    "    fig_height_in = fig_width_in * golden_ratio * (subplots[1] / subplots[2])\n",
    "    output <- c(fig_width_in, fig_height_in)\n",
    "    return(output)\n",
    "}"
   ]
  },
  {
   "cell_type": "code",
   "execution_count": 92,
   "metadata": {},
   "outputs": [
    {
     "name": "stderr",
     "output_type": "stream",
     "text": [
      "Warning message:\n",
      "\"package 'gridExtra' is in use and will not be installed\"Warning message:\n",
      "\"package 'cowplot' is in use and will not be installed\"also installing the dependencies 'systemfonts', 'gdtools'\n",
      "\n"
     ]
    },
    {
     "name": "stdout",
     "output_type": "stream",
     "text": [
      "package 'systemfonts' successfully unpacked and MD5 sums checked\n",
      "package 'gdtools' successfully unpacked and MD5 sums checked\n",
      "package 'svglite' successfully unpacked and MD5 sums checked\n",
      "\n",
      "The downloaded binary packages are in\n",
      "\tC:\\Users\\ryanh\\AppData\\Local\\Temp\\Rtmp6Jpu4U\\downloaded_packages\n"
     ]
    }
   ],
   "source": [
    "install.packages(\"gridExtra\")\n",
    "library(\"gridExtra\")\n",
    "\n",
    "install.packages(\"cowplot\")\n",
    "library(\"cowplot\")\n",
    "\n",
    "install.packages(\"svglite\")\n"
   ]
  },
  {
   "cell_type": "code",
   "execution_count": 149,
   "metadata": {},
   "outputs": [
    {
     "name": "stderr",
     "output_type": "stream",
     "text": [
      "Warning message:\n",
      "\"Removed 4 rows containing non-finite values (stat_ydensity).\"Warning message:\n",
      "\"Removed 4 rows containing non-finite values (stat_boxplot).\""
     ]
    },
    {
     "data": {
      "image/png": "[encoded data removed]",
      "text/plain": [
       "plot without title"
      ]
     },
     "metadata": {},
     "output_type": "display_data"
    }
   ],
   "source": [
    "width_height <- set_size('thesis', 1.2, c(1,4)) \n",
    "\n",
    "options(repr.plot.width = width_height[1], repr.plot.height = width_height[2],units = \"in\")\n",
    "\n",
    "# install.packages(\"ggpubr\")\n",
    "library(ggplot2)\n",
    "# library(ggpubr)\n",
    "\n",
    "# tex_fonts = {\n",
    "# #     # Use LaTeX to write all text\n",
    "# #     \"text.usetex\": True,\n",
    "#     \"font.family\": \"serif\",\n",
    "#     # Use 10pt font in plots, to match 10pt font in document\n",
    "#     \"axes.labelsize\": 10,\n",
    "#     \"font.size\": 10,\n",
    "#     # Make the legend/label fonts a little smaller\n",
    "#     \"legend.fontsize\": 8,\n",
    "#     \"xtick.labelsize\": 8,\n",
    "#     \"ytick.labelsize\": 8\n",
    "# }\n",
    "\n",
    "# axis.text = element_text(size = 20)\n",
    "\n",
    "# My_Theme = theme(\n",
    "#   axis.title.x = element_text(size = 16),\n",
    "#   axis.text.x = element_text(size = 14),\n",
    "#   axis.title.y = element_text(size = 16))\n",
    "\n",
    "scaleFUN <- function(x) sprintf(\"%.2f\", x)\n",
    " \n",
    "\n",
    "# pdf(\"D:/ryanh/GoogleDrive/school_work/UNM/Lab/Projects/Dissertation/dissertation/inkscape_figs/ripple_section/ripple_features_v1.pdf\",\n",
    "#     width = width_height[1], height = width_height[2])\n",
    "# par(mfrow=c(1,4))\n",
    "\n",
    "#   theme(text=element_text(size=16,  family=\"Comic Sans MS\"))\n",
    "\n",
    "\n",
    "dodge <- position_dodge(width = 0.5)\n",
    "p1 = ggplot(data=df, aes(x = area, y = ripple_duration, fill = group)) +\n",
    "  geom_violin(position = dodge) +\n",
    "  geom_boxplot(width=.15, outlier.colour=NA, position = dodge, color = \"white\") +\n",
    "  theme_bw() +\n",
    "  theme(panel.border = element_blank(),text = element_text(size = 7.5,family='serif'),axis.title.x = element_blank(),axis.title.y = element_text(size = 7)) +\n",
    "  scale_fill_manual(values=c(\"grey20\",\"orange\")) +\n",
    "  scale_y_continuous(labels=scaleFUN,trans='log10') +\n",
    "  labs(y = \"Event duration (sec)\") + \n",
    "  theme(legend.position = \"none\")\n",
    "\n",
    "p2 = ggplot(data=df, aes(x = area, y = peak_freq, fill = group)) +\n",
    "  geom_violin(position = dodge) +\n",
    "  geom_boxplot(width=.15, outlier.colour=NA, position = dodge, color = \"white\") +\n",
    "  theme_bw() +\n",
    "  theme(panel.border = element_blank(),text = element_text(size = 7.5,family='serif'),axis.title.x = element_blank(),axis.title.y = element_text(size = 7)) +\n",
    "  scale_fill_manual(values=c(\"grey20\",\"orange\")) +\n",
    "#   scale_y_continuous(labels=scaleFUN) +\n",
    "  labs(y = \"Event freq. (Hz)\") + \n",
    "  theme(legend.position = \"none\")\n",
    "\n",
    "p3 = ggplot(data=df, aes(x = area, y = peak_amplitude, fill = group)) +\n",
    "  geom_violin(position = dodge) +\n",
    "  geom_boxplot(width=.15, outlier.colour=NA, position = dodge, color = \"white\") +\n",
    "  theme_bw() +\n",
    "  theme(panel.border = element_blank(),text = element_text(size = 7.5,family='serif'),axis.title.x = element_blank(),axis.title.y = element_text(size = 7)) +\n",
    "  scale_fill_manual(values=c(\"grey20\",\"orange\")) +\n",
    "  scale_y_continuous(trans='log10') +\n",
    "  labs(y = \"Event amp. (zscore)\") + \n",
    "  theme(legend.position = \"none\")\n",
    "\n",
    "p4 = ggplot(data=df_ripple_rate, aes(x = area, y = ripple_rate, fill = group)) +\n",
    "  geom_violin(position = dodge) +\n",
    "  geom_boxplot(width=.15, outlier.colour=NA, position = dodge, color = \"white\") +\n",
    "  theme_bw() +\n",
    "  theme(panel.border = element_blank(),text = element_text(size = 7.5,family='serif'),axis.title.x=element_blank(),axis.title.y=element_text(size = 7)) +\n",
    "  scale_fill_manual(values=c(\"grey20\",\"orange\")) +\n",
    "  scale_y_continuous(labels=scaleFUN,trans='log10',limits = c(0.001, 1)) +\n",
    "  labs(y = \"Event rate (Hz)\") + \n",
    "  theme(legend.position = \"none\")\n",
    "\n",
    "# dev.off()\n",
    "# p5 = plot_grid(p1, p2, p3, p4, ncol = 4, nrow = 1)\n",
    "# p5\n",
    "# ,ylim(0, NA)\n",
    "#   scale_y_continuous(limits = c(0, 50))\n",
    "# ,limits = c(0.001, 1)\n",
    "p6 = grid.arrange(\n",
    "  p1,\n",
    "  p2,\n",
    "  p3,\n",
    "  p4,\n",
    "  nrow = 1)"
   ]
  },
  {
   "cell_type": "code",
   "execution_count": 154,
   "metadata": {},
   "outputs": [],
   "source": [
    "width_height <- set_size('thesis', 1.2, c(1,4)) \n",
    "\n",
    "# options(repr.plot.width = width_height[1], repr.plot.height = width_height[2],units = \"cm\")\n",
    "# ggsave(\"D:/ryanh/GoogleDrive/school_work/UNM/Lab/Projects/Dissertation/dissertation/inkscape_figs/ripple_section/ripple_features.svg\",width = width_height[1], height = width_height[2], units = \"cm\")\n",
    "ggsave(\"D:/ryanh/GoogleDrive/school_work/UNM/Lab/Projects/Dissertation/dissertation/inkscape_figs/ripple_section/ripple_features.svg\",\n",
    "       plot=p6,width = width_height[1], height = width_height[2],units = \"in\",dpi = 600,scale = 1,limitsize = FALSE,device='svg')"
   ]
  }
 ],
 "metadata": {
  "kernelspec": {
   "display_name": "R",
   "language": "R",
   "name": "ir"
  },
  "language_info": {
   "codemirror_mode": "r",
   "file_extension": ".r",
   "mimetype": "text/x-r-source",
   "name": "R",
   "pygments_lexer": "r",
   "version": "3.6.1"
  }
 },
 "nbformat": 4,
 "nbformat_minor": 4
}
