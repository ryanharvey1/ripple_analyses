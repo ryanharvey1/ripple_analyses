{
 "cells": [
  {
   "cell_type": "markdown",
   "metadata": {},
   "source": [
    "\n",
    "\n",
    "# swr_df.csv description:\n",
    "* Each row represents a unique sharp wave ripple event\n",
    "* each column represents a feature of each sharp wave ripple\n",
    "* Columns:\n",
    "    * start_time:  start time of ripple\n",
    "    * end_time: end time of ripple\n",
    "    * ripple_duration: how long was the ripple in seconds\n",
    "    * max_emg: emg contamination at time of ripple\n",
    "    * peak_time: time that the ripple was maximized\n",
    "    * peak_channel: channel that maximized the ripple\n",
    "    * peak_amplitude: zscored ripple amplitude\n",
    "    * peak_freq: frequency of ripple\n",
    "    * clipped: percent of ripple that is clipped or flatlined\n",
    "    * session: recording session identification\n",
    "    * area: brain area were ripple occured (ca1,ca3,cortex)\n",
    "    * ep_type: epoch type where each ripple occured\n",
    "    * group: group identification\n",
    "    * rat: rat ID\n",
    "    \n",
    "## Nested diagram\n",
    "\n",
    "* group\n",
    "    * rat\n",
    "        * session\n",
    "            * epoch\n",
    "                * ripple event\n",
    "\n",
    "For our current purposes, epoch can be ignored as we just want to see if features of sharp wave ripples are similar between groups"
   ]
  },
  {
   "cell_type": "code",
   "execution_count": 1,
   "metadata": {},
   "outputs": [
    {
     "name": "stderr",
     "output_type": "stream",
     "text": [
      "Warning message:\n",
      "\"package 'tidyverse' was built under R version 3.6.3\"-- Attaching packages ------------------------------------------------------------------------------- tidyverse 1.3.0 --\n",
      "v ggplot2 3.3.3     v purrr   0.3.4\n",
      "v tibble  3.0.4     v dplyr   1.0.2\n",
      "v tidyr   1.1.2     v stringr 1.4.0\n",
      "v readr   1.3.1     v forcats 0.4.0\n",
      "Warning message:\n",
      "\"package 'ggplot2' was built under R version 3.6.3\"Warning message:\n",
      "\"package 'tibble' was built under R version 3.6.3\"Warning message:\n",
      "\"package 'tidyr' was built under R version 3.6.3\"Warning message:\n",
      "\"package 'purrr' was built under R version 3.6.3\"Warning message:\n",
      "\"package 'dplyr' was built under R version 3.6.3\"-- Conflicts ---------------------------------------------------------------------------------- tidyverse_conflicts() --\n",
      "x dplyr::filter() masks stats::filter()\n",
      "x dplyr::lag()    masks stats::lag()\n",
      "Warning message:\n",
      "\"package 'lme4' was built under R version 3.6.3\"Loading required package: Matrix\n",
      "\n",
      "Attaching package: 'Matrix'\n",
      "\n",
      "The following objects are masked from 'package:tidyr':\n",
      "\n",
      "    expand, pack, unpack\n",
      "\n",
      "Warning message:\n",
      "\"package 'lmerTest' was built under R version 3.6.3\"\n",
      "Attaching package: 'lmerTest'\n",
      "\n",
      "The following object is masked from 'package:lme4':\n",
      "\n",
      "    lmer\n",
      "\n",
      "The following object is masked from 'package:stats':\n",
      "\n",
      "    step\n",
      "\n"
     ]
    }
   ],
   "source": [
    "library(tidyverse)\n",
    "library(lme4)\n",
    "library(lmerTest)"
   ]
  },
  {
   "cell_type": "markdown",
   "metadata": {},
   "source": [
    "### Load data and only keep hippocampal sessions"
   ]
  },
  {
   "cell_type": "code",
   "execution_count": 4,
   "metadata": {},
   "outputs": [
    {
     "name": "stdout",
     "output_type": "stream",
     "text": [
      "       X         ripple_number      start_time        end_time       \n",
      " Min.   :    0   Min.   :   0.0   Min.   :   0.0   Min.   :   0.239  \n",
      " 1st Qu.: 4984   1st Qu.: 173.0   1st Qu.: 691.7   1st Qu.: 691.734  \n",
      " Median : 9568   Median : 393.0   Median :1707.5   Median :1707.588  \n",
      " Mean   : 9504   Mean   : 573.3   Mean   :1740.3   Mean   :1740.425  \n",
      " 3rd Qu.:14144   3rd Qu.: 850.0   3rd Qu.:2562.8   3rd Qu.:2563.027  \n",
      " Max.   :18732   Max.   :3665.0   Max.   :6172.0   Max.   :6172.226  \n",
      "                                                                     \n",
      " ripple_duration     max_emg          peak_time         peak_channel \n",
      " Min.   :0.0248   Min.   :-0.0709   Min.   :   0.002   Min.   : 0.0  \n",
      " 1st Qu.:0.0720   1st Qu.: 0.3041   1st Qu.: 691.690   1st Qu.: 3.0  \n",
      " Median :0.1048   Median : 0.4092   Median :1707.578   Median : 6.0  \n",
      " Mean   :0.1227   Mean   : 0.4579   Mean   :1740.365   Mean   :13.6  \n",
      " 3rd Qu.:0.1512   3rd Qu.: 0.5644   3rd Qu.:2562.897   3rd Qu.:17.0  \n",
      " Max.   :0.9864   Max.   : 1.0000   Max.   :6172.192   Max.   :63.0  \n",
      "                  NA's   :55                                         \n",
      " peak_amplitude      peak_freq         clipped        \n",
      " Min.   :  1.867   Min.   : 80.61   Min.   :0.000000  \n",
      " 1st Qu.:  3.836   1st Qu.:111.63   1st Qu.:0.000000  \n",
      " Median :  4.709   Median :134.41   Median :0.000000  \n",
      " Mean   :  5.769   Mean   :141.35   Mean   :0.004364  \n",
      " 3rd Qu.:  6.047   3rd Qu.:168.87   3rd Qu.:0.006667  \n",
      " Max.   :218.217   Max.   :237.42   Max.   :0.046667  \n",
      "                                                      \n",
      "                    session          area             ep_type    \n",
      " LEM3246_S20190629164240:  983   ca1   : 4698   cylinder_1:4066  \n",
      " LEM3246_S20190701153855:  978   ca3   :13343   cylinder_2:6014  \n",
      " LEM3216_S20190805141510:  824   cortex:    0   pedestal_1: 376  \n",
      " LEM3216_S20190718101925:  698                  pedestal_2:1575  \n",
      " LEM3216_S20190720145517:  577                  pedestal_3:1438  \n",
      " LEM3216_S20190723165548:  518                  pedestal_4: 378  \n",
      " (Other)                :13463                  track     :4194  \n",
      "     group           rat      \n",
      " control:9493   LEM3216:7413  \n",
      " pae    :8548   LEM3246:4117  \n",
      "                LEM3206:2498  \n",
      "                LEM3124:1577  \n",
      "                LEM3116:1487  \n",
      "                LEM3120: 452  \n",
      "                (Other): 497  \n",
      "       X                             session        area         counts      \n",
      " Min.   :  0.00   LEM3124_S20190307132509:  2   ca1   : 81   Min.   :  1.00  \n",
      " 1st Qu.: 57.75   LEM3124_S20190307163732:  2   ca3   :123   1st Qu.: 10.00  \n",
      " Median :118.50   LEM3124_S20190309145324:  2   cortex:  0   Median : 33.00  \n",
      " Mean   :113.93   LEM3124_S20190311161641:  2                Mean   : 88.44  \n",
      " 3rd Qu.:169.25   LEM3124_S20190315160017:  2                3rd Qu.: 79.25  \n",
      " Max.   :220.00   LEM3124_S20190319154019:  2                Max.   :983.00  \n",
      "                  (Other)                :192                                \n",
      "  ripple_rate           group          rat    \n",
      " Min.   :0.000521   control: 80   LEM3124:38  \n",
      " 1st Qu.:0.012210   pae    :124   LEM3206:36  \n",
      " Median :0.036449                 LEM3116:30  \n",
      " Mean   :0.074858                 LEM3216:28  \n",
      " 3rd Qu.:0.082028                 LEM3246:22  \n",
      " Max.   :0.481211                 LS19   :15  \n",
      "                                  (Other):35  \n"
     ]
    }
   ],
   "source": [
    "data <- read.csv('F:/Projects/PAE_PlaceCell/analysis/swr_data/post_processed/swr_df.csv')\n",
    "\n",
    "df_inter_ripple = read.csv('F:/Projects/PAE_PlaceCell/analysis/swr_data/post_processed/df_ripple_rate.csv')\n",
    "\n",
    "# only keep hippocampal events\n",
    "idx <- data$area == 'cortex'\n",
    "data = data[!idx,]\n",
    "print(summary(data))\n",
    "\n",
    "idx <- df_inter_ripple$area == 'cortex'\n",
    "df_inter_ripple = df_inter_ripple[!idx,]\n",
    "print(summary(df_inter_ripple))"
   ]
  },
  {
   "cell_type": "markdown",
   "metadata": {},
   "source": [
    "### label factors as factors"
   ]
  },
  {
   "cell_type": "code",
   "execution_count": 5,
   "metadata": {},
   "outputs": [],
   "source": [
    "data$group = factor(data$group, levels=c('control', 'pae'))\n",
    "data$rat = factor(data$rat)\n",
    "data$ep_type = factor(data$ep_type, levels=c('pedestal_1', 'track','pedestal_2','cylinder_1','pedestal_3','cylinder_2','pedestal_4'))\n",
    "data$session = factor(data$session)\n",
    "data$area = factor(data$area, levels=c('ca1', 'ca3'))\n",
    "\n",
    "df_inter_ripple$group = factor(df_inter_ripple$group, levels=c('control', 'pae'))\n",
    "df_inter_ripple$rat = factor(df_inter_ripple$rat)\n",
    "df_inter_ripple$session = factor(df_inter_ripple$session)\n",
    "df_inter_ripple$area = factor(df_inter_ripple$area, levels=c('ca1', 'ca3'))"
   ]
  },
  {
   "cell_type": "markdown",
   "metadata": {},
   "source": [
    "### Lets look at numbers of ripples per group, rat, and area"
   ]
  },
  {
   "cell_type": "code",
   "execution_count": 6,
   "metadata": {},
   "outputs": [
    {
     "name": "stdout",
     "output_type": "stream",
     "text": [
      "[1] \"ripple df\"\n"
     ]
    },
    {
     "data": {
      "text/plain": [
       ", , area = ca1\n",
       "\n",
       "         rat\n",
       "group     LEM3116 LEM3120 LEM3124 LEM3206 LEM3216 LEM3246 LS17 LS19 LS23 RH13\n",
       "  control     722     263       0       0    2300       0    0    0  120    3\n",
       "  pae           0       0     933       0       0       0   89  233    0    0\n",
       "         rat\n",
       "group     RH14 RH16\n",
       "  control    1    0\n",
       "  pae        0   34\n",
       "\n",
       ", , area = ca3\n",
       "\n",
       "         rat\n",
       "group     LEM3116 LEM3120 LEM3124 LEM3206 LEM3216 LEM3246 LS17 LS19 LS23 RH13\n",
       "  control     765     189       0       0    5113       0    0    0    0    8\n",
       "  pae           0       0     644    2498       0    4117    0    0    0    0\n",
       "         rat\n",
       "group     RH14 RH16\n",
       "  control    9    0\n",
       "  pae        0    0\n"
      ]
     },
     "metadata": {},
     "output_type": "display_data"
    }
   ],
   "source": [
    "print('ripple df')\n",
    "xtabs(~group+rat+area,data=data)\n"
   ]
  },
  {
   "cell_type": "code",
   "execution_count": 7,
   "metadata": {},
   "outputs": [
    {
     "name": "stdout",
     "output_type": "stream",
     "text": [
      "[1] \"df_inter_ripple\"\n"
     ]
    },
    {
     "data": {
      "text/plain": [
       ", , area = ca1\n",
       "\n",
       "         rat\n",
       "group     LEM3116 LEM3120 LEM3124 LEM3206 LEM3216 LEM3246 LS17 LS19 LS23 RH13\n",
       "  control      12       5       0       0       7       0    0    0    4    1\n",
       "  pae           0       0      23       0       0       0    6   15    0    0\n",
       "         rat\n",
       "group     RH14 RH16\n",
       "  control    1    0\n",
       "  pae        0    7\n",
       "\n",
       ", , area = ca3\n",
       "\n",
       "         rat\n",
       "group     LEM3116 LEM3120 LEM3124 LEM3206 LEM3216 LEM3246 LS17 LS19 LS23 RH13\n",
       "  control      18       7       0       0      21       0    0    0    0    3\n",
       "  pae           0       0      15      36       0      22    0    0    0    0\n",
       "         rat\n",
       "group     RH14 RH16\n",
       "  control    1    0\n",
       "  pae        0    0\n"
      ]
     },
     "metadata": {},
     "output_type": "display_data"
    }
   ],
   "source": [
    "print('df_inter_ripple')\n",
    "xtabs(~group+rat+area,data=df_inter_ripple)"
   ]
  },
  {
   "cell_type": "markdown",
   "metadata": {},
   "source": [
    "### plot distributions of variables of interests\n",
    "\n",
    "Split data into rat by region"
   ]
  },
  {
   "cell_type": "code",
   "execution_count": 16,
   "metadata": {},
   "outputs": [
    {
     "data": {
      "image/png": "[encoded data removed]",
      "text/plain": [
       "plot without title"
      ]
     },
     "metadata": {},
     "output_type": "display_data"
    },
    {
     "data": {
      "image/png": "[encoded data removed]",
      "text/plain": [
       "plot without title"
      ]
     },
     "metadata": {},
     "output_type": "display_data"
    },
    {
     "data": {
      "image/png": "[encoded data removed]",
      "text/plain": [
       "plot without title"
      ]
     },
     "metadata": {},
     "output_type": "display_data"
    }
   ],
   "source": [
    "options(repr.plot.width = 10, repr.plot.height = 1.5)\n",
    "\n",
    "p<-ggplot(data, aes(x=rat, y=ripple_duration, color=area)) +\n",
    "    geom_violin(trim=FALSE)\n",
    "p\n",
    "\n",
    "p<-ggplot(data, aes(x=rat, y=peak_freq, color=area)) +\n",
    "    geom_violin(trim=FALSE)\n",
    "p\n",
    "\n",
    "p<-ggplot(data, aes(x=rat, y=peak_amplitude, color=area)) +\n",
    "    geom_violin(trim=FALSE)\n",
    "p"
   ]
  },
  {
   "cell_type": "code",
   "execution_count": 64,
   "metadata": {},
   "outputs": [
    {
     "data": {
      "text/plain": [
       "       X                             session     area         counts      \n",
       " Min.   :  0.00   LEM3124_S20190307132509:  2   ca1: 81   Min.   :  1.00  \n",
       " 1st Qu.: 57.75   LEM3124_S20190307163732:  2   ca3:123   1st Qu.: 10.00  \n",
       " Median :118.50   LEM3124_S20190309145324:  2             Median : 33.00  \n",
       " Mean   :113.93   LEM3124_S20190311161641:  2             Mean   : 88.44  \n",
       " 3rd Qu.:169.25   LEM3124_S20190315160017:  2             3rd Qu.: 79.25  \n",
       " Max.   :220.00   LEM3124_S20190319154019:  2             Max.   :983.00  \n",
       "                  (Other)                :192                             \n",
       "  ripple_rate           group          rat    \n",
       " Min.   :0.000521   control: 80   LEM3124:38  \n",
       " 1st Qu.:0.012210   pae    :124   LEM3206:36  \n",
       " Median :0.036449                 LEM3116:30  \n",
       " Mean   :0.074858                 LEM3216:28  \n",
       " 3rd Qu.:0.082028                 LEM3246:22  \n",
       " Max.   :0.481211                 LS19   :15  \n",
       "                                  (Other):35  "
      ]
     },
     "metadata": {},
     "output_type": "display_data"
    }
   ],
   "source": [
    "summary(df_inter_ripple)"
   ]
  },
  {
   "cell_type": "code",
   "execution_count": 82,
   "metadata": {},
   "outputs": [
    {
     "data": {
      "image/png": "[encoded data removed]",
      "text/plain": [
       "plot without title"
      ]
     },
     "metadata": {},
     "output_type": "display_data"
    },
    {
     "data": {
      "image/png": "[encoded data removed]",
      "text/plain": [
       "plot without title"
      ]
     },
     "metadata": {},
     "output_type": "display_data"
    }
   ],
   "source": [
    "options(repr.plot.width = 10, repr.plot.height = 1.5)\n",
    "\n",
    "p<-ggplot(df_inter_ripple, aes(x=rat, y=counts, color=area)) +\n",
    "    geom_boxplot() +\n",
    "    geom_jitter(position=position_dodge(1),alpha=.5) +\n",
    "    scale_y_continuous(trans='log')\n",
    "p\n",
    "\n",
    "p<-ggplot(df_inter_ripple, aes(x=rat, y=ripple_rate, color=area)) +\n",
    "    geom_boxplot() +\n",
    "    geom_jitter(position=position_dodge(1),alpha=.5) +\n",
    "    scale_y_continuous(trans='log')\n",
    "p"
   ]
  },
  {
   "cell_type": "markdown",
   "metadata": {},
   "source": [
    "### run linear effect model where sessions are nested within rats"
   ]
  },
  {
   "cell_type": "markdown",
   "metadata": {},
   "source": [
    "ca1 ripple duration"
   ]
  },
  {
   "cell_type": "code",
   "execution_count": 52,
   "metadata": {},
   "outputs": [
    {
     "data": {
      "text/html": [
       "<table>\n",
       "<thead><tr><th></th><th scope=col>npar</th><th scope=col>AIC</th><th scope=col>BIC</th><th scope=col>logLik</th><th scope=col>deviance</th><th scope=col>Chisq</th><th scope=col>Df</th><th scope=col>Pr(&gt;Chisq)</th></tr></thead>\n",
       "<tbody>\n",
       "\t<tr><th scope=row>m1.null</th><td>4         </td><td>7232.960  </td><td>7258.780  </td><td>-3612.480 </td><td>7224.960  </td><td>        NA</td><td>NA        </td><td>       NA </td></tr>\n",
       "\t<tr><th scope=row>m1</th><td>5         </td><td>7234.949  </td><td>7267.224  </td><td>-3612.475 </td><td>7224.949  </td><td>0.01116902</td><td> 1        </td><td>0.9158334 </td></tr>\n",
       "</tbody>\n",
       "</table>\n"
      ],
      "text/latex": [
       "\\begin{tabular}{r|llllllll}\n",
       "  & npar & AIC & BIC & logLik & deviance & Chisq & Df & Pr(>Chisq)\\\\\n",
       "\\hline\n",
       "\tm1.null & 4          & 7232.960   & 7258.780   & -3612.480  & 7224.960   &         NA & NA         &        NA \\\\\n",
       "\tm1 & 5          & 7234.949   & 7267.224   & -3612.475  & 7224.949   & 0.01116902 &  1         & 0.9158334 \\\\\n",
       "\\end{tabular}\n"
      ],
      "text/markdown": [
       "\n",
       "| <!--/--> | npar | AIC | BIC | logLik | deviance | Chisq | Df | Pr(>Chisq) |\n",
       "|---|---|---|---|---|---|---|---|---|\n",
       "| m1.null | 4          | 7232.960   | 7258.780   | -3612.480  | 7224.960   |         NA | NA         |        NA  |\n",
       "| m1 | 5          | 7234.949   | 7267.224   | -3612.475  | 7224.949   | 0.01116902 |  1         | 0.9158334  |\n",
       "\n"
      ],
      "text/plain": [
       "        npar AIC      BIC      logLik    deviance Chisq      Df Pr(>Chisq)\n",
       "m1.null 4    7232.960 7258.780 -3612.480 7224.960         NA NA        NA \n",
       "m1      5    7234.949 7267.224 -3612.475 7224.949 0.01116902  1 0.9158334 "
      ]
     },
     "metadata": {},
     "output_type": "display_data"
    },
    {
     "data": {
      "text/plain": [
       "Linear mixed model fit by maximum likelihood . t-tests use Satterthwaite's\n",
       "  method [lmerModLmerTest]\n",
       "Formula: ripple_duration_log ~ group + (1 | rat/session)\n",
       "   Data: data[data$area == \"ca1\", ]\n",
       "\n",
       "     AIC      BIC   logLik deviance df.resid \n",
       "  7234.9   7267.2  -3612.5   7224.9     4693 \n",
       "\n",
       "Scaled residuals: \n",
       "    Min      1Q  Median      3Q     Max \n",
       "-3.2586 -0.6653 -0.0337  0.6538  3.7855 \n",
       "\n",
       "Random effects:\n",
       " Groups      Name        Variance Std.Dev.\n",
       " session:rat (Intercept) 0.047798 0.21863 \n",
       " rat         (Intercept) 0.009308 0.09648 \n",
       " Residual                0.264839 0.51463 \n",
       "Number of obs: 4698, groups:  session:rat, 81; rat, 10\n",
       "\n",
       "Fixed effects:\n",
       "            Estimate Std. Error       df t value Pr(>|t|)    \n",
       "(Intercept) -2.02463    0.06773 10.89859 -29.891 8.29e-12 ***\n",
       "grouppae     0.01003    0.09414  8.84582   0.107    0.918    \n",
       "---\n",
       "Signif. codes:  0 '***' 0.001 '**' 0.01 '*' 0.05 '.' 0.1 ' ' 1\n",
       "\n",
       "Correlation of Fixed Effects:\n",
       "         (Intr)\n",
       "grouppae -0.720"
      ]
     },
     "metadata": {},
     "output_type": "display_data"
    },
    {
     "data": {
      "image/png": "[encoded data removed]",
      "text/plain": [
       "plot without title"
      ]
     },
     "metadata": {},
     "output_type": "display_data"
    },
    {
     "data": {
      "image/png": "[encoded data removed]",
      "text/plain": [
       "Plot with title \"Normal Q-Q Plot\""
      ]
     },
     "metadata": {},
     "output_type": "display_data"
    }
   ],
   "source": [
    "# log transform ripple_duration\n",
    "data$ripple_duration_log <- log(data$ripple_duration)\n",
    "\n",
    "m1 = lmer(ripple_duration_log ~ group + (1 | rat/session), data = data[data$area == \"ca1\",],REML=FALSE)\n",
    "m1.null = lmer(ripple_duration_log ~ 1 + (1 | rat/session), data = data[data$area == \"ca1\",], REML=FALSE)\n",
    "anova(m1.null, m1)  \n",
    "summary(m1)\n",
    "options(repr.plot.width = 4, repr.plot.height = 3)\n",
    "plot(m1)\n",
    "options(repr.plot.width = 4, repr.plot.height = 4)\n",
    "qqnorm(resid(m1))\n",
    "qqline(resid(m1))\n",
    "\n"
   ]
  },
  {
   "cell_type": "markdown",
   "metadata": {},
   "source": [
    "ca3 ripple duration"
   ]
  },
  {
   "cell_type": "code",
   "execution_count": 57,
   "metadata": {},
   "outputs": [
    {
     "data": {
      "text/html": [
       "0.023200000000088"
      ],
      "text/latex": [
       "0.023200000000088"
      ],
      "text/markdown": [
       "0.023200000000088"
      ],
      "text/plain": [
       "[1] 0.0232"
      ]
     },
     "metadata": {},
     "output_type": "display_data"
    }
   ],
   "source": [
    "median(data$ripple_duration[data$area == \"ca3\" & data$group == \"control\"])-\n",
    "    median(data$ripple_duration[data$area == \"ca3\" & data$group == \"pae\"])"
   ]
  },
  {
   "cell_type": "code",
   "execution_count": 51,
   "metadata": {},
   "outputs": [
    {
     "data": {
      "text/html": [
       "<table>\n",
       "<thead><tr><th></th><th scope=col>npar</th><th scope=col>AIC</th><th scope=col>BIC</th><th scope=col>logLik</th><th scope=col>deviance</th><th scope=col>Chisq</th><th scope=col>Df</th><th scope=col>Pr(&gt;Chisq)</th></tr></thead>\n",
       "<tbody>\n",
       "\t<tr><th scope=row>m1.null</th><td>4          </td><td>20282.82   </td><td>20312.82   </td><td>-10137.41  </td><td>20274.82   </td><td>      NA   </td><td>NA         </td><td>         NA</td></tr>\n",
       "\t<tr><th scope=row>m1</th><td>5          </td><td>20275.31   </td><td>20312.81   </td><td>-10132.66  </td><td>20265.31   </td><td>9.509663   </td><td> 1         </td><td>0.002043927</td></tr>\n",
       "</tbody>\n",
       "</table>\n"
      ],
      "text/latex": [
       "\\begin{tabular}{r|llllllll}\n",
       "  & npar & AIC & BIC & logLik & deviance & Chisq & Df & Pr(>Chisq)\\\\\n",
       "\\hline\n",
       "\tm1.null & 4           & 20282.82    & 20312.82    & -10137.41   & 20274.82    &       NA    & NA          &          NA\\\\\n",
       "\tm1 & 5           & 20275.31    & 20312.81    & -10132.66   & 20265.31    & 9.509663    &  1          & 0.002043927\\\\\n",
       "\\end{tabular}\n"
      ],
      "text/markdown": [
       "\n",
       "| <!--/--> | npar | AIC | BIC | logLik | deviance | Chisq | Df | Pr(>Chisq) |\n",
       "|---|---|---|---|---|---|---|---|---|\n",
       "| m1.null | 4           | 20282.82    | 20312.82    | -10137.41   | 20274.82    |       NA    | NA          |          NA |\n",
       "| m1 | 5           | 20275.31    | 20312.81    | -10132.66   | 20265.31    | 9.509663    |  1          | 0.002043927 |\n",
       "\n"
      ],
      "text/plain": [
       "        npar AIC      BIC      logLik    deviance Chisq    Df Pr(>Chisq) \n",
       "m1.null 4    20282.82 20312.82 -10137.41 20274.82       NA NA          NA\n",
       "m1      5    20275.31 20312.81 -10132.66 20265.31 9.509663  1 0.002043927"
      ]
     },
     "metadata": {},
     "output_type": "display_data"
    },
    {
     "data": {
      "text/plain": [
       "Linear mixed model fit by maximum likelihood . t-tests use Satterthwaite's\n",
       "  method [lmerModLmerTest]\n",
       "Formula: ripple_duration_log ~ group + (1 | rat/session)\n",
       "   Data: data[data$area == \"ca3\", ]\n",
       "\n",
       "     AIC      BIC   logLik deviance df.resid \n",
       " 20275.3  20312.8 -10132.7  20265.3    13338 \n",
       "\n",
       "Scaled residuals: \n",
       "    Min      1Q  Median      3Q     Max \n",
       "-3.0494 -0.6774  0.0113  0.6756  4.4426 \n",
       "\n",
       "Random effects:\n",
       " Groups      Name        Variance Std.Dev.\n",
       " session:rat (Intercept) 0.019285 0.13887 \n",
       " rat         (Intercept) 0.001086 0.03295 \n",
       " Residual                0.263295 0.51312 \n",
       "Number of obs: 13343, groups:  session:rat, 123; rat, 8\n",
       "\n",
       "Fixed effects:\n",
       "            Estimate Std. Error       df t value Pr(>|t|)    \n",
       "(Intercept) -2.17421    0.03189  9.42734 -68.171 5.09e-14 ***\n",
       "grouppae    -0.19755    0.04182  7.03320  -4.723  0.00212 ** \n",
       "---\n",
       "Signif. codes:  0 '***' 0.001 '**' 0.01 '*' 0.05 '.' 0.1 ' ' 1\n",
       "\n",
       "Correlation of Fixed Effects:\n",
       "         (Intr)\n",
       "grouppae -0.763"
      ]
     },
     "metadata": {},
     "output_type": "display_data"
    },
    {
     "data": {
      "image/png": "[encoded data removed]",
      "text/plain": [
       "plot without title"
      ]
     },
     "metadata": {},
     "output_type": "display_data"
    },
    {
     "data": {
      "image/png": "[encoded data removed]",
      "text/plain": [
       "plot without title"
      ]
     },
     "metadata": {},
     "output_type": "display_data"
    },
    {
     "data": {
      "image/png": "[encoded data removed]",
      "text/plain": [
       "Plot with title \"Normal Q-Q Plot\""
      ]
     },
     "metadata": {},
     "output_type": "display_data"
    }
   ],
   "source": [
    "m1 = lmer(ripple_duration_log ~ group + (1 | rat/session), data = data[data$area == \"ca3\",],REML=FALSE)\n",
    "m1.null = lmer(ripple_duration_log ~ 1 + (1 | rat/session), data = data[data$area == \"ca3\",], REML=FALSE)\n",
    "anova(m1.null, m1)\n",
    "summary(m1)\n",
    "plot(ripple_duration_log ~ group, data = data[data$area == \"ca3\",])\n",
    "\n",
    "options(repr.plot.width = 4, repr.plot.height = 3)\n",
    "plot(m1)\n",
    "options(repr.plot.width = 4, repr.plot.height = 4)\n",
    "qqnorm(resid(m1))\n",
    "qqline(resid(m1))"
   ]
  },
  {
   "cell_type": "markdown",
   "metadata": {},
   "source": [
    "ca1 peak frequency"
   ]
  },
  {
   "cell_type": "code",
   "execution_count": 48,
   "metadata": {},
   "outputs": [
    {
     "data": {
      "text/html": [
       "<table>\n",
       "<thead><tr><th></th><th scope=col>npar</th><th scope=col>AIC</th><th scope=col>BIC</th><th scope=col>logLik</th><th scope=col>deviance</th><th scope=col>Chisq</th><th scope=col>Df</th><th scope=col>Pr(&gt;Chisq)</th></tr></thead>\n",
       "<tbody>\n",
       "\t<tr><th scope=row>m1.null</th><td>4        </td><td>-9042.748</td><td>-9016.929</td><td>4525.374 </td><td>-9050.748</td><td>       NA</td><td>NA       </td><td>       NA</td></tr>\n",
       "\t<tr><th scope=row>m1</th><td>5        </td><td>-9041.686</td><td>-9009.411</td><td>4525.843 </td><td>-9051.686</td><td>0.9371914</td><td> 1       </td><td>0.3330012</td></tr>\n",
       "</tbody>\n",
       "</table>\n"
      ],
      "text/latex": [
       "\\begin{tabular}{r|llllllll}\n",
       "  & npar & AIC & BIC & logLik & deviance & Chisq & Df & Pr(>Chisq)\\\\\n",
       "\\hline\n",
       "\tm1.null & 4         & -9042.748 & -9016.929 & 4525.374  & -9050.748 &        NA & NA        &        NA\\\\\n",
       "\tm1 & 5         & -9041.686 & -9009.411 & 4525.843  & -9051.686 & 0.9371914 &  1        & 0.3330012\\\\\n",
       "\\end{tabular}\n"
      ],
      "text/markdown": [
       "\n",
       "| <!--/--> | npar | AIC | BIC | logLik | deviance | Chisq | Df | Pr(>Chisq) |\n",
       "|---|---|---|---|---|---|---|---|---|\n",
       "| m1.null | 4         | -9042.748 | -9016.929 | 4525.374  | -9050.748 |        NA | NA        |        NA |\n",
       "| m1 | 5         | -9041.686 | -9009.411 | 4525.843  | -9051.686 | 0.9371914 |  1        | 0.3330012 |\n",
       "\n"
      ],
      "text/plain": [
       "        npar AIC       BIC       logLik   deviance  Chisq     Df Pr(>Chisq)\n",
       "m1.null 4    -9042.748 -9016.929 4525.374 -9050.748        NA NA        NA \n",
       "m1      5    -9041.686 -9009.411 4525.843 -9051.686 0.9371914  1 0.3330012 "
      ]
     },
     "metadata": {},
     "output_type": "display_data"
    },
    {
     "data": {
      "image/png": "[encoded data removed]",
      "text/plain": [
       "plot without title"
      ]
     },
     "metadata": {},
     "output_type": "display_data"
    },
    {
     "data": {
      "image/png": "[encoded data removed]",
      "text/plain": [
       "plot without title"
      ]
     },
     "metadata": {},
     "output_type": "display_data"
    },
    {
     "data": {
      "image/png": "[encoded data removed]",
      "text/plain": [
       "Plot with title \"Normal Q-Q Plot\""
      ]
     },
     "metadata": {},
     "output_type": "display_data"
    }
   ],
   "source": [
    "# log transform peak frequency\n",
    "data$peak_freq_log <- log10(data$peak_freq)\n",
    "\n",
    "\n",
    "m1 = lmer(peak_freq_log ~ group + (1 | rat/session), data = data[data$area == \"ca1\",],REML=FALSE)\n",
    "m1.null = lmer(peak_freq_log ~ 1 + (1 | rat/session), data = data[data$area == \"ca1\",], REML=FALSE)\n",
    "anova(m1.null, m1)\n",
    "\n",
    "plot(peak_freq_log ~ group, data = data[data$area == \"ca1\",])\n",
    "\n",
    "options(repr.plot.width = 4, repr.plot.height = 3)\n",
    "plot(m1)\n",
    "options(repr.plot.width = 4, repr.plot.height = 4)\n",
    "qqnorm(resid(m1))\n",
    "qqline(resid(m1))"
   ]
  },
  {
   "cell_type": "markdown",
   "metadata": {},
   "source": [
    "ca3 peak frequency"
   ]
  },
  {
   "cell_type": "code",
   "execution_count": 49,
   "metadata": {},
   "outputs": [
    {
     "data": {
      "text/html": [
       "<table>\n",
       "<thead><tr><th></th><th scope=col>npar</th><th scope=col>AIC</th><th scope=col>BIC</th><th scope=col>logLik</th><th scope=col>deviance</th><th scope=col>Chisq</th><th scope=col>Df</th><th scope=col>Pr(&gt;Chisq)</th></tr></thead>\n",
       "<tbody>\n",
       "\t<tr><th scope=row>m1.null</th><td>4         </td><td>-32435.19 </td><td>-32405.19 </td><td>16221.59  </td><td>-32443.19 </td><td>        NA</td><td>NA        </td><td>       NA </td></tr>\n",
       "\t<tr><th scope=row>m1</th><td>5         </td><td>-32433.24 </td><td>-32395.75 </td><td>16221.62  </td><td>-32443.24 </td><td>0.05414031</td><td> 1        </td><td>0.8160094 </td></tr>\n",
       "</tbody>\n",
       "</table>\n"
      ],
      "text/latex": [
       "\\begin{tabular}{r|llllllll}\n",
       "  & npar & AIC & BIC & logLik & deviance & Chisq & Df & Pr(>Chisq)\\\\\n",
       "\\hline\n",
       "\tm1.null & 4          & -32435.19  & -32405.19  & 16221.59   & -32443.19  &         NA & NA         &        NA \\\\\n",
       "\tm1 & 5          & -32433.24  & -32395.75  & 16221.62   & -32443.24  & 0.05414031 &  1         & 0.8160094 \\\\\n",
       "\\end{tabular}\n"
      ],
      "text/markdown": [
       "\n",
       "| <!--/--> | npar | AIC | BIC | logLik | deviance | Chisq | Df | Pr(>Chisq) |\n",
       "|---|---|---|---|---|---|---|---|---|\n",
       "| m1.null | 4          | -32435.19  | -32405.19  | 16221.59   | -32443.19  |         NA | NA         |        NA  |\n",
       "| m1 | 5          | -32433.24  | -32395.75  | 16221.62   | -32443.24  | 0.05414031 |  1         | 0.8160094  |\n",
       "\n"
      ],
      "text/plain": [
       "        npar AIC       BIC       logLik   deviance  Chisq      Df Pr(>Chisq)\n",
       "m1.null 4    -32435.19 -32405.19 16221.59 -32443.19         NA NA        NA \n",
       "m1      5    -32433.24 -32395.75 16221.62 -32443.24 0.05414031  1 0.8160094 "
      ]
     },
     "metadata": {},
     "output_type": "display_data"
    },
    {
     "data": {
      "image/png": "[encoded data removed]",
      "text/plain": [
       "plot without title"
      ]
     },
     "metadata": {},
     "output_type": "display_data"
    },
    {
     "data": {
      "image/png": "[encoded data removed]",
      "text/plain": [
       "plot without title"
      ]
     },
     "metadata": {},
     "output_type": "display_data"
    },
    {
     "data": {
      "image/png": "[encoded data removed]",
      "text/plain": [
       "Plot with title \"Normal Q-Q Plot\""
      ]
     },
     "metadata": {},
     "output_type": "display_data"
    }
   ],
   "source": [
    "m1 = lmer(peak_freq_log ~ group + (1 | rat/session), data = data[data$area == \"ca3\",],REML=FALSE)\n",
    "m1.null = lmer(peak_freq_log ~ 1 + (1 | rat/session), data = data[data$area == \"ca3\",], REML=FALSE)\n",
    "anova(m1.null, m1)\n",
    "\n",
    "plot(peak_freq_log ~ group, data = data[data$area == \"ca3\",])\n",
    "\n",
    "options(repr.plot.width = 4, repr.plot.height = 3)\n",
    "plot(m1)\n",
    "options(repr.plot.width = 4, repr.plot.height = 4)\n",
    "qqnorm(resid(m1))\n",
    "qqline(resid(m1))"
   ]
  },
  {
   "cell_type": "markdown",
   "metadata": {},
   "source": [
    "ca1 peak amplitude"
   ]
  },
  {
   "cell_type": "code",
   "execution_count": 35,
   "metadata": {},
   "outputs": [
    {
     "data": {
      "text/html": [
       "<table>\n",
       "<thead><tr><th></th><th scope=col>npar</th><th scope=col>AIC</th><th scope=col>BIC</th><th scope=col>logLik</th><th scope=col>deviance</th><th scope=col>Chisq</th><th scope=col>Df</th><th scope=col>Pr(&gt;Chisq)</th></tr></thead>\n",
       "<tbody>\n",
       "\t<tr><th scope=row>m1.null</th><td>4         </td><td>-8944.553 </td><td>-8918.733 </td><td>4476.276  </td><td>-8952.553 </td><td>        NA</td><td>NA        </td><td>      NA  </td></tr>\n",
       "\t<tr><th scope=row>m1</th><td>5         </td><td>-8942.623 </td><td>-8910.349 </td><td>4476.312  </td><td>-8952.623 </td><td>0.07015655</td><td> 1        </td><td>0.791109  </td></tr>\n",
       "</tbody>\n",
       "</table>\n"
      ],
      "text/latex": [
       "\\begin{tabular}{r|llllllll}\n",
       "  & npar & AIC & BIC & logLik & deviance & Chisq & Df & Pr(>Chisq)\\\\\n",
       "\\hline\n",
       "\tm1.null & 4          & -8944.553  & -8918.733  & 4476.276   & -8952.553  &         NA & NA         &       NA  \\\\\n",
       "\tm1 & 5          & -8942.623  & -8910.349  & 4476.312   & -8952.623  & 0.07015655 &  1         & 0.791109  \\\\\n",
       "\\end{tabular}\n"
      ],
      "text/markdown": [
       "\n",
       "| <!--/--> | npar | AIC | BIC | logLik | deviance | Chisq | Df | Pr(>Chisq) |\n",
       "|---|---|---|---|---|---|---|---|---|\n",
       "| m1.null | 4          | -8944.553  | -8918.733  | 4476.276   | -8952.553  |         NA | NA         |       NA   |\n",
       "| m1 | 5          | -8942.623  | -8910.349  | 4476.312   | -8952.623  | 0.07015655 |  1         | 0.791109   |\n",
       "\n"
      ],
      "text/plain": [
       "        npar AIC       BIC       logLik   deviance  Chisq      Df Pr(>Chisq)\n",
       "m1.null 4    -8944.553 -8918.733 4476.276 -8952.553         NA NA       NA  \n",
       "m1      5    -8942.623 -8910.349 4476.312 -8952.623 0.07015655  1 0.791109  "
      ]
     },
     "metadata": {},
     "output_type": "display_data"
    },
    {
     "data": {
      "image/png": "[encoded data removed]",
      "text/plain": [
       "plot without title"
      ]
     },
     "metadata": {},
     "output_type": "display_data"
    },
    {
     "data": {
      "image/png": "[encoded data removed]",
      "text/plain": [
       "Plot with title \"Normal Q-Q Plot\""
      ]
     },
     "metadata": {},
     "output_type": "display_data"
    }
   ],
   "source": [
    "# log transform peak frequency\n",
    "data$peak_amplitude_log <- log10(log10(data$peak_amplitude))\n",
    "\n",
    "m1 = lmer(peak_amplitude_log ~ group + (1 | rat/session), data = data[data$area == \"ca1\",],REML=FALSE)\n",
    "# summary(m1)\n",
    "m1.null = lmer(peak_amplitude_log ~ 1 + (1 | rat/session), data = data[data$area == \"ca1\",], REML=FALSE)\n",
    "anova(m1.null, m1)\n",
    "\n",
    "options(repr.plot.width = 4, repr.plot.height = 3)\n",
    "plot(m1)\n",
    "options(repr.plot.width = 4, repr.plot.height = 4)\n",
    "qqnorm(resid(m1))\n",
    "qqline(resid(m1))\n"
   ]
  },
  {
   "cell_type": "markdown",
   "metadata": {},
   "source": [
    "ca3 peak amplitude"
   ]
  },
  {
   "cell_type": "code",
   "execution_count": 36,
   "metadata": {},
   "outputs": [
    {
     "data": {
      "text/html": [
       "<table>\n",
       "<thead><tr><th></th><th scope=col>npar</th><th scope=col>AIC</th><th scope=col>BIC</th><th scope=col>logLik</th><th scope=col>deviance</th><th scope=col>Chisq</th><th scope=col>Df</th><th scope=col>Pr(&gt;Chisq)</th></tr></thead>\n",
       "<tbody>\n",
       "\t<tr><th scope=row>m1.null</th><td>4        </td><td>-25547.80</td><td>-25517.80</td><td>12777.90 </td><td>-25555.80</td><td>      NA </td><td>NA       </td><td>       NA</td></tr>\n",
       "\t<tr><th scope=row>m1</th><td>5        </td><td>-25548.32</td><td>-25510.82</td><td>12779.16 </td><td>-25558.32</td><td>2.520374 </td><td> 1       </td><td>0.1123839</td></tr>\n",
       "</tbody>\n",
       "</table>\n"
      ],
      "text/latex": [
       "\\begin{tabular}{r|llllllll}\n",
       "  & npar & AIC & BIC & logLik & deviance & Chisq & Df & Pr(>Chisq)\\\\\n",
       "\\hline\n",
       "\tm1.null & 4         & -25547.80 & -25517.80 & 12777.90  & -25555.80 &       NA  & NA        &        NA\\\\\n",
       "\tm1 & 5         & -25548.32 & -25510.82 & 12779.16  & -25558.32 & 2.520374  &  1        & 0.1123839\\\\\n",
       "\\end{tabular}\n"
      ],
      "text/markdown": [
       "\n",
       "| <!--/--> | npar | AIC | BIC | logLik | deviance | Chisq | Df | Pr(>Chisq) |\n",
       "|---|---|---|---|---|---|---|---|---|\n",
       "| m1.null | 4         | -25547.80 | -25517.80 | 12777.90  | -25555.80 |       NA  | NA        |        NA |\n",
       "| m1 | 5         | -25548.32 | -25510.82 | 12779.16  | -25558.32 | 2.520374  |  1        | 0.1123839 |\n",
       "\n"
      ],
      "text/plain": [
       "        npar AIC       BIC       logLik   deviance  Chisq    Df Pr(>Chisq)\n",
       "m1.null 4    -25547.80 -25517.80 12777.90 -25555.80       NA NA        NA \n",
       "m1      5    -25548.32 -25510.82 12779.16 -25558.32 2.520374  1 0.1123839 "
      ]
     },
     "metadata": {},
     "output_type": "display_data"
    },
    {
     "data": {
      "image/png": "[encoded data removed]",
      "text/plain": [
       "plot without title"
      ]
     },
     "metadata": {},
     "output_type": "display_data"
    },
    {
     "data": {
      "image/png": "[encoded data removed]",
      "text/plain": [
       "Plot with title \"Normal Q-Q Plot\""
      ]
     },
     "metadata": {},
     "output_type": "display_data"
    }
   ],
   "source": [
    "m1 = lmer(peak_amplitude_log ~ group + (1 | rat/session), data = data[data$area == \"ca3\",],REML=FALSE)\n",
    "m1.null = lmer(peak_amplitude_log ~ 1 + (1 | rat/session), data = data[data$area == \"ca3\",], REML=FALSE)\n",
    "anova(m1.null, m1)\n",
    "\n",
    "options(repr.plot.width = 4, repr.plot.height = 3)\n",
    "plot(m1)\n",
    "options(repr.plot.width = 4, repr.plot.height = 4)\n",
    "qqnorm(resid(m1))\n",
    "qqline(resid(m1))"
   ]
  },
  {
   "cell_type": "code",
   "execution_count": 83,
   "metadata": {},
   "outputs": [
    {
     "data": {
      "text/plain": [
       "       X                             session     area         counts      \n",
       " Min.   :  0.00   LEM3124_S20190307132509:  2   ca1: 81   Min.   :  1.00  \n",
       " 1st Qu.: 57.75   LEM3124_S20190307163732:  2   ca3:123   1st Qu.: 10.00  \n",
       " Median :118.50   LEM3124_S20190309145324:  2             Median : 33.00  \n",
       " Mean   :113.93   LEM3124_S20190311161641:  2             Mean   : 88.44  \n",
       " 3rd Qu.:169.25   LEM3124_S20190315160017:  2             3rd Qu.: 79.25  \n",
       " Max.   :220.00   LEM3124_S20190319154019:  2             Max.   :983.00  \n",
       "                  (Other)                :192                             \n",
       "  ripple_rate           group          rat    \n",
       " Min.   :0.000521   control: 80   LEM3124:38  \n",
       " 1st Qu.:0.012210   pae    :124   LEM3206:36  \n",
       " Median :0.036449                 LEM3116:30  \n",
       " Mean   :0.074858                 LEM3216:28  \n",
       " 3rd Qu.:0.082028                 LEM3246:22  \n",
       " Max.   :0.481211                 LS19   :15  \n",
       "                                  (Other):35  "
      ]
     },
     "metadata": {},
     "output_type": "display_data"
    }
   ],
   "source": [
    "summary(df_inter_ripple)"
   ]
  },
  {
   "cell_type": "code",
   "execution_count": 9,
   "metadata": {},
   "outputs": [
    {
     "data": {
      "text/html": [
       "<table>\n",
       "<thead><tr><th></th><th scope=col>npar</th><th scope=col>AIC</th><th scope=col>BIC</th><th scope=col>logLik</th><th scope=col>deviance</th><th scope=col>Chisq</th><th scope=col>Df</th><th scope=col>Pr(&gt;Chisq)</th></tr></thead>\n",
       "<tbody>\n",
       "\t<tr><th scope=row>m1.null</th><td>3        </td><td>269.3987 </td><td>276.5821 </td><td>-131.6994</td><td>263.3987 </td><td>       NA</td><td>NA       </td><td>       NA</td></tr>\n",
       "\t<tr><th scope=row>m1</th><td>4        </td><td>270.5331 </td><td>280.1109 </td><td>-131.2666</td><td>262.5331 </td><td>0.8656004</td><td> 1       </td><td>0.3521762</td></tr>\n",
       "</tbody>\n",
       "</table>\n"
      ],
      "text/latex": [
       "\\begin{tabular}{r|llllllll}\n",
       "  & npar & AIC & BIC & logLik & deviance & Chisq & Df & Pr(>Chisq)\\\\\n",
       "\\hline\n",
       "\tm1.null & 3         & 269.3987  & 276.5821  & -131.6994 & 263.3987  &        NA & NA        &        NA\\\\\n",
       "\tm1 & 4         & 270.5331  & 280.1109  & -131.2666 & 262.5331  & 0.8656004 &  1        & 0.3521762\\\\\n",
       "\\end{tabular}\n"
      ],
      "text/markdown": [
       "\n",
       "| <!--/--> | npar | AIC | BIC | logLik | deviance | Chisq | Df | Pr(>Chisq) |\n",
       "|---|---|---|---|---|---|---|---|---|\n",
       "| m1.null | 3         | 269.3987  | 276.5821  | -131.6994 | 263.3987  |        NA | NA        |        NA |\n",
       "| m1 | 4         | 270.5331  | 280.1109  | -131.2666 | 262.5331  | 0.8656004 |  1        | 0.3521762 |\n",
       "\n"
      ],
      "text/plain": [
       "        npar AIC      BIC      logLik    deviance Chisq     Df Pr(>Chisq)\n",
       "m1.null 3    269.3987 276.5821 -131.6994 263.3987        NA NA        NA \n",
       "m1      4    270.5331 280.1109 -131.2666 262.5331 0.8656004  1 0.3521762 "
      ]
     },
     "metadata": {},
     "output_type": "display_data"
    },
    {
     "data": {
      "image/png": "[encoded data removed]",
      "text/plain": [
       "plot without title"
      ]
     },
     "metadata": {},
     "output_type": "display_data"
    },
    {
     "data": {
      "image/png": "[encoded data removed]",
      "text/plain": [
       "Plot with title \"Normal Q-Q Plot\""
      ]
     },
     "metadata": {},
     "output_type": "display_data"
    }
   ],
   "source": [
    "df_inter_ripple$ripple_rate_log = log(df_inter_ripple$ripple_rate)\n",
    "\n",
    "m1 = lmer(ripple_rate_log ~ group + (1 | rat), data = df_inter_ripple[df_inter_ripple$area == \"ca1\",],REML=FALSE)\n",
    "m1.null = lmer(ripple_rate_log ~ 1 + (1 | rat), data = df_inter_ripple[df_inter_ripple$area == \"ca1\",], REML=FALSE)\n",
    "anova(m1.null, m1)\n",
    "\n",
    "options(repr.plot.width = 4, repr.plot.height = 3)\n",
    "plot(m1)\n",
    "options(repr.plot.width = 4, repr.plot.height = 4)\n",
    "qqnorm(resid(m1))\n",
    "qqline(resid(m1))"
   ]
  },
  {
   "cell_type": "code",
   "execution_count": 50,
   "metadata": {},
   "outputs": [
    {
     "data": {
      "text/html": [
       "<table>\n",
       "<thead><tr><th></th><th scope=col>npar</th><th scope=col>AIC</th><th scope=col>BIC</th><th scope=col>logLik</th><th scope=col>deviance</th><th scope=col>Chisq</th><th scope=col>Df</th><th scope=col>Pr(&gt;Chisq)</th></tr></thead>\n",
       "<tbody>\n",
       "\t<tr><th scope=row>m1.null</th><td>3        </td><td>399.0621 </td><td>407.4986 </td><td>-196.5310</td><td>393.0621 </td><td>      NA </td><td>NA       </td><td>       NA</td></tr>\n",
       "\t<tr><th scope=row>m1</th><td>4        </td><td>399.2706 </td><td>410.5194 </td><td>-195.6353</td><td>391.2706 </td><td>1.791421 </td><td> 1       </td><td>0.1807531</td></tr>\n",
       "</tbody>\n",
       "</table>\n"
      ],
      "text/latex": [
       "\\begin{tabular}{r|llllllll}\n",
       "  & npar & AIC & BIC & logLik & deviance & Chisq & Df & Pr(>Chisq)\\\\\n",
       "\\hline\n",
       "\tm1.null & 3         & 399.0621  & 407.4986  & -196.5310 & 393.0621  &       NA  & NA        &        NA\\\\\n",
       "\tm1 & 4         & 399.2706  & 410.5194  & -195.6353 & 391.2706  & 1.791421  &  1        & 0.1807531\\\\\n",
       "\\end{tabular}\n"
      ],
      "text/markdown": [
       "\n",
       "| <!--/--> | npar | AIC | BIC | logLik | deviance | Chisq | Df | Pr(>Chisq) |\n",
       "|---|---|---|---|---|---|---|---|---|\n",
       "| m1.null | 3         | 399.0621  | 407.4986  | -196.5310 | 393.0621  |       NA  | NA        |        NA |\n",
       "| m1 | 4         | 399.2706  | 410.5194  | -195.6353 | 391.2706  | 1.791421  |  1        | 0.1807531 |\n",
       "\n"
      ],
      "text/plain": [
       "        npar AIC      BIC      logLik    deviance Chisq    Df Pr(>Chisq)\n",
       "m1.null 3    399.0621 407.4986 -196.5310 393.0621       NA NA        NA \n",
       "m1      4    399.2706 410.5194 -195.6353 391.2706 1.791421  1 0.1807531 "
      ]
     },
     "metadata": {},
     "output_type": "display_data"
    },
    {
     "data": {
      "image/png": "[encoded data removed]",
      "text/plain": [
       "plot without title"
      ]
     },
     "metadata": {},
     "output_type": "display_data"
    },
    {
     "data": {
      "image/png": "[encoded data removed]",
      "text/plain": [
       "plot without title"
      ]
     },
     "metadata": {},
     "output_type": "display_data"
    },
    {
     "data": {
      "image/png": "[encoded data removed]",
      "text/plain": [
       "Plot with title \"Normal Q-Q Plot\""
      ]
     },
     "metadata": {},
     "output_type": "display_data"
    }
   ],
   "source": [
    "m1 = lmer(ripple_rate_log ~ group + (1 | rat), data = df_inter_ripple[df_inter_ripple$area == \"ca3\",],REML=FALSE)\n",
    "m1.null = lmer(ripple_rate_log ~ 1 + (1 | rat), data = df_inter_ripple[df_inter_ripple$area == \"ca3\",], REML=FALSE)\n",
    "anova(m1.null, m1)\n",
    "plot(ripple_rate_log ~ group, data =  df_inter_ripple[df_inter_ripple$area == \"ca3\",])\n",
    "\n",
    "options(repr.plot.width = 4, repr.plot.height = 3)\n",
    "plot(m1)\n",
    "options(repr.plot.width = 4, repr.plot.height = 4)\n",
    "qqnorm(resid(m1))\n",
    "qqline(resid(m1))"
   ]
  },
  {
   "cell_type": "code",
   "execution_count": null,
   "metadata": {},
   "outputs": [],
   "source": [
    "# m1 = lmer(ripple_rate_log ~ group + (1 | rat), data = df_inter_ripple[df_inter_ripple$area == \"ca3\",],REML=FALSE)\n",
    "# summary(m1)\n",
    "# plot(ripple_rate_log ~ group, data = df_inter_ripple[df_inter_ripple$area == \"ca3\",])\n",
    "# abline(m1)\n",
    "\n"
   ]
  },
  {
   "cell_type": "markdown",
   "metadata": {},
   "source": [
    "# compare the proportion of ripples above 100ms"
   ]
  },
  {
   "cell_type": "code",
   "execution_count": 8,
   "metadata": {},
   "outputs": [
    {
     "data": {
      "text/plain": [
       "       X                             session         rat         group    \n",
       " Min.   :  0.00   LEM3124_S20190307132509:  2   LEM3124:38   control: 80  \n",
       " 1st Qu.: 50.75   LEM3124_S20190307163732:  2   LEM3206:36   pae    :124  \n",
       " Median :101.50   LEM3124_S20190309145324:  2   LEM3116:30                \n",
       " Mean   :101.50   LEM3124_S20190311161641:  2   LEM3216:28                \n",
       " 3rd Qu.:152.25   LEM3124_S20190315160017:  2   LEM3246:22                \n",
       " Max.   :203.00   LEM3124_S20190319154019:  2   LS19   :15                \n",
       "                  (Other)                :192   (Other):35                \n",
       "  area         n_rip          prop_above        groupup   \n",
       " ca1: 81   Min.   :  1.00   Min.   :0.0000   control: 80  \n",
       " ca3:123   1st Qu.: 10.00   1st Qu.:0.4000   pae    :124  \n",
       "           Median : 33.00   Median :0.5282                \n",
       "           Mean   : 88.44   Mean   :0.5558                \n",
       "           3rd Qu.: 79.25   3rd Qu.:0.6828                \n",
       "           Max.   :983.00   Max.   :1.0000                \n",
       "                                                          "
      ]
     },
     "metadata": {},
     "output_type": "display_data"
    }
   ],
   "source": [
    "data <- read.csv('F:/Projects/PAE_PlaceCell/analysis/swr_data/post_processed/df_prop_100ms.csv')\n",
    "\n",
    "\n",
    "data$groupup = factor(data$group, levels=c('control', 'pae'))\n",
    "data$rat = factor(data$rat)\n",
    "data$session = factor(data$session)\n",
    "data$area = factor(data$area, levels=c('ca1', 'ca3'))\n",
    "\n",
    "summary(data)"
   ]
  },
  {
   "cell_type": "code",
   "execution_count": 9,
   "metadata": {},
   "outputs": [],
   "source": [
    "overdisp.glmer <- function(model) {\n",
    "  ## From http://glmm.wikidot.com/faq\n",
    "  ## number of variance parameters in \n",
    "  ##   an n-by-n variance-covariance matrix\n",
    "  vpars <- function(m) {\n",
    "    nrow(m)*(nrow(m)+1)/2\n",
    "  }\n",
    "  model.df <- sum(sapply(lme4::VarCorr(model),vpars))+length(lme4::fixef(model))\n",
    "  rdf <- nrow(model.frame(model))-model.df\n",
    "  rp <- residuals(model)\n",
    "  dev <- sum(rp^2)\n",
    "  prat <- dev/rdf\n",
    "  cat(paste(\"Residual deviance: \",round(dev,3),\" on \",rdf,\" degrees of freedom\",\n",
    "    \" (ratio: \",round(prat,3),\")\\n\",sep=\"\"))\n",
    "}"
   ]
  },
  {
   "cell_type": "code",
   "execution_count": 10,
   "metadata": {},
   "outputs": [
    {
     "data": {
      "text/html": [
       "0.576122029920798"
      ],
      "text/latex": [
       "0.576122029920798"
      ],
      "text/markdown": [
       "0.576122029920798"
      ],
      "text/plain": [
       "[1] 0.576122"
      ]
     },
     "metadata": {},
     "output_type": "display_data"
    },
    {
     "data": {
      "text/html": [
       "0.591931730023274"
      ],
      "text/latex": [
       "0.591931730023274"
      ],
      "text/markdown": [
       "0.591931730023274"
      ],
      "text/plain": [
       "[1] 0.5919317"
      ]
     },
     "metadata": {},
     "output_type": "display_data"
    },
    {
     "data": {
      "text/html": [
       "<table>\n",
       "<thead><tr><th></th><th scope=col>npar</th><th scope=col>AIC</th><th scope=col>BIC</th><th scope=col>logLik</th><th scope=col>deviance</th><th scope=col>Chisq</th><th scope=col>Df</th><th scope=col>Pr(&gt;Chisq)</th></tr></thead>\n",
       "<tbody>\n",
       "\t<tr><th scope=row>m1.null</th><td>3        </td><td>423.0382 </td><td>430.2216 </td><td>-208.5191</td><td>417.0382 </td><td>       NA</td><td>NA       </td><td>       NA</td></tr>\n",
       "\t<tr><th scope=row>m1</th><td>4        </td><td>424.5712 </td><td>434.1490 </td><td>-208.2856</td><td>416.5712 </td><td>0.4670062</td><td> 1       </td><td>0.4943677</td></tr>\n",
       "</tbody>\n",
       "</table>\n"
      ],
      "text/latex": [
       "\\begin{tabular}{r|llllllll}\n",
       "  & npar & AIC & BIC & logLik & deviance & Chisq & Df & Pr(>Chisq)\\\\\n",
       "\\hline\n",
       "\tm1.null & 3         & 423.0382  & 430.2216  & -208.5191 & 417.0382  &        NA & NA        &        NA\\\\\n",
       "\tm1 & 4         & 424.5712  & 434.1490  & -208.2856 & 416.5712  & 0.4670062 &  1        & 0.4943677\\\\\n",
       "\\end{tabular}\n"
      ],
      "text/markdown": [
       "\n",
       "| <!--/--> | npar | AIC | BIC | logLik | deviance | Chisq | Df | Pr(>Chisq) |\n",
       "|---|---|---|---|---|---|---|---|---|\n",
       "| m1.null | 3         | 423.0382  | 430.2216  | -208.5191 | 417.0382  |        NA | NA        |        NA |\n",
       "| m1 | 4         | 424.5712  | 434.1490  | -208.2856 | 416.5712  | 0.4670062 |  1        | 0.4943677 |\n",
       "\n"
      ],
      "text/plain": [
       "        npar AIC      BIC      logLik    deviance Chisq     Df Pr(>Chisq)\n",
       "m1.null 3    423.0382 430.2216 -208.5191 417.0382        NA NA        NA \n",
       "m1      4    424.5712 434.1490 -208.2856 416.5712 0.4670062  1 0.4943677 "
      ]
     },
     "metadata": {},
     "output_type": "display_data"
    },
    {
     "data": {
      "text/plain": [
       "Generalized linear mixed model fit by maximum likelihood (Laplace\n",
       "  Approximation) [glmerMod]\n",
       " Family: binomial  ( logit )\n",
       "Formula: prop_above ~ group + (1 | rat/session)\n",
       "   Data: data[data$area == \"ca1\", ]\n",
       "Weights: n_rip\n",
       "\n",
       "     AIC      BIC   logLik deviance df.resid \n",
       "   424.6    434.1   -208.3    416.6       77 \n",
       "\n",
       "Scaled residuals: \n",
       "     Min       1Q   Median       3Q      Max \n",
       "-1.59211 -0.33611  0.05229  0.54395  1.23791 \n",
       "\n",
       "Random effects:\n",
       " Groups      Name        Variance Std.Dev.\n",
       " session:rat (Intercept) 0.3043   0.5516  \n",
       " rat         (Intercept) 0.1410   0.3754  \n",
       "Number of obs: 81, groups:  session:rat, 81; rat, 10\n",
       "\n",
       "Fixed effects:\n",
       "            Estimate Std. Error z value Pr(>|z|)  \n",
       "(Intercept)   0.5898     0.2398   2.460   0.0139 *\n",
       "grouppae      0.2290     0.3394   0.675   0.4999  \n",
       "---\n",
       "Signif. codes:  0 '***' 0.001 '**' 0.01 '*' 0.05 '.' 0.1 ' ' 1\n",
       "\n",
       "Correlation of Fixed Effects:\n",
       "         (Intr)\n",
       "grouppae -0.627"
      ]
     },
     "metadata": {},
     "output_type": "display_data"
    },
    {
     "name": "stdout",
     "output_type": "stream",
     "text": [
      "Residual deviance: 42.659 on 77 degrees of freedom (ratio: 0.554)\n"
     ]
    },
    {
     "data": {
      "image/png": "[encoded data removed]",
      "text/plain": [
       "plot without title"
      ]
     },
     "metadata": {},
     "output_type": "display_data"
    },
    {
     "data": {
      "image/png": "[encoded data removed]",
      "text/plain": [
       "Plot with title \"Normal Q-Q Plot\""
      ]
     },
     "metadata": {},
     "output_type": "display_data"
    },
    {
     "data": {
      "image/png": "[encoded data removed]",
      "text/plain": [
       "Plot with title \"density.default(x = resid(m1))\""
      ]
     },
     "metadata": {},
     "output_type": "display_data"
    },
    {
     "data": {
      "image/png": "[encoded data removed]",
      "text/plain": [
       "plot without title"
      ]
     },
     "metadata": {},
     "output_type": "display_data"
    }
   ],
   "source": [
    "weighted.mean(data[data$area=='ca1' & data$group=='control',]$prop_above,data[data$area=='ca1' & data$group=='control',]$n_rip)\n",
    "weighted.mean(data[data$area=='ca1' & data$group=='pae',]$prop_above,data[data$area=='ca1' & data$group=='pae',]$n_rip)\n",
    "\n",
    "m1 = glmer(prop_above ~ group + (1|rat/session), weights=n_rip, data=data[data$area=='ca1',],family=\"binomial\")\n",
    "m1.null = glmer(prop_above ~ 1 + (1|rat/session), weights=n_rip, data=data[data$area=='ca1',],family=\"binomial\")\n",
    "\n",
    "anova(m1.null, m1)  \n",
    "\n",
    "summary(m1)\n",
    "overdisp.glmer(m1)\n",
    "\n",
    "options(repr.plot.width = 4, repr.plot.height = 4)\n",
    "\n",
    "plot(m1)\n",
    "qqnorm(resid(m1))\n",
    "qqline(resid(m1))\n",
    "plot(density(resid(m1)))\n",
    "\n",
    "plot(prop_above ~ group, data = data[data$area == \"ca1\",])\n",
    "\n"
   ]
  },
  {
   "cell_type": "code",
   "execution_count": 12,
   "metadata": {},
   "outputs": [
    {
     "data": {
      "text/html": [
       "0.60042735042735"
      ],
      "text/latex": [
       "0.60042735042735"
      ],
      "text/markdown": [
       "0.60042735042735"
      ],
      "text/plain": [
       "[1] 0.6004274"
      ]
     },
     "metadata": {},
     "output_type": "display_data"
    },
    {
     "data": {
      "text/html": [
       "0.438490150158424"
      ],
      "text/latex": [
       "0.438490150158424"
      ],
      "text/markdown": [
       "0.438490150158424"
      ],
      "text/plain": [
       "[1] 0.4384902"
      ]
     },
     "metadata": {},
     "output_type": "display_data"
    },
    {
     "data": {
      "text/html": [
       "<table>\n",
       "<thead><tr><th></th><th scope=col>npar</th><th scope=col>AIC</th><th scope=col>BIC</th><th scope=col>logLik</th><th scope=col>deviance</th><th scope=col>Chisq</th><th scope=col>Df</th><th scope=col>Pr(&gt;Chisq)</th></tr></thead>\n",
       "<tbody>\n",
       "\t<tr><th scope=row>m1.null</th><td>3          </td><td>822.5876   </td><td>831.0242   </td><td>-408.2938  </td><td>816.5876   </td><td>      NA   </td><td>NA         </td><td>         NA</td></tr>\n",
       "\t<tr><th scope=row>m1</th><td>4          </td><td>817.9492   </td><td>829.1979   </td><td>-404.9746  </td><td>809.9492   </td><td>6.638493   </td><td> 1         </td><td>0.009979834</td></tr>\n",
       "</tbody>\n",
       "</table>\n"
      ],
      "text/latex": [
       "\\begin{tabular}{r|llllllll}\n",
       "  & npar & AIC & BIC & logLik & deviance & Chisq & Df & Pr(>Chisq)\\\\\n",
       "\\hline\n",
       "\tm1.null & 3           & 822.5876    & 831.0242    & -408.2938   & 816.5876    &       NA    & NA          &          NA\\\\\n",
       "\tm1 & 4           & 817.9492    & 829.1979    & -404.9746   & 809.9492    & 6.638493    &  1          & 0.009979834\\\\\n",
       "\\end{tabular}\n"
      ],
      "text/markdown": [
       "\n",
       "| <!--/--> | npar | AIC | BIC | logLik | deviance | Chisq | Df | Pr(>Chisq) |\n",
       "|---|---|---|---|---|---|---|---|---|\n",
       "| m1.null | 3           | 822.5876    | 831.0242    | -408.2938   | 816.5876    |       NA    | NA          |          NA |\n",
       "| m1 | 4           | 817.9492    | 829.1979    | -404.9746   | 809.9492    | 6.638493    |  1          | 0.009979834 |\n",
       "\n"
      ],
      "text/plain": [
       "        npar AIC      BIC      logLik    deviance Chisq    Df Pr(>Chisq) \n",
       "m1.null 3    822.5876 831.0242 -408.2938 816.5876       NA NA          NA\n",
       "m1      4    817.9492 829.1979 -404.9746 809.9492 6.638493  1 0.009979834"
      ]
     },
     "metadata": {},
     "output_type": "display_data"
    },
    {
     "data": {
      "text/plain": [
       "Generalized linear mixed model fit by maximum likelihood (Laplace\n",
       "  Approximation) [glmerMod]\n",
       " Family: binomial  ( logit )\n",
       "Formula: prop_above ~ group + (1 | rat/session)\n",
       "   Data: data[data$area == \"ca3\", ]\n",
       "Weights: n_rip\n",
       "\n",
       "     AIC      BIC   logLik deviance df.resid \n",
       "   817.9    829.2   -405.0    809.9      119 \n",
       "\n",
       "Scaled residuals: \n",
       "     Min       1Q   Median       3Q      Max \n",
       "-2.20848 -0.28932 -0.05196  0.29173  2.37353 \n",
       "\n",
       "Random effects:\n",
       " Groups      Name        Variance Std.Dev.\n",
       " session:rat (Intercept) 0.16435  0.4054  \n",
       " rat         (Intercept) 0.02776  0.1666  \n",
       "Number of obs: 123, groups:  session:rat, 123; rat, 8\n",
       "\n",
       "Fixed effects:\n",
       "            Estimate Std. Error z value Pr(>|z|)    \n",
       "(Intercept)   0.3227     0.1289   2.505 0.012256 *  \n",
       "grouppae     -0.5707     0.1717  -3.324 0.000887 ***\n",
       "---\n",
       "Signif. codes:  0 '***' 0.001 '**' 0.01 '*' 0.05 '.' 0.1 ' ' 1\n",
       "\n",
       "Correlation of Fixed Effects:\n",
       "         (Intr)\n",
       "grouppae -0.745"
      ]
     },
     "metadata": {},
     "output_type": "display_data"
    },
    {
     "name": "stdout",
     "output_type": "stream",
     "text": [
      "Residual deviance: 75.311 on 119 degrees of freedom (ratio: 0.633)\n"
     ]
    },
    {
     "data": {
      "image/png": "[encoded data removed]",
      "text/plain": [
       "plot without title"
      ]
     },
     "metadata": {},
     "output_type": "display_data"
    },
    {
     "data": {
      "image/png": "[encoded data removed]",
      "text/plain": [
       "Plot with title \"Normal Q-Q Plot\""
      ]
     },
     "metadata": {},
     "output_type": "display_data"
    },
    {
     "data": {
      "image/png": "[encoded data removed]",
      "text/plain": [
       "Plot with title \"density.default(x = resid(m1))\""
      ]
     },
     "metadata": {},
     "output_type": "display_data"
    },
    {
     "data": {
      "image/png": "[encoded data removed]",
      "text/plain": [
       "plot without title"
      ]
     },
     "metadata": {},
     "output_type": "display_data"
    }
   ],
   "source": [
    "weighted.mean(data[data$area=='ca3' & data$group=='control',]$prop_above,data[data$area=='ca3' & data$group=='control',]$n_rip)\n",
    "weighted.mean(data[data$area=='ca3' & data$group=='pae',]$prop_above,data[data$area=='ca3' & data$group=='pae',]$n_rip)\n",
    "\n",
    "m1 = glmer(prop_above ~ group + (1|rat/session), weights=n_rip, data=data[data$area=='ca3',],family=\"binomial\")\n",
    "m1.null = glmer(prop_above ~ 1 + (1|rat/session), weights=n_rip, data=data[data$area=='ca3',],family=\"binomial\")\n",
    "\n",
    "anova(m1.null, m1)  \n",
    "\n",
    "summary(m1)\n",
    "overdisp.glmer(m1)\n",
    "\n",
    "options(repr.plot.width = 4, repr.plot.height = 4)\n",
    "\n",
    "plot(m1)\n",
    "qqnorm(resid(m1))\n",
    "qqline(resid(m1))\n",
    "plot(density(resid(m1)))\n",
    "\n",
    "plot(prop_above ~ group, data = data[data$area == \"ca3\",])\n"
   ]
  },
  {
   "cell_type": "markdown",
   "metadata": {},
   "source": [
    "# Excitatory Inhibitory contribution to ripples"
   ]
  },
  {
   "cell_type": "code",
   "execution_count": 34,
   "metadata": {},
   "outputs": [
    {
     "data": {
      "text/plain": [
       "       X                            session           rat           group     \n",
       " Min.   :  0.0   LEM3246_S20190629164240:  983   LEM3216:5540   control:7486  \n",
       " 1st Qu.: 32.0   LEM3246_S20190701153855:  978   LEM3246:4117   pae    :8512  \n",
       " Median : 92.0   LEM3216_S20190718101925:  698   LEM3206:2498                 \n",
       " Mean   :170.4   LEM3216_S20190720145517:  577   LEM3124:1541                 \n",
       " 3rd Qu.:246.0   LEM3216_S20190723165548:  518   LEM3116:1357                 \n",
       " Max.   :982.0   LEM3116_S20180717110938:  438   LEM3120: 448                 \n",
       "                 (Other)                :11806   (Other): 497                 \n",
       "  area          pyr_mean         int_mean            e_i_diff       \n",
       " ca1: 4531   Min.   :-1.592   Min.   :-1.809950   Min.   :-18.4471  \n",
       " ca3:11467   1st Qu.: 1.445   1st Qu.:-0.001109   1st Qu.:  0.2419  \n",
       "             Median : 2.339   Median : 0.744120   Median :  1.5051  \n",
       "             Mean   : 2.419   Mean   : 0.933184   Mean   :  1.4862  \n",
       "             3rd Qu.: 3.315   3rd Qu.: 1.608734   3rd Qu.:  2.7156  \n",
       "             Max.   :15.062   Max.   :18.863170   Max.   : 13.9790  \n",
       "                                                                    \n",
       "   e_i_ratio           pyr_peak         int_peak       e_i_peak_diff     \n",
       " Min.   :-6901.96   Min.   :-1.514   Min.   :-1.6375   Min.   :-18.4471  \n",
       " 1st Qu.:   -0.08   1st Qu.: 2.871   1st Qu.: 0.8118   1st Qu.:  0.2863  \n",
       " Median :    1.30   Median : 4.071   Median : 1.8658   Median :  2.1830  \n",
       " Mean   :    5.14   Mean   : 4.271   Mean   : 2.1046   Mean   :  2.1661  \n",
       " 3rd Qu.:    3.28   3rd Qu.: 5.521   3rd Qu.: 3.0875   3rd Qu.:  4.0410  \n",
       " Max.   :87897.72   Max.   :39.521   Max.   :24.7054   Max.   : 26.5604  \n",
       "                                                                         \n",
       " e_i_peak_ratio         peak_delay            n_pyr           n_int      \n",
       " Min.   :-11728.940   Min.   :-0.700000   Min.   : 1.00   Min.   : 1.00  \n",
       " 1st Qu.:     0.703   1st Qu.:-0.025000   1st Qu.:20.00   1st Qu.: 3.00  \n",
       " Median :     1.606   Median : 0.000000   Median :29.00   Median :19.00  \n",
       " Mean   :     1.329   Mean   : 0.003096   Mean   :37.65   Mean   :17.16  \n",
       " 3rd Qu.:     3.275   3rd Qu.: 0.025000   3rd Qu.:54.00   3rd Qu.:26.00  \n",
       " Max.   :  6453.684   Max.   : 0.775000   Max.   :92.00   Max.   :62.00  \n",
       "                                                                         \n",
       "    groupup    \n",
       " control:7486  \n",
       " pae    :8512  \n",
       "               \n",
       "               \n",
       "               \n",
       "               \n",
       "               "
      ]
     },
     "metadata": {},
     "output_type": "display_data"
    }
   ],
   "source": [
    "data <- read.csv('F:/Projects/PAE_PlaceCell/analysis/i_e_balance/post_processed/e_i_df.csv')\n",
    "\n",
    "\n",
    "data$groupup = factor(data$group, levels=c('control', 'pae'))\n",
    "data$rat = factor(data$rat)\n",
    "data$session = factor(data$session)\n",
    "data$area = factor(data$area, levels=c('ca1', 'ca3'))\n",
    "\n",
    "summary(data)"
   ]
  },
  {
   "cell_type": "code",
   "execution_count": 89,
   "metadata": {},
   "outputs": [
    {
     "data": {
      "text/html": [
       "<table>\n",
       "<thead><tr><th></th><th scope=col>npar</th><th scope=col>AIC</th><th scope=col>BIC</th><th scope=col>logLik</th><th scope=col>deviance</th><th scope=col>Chisq</th><th scope=col>Df</th><th scope=col>Pr(&gt;Chisq)</th></tr></thead>\n",
       "<tbody>\n",
       "\t<tr><th scope=row>m1.null</th><td>3          </td><td>16535.88   </td><td>16555.13   </td><td>-8264.938  </td><td>16529.88   </td><td>     NA    </td><td>NA         </td><td>         NA</td></tr>\n",
       "\t<tr><th scope=row>m1</th><td>4          </td><td>16529.82   </td><td>16555.50   </td><td>-8260.911  </td><td>16521.82   </td><td>8.05292    </td><td> 1         </td><td>0.004543038</td></tr>\n",
       "</tbody>\n",
       "</table>\n"
      ],
      "text/latex": [
       "\\begin{tabular}{r|llllllll}\n",
       "  & npar & AIC & BIC & logLik & deviance & Chisq & Df & Pr(>Chisq)\\\\\n",
       "\\hline\n",
       "\tm1.null & 3           & 16535.88    & 16555.13    & -8264.938   & 16529.88    &      NA     & NA          &          NA\\\\\n",
       "\tm1 & 4           & 16529.82    & 16555.50    & -8260.911   & 16521.82    & 8.05292     &  1          & 0.004543038\\\\\n",
       "\\end{tabular}\n"
      ],
      "text/markdown": [
       "\n",
       "| <!--/--> | npar | AIC | BIC | logLik | deviance | Chisq | Df | Pr(>Chisq) |\n",
       "|---|---|---|---|---|---|---|---|---|\n",
       "| m1.null | 3           | 16535.88    | 16555.13    | -8264.938   | 16529.88    |      NA     | NA          |          NA |\n",
       "| m1 | 4           | 16529.82    | 16555.50    | -8260.911   | 16521.82    | 8.05292     |  1          | 0.004543038 |\n",
       "\n"
      ],
      "text/plain": [
       "        npar AIC      BIC      logLik    deviance Chisq   Df Pr(>Chisq) \n",
       "m1.null 3    16535.88 16555.13 -8264.938 16529.88      NA NA          NA\n",
       "m1      4    16529.82 16555.50 -8260.911 16521.82 8.05292  1 0.004543038"
      ]
     },
     "metadata": {},
     "output_type": "display_data"
    },
    {
     "data": {
      "text/plain": [
       "Linear mixed model fit by maximum likelihood . t-tests use Satterthwaite's\n",
       "  method [lmerModLmerTest]\n",
       "Formula: e_i_diff_trans ~ group + (1 | session)\n",
       "   Data: data[data$area == \"ca1\", ]\n",
       "\n",
       "     AIC      BIC   logLik deviance df.resid \n",
       " 16529.8  16555.5  -8260.9  16521.8     4527 \n",
       "\n",
       "Scaled residuals: \n",
       "    Min      1Q  Median      3Q     Max \n",
       "-5.6535 -0.5952 -0.0174  0.5919  4.2919 \n",
       "\n",
       "Random effects:\n",
       " Groups   Name        Variance Std.Dev.\n",
       " session  (Intercept) 1.001    1.001   \n",
       " Residual             2.161    1.470   \n",
       "Number of obs: 4531, groups:  session, 73\n",
       "\n",
       "Fixed effects:\n",
       "            Estimate Std. Error      df t value Pr(>|t|)    \n",
       "(Intercept)   1.3920     0.2191 63.0224   6.353 2.64e-08 ***\n",
       "grouppae     -0.7944     0.2710 65.9592  -2.931  0.00464 ** \n",
       "---\n",
       "Signif. codes:  0 '***' 0.001 '**' 0.01 '*' 0.05 '.' 0.1 ' ' 1\n",
       "\n",
       "Correlation of Fixed Effects:\n",
       "         (Intr)\n",
       "grouppae -0.808"
      ]
     },
     "metadata": {},
     "output_type": "display_data"
    },
    {
     "data": {
      "image/png": "[encoded data removed]",
      "text/plain": [
       "plot without title"
      ]
     },
     "metadata": {},
     "output_type": "display_data"
    },
    {
     "data": {
      "image/png": "[encoded data removed]",
      "text/plain": [
       "Plot with title \"Normal Q-Q Plot\""
      ]
     },
     "metadata": {},
     "output_type": "display_data"
    },
    {
     "data": {
      "image/png": "[encoded data removed]",
      "text/plain": [
       "plot without title"
      ]
     },
     "metadata": {},
     "output_type": "display_data"
    }
   ],
   "source": [
    "data$e_i_diff_trans = (data$e_i_diff)\n",
    "\n",
    "m1 = lmer(e_i_diff_trans ~ group + (1 | session), data = data[data$area == \"ca1\",],REML=FALSE)\n",
    "m1.null = lmer(e_i_diff_trans ~ 1 + (1 | session), data = data[data$area == \"ca1\",], REML=FALSE)\n",
    "anova(m1.null, m1)\n",
    "\n",
    "summary(m1)\n",
    "options(repr.plot.width = 4, repr.plot.height = 3)\n",
    "plot(m1)\n",
    "options(repr.plot.width = 4, repr.plot.height = 4)\n",
    "qqnorm(resid(m1))\n",
    "qqline(resid(m1))\n",
    "\n",
    "plot(e_i_diff ~ group, data = data[data$area == \"ca1\",])\n"
   ]
  },
  {
   "cell_type": "code",
   "execution_count": 90,
   "metadata": {},
   "outputs": [
    {
     "data": {
      "text/html": [
       "<table>\n",
       "<thead><tr><th></th><th scope=col>npar</th><th scope=col>AIC</th><th scope=col>BIC</th><th scope=col>logLik</th><th scope=col>deviance</th><th scope=col>Chisq</th><th scope=col>Df</th><th scope=col>Pr(&gt;Chisq)</th></tr></thead>\n",
       "<tbody>\n",
       "\t<tr><th scope=row>m1.null</th><td>3           </td><td>44249.56    </td><td>44271.60    </td><td>-22121.78   </td><td>44243.56    </td><td>      NA    </td><td>NA          </td><td>          NA</td></tr>\n",
       "\t<tr><th scope=row>m1</th><td>4           </td><td>44235.16    </td><td>44264.55    </td><td>-22113.58   </td><td>44227.16    </td><td>16.40051    </td><td> 1          </td><td>5.127148e-05</td></tr>\n",
       "</tbody>\n",
       "</table>\n"
      ],
      "text/latex": [
       "\\begin{tabular}{r|llllllll}\n",
       "  & npar & AIC & BIC & logLik & deviance & Chisq & Df & Pr(>Chisq)\\\\\n",
       "\\hline\n",
       "\tm1.null & 3            & 44249.56     & 44271.60     & -22121.78    & 44243.56     &       NA     & NA           &           NA\\\\\n",
       "\tm1 & 4            & 44235.16     & 44264.55     & -22113.58    & 44227.16     & 16.40051     &  1           & 5.127148e-05\\\\\n",
       "\\end{tabular}\n"
      ],
      "text/markdown": [
       "\n",
       "| <!--/--> | npar | AIC | BIC | logLik | deviance | Chisq | Df | Pr(>Chisq) |\n",
       "|---|---|---|---|---|---|---|---|---|\n",
       "| m1.null | 3            | 44249.56     | 44271.60     | -22121.78    | 44243.56     |       NA     | NA           |           NA |\n",
       "| m1 | 4            | 44235.16     | 44264.55     | -22113.58    | 44227.16     | 16.40051     |  1           | 5.127148e-05 |\n",
       "\n"
      ],
      "text/plain": [
       "        npar AIC      BIC      logLik    deviance Chisq    Df Pr(>Chisq)  \n",
       "m1.null 3    44249.56 44271.60 -22121.78 44243.56       NA NA           NA\n",
       "m1      4    44235.16 44264.55 -22113.58 44227.16 16.40051  1 5.127148e-05"
      ]
     },
     "metadata": {},
     "output_type": "display_data"
    },
    {
     "data": {
      "text/plain": [
       "Linear mixed model fit by maximum likelihood . t-tests use Satterthwaite's\n",
       "  method [lmerModLmerTest]\n",
       "Formula: e_i_diff ~ group + (1 | session)\n",
       "   Data: data[data$area == \"ca3\", ]\n",
       "\n",
       "     AIC      BIC   logLik deviance df.resid \n",
       " 44235.2  44264.6 -22113.6  44227.2    11463 \n",
       "\n",
       "Scaled residuals: \n",
       "     Min       1Q   Median       3Q      Max \n",
       "-12.0220  -0.5884   0.0005   0.5808   8.3839 \n",
       "\n",
       "Random effects:\n",
       " Groups   Name        Variance Std.Dev.\n",
       " session  (Intercept) 0.8896   0.9432  \n",
       " Residual             2.6928   1.6410  \n",
       "Number of obs: 11467, groups:  session, 117\n",
       "\n",
       "Fixed effects:\n",
       "            Estimate Std. Error       df t value Pr(>|t|)    \n",
       "(Intercept)   1.3839     0.1596 125.8703   8.670 1.82e-14 ***\n",
       "grouppae     -0.8295     0.1967 119.6530  -4.216 4.85e-05 ***\n",
       "---\n",
       "Signif. codes:  0 '***' 0.001 '**' 0.01 '*' 0.05 '.' 0.1 ' ' 1\n",
       "\n",
       "Correlation of Fixed Effects:\n",
       "         (Intr)\n",
       "grouppae -0.811"
      ]
     },
     "metadata": {},
     "output_type": "display_data"
    },
    {
     "data": {
      "image/png": "[encoded data removed]",
      "text/plain": [
       "plot without title"
      ]
     },
     "metadata": {},
     "output_type": "display_data"
    },
    {
     "data": {
      "image/png": "[encoded data removed]",
      "text/plain": [
       "Plot with title \"Normal Q-Q Plot\""
      ]
     },
     "metadata": {},
     "output_type": "display_data"
    },
    {
     "data": {
      "image/png": "[encoded data removed]",
      "text/plain": [
       "plot without title"
      ]
     },
     "metadata": {},
     "output_type": "display_data"
    }
   ],
   "source": [
    "\n",
    "m1 = lmer(e_i_diff ~ group + (1 | session), data = data[data$area == \"ca3\",],REML=FALSE)\n",
    "m1.null = lmer(e_i_diff ~ 1 + (1 | session), data = data[data$area == \"ca3\",], REML=FALSE)\n",
    "anova(m1.null, m1)\n",
    "summary(m1)\n",
    "options(repr.plot.width = 4, repr.plot.height = 3)\n",
    "plot(m1)\n",
    "options(repr.plot.width = 4, repr.plot.height = 4)\n",
    "qqnorm(resid(m1))\n",
    "qqline(resid(m1))\n",
    "\n",
    "plot(e_i_diff ~ group, data = data[data$area == \"ca3\",])\n"
   ]
  },
  {
   "cell_type": "code",
   "execution_count": 86,
   "metadata": {},
   "outputs": [
    {
     "data": {
      "text/html": [
       "<table>\n",
       "<thead><tr><th></th><th scope=col>npar</th><th scope=col>AIC</th><th scope=col>BIC</th><th scope=col>logLik</th><th scope=col>deviance</th><th scope=col>Chisq</th><th scope=col>Df</th><th scope=col>Pr(&gt;Chisq)</th></tr></thead>\n",
       "<tbody>\n",
       "\t<tr><th scope=row>m1.null</th><td>3         </td><td>55671.03  </td><td>55690.28  </td><td>-27832.51 </td><td>55665.03  </td><td>      NA  </td><td>NA        </td><td>        NA</td></tr>\n",
       "\t<tr><th scope=row>m1</th><td>4         </td><td>55666.45  </td><td>55692.13  </td><td>-27829.23 </td><td>55658.45  </td><td>6.575382  </td><td> 1        </td><td>0.01033988</td></tr>\n",
       "</tbody>\n",
       "</table>\n"
      ],
      "text/latex": [
       "\\begin{tabular}{r|llllllll}\n",
       "  & npar & AIC & BIC & logLik & deviance & Chisq & Df & Pr(>Chisq)\\\\\n",
       "\\hline\n",
       "\tm1.null & 3          & 55671.03   & 55690.28   & -27832.51  & 55665.03   &       NA   & NA         &         NA\\\\\n",
       "\tm1 & 4          & 55666.45   & 55692.13   & -27829.23  & 55658.45   & 6.575382   &  1         & 0.01033988\\\\\n",
       "\\end{tabular}\n"
      ],
      "text/markdown": [
       "\n",
       "| <!--/--> | npar | AIC | BIC | logLik | deviance | Chisq | Df | Pr(>Chisq) |\n",
       "|---|---|---|---|---|---|---|---|---|\n",
       "| m1.null | 3          | 55671.03   | 55690.28   | -27832.51  | 55665.03   |       NA   | NA         |         NA |\n",
       "| m1 | 4          | 55666.45   | 55692.13   | -27829.23  | 55658.45   | 6.575382   |  1         | 0.01033988 |\n",
       "\n"
      ],
      "text/plain": [
       "        npar AIC      BIC      logLik    deviance Chisq    Df Pr(>Chisq)\n",
       "m1.null 3    55671.03 55690.28 -27832.51 55665.03       NA NA         NA\n",
       "m1      4    55666.45 55692.13 -27829.23 55658.45 6.575382  1 0.01033988"
      ]
     },
     "metadata": {},
     "output_type": "display_data"
    },
    {
     "data": {
      "text/plain": [
       "Linear mixed model fit by maximum likelihood . t-tests use Satterthwaite's\n",
       "  method [lmerModLmerTest]\n",
       "Formula: e_i_peak_diff_trans ~ group + (1 | rat)\n",
       "   Data: data[data$area == \"ca1\", ]\n",
       "\n",
       "     AIC      BIC   logLik deviance df.resid \n",
       " 55666.5  55692.1 -27829.2  55658.5     4527 \n",
       "\n",
       "Scaled residuals: \n",
       "    Min      1Q  Median      3Q     Max \n",
       "-4.0559 -0.6095 -0.0344  0.5888  4.6955 \n",
       "\n",
       "Random effects:\n",
       " Groups   Name        Variance Std.Dev.\n",
       " rat      (Intercept)   951.1   30.84  \n",
       " Residual             12588.2  112.20  \n",
       "Number of obs: 4531, groups:  rat, 10\n",
       "\n",
       "Fixed effects:\n",
       "            Estimate Std. Error     df t value Pr(>|t|)    \n",
       "(Intercept)   486.28      15.27   8.42  31.847  4.5e-10 ***\n",
       "grouppae      -71.30      22.43   8.57  -3.179   0.0119 *  \n",
       "---\n",
       "Signif. codes:  0 '***' 0.001 '**' 0.01 '*' 0.05 '.' 0.1 ' ' 1\n",
       "\n",
       "Correlation of Fixed Effects:\n",
       "         (Intr)\n",
       "grouppae -0.681"
      ]
     },
     "metadata": {},
     "output_type": "display_data"
    },
    {
     "data": {
      "image/png": "[encoded data removed]",
      "text/plain": [
       "plot without title"
      ]
     },
     "metadata": {},
     "output_type": "display_data"
    },
    {
     "data": {
      "image/png": "[encoded data removed]",
      "text/plain": [
       "plot without title"
      ]
     },
     "metadata": {},
     "output_type": "display_data"
    },
    {
     "data": {
      "image/png": "[encoded data removed]",
      "text/plain": [
       "Plot with title \"Normal Q-Q Plot\""
      ]
     },
     "metadata": {},
     "output_type": "display_data"
    },
    {
     "data": {
      "image/png": "[encoded data removed]",
      "text/plain": [
       "plot without title"
      ]
     },
     "metadata": {},
     "output_type": "display_data"
    }
   ],
   "source": [
    "data$e_i_peak_diff_trans = (data$e_i_peak_diff+20)\n",
    "m1 = lm(e_i_peak_diff_trans ~ group, data = data[data$area == \"ca1\",])\n",
    "result = boxcox(m1, lambda = seq(-5,5,0.5))\n",
    "lambda = result$x[which.max(result$y)]\n",
    "data$e_i_peak_diff_trans = data$e_i_peak_diff_trans^lambda\n",
    "\n",
    "m1 = lmer(e_i_peak_diff_trans ~ group + (1 | rat), data = data[data$area == \"ca1\",],REML=FALSE)\n",
    "m1.null = lmer(e_i_peak_diff_trans ~ 1 + (1 | rat), data = data[data$area == \"ca1\",], REML=FALSE)\n",
    "anova(m1.null, m1)\n",
    "\n",
    "summary(m1)\n",
    "options(repr.plot.width = 4, repr.plot.height = 3)\n",
    "plot(m1)\n",
    "options(repr.plot.width = 4, repr.plot.height = 4)\n",
    "qqnorm(resid(m1))\n",
    "qqline(resid(m1))\n",
    "\n",
    "plot(e_i_peak_diff_trans ~ group, data = data[data$area == \"ca1\",])\n"
   ]
  },
  {
   "cell_type": "code",
   "execution_count": 85,
   "metadata": {},
   "outputs": [
    {
     "data": {
      "text/html": [
       "<table>\n",
       "<thead><tr><th></th><th scope=col>npar</th><th scope=col>AIC</th><th scope=col>BIC</th><th scope=col>logLik</th><th scope=col>deviance</th><th scope=col>Chisq</th><th scope=col>Df</th><th scope=col>Pr(&gt;Chisq)</th></tr></thead>\n",
       "<tbody>\n",
       "\t<tr><th scope=row>m1.null</th><td>3        </td><td>52413.30 </td><td>52435.34 </td><td>-26203.65</td><td>52407.30 </td><td>      NA </td><td>NA       </td><td>       NA</td></tr>\n",
       "\t<tr><th scope=row>m1</th><td>4        </td><td>52414.15 </td><td>52443.54 </td><td>-26203.07</td><td>52406.15 </td><td>1.146165 </td><td> 1       </td><td>0.2843534</td></tr>\n",
       "</tbody>\n",
       "</table>\n"
      ],
      "text/latex": [
       "\\begin{tabular}{r|llllllll}\n",
       "  & npar & AIC & BIC & logLik & deviance & Chisq & Df & Pr(>Chisq)\\\\\n",
       "\\hline\n",
       "\tm1.null & 3         & 52413.30  & 52435.34  & -26203.65 & 52407.30  &       NA  & NA        &        NA\\\\\n",
       "\tm1 & 4         & 52414.15  & 52443.54  & -26203.07 & 52406.15  & 1.146165  &  1        & 0.2843534\\\\\n",
       "\\end{tabular}\n"
      ],
      "text/markdown": [
       "\n",
       "| <!--/--> | npar | AIC | BIC | logLik | deviance | Chisq | Df | Pr(>Chisq) |\n",
       "|---|---|---|---|---|---|---|---|---|\n",
       "| m1.null | 3         | 52413.30  | 52435.34  | -26203.65 | 52407.30  |       NA  | NA        |        NA |\n",
       "| m1 | 4         | 52414.15  | 52443.54  | -26203.07 | 52406.15  | 1.146165  |  1        | 0.2843534 |\n",
       "\n"
      ],
      "text/plain": [
       "        npar AIC      BIC      logLik    deviance Chisq    Df Pr(>Chisq)\n",
       "m1.null 3    52413.30 52435.34 -26203.65 52407.30       NA NA        NA \n",
       "m1      4    52414.15 52443.54 -26203.07 52406.15 1.146165  1 0.2843534 "
      ]
     },
     "metadata": {},
     "output_type": "display_data"
    },
    {
     "data": {
      "text/plain": [
       "Linear mixed model fit by maximum likelihood . t-tests use Satterthwaite's\n",
       "  method [lmerModLmerTest]\n",
       "Formula: e_i_peak_diff_trans ~ group + (1 | rat)\n",
       "   Data: data[data$area == \"ca3\", ]\n",
       "\n",
       "     AIC      BIC   logLik deviance df.resid \n",
       " 52414.1  52443.5 -26203.1  52406.1    11463 \n",
       "\n",
       "Scaled residuals: \n",
       "    Min      1Q  Median      3Q     Max \n",
       "-7.6770 -0.6469 -0.0025  0.6391  8.5821 \n",
       "\n",
       "Random effects:\n",
       " Groups   Name        Variance Std.Dev.\n",
       " rat      (Intercept) 0.3958   0.6291  \n",
       " Residual             5.6400   2.3749  \n",
       "Number of obs: 11467, groups:  rat, 8\n",
       "\n",
       "Fixed effects:\n",
       "            Estimate Std. Error      df t value Pr(>|t|)    \n",
       "(Intercept)  19.3232     0.3291  7.3605  58.713 4.19e-11 ***\n",
       "grouppae     -0.5708     0.4915  6.1702  -1.161    0.288    \n",
       "---\n",
       "Signif. codes:  0 '***' 0.001 '**' 0.01 '*' 0.05 '.' 0.1 ' ' 1\n",
       "\n",
       "Correlation of Fixed Effects:\n",
       "         (Intr)\n",
       "grouppae -0.670"
      ]
     },
     "metadata": {},
     "output_type": "display_data"
    },
    {
     "data": {
      "image/png": "[encoded data removed]",
      "text/plain": [
       "plot without title"
      ]
     },
     "metadata": {},
     "output_type": "display_data"
    },
    {
     "data": {
      "image/png": "[encoded data removed]",
      "text/plain": [
       "plot without title"
      ]
     },
     "metadata": {},
     "output_type": "display_data"
    },
    {
     "data": {
      "image/png": "[encoded data removed]",
      "text/plain": [
       "Plot with title \"Normal Q-Q Plot\""
      ]
     },
     "metadata": {},
     "output_type": "display_data"
    },
    {
     "data": {
      "image/png": "[encoded data removed]",
      "text/plain": [
       "plot without title"
      ]
     },
     "metadata": {},
     "output_type": "display_data"
    }
   ],
   "source": [
    "data$e_i_peak_diff_trans = (data$e_i_peak_diff+20)\n",
    "m1 = lm(e_i_peak_diff_trans ~ group, data = data[data$area == \"ca3\",])\n",
    "result = boxcox(m1, lambda = seq(-5,5,0.5))\n",
    "lambda = result$x[which.max(result$y)]\n",
    "data$e_i_peak_diff_trans = data$e_i_peak_diff_trans^lambda\n",
    "\n",
    "m1 = lmer(e_i_peak_diff_trans ~ group + (1 | rat), data = data[data$area == \"ca3\",],REML=FALSE)\n",
    "m1.null = lmer(e_i_peak_diff_trans ~ 1 + (1 | rat), data = data[data$area == \"ca3\",], REML=FALSE)\n",
    "anova(m1.null, m1)\n",
    "\n",
    "summary(m1)\n",
    "options(repr.plot.width = 4, repr.plot.height = 3)\n",
    "plot(m1)\n",
    "options(repr.plot.width = 4, repr.plot.height = 4)\n",
    "qqnorm(resid(m1))\n",
    "qqline(resid(m1))\n",
    "\n",
    "plot(e_i_peak_diff_trans ~ group, data = data[data$area == \"ca3\",])\n"
   ]
  },
  {
   "cell_type": "code",
   "execution_count": 51,
   "metadata": {},
   "outputs": [
    {
     "data": {
      "text/html": [
       "<table>\n",
       "<thead><tr><th></th><th scope=col>npar</th><th scope=col>AIC</th><th scope=col>BIC</th><th scope=col>logLik</th><th scope=col>deviance</th><th scope=col>Chisq</th><th scope=col>Df</th><th scope=col>Pr(&gt;Chisq)</th></tr></thead>\n",
       "<tbody>\n",
       "\t<tr><th scope=row>m1.null</th><td>4        </td><td>-12821.66</td><td>-12795.99</td><td>6414.832 </td><td>-12829.66</td><td>       NA</td><td>NA       </td><td>       NA</td></tr>\n",
       "\t<tr><th scope=row>m1</th><td>5        </td><td>-12820.33</td><td>-12788.23</td><td>6415.164 </td><td>-12830.33</td><td>0.6630057</td><td> 1       </td><td>0.4155008</td></tr>\n",
       "</tbody>\n",
       "</table>\n"
      ],
      "text/latex": [
       "\\begin{tabular}{r|llllllll}\n",
       "  & npar & AIC & BIC & logLik & deviance & Chisq & Df & Pr(>Chisq)\\\\\n",
       "\\hline\n",
       "\tm1.null & 4         & -12821.66 & -12795.99 & 6414.832  & -12829.66 &        NA & NA        &        NA\\\\\n",
       "\tm1 & 5         & -12820.33 & -12788.23 & 6415.164  & -12830.33 & 0.6630057 &  1        & 0.4155008\\\\\n",
       "\\end{tabular}\n"
      ],
      "text/markdown": [
       "\n",
       "| <!--/--> | npar | AIC | BIC | logLik | deviance | Chisq | Df | Pr(>Chisq) |\n",
       "|---|---|---|---|---|---|---|---|---|\n",
       "| m1.null | 4         | -12821.66 | -12795.99 | 6414.832  | -12829.66 |        NA | NA        |        NA |\n",
       "| m1 | 5         | -12820.33 | -12788.23 | 6415.164  | -12830.33 | 0.6630057 |  1        | 0.4155008 |\n",
       "\n"
      ],
      "text/plain": [
       "        npar AIC       BIC       logLik   deviance  Chisq     Df Pr(>Chisq)\n",
       "m1.null 4    -12821.66 -12795.99 6414.832 -12829.66        NA NA        NA \n",
       "m1      5    -12820.33 -12788.23 6415.164 -12830.33 0.6630057  1 0.4155008 "
      ]
     },
     "metadata": {},
     "output_type": "display_data"
    },
    {
     "data": {
      "text/plain": [
       "Linear mixed model fit by maximum likelihood . t-tests use Satterthwaite's\n",
       "  method [lmerModLmerTest]\n",
       "Formula: peak_delay ~ group + (1 | rat/session)\n",
       "   Data: data[data$area == \"ca1\", ]\n",
       "\n",
       "     AIC      BIC   logLik deviance df.resid \n",
       "-12820.3 -12788.2   6415.2 -12830.3     4526 \n",
       "\n",
       "Scaled residuals: \n",
       "     Min       1Q   Median       3Q      Max \n",
       "-11.3026  -0.3705  -0.0146   0.3928  12.2072 \n",
       "\n",
       "Random effects:\n",
       " Groups      Name        Variance  Std.Dev.\n",
       " session:rat (Intercept) 0.0004158 0.02039 \n",
       " rat         (Intercept) 0.0001188 0.01090 \n",
       " Residual                0.0033680 0.05803 \n",
       "Number of obs: 4531, groups:  session:rat, 73; rat, 10\n",
       "\n",
       "Fixed effects:\n",
       "             Estimate Std. Error        df t value Pr(>|t|)\n",
       "(Intercept)  0.003445   0.007329  8.732326   0.470    0.650\n",
       "grouppae    -0.008379   0.010189  7.090679  -0.822    0.438\n",
       "\n",
       "Correlation of Fixed Effects:\n",
       "         (Intr)\n",
       "grouppae -0.719"
      ]
     },
     "metadata": {},
     "output_type": "display_data"
    },
    {
     "data": {
      "image/png": "[encoded data removed]",
      "text/plain": [
       "plot without title"
      ]
     },
     "metadata": {},
     "output_type": "display_data"
    },
    {
     "data": {
      "image/png": "[encoded data removed]",
      "text/plain": [
       "Plot with title \"Normal Q-Q Plot\""
      ]
     },
     "metadata": {},
     "output_type": "display_data"
    },
    {
     "data": {
      "image/png": "[encoded data removed]",
      "text/plain": [
       "plot without title"
      ]
     },
     "metadata": {},
     "output_type": "display_data"
    }
   ],
   "source": [
    "\n",
    "m1 = lmer(peak_delay ~ group + (1 | rat/session), data = data[data$area == \"ca1\",],REML=FALSE)\n",
    "m1.null = lmer(peak_delay ~ 1 + (1 | rat/session), data = data[data$area == \"ca1\",], REML=FALSE)\n",
    "anova(m1.null, m1)\n",
    "\n",
    "summary(m1)\n",
    "options(repr.plot.width = 4, repr.plot.height = 3)\n",
    "plot(m1)\n",
    "options(repr.plot.width = 4, repr.plot.height = 4)\n",
    "qqnorm(resid(m1))\n",
    "qqline(resid(m1))\n",
    "\n",
    "plot(peak_delay ~ group, data = data[data$area == \"ca1\",])"
   ]
  },
  {
   "cell_type": "code",
   "execution_count": 91,
   "metadata": {},
   "outputs": [
    {
     "data": {
      "text/html": [
       "<table>\n",
       "<thead><tr><th></th><th scope=col>npar</th><th scope=col>AIC</th><th scope=col>BIC</th><th scope=col>logLik</th><th scope=col>deviance</th><th scope=col>Chisq</th><th scope=col>Df</th><th scope=col>Pr(&gt;Chisq)</th></tr></thead>\n",
       "<tbody>\n",
       "\t<tr><th scope=row>m1.null</th><td>3         </td><td>-41007.12 </td><td>-40985.08 </td><td>20506.56  </td><td>-41013.12 </td><td>      NA  </td><td>NA        </td><td>        NA</td></tr>\n",
       "\t<tr><th scope=row>m1</th><td>4         </td><td>-41008.80 </td><td>-40979.41 </td><td>20508.40  </td><td>-41016.80 </td><td>3.682586  </td><td> 1        </td><td>0.05498352</td></tr>\n",
       "</tbody>\n",
       "</table>\n"
      ],
      "text/latex": [
       "\\begin{tabular}{r|llllllll}\n",
       "  & npar & AIC & BIC & logLik & deviance & Chisq & Df & Pr(>Chisq)\\\\\n",
       "\\hline\n",
       "\tm1.null & 3          & -41007.12  & -40985.08  & 20506.56   & -41013.12  &       NA   & NA         &         NA\\\\\n",
       "\tm1 & 4          & -41008.80  & -40979.41  & 20508.40   & -41016.80  & 3.682586   &  1         & 0.05498352\\\\\n",
       "\\end{tabular}\n"
      ],
      "text/markdown": [
       "\n",
       "| <!--/--> | npar | AIC | BIC | logLik | deviance | Chisq | Df | Pr(>Chisq) |\n",
       "|---|---|---|---|---|---|---|---|---|\n",
       "| m1.null | 3          | -41007.12  | -40985.08  | 20506.56   | -41013.12  |       NA   | NA         |         NA |\n",
       "| m1 | 4          | -41008.80  | -40979.41  | 20508.40   | -41016.80  | 3.682586   |  1         | 0.05498352 |\n",
       "\n"
      ],
      "text/plain": [
       "        npar AIC       BIC       logLik   deviance  Chisq    Df Pr(>Chisq)\n",
       "m1.null 3    -41007.12 -40985.08 20506.56 -41013.12       NA NA         NA\n",
       "m1      4    -41008.80 -40979.41 20508.40 -41016.80 3.682586  1 0.05498352"
      ]
     },
     "metadata": {},
     "output_type": "display_data"
    },
    {
     "data": {
      "text/plain": [
       "Linear mixed model fit by maximum likelihood . t-tests use Satterthwaite's\n",
       "  method [lmerModLmerTest]\n",
       "Formula: peak_delay ~ group + (1 | session)\n",
       "   Data: data[data$area == \"ca3\", ]\n",
       "\n",
       "     AIC      BIC   logLik deviance df.resid \n",
       "-41008.8 -40979.4  20508.4 -41016.8    11463 \n",
       "\n",
       "Scaled residuals: \n",
       "     Min       1Q   Median       3Q      Max \n",
       "-10.0386  -0.5177  -0.0211   0.5149  13.5673 \n",
       "\n",
       "Random effects:\n",
       " Groups   Name        Variance  Std.Dev.\n",
       " session  (Intercept) 0.0000402 0.00634 \n",
       " Residual             0.0016218 0.04027 \n",
       "Number of obs: 11467, groups:  session, 117\n",
       "\n",
       "Fixed effects:\n",
       "             Estimate Std. Error        df t value Pr(>|t|)  \n",
       "(Intercept)  0.001869   0.001427 75.624644   1.310   0.1940  \n",
       "grouppae    -0.003352   0.001738 78.807450  -1.929   0.0573 .\n",
       "---\n",
       "Signif. codes:  0 '***' 0.001 '**' 0.01 '*' 0.05 '.' 0.1 ' ' 1\n",
       "\n",
       "Correlation of Fixed Effects:\n",
       "         (Intr)\n",
       "grouppae -0.821"
      ]
     },
     "metadata": {},
     "output_type": "display_data"
    },
    {
     "data": {
      "image/png": "[encoded data removed]",
      "text/plain": [
       "plot without title"
      ]
     },
     "metadata": {},
     "output_type": "display_data"
    },
    {
     "data": {
      "image/png": "[encoded data removed]",
      "text/plain": [
       "Plot with title \"Normal Q-Q Plot\""
      ]
     },
     "metadata": {},
     "output_type": "display_data"
    },
    {
     "data": {
      "image/png": "[encoded data removed]",
      "text/plain": [
       "plot without title"
      ]
     },
     "metadata": {},
     "output_type": "display_data"
    }
   ],
   "source": [
    "\n",
    "m1 = lmer(peak_delay ~ group + (1 | session), data = data[data$area == \"ca3\",],REML=FALSE)\n",
    "m1.null = lmer(peak_delay ~ 1 + (1 | session), data = data[data$area == \"ca3\",], REML=FALSE)\n",
    "anova(m1.null, m1)\n",
    "\n",
    "summary(m1)\n",
    "options(repr.plot.width = 4, repr.plot.height = 3)\n",
    "plot(m1)\n",
    "options(repr.plot.width = 4, repr.plot.height = 4)\n",
    "qqnorm(resid(m1))\n",
    "qqline(resid(m1))\n",
    "\n",
    "plot(peak_delay ~ group, data = data[data$area == \"ca3\",])"
   ]
  },
  {
   "cell_type": "code",
   "execution_count": 64,
   "metadata": {},
   "outputs": [
    {
     "data": {
      "text/html": [
       "<table>\n",
       "<thead><tr><th></th><th scope=col>npar</th><th scope=col>AIC</th><th scope=col>BIC</th><th scope=col>logLik</th><th scope=col>deviance</th><th scope=col>Chisq</th><th scope=col>Df</th><th scope=col>Pr(&gt;Chisq)</th></tr></thead>\n",
       "<tbody>\n",
       "\t<tr><th scope=row>m1.null</th><td>4          </td><td>-4635.895  </td><td>-4610.221  </td><td>2321.948   </td><td>-4643.895  </td><td>      NA   </td><td>NA         </td><td>         NA</td></tr>\n",
       "\t<tr><th scope=row>m1</th><td>5          </td><td>-4642.307  </td><td>-4610.213  </td><td>2326.153   </td><td>-4652.307  </td><td>8.411276   </td><td> 1         </td><td>0.003729008</td></tr>\n",
       "</tbody>\n",
       "</table>\n"
      ],
      "text/latex": [
       "\\begin{tabular}{r|llllllll}\n",
       "  & npar & AIC & BIC & logLik & deviance & Chisq & Df & Pr(>Chisq)\\\\\n",
       "\\hline\n",
       "\tm1.null & 4           & -4635.895   & -4610.221   & 2321.948    & -4643.895   &       NA    & NA          &          NA\\\\\n",
       "\tm1 & 5           & -4642.307   & -4610.213   & 2326.153    & -4652.307   & 8.411276    &  1          & 0.003729008\\\\\n",
       "\\end{tabular}\n"
      ],
      "text/markdown": [
       "\n",
       "| <!--/--> | npar | AIC | BIC | logLik | deviance | Chisq | Df | Pr(>Chisq) |\n",
       "|---|---|---|---|---|---|---|---|---|\n",
       "| m1.null | 4           | -4635.895   | -4610.221   | 2321.948    | -4643.895   |       NA    | NA          |          NA |\n",
       "| m1 | 5           | -4642.307   | -4610.213   | 2326.153    | -4652.307   | 8.411276    |  1          | 0.003729008 |\n",
       "\n"
      ],
      "text/plain": [
       "        npar AIC       BIC       logLik   deviance  Chisq    Df Pr(>Chisq) \n",
       "m1.null 4    -4635.895 -4610.221 2321.948 -4643.895       NA NA          NA\n",
       "m1      5    -4642.307 -4610.213 2326.153 -4652.307 8.411276  1 0.003729008"
      ]
     },
     "metadata": {},
     "output_type": "display_data"
    },
    {
     "data": {
      "text/plain": [
       "Linear mixed model fit by maximum likelihood . t-tests use Satterthwaite's\n",
       "  method [lmerModLmerTest]\n",
       "Formula: pyr_peak_trans ~ group + (1 | rat/session)\n",
       "   Data: data[data$area == \"ca1\", ]\n",
       "\n",
       "     AIC      BIC   logLik deviance df.resid \n",
       " -4642.3  -4610.2   2326.2  -4652.3     4526 \n",
       "\n",
       "Scaled residuals: \n",
       "    Min      1Q  Median      3Q     Max \n",
       "-3.2633 -0.6396 -0.0570  0.6396  3.4016 \n",
       "\n",
       "Random effects:\n",
       " Groups      Name        Variance  Std.Dev.\n",
       " session:rat (Intercept) 0.0086284 0.09289 \n",
       " rat         (Intercept) 0.0003951 0.01988 \n",
       " Residual                0.0202001 0.14213 \n",
       "Number of obs: 4531, groups:  session:rat, 73; rat, 10\n",
       "\n",
       "Fixed effects:\n",
       "            Estimate Std. Error       df t value Pr(>|t|)    \n",
       "(Intercept)  2.63611    0.02270 17.76645 116.150  < 2e-16 ***\n",
       "grouppae    -0.10956    0.02939 10.46522  -3.727  0.00363 ** \n",
       "---\n",
       "Signif. codes:  0 '***' 0.001 '**' 0.01 '*' 0.05 '.' 0.1 ' ' 1\n",
       "\n",
       "Correlation of Fixed Effects:\n",
       "         (Intr)\n",
       "grouppae -0.772"
      ]
     },
     "metadata": {},
     "output_type": "display_data"
    },
    {
     "data": {
      "image/png": "[encoded data removed]",
      "text/plain": [
       "plot without title"
      ]
     },
     "metadata": {},
     "output_type": "display_data"
    },
    {
     "data": {
      "image/png": "[encoded data removed]",
      "text/plain": [
       "Plot with title \"Normal Q-Q Plot\""
      ]
     },
     "metadata": {},
     "output_type": "display_data"
    },
    {
     "data": {
      "image/png": "[encoded data removed]",
      "text/plain": [
       "plot without title"
      ]
     },
     "metadata": {},
     "output_type": "display_data"
    }
   ],
   "source": [
    "data$pyr_peak_trans = log(data$pyr_peak+10)\n",
    "\n",
    "m1 = lmer(pyr_peak_trans ~ group + (1 | rat/session), data = data[data$area == \"ca1\",],REML=FALSE)\n",
    "m1.null = lmer(pyr_peak_trans ~ 1 + (1 | rat/session), data = data[data$area == \"ca1\",], REML=FALSE)\n",
    "anova(m1.null, m1)\n",
    "\n",
    "summary(m1)\n",
    "options(repr.plot.width = 4, repr.plot.height = 3)\n",
    "plot(m1)\n",
    "options(repr.plot.width = 4, repr.plot.height = 4)\n",
    "qqnorm(resid(m1))\n",
    "qqline(resid(m1))\n",
    "\n",
    "plot(pyr_peak_trans ~ group, data = data[data$area == \"ca1\",])"
   ]
  },
  {
   "cell_type": "code",
   "execution_count": 3,
   "metadata": {},
   "outputs": [
    {
     "data": {
      "text/html": [
       "<table>\n",
       "<thead><tr><th></th><th scope=col>npar</th><th scope=col>AIC</th><th scope=col>BIC</th><th scope=col>logLik</th><th scope=col>deviance</th><th scope=col>Chisq</th><th scope=col>Df</th><th scope=col>Pr(&gt;Chisq)</th></tr></thead>\n",
       "<tbody>\n",
       "\t<tr><th scope=row>m1.null</th><td>4        </td><td>-12660.30</td><td>-12630.91</td><td>6334.149 </td><td>-12668.30</td><td>      NA </td><td>NA       </td><td>       NA</td></tr>\n",
       "\t<tr><th scope=row>m1</th><td>5        </td><td>-12659.94</td><td>-12623.21</td><td>6334.972 </td><td>-12669.94</td><td>1.645725 </td><td> 1       </td><td>0.1995418</td></tr>\n",
       "</tbody>\n",
       "</table>\n"
      ],
      "text/latex": [
       "\\begin{tabular}{r|llllllll}\n",
       "  & npar & AIC & BIC & logLik & deviance & Chisq & Df & Pr(>Chisq)\\\\\n",
       "\\hline\n",
       "\tm1.null & 4         & -12660.30 & -12630.91 & 6334.149  & -12668.30 &       NA  & NA        &        NA\\\\\n",
       "\tm1 & 5         & -12659.94 & -12623.21 & 6334.972  & -12669.94 & 1.645725  &  1        & 0.1995418\\\\\n",
       "\\end{tabular}\n"
      ],
      "text/markdown": [
       "\n",
       "| <!--/--> | npar | AIC | BIC | logLik | deviance | Chisq | Df | Pr(>Chisq) |\n",
       "|---|---|---|---|---|---|---|---|---|\n",
       "| m1.null | 4         | -12660.30 | -12630.91 | 6334.149  | -12668.30 |       NA  | NA        |        NA |\n",
       "| m1 | 5         | -12659.94 | -12623.21 | 6334.972  | -12669.94 | 1.645725  |  1        | 0.1995418 |\n",
       "\n"
      ],
      "text/plain": [
       "        npar AIC       BIC       logLik   deviance  Chisq    Df Pr(>Chisq)\n",
       "m1.null 4    -12660.30 -12630.91 6334.149 -12668.30       NA NA        NA \n",
       "m1      5    -12659.94 -12623.21 6334.972 -12669.94 1.645725  1 0.1995418 "
      ]
     },
     "metadata": {},
     "output_type": "display_data"
    },
    {
     "data": {
      "text/plain": [
       "Linear mixed model fit by maximum likelihood . t-tests use Satterthwaite's\n",
       "  method [lmerModLmerTest]\n",
       "Formula: pyr_peak_trans ~ group + (1 | rat/session)\n",
       "   Data: data[data$area == \"ca3\", ]\n",
       "\n",
       "     AIC      BIC   logLik deviance df.resid \n",
       "-12659.9 -12623.2   6335.0 -12669.9    11462 \n",
       "\n",
       "Scaled residuals: \n",
       "    Min      1Q  Median      3Q     Max \n",
       "-3.7832 -0.5899 -0.0209  0.5829  8.7718 \n",
       "\n",
       "Random effects:\n",
       " Groups      Name        Variance Std.Dev.\n",
       " session:rat (Intercept) 0.003942 0.06279 \n",
       " rat         (Intercept) 0.001669 0.04086 \n",
       " Residual                0.018906 0.13750 \n",
       "Number of obs: 11467, groups:  session:rat, 117; rat, 8\n",
       "\n",
       "Fixed effects:\n",
       "            Estimate Std. Error       df t value Pr(>|t|)    \n",
       "(Intercept)  2.61130    0.02396  8.52560 108.985 1.05e-14 ***\n",
       "grouppae    -0.04770    0.03462  6.56411  -1.378    0.213    \n",
       "---\n",
       "Signif. codes:  0 '***' 0.001 '**' 0.01 '*' 0.05 '.' 0.1 ' ' 1\n",
       "\n",
       "Correlation of Fixed Effects:\n",
       "         (Intr)\n",
       "grouppae -0.692"
      ]
     },
     "metadata": {},
     "output_type": "display_data"
    },
    {
     "data": {
      "image/png": "[encoded data removed]",
      "text/plain": [
       "plot without title"
      ]
     },
     "metadata": {},
     "output_type": "display_data"
    },
    {
     "data": {
      "image/png": "[encoded data removed]",
      "text/plain": [
       "Plot with title \"Normal Q-Q Plot\""
      ]
     },
     "metadata": {},
     "output_type": "display_data"
    },
    {
     "data": {
      "image/png": "[encoded data removed]",
      "text/plain": [
       "plot without title"
      ]
     },
     "metadata": {},
     "output_type": "display_data"
    }
   ],
   "source": [
    "data$pyr_peak_trans = log(data$pyr_peak+10)\n",
    "\n",
    "m1 = lmer(pyr_peak_trans ~ group + (1 | rat/session), data = data[data$area == \"ca3\",],REML=FALSE)\n",
    "m1.null = lmer(pyr_peak_trans ~ 1 + (1 | rat/session), data = data[data$area == \"ca3\",], REML=FALSE)\n",
    "anova(m1.null, m1)\n",
    "\n",
    "summary(m1)\n",
    "options(repr.plot.width = 4, repr.plot.height = 3)\n",
    "plot(m1)\n",
    "options(repr.plot.width = 4, repr.plot.height = 4)\n",
    "qqnorm(resid(m1))\n",
    "qqline(resid(m1))\n",
    "\n",
    "plot(pyr_peak_trans ~ group, data = data[data$area == \"ca3\",])"
   ]
  },
  {
   "cell_type": "code",
   "execution_count": 5,
   "metadata": {},
   "outputs": [
    {
     "data": {
      "text/html": [
       "<table>\n",
       "<thead><tr><th></th><th scope=col>npar</th><th scope=col>AIC</th><th scope=col>BIC</th><th scope=col>logLik</th><th scope=col>deviance</th><th scope=col>Chisq</th><th scope=col>Df</th><th scope=col>Pr(&gt;Chisq)</th></tr></thead>\n",
       "<tbody>\n",
       "\t<tr><th scope=row>m1.null</th><td>4         </td><td>-4840.218 </td><td>-4814.544 </td><td>2424.109  </td><td>-4848.218 </td><td>        NA</td><td>NA        </td><td>       NA </td></tr>\n",
       "\t<tr><th scope=row>m1</th><td>5         </td><td>-4838.245 </td><td>-4806.151 </td><td>2424.122  </td><td>-4848.245 </td><td>0.02626755</td><td> 1        </td><td>0.8712486 </td></tr>\n",
       "</tbody>\n",
       "</table>\n"
      ],
      "text/latex": [
       "\\begin{tabular}{r|llllllll}\n",
       "  & npar & AIC & BIC & logLik & deviance & Chisq & Df & Pr(>Chisq)\\\\\n",
       "\\hline\n",
       "\tm1.null & 4          & -4840.218  & -4814.544  & 2424.109   & -4848.218  &         NA & NA         &        NA \\\\\n",
       "\tm1 & 5          & -4838.245  & -4806.151  & 2424.122   & -4848.245  & 0.02626755 &  1         & 0.8712486 \\\\\n",
       "\\end{tabular}\n"
      ],
      "text/markdown": [
       "\n",
       "| <!--/--> | npar | AIC | BIC | logLik | deviance | Chisq | Df | Pr(>Chisq) |\n",
       "|---|---|---|---|---|---|---|---|---|\n",
       "| m1.null | 4          | -4840.218  | -4814.544  | 2424.109   | -4848.218  |         NA | NA         |        NA  |\n",
       "| m1 | 5          | -4838.245  | -4806.151  | 2424.122   | -4848.245  | 0.02626755 |  1         | 0.8712486  |\n",
       "\n"
      ],
      "text/plain": [
       "        npar AIC       BIC       logLik   deviance  Chisq      Df Pr(>Chisq)\n",
       "m1.null 4    -4840.218 -4814.544 2424.109 -4848.218         NA NA        NA \n",
       "m1      5    -4838.245 -4806.151 2424.122 -4848.245 0.02626755  1 0.8712486 "
      ]
     },
     "metadata": {},
     "output_type": "display_data"
    },
    {
     "data": {
      "text/plain": [
       "Linear mixed model fit by maximum likelihood . t-tests use Satterthwaite's\n",
       "  method [lmerModLmerTest]\n",
       "Formula: int_peak_trans ~ group + (1 | rat/session)\n",
       "   Data: data[data$area == \"ca1\", ]\n",
       "\n",
       "     AIC      BIC   logLik deviance df.resid \n",
       " -4838.2  -4806.2   2424.1  -4848.2     4526 \n",
       "\n",
       "Scaled residuals: \n",
       "    Min      1Q  Median      3Q     Max \n",
       "-2.3952 -0.6402 -0.1383  0.4599  5.4996 \n",
       "\n",
       "Random effects:\n",
       " Groups      Name        Variance Std.Dev.\n",
       " session:rat (Intercept) 0.002693 0.05189 \n",
       " rat         (Intercept) 0.001551 0.03939 \n",
       " Residual                0.019570 0.13989 \n",
       "Number of obs: 4531, groups:  session:rat, 73; rat, 10\n",
       "\n",
       "Fixed effects:\n",
       "            Estimate Std. Error      df t value Pr(>|t|)    \n",
       "(Intercept)  2.47258    0.02283 9.55226 108.304 4.41e-16 ***\n",
       "grouppae     0.00525    0.03235 8.24662   0.162    0.875    \n",
       "---\n",
       "Signif. codes:  0 '***' 0.001 '**' 0.01 '*' 0.05 '.' 0.1 ' ' 1\n",
       "\n",
       "Correlation of Fixed Effects:\n",
       "         (Intr)\n",
       "grouppae -0.706"
      ]
     },
     "metadata": {},
     "output_type": "display_data"
    },
    {
     "data": {
      "image/png": "[encoded data removed]",
      "text/plain": [
       "plot without title"
      ]
     },
     "metadata": {},
     "output_type": "display_data"
    },
    {
     "data": {
      "image/png": "[encoded data removed]",
      "text/plain": [
       "Plot with title \"Normal Q-Q Plot\""
      ]
     },
     "metadata": {},
     "output_type": "display_data"
    },
    {
     "data": {
      "image/png": "[encoded data removed]",
      "text/plain": [
       "plot without title"
      ]
     },
     "metadata": {},
     "output_type": "display_data"
    }
   ],
   "source": [
    "data$int_peak_trans = log(data$int_peak+10)\n",
    "\n",
    "m1 = lmer(int_peak_trans ~ group + (1 | rat/session), data = data[data$area == \"ca1\",],REML=FALSE)\n",
    "m1.null = lmer(int_peak_trans ~ 1 + (1 | rat/session), data = data[data$area == \"ca1\",], REML=FALSE)\n",
    "anova(m1.null, m1)\n",
    "\n",
    "summary(m1)\n",
    "options(repr.plot.width = 4, repr.plot.height = 3)\n",
    "plot(m1)\n",
    "options(repr.plot.width = 4, repr.plot.height = 4)\n",
    "qqnorm(resid(m1))\n",
    "qqline(resid(m1))\n",
    "\n",
    "plot(int_peak_trans ~ group, data = data[data$area == \"ca1\",])"
   ]
  },
  {
   "cell_type": "code",
   "execution_count": 10,
   "metadata": {},
   "outputs": [
    {
     "data": {
      "text/html": [
       "<table>\n",
       "<thead><tr><th></th><th scope=col>npar</th><th scope=col>AIC</th><th scope=col>BIC</th><th scope=col>logLik</th><th scope=col>deviance</th><th scope=col>Chisq</th><th scope=col>Df</th><th scope=col>Pr(&gt;Chisq)</th></tr></thead>\n",
       "<tbody>\n",
       "\t<tr><th scope=row>m1.null</th><td>4         </td><td>-14420.25 </td><td>-14390.87 </td><td>7214.127  </td><td>-14428.25 </td><td>      NA  </td><td>NA        </td><td>        NA</td></tr>\n",
       "\t<tr><th scope=row>m1</th><td>5         </td><td>-14421.38 </td><td>-14384.65 </td><td>7215.691  </td><td>-14431.38 </td><td>3.126641  </td><td> 1        </td><td>0.07702229</td></tr>\n",
       "</tbody>\n",
       "</table>\n"
      ],
      "text/latex": [
       "\\begin{tabular}{r|llllllll}\n",
       "  & npar & AIC & BIC & logLik & deviance & Chisq & Df & Pr(>Chisq)\\\\\n",
       "\\hline\n",
       "\tm1.null & 4          & -14420.25  & -14390.87  & 7214.127   & -14428.25  &       NA   & NA         &         NA\\\\\n",
       "\tm1 & 5          & -14421.38  & -14384.65  & 7215.691   & -14431.38  & 3.126641   &  1         & 0.07702229\\\\\n",
       "\\end{tabular}\n"
      ],
      "text/markdown": [
       "\n",
       "| <!--/--> | npar | AIC | BIC | logLik | deviance | Chisq | Df | Pr(>Chisq) |\n",
       "|---|---|---|---|---|---|---|---|---|\n",
       "| m1.null | 4          | -14420.25  | -14390.87  | 7214.127   | -14428.25  |       NA   | NA         |         NA |\n",
       "| m1 | 5          | -14421.38  | -14384.65  | 7215.691   | -14431.38  | 3.126641   |  1         | 0.07702229 |\n",
       "\n"
      ],
      "text/plain": [
       "        npar AIC       BIC       logLik   deviance  Chisq    Df Pr(>Chisq)\n",
       "m1.null 4    -14420.25 -14390.87 7214.127 -14428.25       NA NA         NA\n",
       "m1      5    -14421.38 -14384.65 7215.691 -14431.38 3.126641  1 0.07702229"
      ]
     },
     "metadata": {},
     "output_type": "display_data"
    },
    {
     "data": {
      "text/plain": [
       "Linear mixed model fit by maximum likelihood . t-tests use Satterthwaite's\n",
       "  method [lmerModLmerTest]\n",
       "Formula: int_peak_trans ~ group + (1 | rat/session)\n",
       "   Data: data[data$area == \"ca3\", ]\n",
       "\n",
       "     AIC      BIC   logLik deviance df.resid \n",
       "-14421.4 -14384.6   7215.7 -14431.4    11462 \n",
       "\n",
       "Scaled residuals: \n",
       "    Min      1Q  Median      3Q     Max \n",
       "-3.0643 -0.6839 -0.0421  0.5913  7.4336 \n",
       "\n",
       "Random effects:\n",
       " Groups      Name        Variance  Std.Dev.\n",
       " session:rat (Intercept) 0.0037333 0.06110 \n",
       " rat         (Intercept) 0.0003121 0.01767 \n",
       " Residual                0.0162104 0.12732 \n",
       "Number of obs: 11467, groups:  session:rat, 117; rat, 8\n",
       "\n",
       "Fixed effects:\n",
       "            Estimate Std. Error      df t value Pr(>|t|)    \n",
       "(Intercept)  2.47114    0.01447 9.74476 170.736   <2e-16 ***\n",
       "grouppae     0.04202    0.01937 6.69568   2.169   0.0685 .  \n",
       "---\n",
       "Signif. codes:  0 '***' 0.001 '**' 0.01 '*' 0.05 '.' 0.1 ' ' 1\n",
       "\n",
       "Correlation of Fixed Effects:\n",
       "         (Intr)\n",
       "grouppae -0.747"
      ]
     },
     "metadata": {},
     "output_type": "display_data"
    },
    {
     "data": {
      "image/png": "[encoded data removed]",
      "text/plain": [
       "plot without title"
      ]
     },
     "metadata": {},
     "output_type": "display_data"
    },
    {
     "data": {
      "image/png": "[encoded data removed]",
      "text/plain": [
       "Plot with title \"Normal Q-Q Plot\""
      ]
     },
     "metadata": {},
     "output_type": "display_data"
    },
    {
     "data": {
      "image/png": "[encoded data removed]",
      "text/plain": [
       "plot without title"
      ]
     },
     "metadata": {},
     "output_type": "display_data"
    }
   ],
   "source": [
    "data$int_peak_trans = log(data$int_peak+10)\n",
    "\n",
    "m1 = lmer(int_peak_trans ~ group + (1 | rat/session), data = data[data$area == \"ca3\",],REML=FALSE)\n",
    "m1.null = lmer(int_peak_trans ~ 1 + (1 | rat/session), data = data[data$area == \"ca3\",], REML=FALSE)\n",
    "anova(m1.null, m1)\n",
    "\n",
    "summary(m1)\n",
    "options(repr.plot.width = 4, repr.plot.height = 3)\n",
    "plot(m1)\n",
    "options(repr.plot.width = 4, repr.plot.height = 4)\n",
    "qqnorm(resid(m1))\n",
    "qqline(resid(m1))\n",
    "\n",
    "plot(int_peak_trans ~ group, data = data[data$area == \"ca3\",])"
   ]
  },
  {
   "cell_type": "code",
   "execution_count": 15,
   "metadata": {},
   "outputs": [
    {
     "data": {
      "text/html": [
       "<table>\n",
       "<thead><tr><th></th><th scope=col>npar</th><th scope=col>AIC</th><th scope=col>BIC</th><th scope=col>logLik</th><th scope=col>deviance</th><th scope=col>Chisq</th><th scope=col>Df</th><th scope=col>Pr(&gt;Chisq)</th></tr></thead>\n",
       "<tbody>\n",
       "\t<tr><th scope=row>m1.null</th><td>4          </td><td>-7573.868  </td><td>-7548.193  </td><td>3790.934   </td><td>-7581.868  </td><td>      NA   </td><td>NA         </td><td>         NA</td></tr>\n",
       "\t<tr><th scope=row>m1</th><td>5          </td><td>-7579.041  </td><td>-7546.948  </td><td>3794.521   </td><td>-7589.041  </td><td>7.173221   </td><td> 1         </td><td>0.007399979</td></tr>\n",
       "</tbody>\n",
       "</table>\n"
      ],
      "text/latex": [
       "\\begin{tabular}{r|llllllll}\n",
       "  & npar & AIC & BIC & logLik & deviance & Chisq & Df & Pr(>Chisq)\\\\\n",
       "\\hline\n",
       "\tm1.null & 4           & -7573.868   & -7548.193   & 3790.934    & -7581.868   &       NA    & NA          &          NA\\\\\n",
       "\tm1 & 5           & -7579.041   & -7546.948   & 3794.521    & -7589.041   & 7.173221    &  1          & 0.007399979\\\\\n",
       "\\end{tabular}\n"
      ],
      "text/markdown": [
       "\n",
       "| <!--/--> | npar | AIC | BIC | logLik | deviance | Chisq | Df | Pr(>Chisq) |\n",
       "|---|---|---|---|---|---|---|---|---|\n",
       "| m1.null | 4           | -7573.868   | -7548.193   | 3790.934    | -7581.868   |       NA    | NA          |          NA |\n",
       "| m1 | 5           | -7579.041   | -7546.948   | 3794.521    | -7589.041   | 7.173221    |  1          | 0.007399979 |\n",
       "\n"
      ],
      "text/plain": [
       "        npar AIC       BIC       logLik   deviance  Chisq    Df Pr(>Chisq) \n",
       "m1.null 4    -7573.868 -7548.193 3790.934 -7581.868       NA NA          NA\n",
       "m1      5    -7579.041 -7546.948 3794.521 -7589.041 7.173221  1 0.007399979"
      ]
     },
     "metadata": {},
     "output_type": "display_data"
    },
    {
     "data": {
      "text/plain": [
       "Linear mixed model fit by maximum likelihood . t-tests use Satterthwaite's\n",
       "  method [lmerModLmerTest]\n",
       "Formula: pyr_mean_trans ~ group + (1 | rat/session)\n",
       "   Data: data[data$area == \"ca1\", ]\n",
       "\n",
       "     AIC      BIC   logLik deviance df.resid \n",
       " -7579.0  -7546.9   3794.5  -7589.0     4526 \n",
       "\n",
       "Scaled residuals: \n",
       "    Min      1Q  Median      3Q     Max \n",
       "-3.4203 -0.6450 -0.0434  0.6000  4.0505 \n",
       "\n",
       "Random effects:\n",
       " Groups      Name        Variance Std.Dev.\n",
       " session:rat (Intercept) 0.005787 0.076075\n",
       " rat         (Intercept) 0.000030 0.005477\n",
       " Residual                0.010534 0.102635\n",
       "Number of obs: 4531, groups:  session:rat, 73; rat, 10\n",
       "\n",
       "Fixed effects:\n",
       "            Estimate Std. Error       df t value Pr(>|t|)    \n",
       "(Intercept)  2.47513    0.01675 20.88355 147.757  < 2e-16 ***\n",
       "grouppae    -0.07525    0.02084  9.75053  -3.611  0.00495 ** \n",
       "---\n",
       "Signif. codes:  0 '***' 0.001 '**' 0.01 '*' 0.05 '.' 0.1 ' ' 1\n",
       "\n",
       "Correlation of Fixed Effects:\n",
       "         (Intr)\n",
       "grouppae -0.804"
      ]
     },
     "metadata": {},
     "output_type": "display_data"
    },
    {
     "data": {
      "image/png": "[encoded data removed]",
      "text/plain": [
       "plot without title"
      ]
     },
     "metadata": {},
     "output_type": "display_data"
    },
    {
     "data": {
      "image/png": "[encoded data removed]",
      "text/plain": [
       "Plot with title \"Normal Q-Q Plot\""
      ]
     },
     "metadata": {},
     "output_type": "display_data"
    },
    {
     "data": {
      "image/png": "[encoded data removed]",
      "text/plain": [
       "plot without title"
      ]
     },
     "metadata": {},
     "output_type": "display_data"
    }
   ],
   "source": [
    "data$pyr_mean_trans = log(data$pyr_mean+10)\n",
    "\n",
    "m1 = lmer(pyr_mean_trans ~ group + (1 | rat/session), data = data[data$area == \"ca1\",],REML=FALSE)\n",
    "m1.null = lmer(pyr_mean_trans ~ 1 + (1 | rat/session), data = data[data$area == \"ca1\",], REML=FALSE)\n",
    "anova(m1.null, m1)\n",
    "\n",
    "summary(m1)\n",
    "options(repr.plot.width = 4, repr.plot.height = 3)\n",
    "plot(m1)\n",
    "options(repr.plot.width = 4, repr.plot.height = 4)\n",
    "qqnorm(resid(m1))\n",
    "qqline(resid(m1))\n",
    "\n",
    "plot(pyr_mean_trans ~ group, data = data[data$area == \"ca1\",])"
   ]
  },
  {
   "cell_type": "code",
   "execution_count": 16,
   "metadata": {},
   "outputs": [
    {
     "data": {
      "text/html": [
       "<table>\n",
       "<thead><tr><th></th><th scope=col>npar</th><th scope=col>AIC</th><th scope=col>BIC</th><th scope=col>logLik</th><th scope=col>deviance</th><th scope=col>Chisq</th><th scope=col>Df</th><th scope=col>Pr(&gt;Chisq)</th></tr></thead>\n",
       "<tbody>\n",
       "\t<tr><th scope=row>m1.null</th><td>4        </td><td>-18961.97</td><td>-18932.58</td><td>9484.985 </td><td>-18969.97</td><td>      NA </td><td>NA       </td><td>       NA</td></tr>\n",
       "\t<tr><th scope=row>m1</th><td>5        </td><td>-18960.63</td><td>-18923.90</td><td>9485.317 </td><td>-18970.63</td><td>0.663354 </td><td> 1       </td><td>0.4153783</td></tr>\n",
       "</tbody>\n",
       "</table>\n"
      ],
      "text/latex": [
       "\\begin{tabular}{r|llllllll}\n",
       "  & npar & AIC & BIC & logLik & deviance & Chisq & Df & Pr(>Chisq)\\\\\n",
       "\\hline\n",
       "\tm1.null & 4         & -18961.97 & -18932.58 & 9484.985  & -18969.97 &       NA  & NA        &        NA\\\\\n",
       "\tm1 & 5         & -18960.63 & -18923.90 & 9485.317  & -18970.63 & 0.663354  &  1        & 0.4153783\\\\\n",
       "\\end{tabular}\n"
      ],
      "text/markdown": [
       "\n",
       "| <!--/--> | npar | AIC | BIC | logLik | deviance | Chisq | Df | Pr(>Chisq) |\n",
       "|---|---|---|---|---|---|---|---|---|\n",
       "| m1.null | 4         | -18961.97 | -18932.58 | 9484.985  | -18969.97 |       NA  | NA        |        NA |\n",
       "| m1 | 5         | -18960.63 | -18923.90 | 9485.317  | -18970.63 | 0.663354  |  1        | 0.4153783 |\n",
       "\n"
      ],
      "text/plain": [
       "        npar AIC       BIC       logLik   deviance  Chisq    Df Pr(>Chisq)\n",
       "m1.null 4    -18961.97 -18932.58 9484.985 -18969.97       NA NA        NA \n",
       "m1      5    -18960.63 -18923.90 9485.317 -18970.63 0.663354  1 0.4153783 "
      ]
     },
     "metadata": {},
     "output_type": "display_data"
    },
    {
     "data": {
      "text/plain": [
       "Linear mixed model fit by maximum likelihood . t-tests use Satterthwaite's\n",
       "  method [lmerModLmerTest]\n",
       "Formula: pyr_mean_trans ~ group + (1 | rat/session)\n",
       "   Data: data[data$area == \"ca3\", ]\n",
       "\n",
       "     AIC      BIC   logLik deviance df.resid \n",
       "-18960.6 -18923.9   9485.3 -18970.6    11462 \n",
       "\n",
       "Scaled residuals: \n",
       "    Min      1Q  Median      3Q     Max \n",
       "-3.6123 -0.6211 -0.0440  0.5898  7.2573 \n",
       "\n",
       "Random effects:\n",
       " Groups      Name        Variance Std.Dev.\n",
       " session:rat (Intercept) 0.002984 0.05462 \n",
       " rat         (Intercept) 0.001253 0.03540 \n",
       " Residual                0.010888 0.10434 \n",
       "Number of obs: 11467, groups:  session:rat, 117; rat, 8\n",
       "\n",
       "Fixed effects:\n",
       "            Estimate Std. Error       df t value Pr(>|t|)    \n",
       "(Intercept)  2.47819    0.02053  5.88708 120.692 3.23e-11 ***\n",
       "grouppae    -0.02556    0.02983  4.52035  -0.857    0.434    \n",
       "---\n",
       "Signif. codes:  0 '***' 0.001 '**' 0.01 '*' 0.05 '.' 0.1 ' ' 1\n",
       "\n",
       "Correlation of Fixed Effects:\n",
       "         (Intr)\n",
       "grouppae -0.688"
      ]
     },
     "metadata": {},
     "output_type": "display_data"
    },
    {
     "data": {
      "image/png": "[encoded data removed]",
      "text/plain": [
       "plot without title"
      ]
     },
     "metadata": {},
     "output_type": "display_data"
    },
    {
     "data": {
      "image/png": "[encoded data removed]",
      "text/plain": [
       "Plot with title \"Normal Q-Q Plot\""
      ]
     },
     "metadata": {},
     "output_type": "display_data"
    },
    {
     "data": {
      "image/png": "[encoded data removed]",
      "text/plain": [
       "plot without title"
      ]
     },
     "metadata": {},
     "output_type": "display_data"
    }
   ],
   "source": [
    "data$pyr_mean_trans = log(data$pyr_mean+10)\n",
    "\n",
    "m1 = lmer(pyr_mean_trans ~ group + (1 | rat/session), data = data[data$area == \"ca3\",],REML=FALSE)\n",
    "m1.null = lmer(pyr_mean_trans ~ 1 + (1 | rat/session), data = data[data$area == \"ca3\",], REML=FALSE)\n",
    "anova(m1.null, m1)\n",
    "\n",
    "summary(m1)\n",
    "options(repr.plot.width = 4, repr.plot.height = 3)\n",
    "plot(m1)\n",
    "options(repr.plot.width = 4, repr.plot.height = 4)\n",
    "qqnorm(resid(m1))\n",
    "qqline(resid(m1))\n",
    "\n",
    "plot(pyr_mean_trans ~ group, data = data[data$area == \"ca3\",])"
   ]
  },
  {
   "cell_type": "code",
   "execution_count": 22,
   "metadata": {},
   "outputs": [
    {
     "data": {
      "text/html": [
       "<table>\n",
       "<thead><tr><th></th><th scope=col>npar</th><th scope=col>AIC</th><th scope=col>BIC</th><th scope=col>logLik</th><th scope=col>deviance</th><th scope=col>Chisq</th><th scope=col>Df</th><th scope=col>Pr(&gt;Chisq)</th></tr></thead>\n",
       "<tbody>\n",
       "\t<tr><th scope=row>m1.null</th><td>4         </td><td>-16350.48 </td><td>-16324.81 </td><td>8179.241  </td><td>-16358.48 </td><td>        NA</td><td>NA        </td><td>       NA </td></tr>\n",
       "\t<tr><th scope=row>m1</th><td>5         </td><td>-16348.54 </td><td>-16316.44 </td><td>8179.268  </td><td>-16358.54 </td><td>0.05342302</td><td> 1        </td><td>0.8172105 </td></tr>\n",
       "</tbody>\n",
       "</table>\n"
      ],
      "text/latex": [
       "\\begin{tabular}{r|llllllll}\n",
       "  & npar & AIC & BIC & logLik & deviance & Chisq & Df & Pr(>Chisq)\\\\\n",
       "\\hline\n",
       "\tm1.null & 4          & -16350.48  & -16324.81  & 8179.241   & -16358.48  &         NA & NA         &        NA \\\\\n",
       "\tm1 & 5          & -16348.54  & -16316.44  & 8179.268   & -16358.54  & 0.05342302 &  1         & 0.8172105 \\\\\n",
       "\\end{tabular}\n"
      ],
      "text/markdown": [
       "\n",
       "| <!--/--> | npar | AIC | BIC | logLik | deviance | Chisq | Df | Pr(>Chisq) |\n",
       "|---|---|---|---|---|---|---|---|---|\n",
       "| m1.null | 4          | -16350.48  | -16324.81  | 8179.241   | -16358.48  |         NA | NA         |        NA  |\n",
       "| m1 | 5          | -16348.54  | -16316.44  | 8179.268   | -16358.54  | 0.05342302 |  1         | 0.8172105  |\n",
       "\n"
      ],
      "text/plain": [
       "        npar AIC       BIC       logLik   deviance  Chisq      Df Pr(>Chisq)\n",
       "m1.null 4    -16350.48 -16324.81 8179.241 -16358.48         NA NA        NA \n",
       "m1      5    -16348.54 -16316.44 8179.268 -16358.54 0.05342302  1 0.8172105 "
      ]
     },
     "metadata": {},
     "output_type": "display_data"
    },
    {
     "data": {
      "text/plain": [
       "Linear mixed model fit by maximum likelihood . t-tests use Satterthwaite's\n",
       "  method [lmerModLmerTest]\n",
       "Formula: int_mean_trans ~ group + (1 | rat/session)\n",
       "   Data: data[data$area == \"ca1\", ]\n",
       "\n",
       "     AIC      BIC   logLik deviance df.resid \n",
       "-16348.5 -16316.4   8179.3 -16358.5     4526 \n",
       "\n",
       "Scaled residuals: \n",
       "    Min      1Q  Median      3Q     Max \n",
       "-3.4042 -0.5438 -0.1653  0.5610  6.0739 \n",
       "\n",
       "Random effects:\n",
       " Groups      Name        Variance  Std.Dev.\n",
       " session:rat (Intercept) 0.0003050 0.01746 \n",
       " rat         (Intercept) 0.0001301 0.01140 \n",
       " Residual                0.0015371 0.03921 \n",
       "Number of obs: 4531, groups:  session:rat, 73; rat, 10\n",
       "\n",
       "Fixed effects:\n",
       "             Estimate Std. Error        df t value Pr(>|t|)    \n",
       "(Intercept) -0.154617   0.006855 10.072216 -22.557 5.91e-10 ***\n",
       "grouppae     0.002231   0.009635  8.355796   0.232    0.822    \n",
       "---\n",
       "Signif. codes:  0 '***' 0.001 '**' 0.01 '*' 0.05 '.' 0.1 ' ' 1\n",
       "\n",
       "Correlation of Fixed Effects:\n",
       "         (Intr)\n",
       "grouppae -0.711"
      ]
     },
     "metadata": {},
     "output_type": "display_data"
    },
    {
     "data": {
      "image/png": "[encoded data removed]",
      "text/plain": [
       "plot without title"
      ]
     },
     "metadata": {},
     "output_type": "display_data"
    },
    {
     "data": {
      "image/png": "[encoded data removed]",
      "text/plain": [
       "Plot with title \"Normal Q-Q Plot\""
      ]
     },
     "metadata": {},
     "output_type": "display_data"
    },
    {
     "data": {
      "image/png": "[encoded data removed]",
      "text/plain": [
       "plot without title"
      ]
     },
     "metadata": {},
     "output_type": "display_data"
    }
   ],
   "source": [
    "data$int_mean_trans = log(log(log(data$int_mean+10)))\n",
    "\n",
    "m1 = lmer(int_mean_trans ~ group + (1 | rat/session), data = data[data$area == \"ca1\",],REML=FALSE)\n",
    "m1.null = lmer(int_mean_trans ~ 1 + (1 | rat/session), data = data[data$area == \"ca1\",], REML=FALSE)\n",
    "anova(m1.null, m1)\n",
    "\n",
    "summary(m1)\n",
    "options(repr.plot.width = 4, repr.plot.height = 3)\n",
    "plot(m1)\n",
    "options(repr.plot.width = 4, repr.plot.height = 4)\n",
    "qqnorm(resid(m1))\n",
    "qqline(resid(m1))\n",
    "\n",
    "plot(int_mean_trans ~ group, data = data[data$area == \"ca1\",])"
   ]
  },
  {
   "cell_type": "code",
   "execution_count": 31,
   "metadata": {},
   "outputs": [
    {
     "data": {
      "text/html": [
       "<table>\n",
       "<thead><tr><th></th><th scope=col>npar</th><th scope=col>AIC</th><th scope=col>BIC</th><th scope=col>logLik</th><th scope=col>deviance</th><th scope=col>Chisq</th><th scope=col>Df</th><th scope=col>Pr(&gt;Chisq)</th></tr></thead>\n",
       "<tbody>\n",
       "\t<tr><th scope=row>m1.null</th><td>4         </td><td>-39223.85 </td><td>-39194.46 </td><td>19615.92  </td><td>-39231.85 </td><td>     NA   </td><td>NA        </td><td>        NA</td></tr>\n",
       "\t<tr><th scope=row>m1</th><td>5         </td><td>-39227.18 </td><td>-39190.45 </td><td>19618.59  </td><td>-39237.18 </td><td>5.33594   </td><td> 1        </td><td>0.02089007</td></tr>\n",
       "</tbody>\n",
       "</table>\n"
      ],
      "text/latex": [
       "\\begin{tabular}{r|llllllll}\n",
       "  & npar & AIC & BIC & logLik & deviance & Chisq & Df & Pr(>Chisq)\\\\\n",
       "\\hline\n",
       "\tm1.null & 4          & -39223.85  & -39194.46  & 19615.92   & -39231.85  &      NA    & NA         &         NA\\\\\n",
       "\tm1 & 5          & -39227.18  & -39190.45  & 19618.59   & -39237.18  & 5.33594    &  1         & 0.02089007\\\\\n",
       "\\end{tabular}\n"
      ],
      "text/markdown": [
       "\n",
       "| <!--/--> | npar | AIC | BIC | logLik | deviance | Chisq | Df | Pr(>Chisq) |\n",
       "|---|---|---|---|---|---|---|---|---|\n",
       "| m1.null | 4          | -39223.85  | -39194.46  | 19615.92   | -39231.85  |      NA    | NA         |         NA |\n",
       "| m1 | 5          | -39227.18  | -39190.45  | 19618.59   | -39237.18  | 5.33594    |  1         | 0.02089007 |\n",
       "\n"
      ],
      "text/plain": [
       "        npar AIC       BIC       logLik   deviance  Chisq   Df Pr(>Chisq)\n",
       "m1.null 4    -39223.85 -39194.46 19615.92 -39231.85      NA NA         NA\n",
       "m1      5    -39227.18 -39190.45 19618.59 -39237.18 5.33594  1 0.02089007"
      ]
     },
     "metadata": {},
     "output_type": "display_data"
    },
    {
     "data": {
      "text/plain": [
       "Linear mixed model fit by maximum likelihood . t-tests use Satterthwaite's\n",
       "  method [lmerModLmerTest]\n",
       "Formula: int_mean_trans ~ group + (1 | rat/session)\n",
       "   Data: data[data$area == \"ca3\", ]\n",
       "\n",
       "     AIC      BIC   logLik deviance df.resid \n",
       "-39227.2 -39190.4  19618.6 -39237.2    11462 \n",
       "\n",
       "Scaled residuals: \n",
       "    Min      1Q  Median      3Q     Max \n",
       "-3.5907 -0.6869 -0.0402  0.6169  6.9823 \n",
       "\n",
       "Random effects:\n",
       " Groups      Name        Variance  Std.Dev.\n",
       " session:rat (Intercept) 5.084e-04 0.022548\n",
       " rat         (Intercept) 3.057e-05 0.005529\n",
       " Residual                1.861e-03 0.043137\n",
       "Number of obs: 11467, groups:  session:rat, 117; rat, 8\n",
       "\n",
       "Fixed effects:\n",
       "             Estimate Std. Error        df t value Pr(>|t|)    \n",
       "(Intercept) -0.150682   0.004950  9.164022 -30.438  1.6e-10 ***\n",
       "grouppae     0.020279   0.006551  6.073495   3.096   0.0209 *  \n",
       "---\n",
       "Signif. codes:  0 '***' 0.001 '**' 0.01 '*' 0.05 '.' 0.1 ' ' 1\n",
       "\n",
       "Correlation of Fixed Effects:\n",
       "         (Intr)\n",
       "grouppae -0.756"
      ]
     },
     "metadata": {},
     "output_type": "display_data"
    },
    {
     "data": {
      "image/png": "[encoded data removed]",
      "text/plain": [
       "plot without title"
      ]
     },
     "metadata": {},
     "output_type": "display_data"
    },
    {
     "data": {
      "image/png": "[encoded data removed]",
      "text/plain": [
       "Plot with title \"Normal Q-Q Plot\""
      ]
     },
     "metadata": {},
     "output_type": "display_data"
    },
    {
     "data": {
      "image/png": "[encoded data removed]",
      "text/plain": [
       "plot without title"
      ]
     },
     "metadata": {},
     "output_type": "display_data"
    }
   ],
   "source": [
    "data$int_mean_trans = log(log(log(data$int_mean+10)))\n",
    "\n",
    "m1 = lmer(int_mean_trans ~ group + (1 | rat/session), data = data[data$area == \"ca3\",],REML=FALSE)\n",
    "m1.null = lmer(int_mean_trans ~ 1 + (1 | rat/session), data = data[data$area == \"ca3\",], REML=FALSE)\n",
    "anova(m1.null, m1)\n",
    "\n",
    "summary(m1)\n",
    "options(repr.plot.width = 4, repr.plot.height = 3)\n",
    "plot(m1)\n",
    "options(repr.plot.width = 4, repr.plot.height = 4)\n",
    "qqnorm(resid(m1))\n",
    "qqline(resid(m1))\n",
    "\n",
    "plot(int_mean_trans ~ group, data = data[data$area == \"ca3\",])"
   ]
  }
 ],
 "metadata": {
  "kernelspec": {
   "display_name": "R",
   "language": "R",
   "name": "ir"
  },
  "language_info": {
   "codemirror_mode": "r",
   "file_extension": ".r",
   "mimetype": "text/x-r-source",
   "name": "R",
   "pygments_lexer": "r",
   "version": "3.6.1"
  }
 },
 "nbformat": 4,
 "nbformat_minor": 4
}
